{
  "nbformat": 4,
  "nbformat_minor": 0,
  "metadata": {
    "colab": {
      "provenance": [],
      "mount_file_id": "1lpS-JB9dWuflXTqWbefu1YlEfwcjPBW8",
      "authorship_tag": "ABX9TyPWmU3I72nvZeJgBhT5HQoM"
    },
    "kernelspec": {
      "name": "python3",
      "display_name": "Python 3"
    },
    "language_info": {
      "name": "python"
    }
  },
  "cells": [
    {
      "cell_type": "code",
      "source": [
        "%pip install --quiet --upgrade langchain langchain-community langchain-openai"
      ],
      "metadata": {
        "id": "74Fp5vySzNJ7",
        "colab": {
          "base_uri": "https://localhost:8080/"
        },
        "outputId": "bd9f5b09-7200-4239-9243-d4693b4be7d0"
      },
      "execution_count": null,
      "outputs": [
        {
          "output_type": "stream",
          "name": "stdout",
          "text": [
            "\u001b[?25l   \u001b[90m━━━━━━━━━━━━━━━━━━━━━━━━━━━━━━━━━━━━━━━━\u001b[0m \u001b[32m0.0/2.5 MB\u001b[0m \u001b[31m?\u001b[0m eta \u001b[36m-:--:--\u001b[0m\r\u001b[2K   \u001b[91m━━━━━━━━━━━━━━━━━━━━━━━\u001b[0m\u001b[91m╸\u001b[0m\u001b[90m━━━━━━━━━━━━━━━━\u001b[0m \u001b[32m1.5/2.5 MB\u001b[0m \u001b[31m45.1 MB/s\u001b[0m eta \u001b[36m0:00:01\u001b[0m\r\u001b[2K   \u001b[90m━━━━━━━━━━━━━━━━━━━━━━━━━━━━━━━━━━━━━━━━\u001b[0m \u001b[32m2.5/2.5 MB\u001b[0m \u001b[31m37.0 MB/s\u001b[0m eta \u001b[36m0:00:00\u001b[0m\n",
            "\u001b[?25h\u001b[?25l   \u001b[90m━━━━━━━━━━━━━━━━━━━━━━━━━━━━━━━━━━━━━━━━\u001b[0m \u001b[32m0.0/62.9 kB\u001b[0m \u001b[31m?\u001b[0m eta \u001b[36m-:--:--\u001b[0m\r\u001b[2K   \u001b[90m━━━━━━━━━━━━━━━━━━━━━━━━━━━━━━━━━━━━━━━━\u001b[0m \u001b[32m62.9/62.9 kB\u001b[0m \u001b[31m4.2 MB/s\u001b[0m eta \u001b[36m0:00:00\u001b[0m\n",
            "\u001b[2K   \u001b[90m━━━━━━━━━━━━━━━━━━━━━━━━━━━━━━━━━━━━━━━━\u001b[0m \u001b[32m44.4/44.4 kB\u001b[0m \u001b[31m2.4 MB/s\u001b[0m eta \u001b[36m0:00:00\u001b[0m\n",
            "\u001b[2K   \u001b[90m━━━━━━━━━━━━━━━━━━━━━━━━━━━━━━━━━━━━━━━━\u001b[0m \u001b[32m50.9/50.9 kB\u001b[0m \u001b[31m2.6 MB/s\u001b[0m eta \u001b[36m0:00:00\u001b[0m\n",
            "\u001b[?25h"
          ]
        }
      ]
    },
    {
      "cell_type": "code",
      "source": [
        "%pip install faiss-cpu"
      ],
      "metadata": {
        "colab": {
          "base_uri": "https://localhost:8080/"
        },
        "id": "pvm3_J8_zhK7",
        "outputId": "056db5f1-22ac-4fa7-dbce-a3d4e35fef76"
      },
      "execution_count": null,
      "outputs": [
        {
          "output_type": "stream",
          "name": "stdout",
          "text": [
            "Collecting faiss-cpu\n",
            "  Downloading faiss_cpu-1.11.0-cp311-cp311-manylinux_2_28_x86_64.whl.metadata (4.8 kB)\n",
            "Requirement already satisfied: numpy<3.0,>=1.25.0 in /usr/local/lib/python3.11/dist-packages (from faiss-cpu) (2.0.2)\n",
            "Requirement already satisfied: packaging in /usr/local/lib/python3.11/dist-packages (from faiss-cpu) (24.2)\n",
            "Downloading faiss_cpu-1.11.0-cp311-cp311-manylinux_2_28_x86_64.whl (31.3 MB)\n",
            "\u001b[2K   \u001b[90m━━━━━━━━━━━━━━━━━━━━━━━━━━━━━━━━━━━━━━━━\u001b[0m \u001b[32m31.3/31.3 MB\u001b[0m \u001b[31m59.2 MB/s\u001b[0m eta \u001b[36m0:00:00\u001b[0m\n",
            "\u001b[?25hInstalling collected packages: faiss-cpu\n",
            "Successfully installed faiss-cpu-1.11.0\n"
          ]
        }
      ]
    },
    {
      "cell_type": "markdown",
      "source": [
        "## Embed the names"
      ],
      "metadata": {
        "id": "PCS5CzENiLo5"
      }
    },
    {
      "cell_type": "code",
      "execution_count": null,
      "metadata": {
        "id": "XWFPOWQHyanx"
      },
      "outputs": [],
      "source": [
        "from langchain_community.vectorstores import FAISS\n",
        "from langchain_openai import ChatOpenAI, OpenAIEmbeddings\n",
        "import pandas as pd\n",
        "from google.colab import userdata\n",
        "import numpy as np"
      ]
    },
    {
      "cell_type": "code",
      "source": [
        "api_key = userdata.get('OPEN_API_KEY') #pass API key here"
      ],
      "metadata": {
        "id": "fTZ6ANbczGaO"
      },
      "execution_count": null,
      "outputs": []
    },
    {
      "cell_type": "code",
      "source": [
        "names_df = pd.read_csv(\"/content/drive/MyDrive/Colab datasets/natioanlity_diaspora_check.csv\")"
      ],
      "metadata": {
        "id": "C1In1QJuzsil"
      },
      "execution_count": null,
      "outputs": []
    },
    {
      "cell_type": "code",
      "source": [
        "names_df.shape"
      ],
      "metadata": {
        "colab": {
          "base_uri": "https://localhost:8080/"
        },
        "id": "YJUwjq970G4v",
        "outputId": "28bde49c-d642-4b89-e868-23a49f342c76"
      },
      "execution_count": null,
      "outputs": [
        {
          "output_type": "execute_result",
          "data": {
            "text/plain": [
              "(7703, 9)"
            ]
          },
          "metadata": {},
          "execution_count": 5
        }
      ]
    },
    {
      "cell_type": "markdown",
      "source": [
        "**Check sample data containing names & nationality of 7k humans**"
      ],
      "metadata": {
        "id": "xuoxDrdMmA5I"
      }
    },
    {
      "cell_type": "code",
      "source": [
        "names_df[['EMP_NAME','NATIONALITY']].head()"
      ],
      "metadata": {
        "colab": {
          "base_uri": "https://localhost:8080/",
          "height": 204
        },
        "id": "onN6YcYt0IQu",
        "outputId": "46f76744-c730-46f2-e0e0-5cf88aa444d7"
      },
      "execution_count": null,
      "outputs": [
        {
          "output_type": "execute_result",
          "data": {
            "text/plain": [
              "                        EMP_NAME  NATIONALITY\n",
              "0           Javed Khan Katib Gul  Afghanistan\n",
              "1          Gul Sharif  Wali Mohd  Afghanistan\n",
              "2  Ahmed Shah Momtaz Shah Momtaz  Afghanistan\n",
              "3         Fatima Zohra  Bousmaha      Algeria\n",
              "4            Yousuf Masoud Zahri      Algeria"
            ],
            "text/html": [
              "\n",
              "  <div id=\"df-b63889ba-3fa7-4ab4-a649-569cd409b982\" class=\"colab-df-container\">\n",
              "    <div>\n",
              "<style scoped>\n",
              "    .dataframe tbody tr th:only-of-type {\n",
              "        vertical-align: middle;\n",
              "    }\n",
              "\n",
              "    .dataframe tbody tr th {\n",
              "        vertical-align: top;\n",
              "    }\n",
              "\n",
              "    .dataframe thead th {\n",
              "        text-align: right;\n",
              "    }\n",
              "</style>\n",
              "<table border=\"1\" class=\"dataframe\">\n",
              "  <thead>\n",
              "    <tr style=\"text-align: right;\">\n",
              "      <th></th>\n",
              "      <th>EMP_NAME</th>\n",
              "      <th>NATIONALITY</th>\n",
              "    </tr>\n",
              "  </thead>\n",
              "  <tbody>\n",
              "    <tr>\n",
              "      <th>0</th>\n",
              "      <td>Javed Khan Katib Gul</td>\n",
              "      <td>Afghanistan</td>\n",
              "    </tr>\n",
              "    <tr>\n",
              "      <th>1</th>\n",
              "      <td>Gul Sharif  Wali Mohd</td>\n",
              "      <td>Afghanistan</td>\n",
              "    </tr>\n",
              "    <tr>\n",
              "      <th>2</th>\n",
              "      <td>Ahmed Shah Momtaz Shah Momtaz</td>\n",
              "      <td>Afghanistan</td>\n",
              "    </tr>\n",
              "    <tr>\n",
              "      <th>3</th>\n",
              "      <td>Fatima Zohra  Bousmaha</td>\n",
              "      <td>Algeria</td>\n",
              "    </tr>\n",
              "    <tr>\n",
              "      <th>4</th>\n",
              "      <td>Yousuf Masoud Zahri</td>\n",
              "      <td>Algeria</td>\n",
              "    </tr>\n",
              "  </tbody>\n",
              "</table>\n",
              "</div>\n",
              "    <div class=\"colab-df-buttons\">\n",
              "\n",
              "  <div class=\"colab-df-container\">\n",
              "    <button class=\"colab-df-convert\" onclick=\"convertToInteractive('df-b63889ba-3fa7-4ab4-a649-569cd409b982')\"\n",
              "            title=\"Convert this dataframe to an interactive table.\"\n",
              "            style=\"display:none;\">\n",
              "\n",
              "  <svg xmlns=\"http://www.w3.org/2000/svg\" height=\"24px\" viewBox=\"0 -960 960 960\">\n",
              "    <path d=\"M120-120v-720h720v720H120Zm60-500h600v-160H180v160Zm220 220h160v-160H400v160Zm0 220h160v-160H400v160ZM180-400h160v-160H180v160Zm440 0h160v-160H620v160ZM180-180h160v-160H180v160Zm440 0h160v-160H620v160Z\"/>\n",
              "  </svg>\n",
              "    </button>\n",
              "\n",
              "  <style>\n",
              "    .colab-df-container {\n",
              "      display:flex;\n",
              "      gap: 12px;\n",
              "    }\n",
              "\n",
              "    .colab-df-convert {\n",
              "      background-color: #E8F0FE;\n",
              "      border: none;\n",
              "      border-radius: 50%;\n",
              "      cursor: pointer;\n",
              "      display: none;\n",
              "      fill: #1967D2;\n",
              "      height: 32px;\n",
              "      padding: 0 0 0 0;\n",
              "      width: 32px;\n",
              "    }\n",
              "\n",
              "    .colab-df-convert:hover {\n",
              "      background-color: #E2EBFA;\n",
              "      box-shadow: 0px 1px 2px rgba(60, 64, 67, 0.3), 0px 1px 3px 1px rgba(60, 64, 67, 0.15);\n",
              "      fill: #174EA6;\n",
              "    }\n",
              "\n",
              "    .colab-df-buttons div {\n",
              "      margin-bottom: 4px;\n",
              "    }\n",
              "\n",
              "    [theme=dark] .colab-df-convert {\n",
              "      background-color: #3B4455;\n",
              "      fill: #D2E3FC;\n",
              "    }\n",
              "\n",
              "    [theme=dark] .colab-df-convert:hover {\n",
              "      background-color: #434B5C;\n",
              "      box-shadow: 0px 1px 3px 1px rgba(0, 0, 0, 0.15);\n",
              "      filter: drop-shadow(0px 1px 2px rgba(0, 0, 0, 0.3));\n",
              "      fill: #FFFFFF;\n",
              "    }\n",
              "  </style>\n",
              "\n",
              "    <script>\n",
              "      const buttonEl =\n",
              "        document.querySelector('#df-b63889ba-3fa7-4ab4-a649-569cd409b982 button.colab-df-convert');\n",
              "      buttonEl.style.display =\n",
              "        google.colab.kernel.accessAllowed ? 'block' : 'none';\n",
              "\n",
              "      async function convertToInteractive(key) {\n",
              "        const element = document.querySelector('#df-b63889ba-3fa7-4ab4-a649-569cd409b982');\n",
              "        const dataTable =\n",
              "          await google.colab.kernel.invokeFunction('convertToInteractive',\n",
              "                                                    [key], {});\n",
              "        if (!dataTable) return;\n",
              "\n",
              "        const docLinkHtml = 'Like what you see? Visit the ' +\n",
              "          '<a target=\"_blank\" href=https://colab.research.google.com/notebooks/data_table.ipynb>data table notebook</a>'\n",
              "          + ' to learn more about interactive tables.';\n",
              "        element.innerHTML = '';\n",
              "        dataTable['output_type'] = 'display_data';\n",
              "        await google.colab.output.renderOutput(dataTable, element);\n",
              "        const docLink = document.createElement('div');\n",
              "        docLink.innerHTML = docLinkHtml;\n",
              "        element.appendChild(docLink);\n",
              "      }\n",
              "    </script>\n",
              "  </div>\n",
              "\n",
              "\n",
              "    <div id=\"df-a2efecf4-9d8c-4e24-8cfb-e752dd9390b2\">\n",
              "      <button class=\"colab-df-quickchart\" onclick=\"quickchart('df-a2efecf4-9d8c-4e24-8cfb-e752dd9390b2')\"\n",
              "                title=\"Suggest charts\"\n",
              "                style=\"display:none;\">\n",
              "\n",
              "<svg xmlns=\"http://www.w3.org/2000/svg\" height=\"24px\"viewBox=\"0 0 24 24\"\n",
              "     width=\"24px\">\n",
              "    <g>\n",
              "        <path d=\"M19 3H5c-1.1 0-2 .9-2 2v14c0 1.1.9 2 2 2h14c1.1 0 2-.9 2-2V5c0-1.1-.9-2-2-2zM9 17H7v-7h2v7zm4 0h-2V7h2v10zm4 0h-2v-4h2v4z\"/>\n",
              "    </g>\n",
              "</svg>\n",
              "      </button>\n",
              "\n",
              "<style>\n",
              "  .colab-df-quickchart {\n",
              "      --bg-color: #E8F0FE;\n",
              "      --fill-color: #1967D2;\n",
              "      --hover-bg-color: #E2EBFA;\n",
              "      --hover-fill-color: #174EA6;\n",
              "      --disabled-fill-color: #AAA;\n",
              "      --disabled-bg-color: #DDD;\n",
              "  }\n",
              "\n",
              "  [theme=dark] .colab-df-quickchart {\n",
              "      --bg-color: #3B4455;\n",
              "      --fill-color: #D2E3FC;\n",
              "      --hover-bg-color: #434B5C;\n",
              "      --hover-fill-color: #FFFFFF;\n",
              "      --disabled-bg-color: #3B4455;\n",
              "      --disabled-fill-color: #666;\n",
              "  }\n",
              "\n",
              "  .colab-df-quickchart {\n",
              "    background-color: var(--bg-color);\n",
              "    border: none;\n",
              "    border-radius: 50%;\n",
              "    cursor: pointer;\n",
              "    display: none;\n",
              "    fill: var(--fill-color);\n",
              "    height: 32px;\n",
              "    padding: 0;\n",
              "    width: 32px;\n",
              "  }\n",
              "\n",
              "  .colab-df-quickchart:hover {\n",
              "    background-color: var(--hover-bg-color);\n",
              "    box-shadow: 0 1px 2px rgba(60, 64, 67, 0.3), 0 1px 3px 1px rgba(60, 64, 67, 0.15);\n",
              "    fill: var(--button-hover-fill-color);\n",
              "  }\n",
              "\n",
              "  .colab-df-quickchart-complete:disabled,\n",
              "  .colab-df-quickchart-complete:disabled:hover {\n",
              "    background-color: var(--disabled-bg-color);\n",
              "    fill: var(--disabled-fill-color);\n",
              "    box-shadow: none;\n",
              "  }\n",
              "\n",
              "  .colab-df-spinner {\n",
              "    border: 2px solid var(--fill-color);\n",
              "    border-color: transparent;\n",
              "    border-bottom-color: var(--fill-color);\n",
              "    animation:\n",
              "      spin 1s steps(1) infinite;\n",
              "  }\n",
              "\n",
              "  @keyframes spin {\n",
              "    0% {\n",
              "      border-color: transparent;\n",
              "      border-bottom-color: var(--fill-color);\n",
              "      border-left-color: var(--fill-color);\n",
              "    }\n",
              "    20% {\n",
              "      border-color: transparent;\n",
              "      border-left-color: var(--fill-color);\n",
              "      border-top-color: var(--fill-color);\n",
              "    }\n",
              "    30% {\n",
              "      border-color: transparent;\n",
              "      border-left-color: var(--fill-color);\n",
              "      border-top-color: var(--fill-color);\n",
              "      border-right-color: var(--fill-color);\n",
              "    }\n",
              "    40% {\n",
              "      border-color: transparent;\n",
              "      border-right-color: var(--fill-color);\n",
              "      border-top-color: var(--fill-color);\n",
              "    }\n",
              "    60% {\n",
              "      border-color: transparent;\n",
              "      border-right-color: var(--fill-color);\n",
              "    }\n",
              "    80% {\n",
              "      border-color: transparent;\n",
              "      border-right-color: var(--fill-color);\n",
              "      border-bottom-color: var(--fill-color);\n",
              "    }\n",
              "    90% {\n",
              "      border-color: transparent;\n",
              "      border-bottom-color: var(--fill-color);\n",
              "    }\n",
              "  }\n",
              "</style>\n",
              "\n",
              "      <script>\n",
              "        async function quickchart(key) {\n",
              "          const quickchartButtonEl =\n",
              "            document.querySelector('#' + key + ' button');\n",
              "          quickchartButtonEl.disabled = true;  // To prevent multiple clicks.\n",
              "          quickchartButtonEl.classList.add('colab-df-spinner');\n",
              "          try {\n",
              "            const charts = await google.colab.kernel.invokeFunction(\n",
              "                'suggestCharts', [key], {});\n",
              "          } catch (error) {\n",
              "            console.error('Error during call to suggestCharts:', error);\n",
              "          }\n",
              "          quickchartButtonEl.classList.remove('colab-df-spinner');\n",
              "          quickchartButtonEl.classList.add('colab-df-quickchart-complete');\n",
              "        }\n",
              "        (() => {\n",
              "          let quickchartButtonEl =\n",
              "            document.querySelector('#df-a2efecf4-9d8c-4e24-8cfb-e752dd9390b2 button');\n",
              "          quickchartButtonEl.style.display =\n",
              "            google.colab.kernel.accessAllowed ? 'block' : 'none';\n",
              "        })();\n",
              "      </script>\n",
              "    </div>\n",
              "\n",
              "    </div>\n",
              "  </div>\n"
            ],
            "application/vnd.google.colaboratory.intrinsic+json": {
              "type": "dataframe",
              "summary": "{\n  \"name\": \"names_df[['EMP_NAME','NATIONALITY']]\",\n  \"rows\": 5,\n  \"fields\": [\n    {\n      \"column\": \"EMP_NAME\",\n      \"properties\": {\n        \"dtype\": \"string\",\n        \"num_unique_values\": 5,\n        \"samples\": [\n          \"Gul Sharif  Wali Mohd\",\n          \"Yousuf Masoud Zahri\",\n          \"Ahmed Shah Momtaz Shah Momtaz\"\n        ],\n        \"semantic_type\": \"\",\n        \"description\": \"\"\n      }\n    },\n    {\n      \"column\": \"NATIONALITY\",\n      \"properties\": {\n        \"dtype\": \"category\",\n        \"num_unique_values\": 2,\n        \"samples\": [\n          \"Algeria\",\n          \"Afghanistan\"\n        ],\n        \"semantic_type\": \"\",\n        \"description\": \"\"\n      }\n    }\n  ]\n}"
            }
          },
          "metadata": {},
          "execution_count": 6
        }
      ]
    },
    {
      "cell_type": "markdown",
      "source": [
        "Enable starified sampling as many nationalities are dominating"
      ],
      "metadata": {
        "id": "JNWp_SwAgwBp"
      }
    },
    {
      "cell_type": "code",
      "source": [
        "def stratified_sampling(df, strata_col, sample_size):\n",
        "    groups = df.groupby(strata_col)\n",
        "    sample = pd.DataFrame()\n",
        "\n",
        "    for _, group in groups:\n",
        "        stratum_sample = group.sample(frac=sample_size, replace=False, random_state=7)\n",
        "        sample = pd.concat([sample,stratum_sample],ignore_index=True)\n",
        "\n",
        "    return sample"
      ],
      "metadata": {
        "id": "0EdAWXCI1y82"
      },
      "execution_count": null,
      "outputs": []
    },
    {
      "cell_type": "markdown",
      "source": [
        "Embed the names using OpenAI Text Embeddings Small model"
      ],
      "metadata": {
        "id": "nwZ4N4yVg6c5"
      }
    },
    {
      "cell_type": "code",
      "source": [
        "text_embeddings_list = list(names_df.EMP_NAME.values)\n",
        "faiss_embeddings = FAISS.from_texts(texts = text_embeddings_list,\n",
        "                      embedding=OpenAIEmbeddings(model=\"text-embedding-3-small\",api_key=api_key),\n",
        "                      ids=list(names_df.index.values))\n",
        "#save the embeddings to local for future re-use\n",
        "faiss_embeddings.save_local('/content/drive/MyDrive/Colab datasets','emp_names_faiss')"
      ],
      "metadata": {
        "id": "dGoVywoT8s6L"
      },
      "execution_count": null,
      "outputs": []
    },
    {
      "cell_type": "markdown",
      "source": [
        "Load the embeddings if required"
      ],
      "metadata": {
        "id": "_eBYCnB6hH9O"
      }
    },
    {
      "cell_type": "code",
      "source": [
        "faiss_embeddings = FAISS.load_local(folder_path='/content/drive/MyDrive/Colab datasets/',embeddings=OpenAIEmbeddings(model=\"text-embedding-3-small\",api_key=api_key),\n",
        "                                    allow_dangerous_deserialization=True,index_name='emp_names_faiss')"
      ],
      "metadata": {
        "id": "3EztxIIu6DtS"
      },
      "execution_count": null,
      "outputs": []
    },
    {
      "cell_type": "code",
      "source": [
        "names_embeddings = faiss_embeddings.index.reconstruct_n()"
      ],
      "metadata": {
        "id": "LpLm3-wcDBuh"
      },
      "execution_count": null,
      "outputs": []
    },
    {
      "cell_type": "code",
      "source": [
        "len(names_embeddings) #check the total count of embeddings"
      ],
      "metadata": {
        "colab": {
          "base_uri": "https://localhost:8080/"
        },
        "id": "pc06DPqx78gu",
        "outputId": "b0834bec-32ca-4389-fea3-309acae378b0"
      },
      "execution_count": null,
      "outputs": [
        {
          "output_type": "execute_result",
          "data": {
            "text/plain": [
              "7703"
            ]
          },
          "metadata": {},
          "execution_count": 15
        }
      ]
    },
    {
      "cell_type": "markdown",
      "source": [
        "Example of how one embedding looks like - one name"
      ],
      "metadata": {
        "id": "kdSmsZS6lrOk"
      }
    },
    {
      "cell_type": "code",
      "source": [
        "names_embeddings[0]   #1536 dimensions"
      ],
      "metadata": {
        "colab": {
          "base_uri": "https://localhost:8080/"
        },
        "id": "pBAx6lc1wfSS",
        "outputId": "e62a72ed-a026-4489-af72-835658afa9e3"
      },
      "execution_count": null,
      "outputs": [
        {
          "output_type": "execute_result",
          "data": {
            "text/plain": [
              "array([-0.0249825 , -0.03775765,  0.04059657, ..., -0.01635928,\n",
              "        0.01132611, -0.00842805], dtype=float32)"
            ]
          },
          "metadata": {},
          "execution_count": 17
        }
      ]
    },
    {
      "cell_type": "markdown",
      "source": [
        "## Dimensionality reduction"
      ],
      "metadata": {
        "id": "wkblk0mmiGJ2"
      }
    },
    {
      "cell_type": "code",
      "source": [
        "# Reduce dimensionality using PCA\n",
        "from sklearn.decomposition import PCA\n",
        "\n",
        "# Function to return the principal components\n",
        "def get_pc(arr,n):\n",
        "  pca = PCA(n_components=n)\n",
        "  embeds_transform = pca.fit_transform(arr)\n",
        "  return embeds_transform,pca"
      ],
      "metadata": {
        "id": "3KuFwcnnJZNb"
      },
      "execution_count": null,
      "outputs": []
    },
    {
      "cell_type": "code",
      "source": [
        "# Reduce embeddings to 20 principal components to aid visualization\n",
        "embeds = np.array(names_embeddings)\n",
        "embeds_pc,pca_ = get_pc(embeds,20)"
      ],
      "metadata": {
        "id": "yR7P3nGbRCYq"
      },
      "execution_count": null,
      "outputs": []
    },
    {
      "cell_type": "code",
      "source": [
        "embeds_pc[:2] #first 2 names and their 20 PCA components"
      ],
      "metadata": {
        "colab": {
          "base_uri": "https://localhost:8080/"
        },
        "id": "ku_sbRIqRSpi",
        "outputId": "0a920340-5cbb-48b6-890a-b545211b2820"
      },
      "execution_count": null,
      "outputs": [
        {
          "output_type": "execute_result",
          "data": {
            "text/plain": [
              "array([[-0.09300845,  0.18013537, -0.06791539,  0.19947031,  0.2678019 ,\n",
              "        -0.00209294,  0.10870867,  0.05434865,  0.03078735, -0.05413409,\n",
              "         0.00351935, -0.09187871, -0.15307523, -0.08164664,  0.17120326,\n",
              "        -0.06594829,  0.01905754,  0.0227912 , -0.00348109,  0.07069976],\n",
              "       [-0.15792781,  0.15111397, -0.09308033,  0.2854962 ,  0.20149429,\n",
              "         0.00660513, -0.01900492, -0.07885266,  0.03293109,  0.01312181,\n",
              "         0.02352976, -0.0555312 , -0.03355673, -0.0062109 ,  0.05776484,\n",
              "         0.05576078, -0.11360165,  0.05909261, -0.04801221, -0.06847032]],\n",
              "      dtype=float32)"
            ]
          },
          "metadata": {},
          "execution_count": 20
        }
      ]
    },
    {
      "cell_type": "markdown",
      "source": [
        "Check for total variance explained by PC components"
      ],
      "metadata": {
        "id": "r2nsclwliUVD"
      }
    },
    {
      "cell_type": "code",
      "source": [
        "import matplotlib.pyplot as plt\n",
        "\n",
        "PC_values = np.arange(pca_.n_components) + 1\n",
        "plt.plot(PC_values, pca_.explained_variance_ratio_, 'o-', linewidth=2, color='blue')\n",
        "plt.title('Scree Plot')\n",
        "plt.xlabel('Principal Component')\n",
        "plt.ylabel('Variance Explained')\n",
        "plt.show()"
      ],
      "metadata": {
        "colab": {
          "base_uri": "https://localhost:8080/",
          "height": 472
        },
        "id": "GdXKoB4__Wqp",
        "outputId": "157305d7-8fd0-4485-8020-2ed7a004deb8"
      },
      "execution_count": null,
      "outputs": [
        {
          "output_type": "display_data",
          "data": {
            "text/plain": [
              "<Figure size 640x480 with 1 Axes>"
            ],
            "image/png": "[encoded data removed]"
          },
          "metadata": {}
        }
      ]
    },
    {
      "cell_type": "code",
      "source": [
        "pca_.explained_variance_ratio_.sum() # total variance explained by 20 components"
      ],
      "metadata": {
        "colab": {
          "base_uri": "https://localhost:8080/"
        },
        "id": "vKSrxvXWAJ-Q",
        "outputId": "f1831917-9a07-4231-ee24-34f1036431fb"
      },
      "execution_count": null,
      "outputs": [
        {
          "output_type": "execute_result",
          "data": {
            "text/plain": [
              "0.32449466"
            ]
          },
          "metadata": {},
          "execution_count": 22
        }
      ]
    },
    {
      "cell_type": "markdown",
      "source": [
        "### Visualization of reduced embeddings for few names"
      ],
      "metadata": {
        "id": "ERsujVZDi4lo"
      }
    },
    {
      "cell_type": "code",
      "source": [
        "\n",
        "import altair as alt\n",
        "\n",
        "# Reshape the data for visualization purposes\n",
        "source = pd.DataFrame(embeds_pc[:10])\n",
        "source = pd.concat([source,pd.Series(text_embeddings_list[:10],name='query')], axis=1)\n",
        "source = source.melt(id_vars=['query'])\n",
        "\n",
        "# Configure the plot\n",
        "chart = alt.Chart(source).mark_rect().encode(\n",
        "    x=alt.X('variable:N', title=\"Embedding\"),\n",
        "    y=alt.Y('query:N', title='',axis=alt.Axis(labelLimit=500)),\n",
        "    color=alt.Color('value:Q', title=\"Value\", scale=alt.Scale(\n",
        "                range=[\"#917EF3\", \"#000000\"]))\n",
        ")\n",
        "\n",
        "result = chart.configure(background='#ffffff'\n",
        "        ).properties(\n",
        "        width=700,\n",
        "        height=400,\n",
        "        title='Embeddings with 20 dimensions'\n",
        "       ).configure_axis(\n",
        "      labelFontSize=15,\n",
        "      titleFontSize=12)\n",
        "\n",
        "# Show the plot\n",
        "result"
      ],
      "metadata": {
        "colab": {
          "base_uri": "https://localhost:8080/",
          "height": 575
        },
        "id": "2hG7V4zNRT2s",
        "outputId": "5ff64aea-722e-44dd-bfbc-bf1723792992"
      },
      "execution_count": null,
      "outputs": [
        {
          "output_type": "stream",
          "name": "stderr",
          "text": [
            "/usr/local/lib/python3.10/dist-packages/altair/utils/core.py:384: FutureWarning: the convert_dtype parameter is deprecated and will be removed in a future version.  Do ``ser.astype(object).apply()`` instead if you want ``convert_dtype=False``.\n",
            "  col = df[col_name].apply(to_list_if_array, convert_dtype=False)\n",
            "/usr/local/lib/python3.10/dist-packages/altair/utils/core.py:384: FutureWarning: the convert_dtype parameter is deprecated and will be removed in a future version.  Do ``ser.astype(object).apply()`` instead if you want ``convert_dtype=False``.\n",
            "  col = df[col_name].apply(to_list_if_array, convert_dtype=False)\n"
          ]
        },
        {
          "output_type": "execute_result",
          "data": {
            "text/html": [
              "\n",
              "<div id=\"altair-viz-a26e1c6f2df94f6aa50504e278071f6f\"></div>\n",
              "<script type=\"text/javascript\">\n",
              "  var VEGA_DEBUG = (typeof VEGA_DEBUG == \"undefined\") ? {} : VEGA_DEBUG;\n",
              "  (function(spec, embedOpt){\n",
              "    let outputDiv = document.currentScript.previousElementSibling;\n",
              "    if (outputDiv.id !== \"altair-viz-a26e1c6f2df94f6aa50504e278071f6f\") {\n",
              "      outputDiv = document.getElementById(\"altair-viz-a26e1c6f2df94f6aa50504e278071f6f\");\n",
              "    }\n",
              "    const paths = {\n",
              "      \"vega\": \"https://cdn.jsdelivr.net/npm//vega@5?noext\",\n",
              "      \"vega-lib\": \"https://cdn.jsdelivr.net/npm//vega-lib?noext\",\n",
              "      \"vega-lite\": \"https://cdn.jsdelivr.net/npm//vega-lite@4.17.0?noext\",\n",
              "      \"vega-embed\": \"https://cdn.jsdelivr.net/npm//vega-embed@6?noext\",\n",
              "    };\n",
              "\n",
              "    function maybeLoadScript(lib, version) {\n",
              "      var key = `${lib.replace(\"-\", \"\")}_version`;\n",
              "      return (VEGA_DEBUG[key] == version) ?\n",
              "        Promise.resolve(paths[lib]) :\n",
              "        new Promise(function(resolve, reject) {\n",
              "          var s = document.createElement('script');\n",
              "          document.getElementsByTagName(\"head\")[0].appendChild(s);\n",
              "          s.async = true;\n",
              "          s.onload = () => {\n",
              "            VEGA_DEBUG[key] = version;\n",
              "            return resolve(paths[lib]);\n",
              "          };\n",
              "          s.onerror = () => reject(`Error loading script: ${paths[lib]}`);\n",
              "          s.src = paths[lib];\n",
              "        });\n",
              "    }\n",
              "\n",
              "    function showError(err) {\n",
              "      outputDiv.innerHTML = `<div class=\"error\" style=\"color:red;\">${err}</div>`;\n",
              "      throw err;\n",
              "    }\n",
              "\n",
              "    function displayChart(vegaEmbed) {\n",
              "      vegaEmbed(outputDiv, spec, embedOpt)\n",
              "        .catch(err => showError(`Javascript Error: ${err.message}<br>This usually means there's a typo in your chart specification. See the javascript console for the full traceback.`));\n",
              "    }\n",
              "\n",
              "    if(typeof define === \"function\" && define.amd) {\n",
              "      requirejs.config({paths});\n",
              "      require([\"vega-embed\"], displayChart, err => showError(`Error loading script: ${err.message}`));\n",
              "    } else {\n",
              "      maybeLoadScript(\"vega\", \"5\")\n",
              "        .then(() => maybeLoadScript(\"vega-lite\", \"4.17.0\"))\n",
              "        .then(() => maybeLoadScript(\"vega-embed\", \"6\"))\n",
              "        .catch(showError)\n",
              "        .then(() => displayChart(vegaEmbed));\n",
              "    }\n",
              "  })({\"config\": {\"view\": {\"continuousWidth\": 400, \"continuousHeight\": 300}, \"axis\": {\"labelFontSize\": 15, \"titleFontSize\": 12}, \"background\": \"#ffffff\"}, \"data\": {\"name\": \"data-b153cbc6b1dc77770ee38ec8b939888b\"}, \"mark\": \"rect\", \"encoding\": {\"color\": {\"field\": \"value\", \"scale\": {\"range\": [\"#917EF3\", \"#000000\"]}, \"title\": \"Value\", \"type\": \"quantitative\"}, \"x\": {\"field\": \"variable\", \"title\": \"Embedding\", \"type\": \"nominal\"}, \"y\": {\"axis\": {\"labelLimit\": 500}, \"field\": \"query\", \"title\": \"\", \"type\": \"nominal\"}}, \"height\": 400, \"title\": \"Embeddings with 10 dimensions\", \"width\": 700, \"$schema\": \"https://vega.github.io/schema/vega-lite/v4.17.0.json\", \"datasets\": {\"data-b153cbc6b1dc77770ee38ec8b939888b\": [{\"query\": \"Javed Khan Katib Gul\", \"variable\": 0, \"value\": -0.09300845116376877}, {\"query\": \"Gul Sharif  Wali Mohd\", \"variable\": 0, \"value\": -0.15792781114578247}, {\"query\": \"Ahmed Shah Momtaz Shah Momtaz\", \"variable\": 0, \"value\": -0.1434834748506546}, {\"query\": \"Fatima Zohra  Bousmaha\", \"variable\": 0, \"value\": -0.2340204417705536}, {\"query\": \"Yousuf Masoud Zahri\", \"variable\": 0, \"value\": -0.27286258339881897}, {\"query\": \"Abd Errahmane Omar Mouhab\", \"variable\": 0, \"value\": -0.32694077491760254}, {\"query\": \"Nelson Faria Diogo\", \"variable\": 0, \"value\": 0.14595063030719757}, {\"query\": \"Marcelo Gabriel Figueroa Figueroa\", \"variable\": 0, \"value\": 0.18559084832668304}, {\"query\": \"Hakoub  Kozyan\", \"variable\": 0, \"value\": -0.09313607960939407}, {\"query\": \"Joanne Lesley  Norman\", \"variable\": 0, \"value\": 0.1977594643831253}, {\"query\": \"Javed Khan Katib Gul\", \"variable\": 1, \"value\": 0.18013536930084229}, {\"query\": \"Gul Sharif  Wali Mohd\", \"variable\": 1, \"value\": 0.15111397206783295}, {\"query\": \"Ahmed Shah Momtaz Shah Momtaz\", \"variable\": 1, \"value\": 0.12927502393722534}, {\"query\": \"Fatima Zohra  Bousmaha\", \"variable\": 1, \"value\": -0.10954591631889343}, {\"query\": \"Yousuf Masoud Zahri\", \"variable\": 1, \"value\": -0.05023939162492752}, {\"query\": \"Abd Errahmane Omar Mouhab\", \"variable\": 1, \"value\": -0.09042767435312271}, {\"query\": \"Nelson Faria Diogo\", \"variable\": 1, \"value\": -0.19774319231510162}, {\"query\": \"Marcelo Gabriel Figueroa Figueroa\", \"variable\": 1, \"value\": -0.2689272165298462}, {\"query\": \"Hakoub  Kozyan\", \"variable\": 1, \"value\": -0.0022188485600054264}, {\"query\": \"Joanne Lesley  Norman\", \"variable\": 1, \"value\": -0.2216891348361969}, {\"query\": \"Javed Khan Katib Gul\", \"variable\": 2, \"value\": -0.06791539490222931}, {\"query\": \"Gul Sharif  Wali Mohd\", \"variable\": 2, \"value\": -0.09308033436536789}, {\"query\": \"Ahmed Shah Momtaz Shah Momtaz\", \"variable\": 2, \"value\": 0.018931036815047264}, {\"query\": \"Fatima Zohra  Bousmaha\", \"variable\": 2, \"value\": 0.18394505977630615}, {\"query\": \"Yousuf Masoud Zahri\", \"variable\": 2, \"value\": 0.06150376424193382}, {\"query\": \"Abd Errahmane Omar Mouhab\", \"variable\": 2, \"value\": -0.019744789227843285}, {\"query\": \"Nelson Faria Diogo\", \"variable\": 2, \"value\": -0.030280007049441338}, {\"query\": \"Marcelo Gabriel Figueroa Figueroa\", \"variable\": 2, \"value\": 0.028344377875328064}, {\"query\": \"Hakoub  Kozyan\", \"variable\": 2, \"value\": -0.012265641242265701}, {\"query\": \"Joanne Lesley  Norman\", \"variable\": 2, \"value\": -0.02938486821949482}, {\"query\": \"Javed Khan Katib Gul\", \"variable\": 3, \"value\": 0.19947031140327454}, {\"query\": \"Gul Sharif  Wali Mohd\", \"variable\": 3, \"value\": 0.28549620509147644}, {\"query\": \"Ahmed Shah Momtaz Shah Momtaz\", \"variable\": 3, \"value\": 0.21496960520744324}, {\"query\": \"Fatima Zohra  Bousmaha\", \"variable\": 3, \"value\": 0.0277482271194458}, {\"query\": \"Yousuf Masoud Zahri\", \"variable\": 3, \"value\": 0.1725548952817917}, {\"query\": \"Abd Errahmane Omar Mouhab\", \"variable\": 3, \"value\": 0.13253049552440643}, {\"query\": \"Nelson Faria Diogo\", \"variable\": 3, \"value\": 0.0679459497332573}, {\"query\": \"Marcelo Gabriel Figueroa Figueroa\", \"variable\": 3, \"value\": 0.1443808376789093}, {\"query\": \"Hakoub  Kozyan\", \"variable\": 3, \"value\": 0.11630243062973022}, {\"query\": \"Joanne Lesley  Norman\", \"variable\": 3, \"value\": -0.08796968311071396}, {\"query\": \"Javed Khan Katib Gul\", \"variable\": 4, \"value\": 0.2678019106388092}, {\"query\": \"Gul Sharif  Wali Mohd\", \"variable\": 4, \"value\": 0.20149429142475128}, {\"query\": \"Ahmed Shah Momtaz Shah Momtaz\", \"variable\": 4, \"value\": 0.15402042865753174}, {\"query\": \"Fatima Zohra  Bousmaha\", \"variable\": 4, \"value\": -0.031037703156471252}, {\"query\": \"Yousuf Masoud Zahri\", \"variable\": 4, \"value\": -0.03136086463928223}, {\"query\": \"Abd Errahmane Omar Mouhab\", \"variable\": 4, \"value\": -0.25877562165260315}, {\"query\": \"Nelson Faria Diogo\", \"variable\": 4, \"value\": -0.03571939840912819}, {\"query\": \"Marcelo Gabriel Figueroa Figueroa\", \"variable\": 4, \"value\": -0.030789745971560478}, {\"query\": \"Hakoub  Kozyan\", \"variable\": 4, \"value\": -0.06961926817893982}, {\"query\": \"Joanne Lesley  Norman\", \"variable\": 4, \"value\": -0.025044100359082222}, {\"query\": \"Javed Khan Katib Gul\", \"variable\": 5, \"value\": -0.002092944458127022}, {\"query\": \"Gul Sharif  Wali Mohd\", \"variable\": 5, \"value\": 0.006605129688978195}, {\"query\": \"Ahmed Shah Momtaz Shah Momtaz\", \"variable\": 5, \"value\": -0.039387572556734085}, {\"query\": \"Fatima Zohra  Bousmaha\", \"variable\": 5, \"value\": -0.3104534149169922}, {\"query\": \"Yousuf Masoud Zahri\", \"variable\": 5, \"value\": -0.004394888412207365}, {\"query\": \"Abd Errahmane Omar Mouhab\", \"variable\": 5, \"value\": 0.024594731628894806}, {\"query\": \"Nelson Faria Diogo\", \"variable\": 5, \"value\": 0.04496537894010544}, {\"query\": \"Marcelo Gabriel Figueroa Figueroa\", \"variable\": 5, \"value\": 0.18882252275943756}, {\"query\": \"Hakoub  Kozyan\", \"variable\": 5, \"value\": -0.14396919310092926}, {\"query\": \"Joanne Lesley  Norman\", \"variable\": 5, \"value\": -0.09999939799308777}, {\"query\": \"Javed Khan Katib Gul\", \"variable\": 6, \"value\": 0.10870867222547531}, {\"query\": \"Gul Sharif  Wali Mohd\", \"variable\": 6, \"value\": -0.01900492236018181}, {\"query\": \"Ahmed Shah Momtaz Shah Momtaz\", \"variable\": 6, \"value\": 0.04267031326889992}, {\"query\": \"Fatima Zohra  Bousmaha\", \"variable\": 6, \"value\": -0.05313045158982277}, {\"query\": \"Yousuf Masoud Zahri\", \"variable\": 6, \"value\": 0.0766439288854599}, {\"query\": \"Abd Errahmane Omar Mouhab\", \"variable\": 6, \"value\": -0.060323312878608704}, {\"query\": \"Nelson Faria Diogo\", \"variable\": 6, \"value\": 0.006402677856385708}, {\"query\": \"Marcelo Gabriel Figueroa Figueroa\", \"variable\": 6, \"value\": -0.02519412338733673}, {\"query\": \"Hakoub  Kozyan\", \"variable\": 6, \"value\": 0.042781684547662735}, {\"query\": \"Joanne Lesley  Norman\", \"variable\": 6, \"value\": 0.10756680369377136}, {\"query\": \"Javed Khan Katib Gul\", \"variable\": 7, \"value\": 0.054348647594451904}, {\"query\": \"Gul Sharif  Wali Mohd\", \"variable\": 7, \"value\": -0.07885266095399857}, {\"query\": \"Ahmed Shah Momtaz Shah Momtaz\", \"variable\": 7, \"value\": -0.03440798446536064}, {\"query\": \"Fatima Zohra  Bousmaha\", \"variable\": 7, \"value\": -0.10496466606855392}, {\"query\": \"Yousuf Masoud Zahri\", \"variable\": 7, \"value\": -0.11705512553453445}, {\"query\": \"Abd Errahmane Omar Mouhab\", \"variable\": 7, \"value\": 0.07287048548460007}, {\"query\": \"Nelson Faria Diogo\", \"variable\": 7, \"value\": -0.09433695673942566}, {\"query\": \"Marcelo Gabriel Figueroa Figueroa\", \"variable\": 7, \"value\": -0.15916398167610168}, {\"query\": \"Hakoub  Kozyan\", \"variable\": 7, \"value\": 0.18248441815376282}, {\"query\": \"Joanne Lesley  Norman\", \"variable\": 7, \"value\": -0.011958938091993332}, {\"query\": \"Javed Khan Katib Gul\", \"variable\": 8, \"value\": 0.030787350609898567}, {\"query\": \"Gul Sharif  Wali Mohd\", \"variable\": 8, \"value\": 0.03293108567595482}, {\"query\": \"Ahmed Shah Momtaz Shah Momtaz\", \"variable\": 8, \"value\": -0.11828333139419556}, {\"query\": \"Fatima Zohra  Bousmaha\", \"variable\": 8, \"value\": -0.11540401726961136}, {\"query\": \"Yousuf Masoud Zahri\", \"variable\": 8, \"value\": 0.055955201387405396}, {\"query\": \"Abd Errahmane Omar Mouhab\", \"variable\": 8, \"value\": -0.1402236968278885}, {\"query\": \"Nelson Faria Diogo\", \"variable\": 8, \"value\": -0.0054267654195427895}, {\"query\": \"Marcelo Gabriel Figueroa Figueroa\", \"variable\": 8, \"value\": -0.03360459953546524}, {\"query\": \"Hakoub  Kozyan\", \"variable\": 8, \"value\": -0.10006960481405258}, {\"query\": \"Joanne Lesley  Norman\", \"variable\": 8, \"value\": 0.022909581661224365}, {\"query\": \"Javed Khan Katib Gul\", \"variable\": 9, \"value\": -0.05413408949971199}, {\"query\": \"Gul Sharif  Wali Mohd\", \"variable\": 9, \"value\": 0.013121814467012882}, {\"query\": \"Ahmed Shah Momtaz Shah Momtaz\", \"variable\": 9, \"value\": -0.15214523673057556}, {\"query\": \"Fatima Zohra  Bousmaha\", \"variable\": 9, \"value\": 0.00940297544002533}, {\"query\": \"Yousuf Masoud Zahri\", \"variable\": 9, \"value\": 0.06222431734204292}, {\"query\": \"Abd Errahmane Omar Mouhab\", \"variable\": 9, \"value\": 0.07806618511676788}, {\"query\": \"Nelson Faria Diogo\", \"variable\": 9, \"value\": 0.07778431475162506}, {\"query\": \"Marcelo Gabriel Figueroa Figueroa\", \"variable\": 9, \"value\": 0.10585622489452362}, {\"query\": \"Hakoub  Kozyan\", \"variable\": 9, \"value\": -0.017808277159929276}, {\"query\": \"Joanne Lesley  Norman\", \"variable\": 9, \"value\": -0.14418970048427582}, {\"query\": \"Javed Khan Katib Gul\", \"variable\": 10, \"value\": 0.0035193543881177902}, {\"query\": \"Gul Sharif  Wali Mohd\", \"variable\": 10, \"value\": 0.023529764264822006}, {\"query\": \"Ahmed Shah Momtaz Shah Momtaz\", \"variable\": 10, \"value\": -0.0976528748869896}, {\"query\": \"Fatima Zohra  Bousmaha\", \"variable\": 10, \"value\": 0.010589403100311756}, {\"query\": \"Yousuf Masoud Zahri\", \"variable\": 10, \"value\": 0.08060476928949356}, {\"query\": \"Abd Errahmane Omar Mouhab\", \"variable\": 10, \"value\": -0.13926534354686737}, {\"query\": \"Nelson Faria Diogo\", \"variable\": 10, \"value\": 0.00037732001510448754}, {\"query\": \"Marcelo Gabriel Figueroa Figueroa\", \"variable\": 10, \"value\": -0.048915501683950424}, {\"query\": \"Hakoub  Kozyan\", \"variable\": 10, \"value\": 0.08823806047439575}, {\"query\": \"Joanne Lesley  Norman\", \"variable\": 10, \"value\": 0.02865496464073658}, {\"query\": \"Javed Khan Katib Gul\", \"variable\": 11, \"value\": -0.09187871217727661}, {\"query\": \"Gul Sharif  Wali Mohd\", \"variable\": 11, \"value\": -0.05553119629621506}, {\"query\": \"Ahmed Shah Momtaz Shah Momtaz\", \"variable\": 11, \"value\": 0.008305173367261887}, {\"query\": \"Fatima Zohra  Bousmaha\", \"variable\": 11, \"value\": -0.09010744094848633}, {\"query\": \"Yousuf Masoud Zahri\", \"variable\": 11, \"value\": 0.0035978134255856276}, {\"query\": \"Abd Errahmane Omar Mouhab\", \"variable\": 11, \"value\": -0.05959809944033623}, {\"query\": \"Nelson Faria Diogo\", \"variable\": 11, \"value\": 0.03249238058924675}, {\"query\": \"Marcelo Gabriel Figueroa Figueroa\", \"variable\": 11, \"value\": -0.08618200570344925}, {\"query\": \"Hakoub  Kozyan\", \"variable\": 11, \"value\": -0.05253021419048309}, {\"query\": \"Joanne Lesley  Norman\", \"variable\": 11, \"value\": -0.05881652235984802}, {\"query\": \"Javed Khan Katib Gul\", \"variable\": 12, \"value\": -0.1530752331018448}, {\"query\": \"Gul Sharif  Wali Mohd\", \"variable\": 12, \"value\": -0.033556725829839706}, {\"query\": \"Ahmed Shah Momtaz Shah Momtaz\", \"variable\": 12, \"value\": -0.09786409884691238}, {\"query\": \"Fatima Zohra  Bousmaha\", \"variable\": 12, \"value\": -0.12770602107048035}, {\"query\": \"Yousuf Masoud Zahri\", \"variable\": 12, \"value\": -0.08063722401857376}, {\"query\": \"Abd Errahmane Omar Mouhab\", \"variable\": 12, \"value\": 0.015129415318369865}, {\"query\": \"Nelson Faria Diogo\", \"variable\": 12, \"value\": 0.08838111907243729}, {\"query\": \"Marcelo Gabriel Figueroa Figueroa\", \"variable\": 12, \"value\": 0.029286116361618042}, {\"query\": \"Hakoub  Kozyan\", \"variable\": 12, \"value\": -0.1068519577383995}, {\"query\": \"Joanne Lesley  Norman\", \"variable\": 12, \"value\": 0.032322466373443604}, {\"query\": \"Javed Khan Katib Gul\", \"variable\": 13, \"value\": -0.0816466435790062}, {\"query\": \"Gul Sharif  Wali Mohd\", \"variable\": 13, \"value\": -0.006210897583514452}, {\"query\": \"Ahmed Shah Momtaz Shah Momtaz\", \"variable\": 13, \"value\": 0.026273321360349655}, {\"query\": \"Fatima Zohra  Bousmaha\", \"variable\": 13, \"value\": -0.009648097679018974}, {\"query\": \"Yousuf Masoud Zahri\", \"variable\": 13, \"value\": -0.1041737049818039}, {\"query\": \"Abd Errahmane Omar Mouhab\", \"variable\": 13, \"value\": 0.14453937113285065}, {\"query\": \"Nelson Faria Diogo\", \"variable\": 13, \"value\": -0.029944295063614845}, {\"query\": \"Marcelo Gabriel Figueroa Figueroa\", \"variable\": 13, \"value\": 0.09045378118753433}, {\"query\": \"Hakoub  Kozyan\", \"variable\": 13, \"value\": -0.1480572372674942}, {\"query\": \"Joanne Lesley  Norman\", \"variable\": 13, \"value\": -0.058755721896886826}, {\"query\": \"Javed Khan Katib Gul\", \"variable\": 14, \"value\": 0.17120325565338135}, {\"query\": \"Gul Sharif  Wali Mohd\", \"variable\": 14, \"value\": 0.05776483565568924}, {\"query\": \"Ahmed Shah Momtaz Shah Momtaz\", \"variable\": 14, \"value\": -0.07899435609579086}, {\"query\": \"Fatima Zohra  Bousmaha\", \"variable\": 14, \"value\": 0.02526146173477173}, {\"query\": \"Yousuf Masoud Zahri\", \"variable\": 14, \"value\": -0.08786166459321976}, {\"query\": \"Abd Errahmane Omar Mouhab\", \"variable\": 14, \"value\": 0.06858032196760178}, {\"query\": \"Nelson Faria Diogo\", \"variable\": 14, \"value\": 0.1547597199678421}, {\"query\": \"Marcelo Gabriel Figueroa Figueroa\", \"variable\": 14, \"value\": 0.04060027748346329}, {\"query\": \"Hakoub  Kozyan\", \"variable\": 14, \"value\": 0.07623007893562317}, {\"query\": \"Joanne Lesley  Norman\", \"variable\": 14, \"value\": 0.17889058589935303}, {\"query\": \"Javed Khan Katib Gul\", \"variable\": 15, \"value\": -0.06594829261302948}, {\"query\": \"Gul Sharif  Wali Mohd\", \"variable\": 15, \"value\": 0.05576077848672867}, {\"query\": \"Ahmed Shah Momtaz Shah Momtaz\", \"variable\": 15, \"value\": 0.14472302794456482}, {\"query\": \"Fatima Zohra  Bousmaha\", \"variable\": 15, \"value\": 0.10794433951377869}, {\"query\": \"Yousuf Masoud Zahri\", \"variable\": 15, \"value\": -0.029628196731209755}, {\"query\": \"Abd Errahmane Omar Mouhab\", \"variable\": 15, \"value\": -0.0027872154023498297}, {\"query\": \"Nelson Faria Diogo\", \"variable\": 15, \"value\": 0.09126168489456177}, {\"query\": \"Marcelo Gabriel Figueroa Figueroa\", \"variable\": 15, \"value\": 0.032594628632068634}, {\"query\": \"Hakoub  Kozyan\", \"variable\": 15, \"value\": -0.024418234825134277}, {\"query\": \"Joanne Lesley  Norman\", \"variable\": 15, \"value\": 0.05584024637937546}, {\"query\": \"Javed Khan Katib Gul\", \"variable\": 16, \"value\": 0.019057543948292732}, {\"query\": \"Gul Sharif  Wali Mohd\", \"variable\": 16, \"value\": -0.11360164731740952}, {\"query\": \"Ahmed Shah Momtaz Shah Momtaz\", \"variable\": 16, \"value\": -0.04312178120017052}, {\"query\": \"Fatima Zohra  Bousmaha\", \"variable\": 16, \"value\": 0.05295382812619209}, {\"query\": \"Yousuf Masoud Zahri\", \"variable\": 16, \"value\": -0.0052514392882585526}, {\"query\": \"Abd Errahmane Omar Mouhab\", \"variable\": 16, \"value\": 0.07303198426961899}, {\"query\": \"Nelson Faria Diogo\", \"variable\": 16, \"value\": -0.13109926879405975}, {\"query\": \"Marcelo Gabriel Figueroa Figueroa\", \"variable\": 16, \"value\": -0.1448541134595871}, {\"query\": \"Hakoub  Kozyan\", \"variable\": 16, \"value\": 0.05424818769097328}, {\"query\": \"Joanne Lesley  Norman\", \"variable\": 16, \"value\": -0.02885107323527336}, {\"query\": \"Javed Khan Katib Gul\", \"variable\": 17, \"value\": 0.022791197523474693}, {\"query\": \"Gul Sharif  Wali Mohd\", \"variable\": 17, \"value\": 0.05909260734915733}, {\"query\": \"Ahmed Shah Momtaz Shah Momtaz\", \"variable\": 17, \"value\": 0.03444341570138931}, {\"query\": \"Fatima Zohra  Bousmaha\", \"variable\": 17, \"value\": -0.011642415076494217}, {\"query\": \"Yousuf Masoud Zahri\", \"variable\": 17, \"value\": -0.033318497240543365}, {\"query\": \"Abd Errahmane Omar Mouhab\", \"variable\": 17, \"value\": -0.04548187553882599}, {\"query\": \"Nelson Faria Diogo\", \"variable\": 17, \"value\": -0.07703762501478195}, {\"query\": \"Marcelo Gabriel Figueroa Figueroa\", \"variable\": 17, \"value\": 0.06898558884859085}, {\"query\": \"Hakoub  Kozyan\", \"variable\": 17, \"value\": 0.2119084894657135}, {\"query\": \"Joanne Lesley  Norman\", \"variable\": 17, \"value\": -0.12205791473388672}, {\"query\": \"Javed Khan Katib Gul\", \"variable\": 18, \"value\": -0.003481087274849415}, {\"query\": \"Gul Sharif  Wali Mohd\", \"variable\": 18, \"value\": -0.04801220819354057}, {\"query\": \"Ahmed Shah Momtaz Shah Momtaz\", \"variable\": 18, \"value\": -0.05400313064455986}, {\"query\": \"Fatima Zohra  Bousmaha\", \"variable\": 18, \"value\": 0.06520251929759979}, {\"query\": \"Yousuf Masoud Zahri\", \"variable\": 18, \"value\": 0.018603896722197533}, {\"query\": \"Abd Errahmane Omar Mouhab\", \"variable\": 18, \"value\": 0.030304407700896263}, {\"query\": \"Nelson Faria Diogo\", \"variable\": 18, \"value\": 0.12577882409095764}, {\"query\": \"Marcelo Gabriel Figueroa Figueroa\", \"variable\": 18, \"value\": -0.016289755702018738}, {\"query\": \"Hakoub  Kozyan\", \"variable\": 18, \"value\": -0.02043059654533863}, {\"query\": \"Joanne Lesley  Norman\", \"variable\": 18, \"value\": 0.06472235172986984}, {\"query\": \"Javed Khan Katib Gul\", \"variable\": 19, \"value\": 0.07069975882768631}, {\"query\": \"Gul Sharif  Wali Mohd\", \"variable\": 19, \"value\": -0.06847032159566879}, {\"query\": \"Ahmed Shah Momtaz Shah Momtaz\", \"variable\": 19, \"value\": 0.0579088032245636}, {\"query\": \"Fatima Zohra  Bousmaha\", \"variable\": 19, \"value\": 0.12063530832529068}, {\"query\": \"Yousuf Masoud Zahri\", \"variable\": 19, \"value\": 0.01810200698673725}, {\"query\": \"Abd Errahmane Omar Mouhab\", \"variable\": 19, \"value\": 0.07595981657505035}, {\"query\": \"Nelson Faria Diogo\", \"variable\": 19, \"value\": -0.03347714617848396}, {\"query\": \"Marcelo Gabriel Figueroa Figueroa\", \"variable\": 19, \"value\": -0.05047443509101868}, {\"query\": \"Hakoub  Kozyan\", \"variable\": 19, \"value\": 0.11657655239105225}, {\"query\": \"Joanne Lesley  Norman\", \"variable\": 19, \"value\": 0.08126405626535416}]}}, {\"mode\": \"vega-lite\"});\n",
              "</script>"
            ],
            "text/plain": [
              "alt.Chart(...)"
            ]
          },
          "metadata": {},
          "execution_count": 24
        }
      ]
    },
    {
      "cell_type": "markdown",
      "source": [
        "**Its clearly seen from above image that few names like row#2 and row#4, shows very similiar embedding values**"
      ],
      "metadata": {
        "id": "q7edZMdUjZsd"
      }
    },
    {
      "cell_type": "code",
      "source": [
        "# Function to generate the 2D plot\n",
        "def generate_chart(df,xcol,ycol,lbl='on',color='basic',title=''):\n",
        "  chart = alt.Chart(df).mark_circle(size=500).encode(\n",
        "    x=\n",
        "    alt.X(xcol,\n",
        "        scale=alt.Scale(zero=False),\n",
        "        axis=alt.Axis(labels=False, ticks=False, domain=False)\n",
        "    ),\n",
        "\n",
        "    y=\n",
        "    alt.Y(ycol,\n",
        "        scale=alt.Scale(zero=False),\n",
        "        axis=alt.Axis(labels=False, ticks=False, domain=False)\n",
        "    ),\n",
        "\n",
        "    color= alt.value('#333293') if color == 'basic' else color,\n",
        "    tooltip=['query']\n",
        "    )\n",
        "\n",
        "  if lbl == 'on':\n",
        "    text = chart.mark_text(align='left', baseline='middle',dx=15, size=13,color='black').encode(text='query', color= alt.value('black'))\n",
        "  else:\n",
        "    text = chart.mark_text(align='left', baseline='middle',dx=10).encode()\n",
        "\n",
        "  result = (chart + text).configure(background=\"#FDF7F0\"\n",
        "        ).properties(\n",
        "        width=800,\n",
        "        height=500,\n",
        "        title=title\n",
        "       ).configure_legend(\n",
        "  orient='bottom', titleFontSize=18,labelFontSize=18)\n",
        "\n",
        "  return result"
      ],
      "metadata": {
        "id": "3CT5Ahs0S2W0"
      },
      "execution_count": null,
      "outputs": []
    },
    {
      "cell_type": "code",
      "source": [
        "# Reduce embeddings to 2 principal components to aid visualization\n",
        "embeds_pc2 = get_pc(embeds,2)\n",
        "\n",
        "# Add the principal components to dataframe\n",
        "df_pc2 = pd.concat([pd.Series(text_embeddings_list,name='query'), pd.DataFrame(embeds_pc),names_df.NATIONALITY.reset_index()], axis=1)\n",
        "df_pc2 = df_pc2.loc[:50]\n",
        "# Plot the 2D embeddings on a chart\n",
        "df_pc2.columns = df_pc2.columns.astype(str)\n",
        "generate_chart(df_pc2,'0','1',color = 'NATIONALITY',title='2D Embeddings')"
      ],
      "metadata": {
        "colab": {
          "base_uri": "https://localhost:8080/",
          "height": 622
        },
        "id": "6SU-FhmpTI-o",
        "outputId": "d609713e-a7c0-4a74-9754-b68c28d45088"
      },
      "execution_count": null,
      "outputs": [
        {
          "output_type": "execute_result",
          "data": {
            "text/html": [
              "\n",
              "<div id=\"altair-viz-847d6dbe5e7b41e38dd113a8efec0b13\"></div>\n",
              "<script type=\"text/javascript\">\n",
              "  var VEGA_DEBUG = (typeof VEGA_DEBUG == \"undefined\") ? {} : VEGA_DEBUG;\n",
              "  (function(spec, embedOpt){\n",
              "    let outputDiv = document.currentScript.previousElementSibling;\n",
              "    if (outputDiv.id !== \"altair-viz-847d6dbe5e7b41e38dd113a8efec0b13\") {\n",
              "      outputDiv = document.getElementById(\"altair-viz-847d6dbe5e7b41e38dd113a8efec0b13\");\n",
              "    }\n",
              "    const paths = {\n",
              "      \"vega\": \"https://cdn.jsdelivr.net/npm//vega@5?noext\",\n",
              "      \"vega-lib\": \"https://cdn.jsdelivr.net/npm//vega-lib?noext\",\n",
              "      \"vega-lite\": \"https://cdn.jsdelivr.net/npm//vega-lite@4.17.0?noext\",\n",
              "      \"vega-embed\": \"https://cdn.jsdelivr.net/npm//vega-embed@6?noext\",\n",
              "    };\n",
              "\n",
              "    function maybeLoadScript(lib, version) {\n",
              "      var key = `${lib.replace(\"-\", \"\")}_version`;\n",
              "      return (VEGA_DEBUG[key] == version) ?\n",
              "        Promise.resolve(paths[lib]) :\n",
              "        new Promise(function(resolve, reject) {\n",
              "          var s = document.createElement('script');\n",
              "          document.getElementsByTagName(\"head\")[0].appendChild(s);\n",
              "          s.async = true;\n",
              "          s.onload = () => {\n",
              "            VEGA_DEBUG[key] = version;\n",
              "            return resolve(paths[lib]);\n",
              "          };\n",
              "          s.onerror = () => reject(`Error loading script: ${paths[lib]}`);\n",
              "          s.src = paths[lib];\n",
              "        });\n",
              "    }\n",
              "\n",
              "    function showError(err) {\n",
              "      outputDiv.innerHTML = `<div class=\"error\" style=\"color:red;\">${err}</div>`;\n",
              "      throw err;\n",
              "    }\n",
              "\n",
              "    function displayChart(vegaEmbed) {\n",
              "      vegaEmbed(outputDiv, spec, embedOpt)\n",
              "        .catch(err => showError(`Javascript Error: ${err.message}<br>This usually means there's a typo in your chart specification. See the javascript console for the full traceback.`));\n",
              "    }\n",
              "\n",
              "    if(typeof define === \"function\" && define.amd) {\n",
              "      requirejs.config({paths});\n",
              "      require([\"vega-embed\"], displayChart, err => showError(`Error loading script: ${err.message}`));\n",
              "    } else {\n",
              "      maybeLoadScript(\"vega\", \"5\")\n",
              "        .then(() => maybeLoadScript(\"vega-lite\", \"4.17.0\"))\n",
              "        .then(() => maybeLoadScript(\"vega-embed\", \"6\"))\n",
              "        .catch(showError)\n",
              "        .then(() => displayChart(vegaEmbed));\n",
              "    }\n",
              "  })({\"config\": {\"view\": {\"continuousWidth\": 400, \"continuousHeight\": 300}, \"background\": \"#FDF7F0\", \"legend\": {\"labelFontSize\": 18, \"orient\": \"bottom\", \"titleFontSize\": 18}}, \"layer\": [{\"mark\": {\"type\": \"circle\", \"size\": 500}, \"encoding\": {\"color\": {\"field\": \"NATIONALITY\", \"type\": \"nominal\"}, \"tooltip\": [{\"field\": \"query\", \"type\": \"nominal\"}], \"x\": {\"axis\": {\"domain\": false, \"labels\": false, \"ticks\": false}, \"field\": \"0\", \"scale\": {\"zero\": false}, \"type\": \"quantitative\"}, \"y\": {\"axis\": {\"domain\": false, \"labels\": false, \"ticks\": false}, \"field\": \"1\", \"scale\": {\"zero\": false}, \"type\": \"quantitative\"}}}, {\"mark\": {\"type\": \"text\", \"align\": \"left\", \"baseline\": \"middle\", \"color\": \"black\", \"dx\": 15, \"size\": 13}, \"encoding\": {\"color\": {\"value\": \"black\"}, \"text\": {\"field\": \"query\", \"type\": \"nominal\"}, \"tooltip\": [{\"field\": \"query\", \"type\": \"nominal\"}], \"x\": {\"axis\": {\"domain\": false, \"labels\": false, \"ticks\": false}, \"field\": \"0\", \"scale\": {\"zero\": false}, \"type\": \"quantitative\"}, \"y\": {\"axis\": {\"domain\": false, \"labels\": false, \"ticks\": false}, \"field\": \"1\", \"scale\": {\"zero\": false}, \"type\": \"quantitative\"}}}], \"data\": {\"name\": \"data-caa5ae9aa4e416fadf1494503ad024bf\"}, \"height\": 500, \"title\": \"2D Embeddings\", \"width\": 800, \"$schema\": \"https://vega.github.io/schema/vega-lite/v4.17.0.json\", \"datasets\": {\"data-caa5ae9aa4e416fadf1494503ad024bf\": [{\"query\": \"Javed Khan Katib Gul\", \"0\": 0.09300846606492996, \"1\": -0.1801358312368393, \"2\": -0.06791436672210693, \"3\": 0.1994684934616089, \"4\": -0.2678009569644928, \"5\": 0.0020967216696590185, \"6\": -0.10873681306838989, \"7\": -0.05452819913625717, \"8\": 0.03105545975267887, \"9\": -0.05390321463346481, \"10\": 0.004133539739996195, \"11\": 0.09191741049289703, \"12\": -0.15384793281555176, \"13\": 0.08010999858379364, \"14\": 0.17433735728263855, \"15\": 0.07041079550981522, \"16\": -0.015413939021527767, \"17\": -0.02965470217168331, \"18\": 0.007145548239350319, \"19\": -0.0886639878153801, \"20\": -0.02529533952474594, \"21\": -0.02065824531018734, \"22\": -0.04482801631093025, \"23\": -0.04463237151503563, \"24\": 0.08621903508901596, \"25\": -0.0773298516869545, \"26\": 0.067345030605793, \"27\": -0.04846760258078575, \"28\": 0.03292853385210037, \"29\": 0.009252296760678291, \"30\": 0.09201622754335403, \"31\": -0.0328911654651165, \"32\": -0.02279755473136902, \"33\": 0.015473415143787861, \"34\": 0.0753566175699234, \"35\": 0.09549075365066528, \"36\": 0.016961945220828056, \"37\": -0.018100453540682793, \"38\": 0.06580694764852524, \"39\": -0.09109115600585938, \"40\": -0.01966611109673977, \"41\": 0.0020594920497387648, \"42\": 0.02524322271347046, \"43\": -0.06053377687931061, \"44\": 0.07701975852251053, \"45\": 0.07196871191263199, \"46\": -0.04710477590560913, \"47\": -0.038899898529052734, \"48\": -0.0026592465583235025, \"49\": 0.03217815235257149, \"50\": 0.07022539526224136, \"51\": -0.021480094641447067, \"52\": 0.0210022684186697, \"53\": 0.005131238605827093, \"54\": 0.013100417330861092, \"55\": -0.029569095000624657, \"56\": -0.04785478487610817, \"57\": 0.02334371954202652, \"58\": 0.018151288852095604, \"59\": -0.0009820328559726477, \"60\": 0.0563235767185688, \"61\": 0.02268749475479126, \"62\": 0.020153315737843513, \"63\": 0.06268221884965897, \"64\": -0.03970705345273018, \"65\": -0.047908373177051544, \"66\": -0.013909133151173592, \"67\": -0.02230972610414028, \"68\": -0.029607463628053665, \"69\": 0.03586417809128761, \"70\": 0.03650382161140442, \"71\": -0.09712667018175125, \"72\": -0.04004843533039093, \"73\": 0.03501187637448311, \"74\": 0.04055327922105789, \"75\": -0.022064348682761192, \"76\": -0.07011254131793976, \"77\": -0.09649980813264847, \"78\": 0.028707318007946014, \"79\": -0.0006027249037288129, \"80\": -0.03278965875506401, \"81\": 0.015837334096431732, \"82\": 0.02583087608218193, \"83\": -0.048065658658742905, \"84\": 0.06509511917829514, \"85\": -0.002456040121614933, \"86\": 0.0880688801407814, \"87\": 0.005688101053237915, \"88\": 0.044083401560783386, \"89\": -0.050341371446847916, \"90\": 0.004084879066795111, \"91\": 0.017279066145420074, \"92\": -0.010681157931685448, \"93\": -0.01795484684407711, \"94\": -0.04581371322274208, \"95\": -0.00931716151535511, \"96\": 0.019744161516427994, \"97\": 0.03892127051949501, \"98\": -0.06045052036643028, \"99\": 0.01140678208321333, \"100\": 0.023407788947224617, \"101\": -0.06583494693040848, \"102\": 0.01757466234266758, \"103\": -0.03684120625257492, \"104\": 0.00918795820325613, \"105\": -0.07373344898223877, \"106\": 0.00826290249824524, \"107\": 0.02982402592897415, \"108\": 0.007643335964530706, \"109\": 0.009756363928318024, \"110\": -0.07192451506853104, \"111\": -0.02696378156542778, \"112\": -0.012822828255593777, \"113\": -0.073708176612854, \"114\": -0.028698144480586052, \"115\": -0.005717958323657513, \"116\": -0.033250316977500916, \"117\": 0.002349668415263295, \"118\": 0.05577954277396202, \"119\": -0.0104287788271904, \"120\": 0.04987884312868118, \"121\": 0.08541903644800186, \"122\": 0.016035063192248344, \"123\": -0.06116145849227905, \"124\": -0.0352407805621624, \"125\": -0.020324748009443283, \"126\": -0.06217363104224205, \"127\": -0.01515873707830906, \"128\": -0.0542152002453804, \"129\": 0.0033483714796602726, \"130\": 0.058640774339437485, \"131\": 0.0025641678366810083, \"132\": 0.01369923260062933, \"133\": 0.0070888577029109, \"134\": 0.08172793686389923, \"135\": -0.01050607394427061, \"136\": -0.0232184287160635, \"137\": 0.009287082590162754, \"138\": -0.01778988353908062, \"139\": 0.012391585856676102, \"140\": -0.05244391784071922, \"141\": 0.02181004174053669, \"142\": 0.024490725249052048, \"143\": -0.06683468073606491, \"144\": -0.014347296208143234, \"145\": 0.026557685807347298, \"146\": -0.004638321232050657, \"147\": -0.016298191621899605, \"148\": -0.04972485080361366, \"149\": 0.01697857677936554, \"150\": -0.012098610401153564, \"151\": 0.02334505505859852, \"152\": -0.028925323858857155, \"153\": -0.028366411104798317, \"154\": -0.008576511405408382, \"155\": 0.051432348787784576, \"156\": -0.005166549235582352, \"157\": 0.05336607247591019, \"158\": 0.0015376254450529814, \"159\": 0.004697469528764486, \"160\": -0.005285583436489105, \"161\": -0.0140517083927989, \"162\": 0.015842150896787643, \"163\": 0.04621743783354759, \"164\": -0.04866865277290344, \"165\": 0.01852852664887905, \"166\": -0.002232095692306757, \"167\": 0.012772943824529648, \"168\": -0.0065894462168216705, \"169\": -0.0005839374498464167, \"170\": 0.00426901038736105, \"171\": 0.031474050134420395, \"172\": -0.01863556168973446, \"173\": 0.013165471144020557, \"174\": -0.08176488429307938, \"175\": 0.08422105759382248, \"176\": 0.03173905238509178, \"177\": 0.02057812549173832, \"178\": 0.008583292365074158, \"179\": 0.008478843607008457, \"180\": -0.06175858527421951, \"181\": -0.03069077990949154, \"182\": 0.0024549257941544056, \"183\": -0.02086363546550274, \"184\": 0.03153074532747269, \"185\": -0.009617896750569344, \"186\": 0.022415123879909515, \"187\": 0.07509894669055939, \"188\": 0.021011531352996826, \"189\": -0.02660326659679413, \"190\": -0.011572458781301975, \"191\": 0.019033260643482208, \"192\": 0.03410807624459267, \"193\": -0.007597714196890593, \"194\": 0.047534532845020294, \"195\": -0.014469685964286327, \"196\": 0.04894634708762169, \"197\": -0.014852972701191902, \"198\": 0.05531177669763565, \"199\": -0.03593099117279053, \"index\": 0, \"NATIONALITY\": \"Afghanistan\"}, {\"query\": \"Gul Sharif  Wali Mohd\", \"0\": 0.15792696177959442, \"1\": -0.15111444890499115, \"2\": -0.09308024495840073, \"3\": 0.2854978144168854, \"4\": -0.2014867216348648, \"5\": -0.006633357144892216, \"6\": 0.01877540722489357, \"7\": 0.07889619469642639, \"8\": 0.0330161526799202, \"9\": 0.012221096083521843, \"10\": 0.021947260946035385, \"11\": 0.05627377703785896, \"12\": -0.03238033875823021, \"13\": 0.002612128620967269, \"14\": 0.061999477446079254, \"15\": -0.061664141714572906, \"16\": 0.11507663130760193, \"17\": -0.054889507591724396, \"18\": -0.08222940564155579, \"19\": 0.016698110848665237, \"20\": -0.18295425176620483, \"21\": 0.020382175222039223, \"22\": 0.07024306803941727, \"23\": -0.08058331161737442, \"24\": -0.015302871353924274, \"25\": 0.07841957360506058, \"26\": -0.08550022542476654, \"27\": 0.07522143423557281, \"28\": -0.0815623551607132, \"29\": 0.009454971179366112, \"30\": 0.0759713351726532, \"31\": -0.03351430594921112, \"32\": -0.045569028705358505, \"33\": 0.012256970629096031, \"34\": -0.05208265036344528, \"35\": 0.08572673797607422, \"36\": 0.03096512332558632, \"37\": 0.08324587345123291, \"38\": 0.030964180827140808, \"39\": -0.07090586423873901, \"40\": -0.06613464653491974, \"41\": 0.060965653508901596, \"42\": 0.027919186279177666, \"43\": 0.059001095592975616, \"44\": 0.05018336698412895, \"45\": 0.05950364097952843, \"46\": -0.004750056657940149, \"47\": -0.04384887218475342, \"48\": -0.017926517874002457, \"49\": 0.09951883554458618, \"50\": -0.028834117576479912, \"51\": 0.06809069216251373, \"52\": -0.013696682639420033, \"53\": 0.016478313133120537, \"54\": 0.015975745394825935, \"55\": -0.0004363268380984664, \"56\": -0.0004322378372307867, \"57\": -0.014902508817613125, \"58\": 0.0630260556936264, \"59\": 0.03880254924297333, \"60\": 2.2301797798718326e-05, \"61\": -0.06049400195479393, \"62\": 0.032160647213459015, \"63\": 0.035959094762802124, \"64\": 0.030682606622576714, \"65\": -0.03973124548792839, \"66\": 0.07919692248106003, \"67\": -0.059768196195364, \"68\": -0.021896617487072945, \"69\": -0.0007657487294636667, \"70\": 0.008973955176770687, \"71\": 0.04733005166053772, \"72\": 0.05990822985768318, \"73\": 0.029797274619340897, \"74\": -0.03577520698308945, \"75\": -0.0854397714138031, \"76\": -0.057629022747278214, \"77\": -0.09678325802087784, \"78\": -0.03596094995737076, \"79\": -0.007794084958732128, \"80\": -0.06116483360528946, \"81\": -0.03523365035653114, \"82\": 0.0070626866072416306, \"83\": 0.025317497551441193, \"84\": -0.028769586235284805, \"85\": -0.0059396931901574135, \"86\": 0.0037823987659066916, \"87\": -0.02537202276289463, \"88\": -0.023189902305603027, \"89\": 0.007467936258763075, \"90\": -0.05575227737426758, \"91\": 0.050515685230493546, \"92\": -0.0380098782479763, \"93\": -0.02574692852795124, \"94\": -0.023436207324266434, \"95\": 0.0028780363500118256, \"96\": -0.006010157056152821, \"97\": 0.04369986802339554, \"98\": -0.07407170534133911, \"99\": 0.01708536595106125, \"100\": -0.051799219101667404, \"101\": 0.014734485186636448, \"102\": -0.007870422676205635, \"103\": -0.09022529423236847, \"104\": -0.027492143213748932, \"105\": 0.03644111007452011, \"106\": 0.008908307179808617, \"107\": 0.02240135334432125, \"108\": 0.05946672707796097, \"109\": 0.05986412987112999, \"110\": -0.013649056665599346, \"111\": -0.0317232683300972, \"112\": -0.0013055575545877218, \"113\": -0.07598305493593216, \"114\": -0.04723693057894707, \"115\": 0.004926533438265324, \"116\": 0.0009387276950292289, \"117\": 0.01904943399131298, \"118\": 0.02750488556921482, \"119\": -0.08051364868879318, \"120\": 0.08752299845218658, \"121\": 0.04133635014295578, \"122\": 0.026246504858136177, \"123\": -0.019065020605921745, \"124\": -0.0534200593829155, \"125\": -0.004465075209736824, \"126\": -0.06323973089456558, \"127\": 0.055544234812259674, \"128\": -0.04921257868409157, \"129\": 0.056724898517131805, \"130\": 0.04148976504802704, \"131\": 0.05104595422744751, \"132\": 0.011682822369039059, \"133\": -0.002781406743451953, \"134\": 0.07210354506969452, \"135\": -0.044527728110551834, \"136\": -0.0019639472011476755, \"137\": 0.04476537927985191, \"138\": -0.007907986640930176, \"139\": 0.04225834459066391, \"140\": -0.01054339949041605, \"141\": 0.04948807507753372, \"142\": 0.036150094121694565, \"143\": -0.012118092738091946, \"144\": -0.016012754291296005, \"145\": -0.0008409652509726584, \"146\": 0.010052235797047615, \"147\": -0.03929650038480759, \"148\": -0.002442090306431055, \"149\": 0.0014683047775179148, \"150\": 0.002263911534100771, \"151\": 0.01068809349089861, \"152\": 0.015759345144033432, \"153\": 0.03282797336578369, \"154\": 0.01971789076924324, \"155\": 0.03292415663599968, \"156\": -0.05802180618047714, \"157\": 0.028405800461769104, \"158\": 0.03409221023321152, \"159\": -0.038605667650699615, \"160\": -0.0145188607275486, \"161\": -0.022605810314416885, \"162\": -0.02648114785552025, \"163\": -0.037281814962625504, \"164\": 0.009638401679694653, \"165\": 0.013731732964515686, \"166\": 0.011002739891409874, \"167\": 0.0140062365680933, \"168\": -0.034360695630311966, \"169\": -0.011950860731303692, \"170\": 0.010536182671785355, \"171\": 0.01926887221634388, \"172\": 0.018269190564751625, \"173\": 0.021177826449275017, \"174\": -0.05958959832787514, \"175\": 0.010378977283835411, \"176\": 0.03313427418470383, \"177\": 0.03033914789557457, \"178\": -0.022717678919434547, \"179\": -0.010676220990717411, \"180\": 0.0029025301337242126, \"181\": -0.031416796147823334, \"182\": -0.02030763030052185, \"183\": -0.04674135148525238, \"184\": 0.003784452099353075, \"185\": -0.031457237899303436, \"186\": -0.0006234460743144155, \"187\": 0.011909941211342812, \"188\": 0.015537755563855171, \"189\": -0.03096899762749672, \"190\": 0.05606825649738312, \"191\": -0.05705131217837334, \"192\": 0.03635003790259361, \"193\": 0.042925648391246796, \"194\": 0.02334635891020298, \"195\": -0.0323612354695797, \"196\": 0.025934720411896706, \"197\": -0.000993328751064837, \"198\": 0.040162455290555954, \"199\": -0.01915256679058075, \"index\": 1, \"NATIONALITY\": \"Afghanistan\"}, {\"query\": \"Ahmed Shah Momtaz Shah Momtaz\", \"0\": 0.14348335564136505, \"1\": -0.12927499413490295, \"2\": 0.018931536003947258, \"3\": 0.21496528387069702, \"4\": -0.1540234237909317, \"5\": 0.039371147751808167, \"6\": -0.04272192344069481, \"7\": 0.03396401181817055, \"8\": -0.11824771761894226, \"9\": -0.15097777545452118, \"10\": -0.09646564722061157, \"11\": -0.009253033436834812, \"12\": -0.09803967922925949, \"13\": -0.027781713753938675, \"14\": -0.07410632818937302, \"15\": -0.13777099549770355, \"16\": 0.056744061410427094, \"17\": -0.038680147379636765, \"18\": -0.035173870623111725, \"19\": -0.06938041746616364, \"20\": 0.02656339295208454, \"21\": -0.05541184917092323, \"22\": 0.08450520038604736, \"23\": -0.015349624678492546, \"24\": -0.0191893819719553, \"25\": -0.0003687279240693897, \"26\": 0.14819782972335815, \"27\": 0.013466896489262581, \"28\": 0.12235215306282043, \"29\": 0.0777195394039154, \"30\": -0.008445454761385918, \"31\": -0.006012025289237499, \"32\": 0.06036663055419922, \"33\": -0.05289633199572563, \"34\": 0.004087935667484999, \"35\": 0.04004690796136856, \"36\": -0.006546054035425186, \"37\": 0.10044608265161514, \"38\": -0.0018290103180333972, \"39\": 0.0074814860709011555, \"40\": -0.0343468151986599, \"41\": -0.00034847581991925836, \"42\": 0.0827517881989479, \"43\": -0.0642360970377922, \"44\": 0.09961716830730438, \"45\": -0.04044675827026367, \"46\": 0.024112988263368607, \"47\": 0.03269317001104355, \"48\": 0.04614388197660446, \"49\": 0.020114507526159286, \"50\": 0.013680640608072281, \"51\": -0.0007046578102745116, \"52\": 0.06460671126842499, \"53\": -0.020846206694841385, \"54\": -0.02684042789041996, \"55\": 0.046297669410705566, \"56\": 0.061954572796821594, \"57\": 0.028335370123386383, \"58\": -0.05767136439681053, \"59\": -0.015324227511882782, \"60\": 0.02996734529733658, \"61\": 0.0256581399589777, \"62\": -0.06979989260435104, \"63\": -0.0007774164550937712, \"64\": 0.02223111130297184, \"65\": 0.00806355755776167, \"66\": -0.05544262379407883, \"67\": 0.07681908458471298, \"68\": 0.029118763282895088, \"69\": -0.051013290882110596, \"70\": 0.05310811102390289, \"71\": -0.056742556393146515, \"72\": -0.026385031640529633, \"73\": 0.04039274528622627, \"74\": 0.018304158002138138, \"75\": -0.15098781883716583, \"76\": -0.013928993605077267, \"77\": -0.04834748059511185, \"78\": 0.03729809820652008, \"79\": 0.009791468270123005, \"80\": 0.029491061344742775, \"81\": -0.0641060397028923, \"82\": 0.03194466978311539, \"83\": 0.005501898936927319, \"84\": -0.01872340403497219, \"85\": 0.03072098270058632, \"86\": 0.011874906718730927, \"87\": -0.03440934419631958, \"88\": 0.09501707553863525, \"89\": 0.050373625010252, \"90\": 0.0155146149918437, \"91\": -0.002225769916549325, \"92\": -0.01605987548828125, \"93\": 0.03977661952376366, \"94\": 0.015208271332085133, \"95\": -0.01401551254093647, \"96\": 0.040526553988456726, \"97\": 0.05456124618649483, \"98\": -0.05447633937001228, \"99\": -0.06499204784631729, \"100\": 0.022913364693522453, \"101\": 0.0006827976321801543, \"102\": -0.003218127181753516, \"103\": 0.007128661032766104, \"104\": 0.01946292817592621, \"105\": -0.0145639693364501, \"106\": 0.06215068697929382, \"107\": -0.024364372715353966, \"108\": -0.03707308694720268, \"109\": -0.0728190690279007, \"110\": 0.01171305775642395, \"111\": -0.05087319761514664, \"112\": 0.005709665361791849, \"113\": 0.04147745668888092, \"114\": -0.013944481499493122, \"115\": -0.07461581379175186, \"116\": 0.025728190317749977, \"117\": 0.017295151948928833, \"118\": 0.019286436960101128, \"119\": -0.06108766049146652, \"120\": 0.02531781978905201, \"121\": -0.03470761701464653, \"122\": 0.04632148519158363, \"123\": 0.001187297166325152, \"124\": -0.008745635859668255, \"125\": 0.03559115156531334, \"126\": -0.021076155826449394, \"127\": -0.04758400470018387, \"128\": 0.016407262533903122, \"129\": 0.01542509812861681, \"130\": -0.002078558085486293, \"131\": -0.012339640408754349, \"132\": -0.007515354547649622, \"133\": -0.0037493223790079355, \"134\": -0.013485252857208252, \"135\": 0.007590883411467075, \"136\": -0.007334024645388126, \"137\": 0.05425228923559189, \"138\": -0.000601329084020108, \"139\": 0.0527733713388443, \"140\": 0.014729778282344341, \"141\": -0.04099752753973007, \"142\": 0.004551021847873926, \"143\": 0.0048359716311097145, \"144\": 0.0002745846286416054, \"145\": -0.07196841388940811, \"146\": -0.030789783224463463, \"147\": 0.060989174991846085, \"148\": -0.0006230063736438751, \"149\": -0.027247818186879158, \"150\": 0.06450852006673813, \"151\": -0.0014665662311017513, \"152\": 0.009734220802783966, \"153\": 0.023083258420228958, \"154\": 0.058226197957992554, \"155\": -0.026036273688077927, \"156\": -0.0006721709505654871, \"157\": -0.04756084457039833, \"158\": -0.0069890390150249004, \"159\": -0.03661532700061798, \"160\": -0.03217998147010803, \"161\": 0.06437212973833084, \"162\": 0.0023217815905809402, \"163\": -0.006018403451889753, \"164\": 0.004663283936679363, \"165\": -0.05780699476599693, \"166\": -0.0235284436494112, \"167\": 0.008188176900148392, \"168\": -0.027126815170049667, \"169\": -0.0434810146689415, \"170\": -0.03180339187383652, \"171\": -0.06725925207138062, \"172\": 0.0030531452503055334, \"173\": -0.006090626120567322, \"174\": 0.018476299941539764, \"175\": 0.005865041166543961, \"176\": 0.023887675255537033, \"177\": -0.0108441561460495, \"178\": -0.005881837103515863, \"179\": -0.013777870684862137, \"180\": -0.019753823056817055, \"181\": -0.015384315513074398, \"182\": -0.0075925118289887905, \"183\": -0.037001579999923706, \"184\": 0.04736054316163063, \"185\": -0.01666055992245674, \"186\": 0.003489165799692273, \"187\": 0.035736314952373505, \"188\": 0.0002740789786912501, \"189\": -0.010625643655657768, \"190\": 0.032915860414505005, \"191\": 0.012961112894117832, \"192\": -0.0679541826248169, \"193\": -0.008088752627372742, \"194\": -0.026510268449783325, \"195\": -0.038236234337091446, \"196\": 0.001992465928196907, \"197\": -0.008482931181788445, \"198\": -0.035300545394420624, \"199\": 0.013649965636432171, \"index\": 2, \"NATIONALITY\": \"Afghanistan\"}, {\"query\": \"Fatima Zohra  Bousmaha\", \"0\": 0.2340204268693924, \"1\": 0.10954557359218597, \"2\": 0.18394513428211212, \"3\": 0.027750767767429352, \"4\": 0.031057624146342278, \"5\": 0.3105253279209137, \"6\": 0.05345556512475014, \"7\": 0.10455836355686188, \"8\": -0.11460545659065247, \"9\": 0.011699635535478592, \"10\": 0.012284452095627785, \"11\": 0.09195463359355927, \"12\": -0.13220009207725525, \"13\": 0.02212008461356163, \"14\": 0.01472653541713953, \"15\": -0.10509512573480606, \"16\": -0.08669053018093109, \"17\": 0.005811755545437336, \"18\": 0.09691687673330307, \"19\": -0.03579306975007057, \"20\": 0.21210479736328125, \"21\": 0.04489666223526001, \"22\": 0.12265341728925705, \"23\": 0.044177982956171036, \"24\": 0.1340988427400589, \"25\": 0.09109752625226974, \"26\": 0.038070958107709885, \"27\": 0.09997136890888214, \"28\": -0.027004247531294823, \"29\": 0.04482869431376457, \"30\": 0.09782431274652481, \"31\": 0.03080020658671856, \"32\": -0.07269708812236786, \"33\": -0.03875225782394409, \"34\": -0.008239622227847576, \"35\": -0.0743730217218399, \"36\": -0.03299717977643013, \"37\": 0.05275576934218407, \"38\": -0.01713409274816513, \"39\": 0.036524832248687744, \"40\": 0.056397952139377594, \"41\": 0.05889538303017616, \"42\": -0.0314667634665966, \"43\": 0.02255808375775814, \"44\": -0.05813910812139511, \"45\": -0.10233761370182037, \"46\": -0.007812179159373045, \"47\": -0.05617909133434296, \"48\": 0.03084387816488743, \"49\": 0.028857849538326263, \"50\": 0.03290240839123726, \"51\": -0.000575464975554496, \"52\": 0.010794962756335735, \"53\": -0.03665944188833237, \"54\": 0.055099185556173325, \"55\": 0.0071243541315197945, \"56\": -0.043774332851171494, \"57\": 0.024283340200781822, \"58\": -0.05202320218086243, \"59\": 0.013906536623835564, \"60\": 0.0219891294836998, \"61\": -0.06594040244817734, \"62\": -0.004645110573619604, \"63\": 0.0878109484910965, \"64\": -8.427046122960746e-05, \"65\": -0.023490697145462036, \"66\": -0.03562893345952034, \"67\": 0.05261802673339844, \"68\": 0.04815516620874405, \"69\": -0.05923724174499512, \"70\": -0.130690798163414, \"71\": 0.04984337463974953, \"72\": -0.009389134123921394, \"73\": -0.04259223863482475, \"74\": 0.019848201423883438, \"75\": 0.01703665964305401, \"76\": -0.033896490931510925, \"77\": -0.04496820643544197, \"78\": -0.009127402678132057, \"79\": -0.03221041336655617, \"80\": 0.0013068360276520252, \"81\": -0.008315801620483398, \"82\": 0.047826994210481644, \"83\": -0.025141596794128418, \"84\": 0.05108189582824707, \"85\": 0.04681218042969704, \"86\": 0.007680531591176987, \"87\": 0.003317043883726001, \"88\": 0.04508732631802559, \"89\": -0.006556216161698103, \"90\": 0.005912367720156908, \"91\": -0.05913782864809036, \"92\": -0.038012415170669556, \"93\": 0.010840888135135174, \"94\": -0.060350172221660614, \"95\": -0.03106587752699852, \"96\": -0.04263025149703026, \"97\": -0.005276968237012625, \"98\": -0.007242891006171703, \"99\": -0.039133671671152115, \"100\": 0.034138284623622894, \"101\": 0.007202671375125647, \"102\": 0.03829149529337883, \"103\": 0.09735987335443497, \"104\": -2.6346776849095477e-06, \"105\": -0.025092855095863342, \"106\": 0.015745459124445915, \"107\": -0.025440633296966553, \"108\": 0.03290501609444618, \"109\": -0.030855800956487656, \"110\": 0.05857429280877113, \"111\": 0.018043166026473045, \"112\": -0.042119503021240234, \"113\": -0.0024146290961652994, \"114\": -0.011399855837225914, \"115\": -0.02444976009428501, \"116\": 0.055903464555740356, \"117\": -0.010089523158967495, \"118\": -0.030063915997743607, \"119\": 0.02555190771818161, \"120\": -0.03751156106591225, \"121\": -0.002513359999284148, \"122\": -0.0041591813787817955, \"123\": 0.046545349061489105, \"124\": -0.0011111332569271326, \"125\": -0.0023531573824584484, \"126\": -0.00962265208363533, \"127\": 0.009407839737832546, \"128\": 0.02074800431728363, \"129\": -0.0022117667831480503, \"130\": -0.025560911744832993, \"131\": -0.00949149765074253, \"132\": -0.007092835381627083, \"133\": -0.01731366477906704, \"134\": -0.02682218886911869, \"135\": 0.018846506252884865, \"136\": 0.010599024593830109, \"137\": -0.04157700762152672, \"138\": -0.05659859627485275, \"139\": 0.014060421846807003, \"140\": 0.005887677893042564, \"141\": 0.0002440732205286622, \"142\": 0.024498239159584045, \"143\": -0.0065209935419261456, \"144\": -0.008984350599348545, \"145\": 0.06523700803518295, \"146\": 0.028096605092287064, \"147\": 0.013486909680068493, \"148\": -0.02335296757519245, \"149\": -0.027916986495256424, \"150\": 0.011553221382200718, \"151\": -0.007144623436033726, \"152\": -0.0033410913310945034, \"153\": 0.029836077243089676, \"154\": -0.021645868197083473, \"155\": -0.03373560309410095, \"156\": -0.016196025535464287, \"157\": -0.03584253787994385, \"158\": 0.019333476200699806, \"159\": -0.03450566902756691, \"160\": 0.01937621459364891, \"161\": 0.016783643513917923, \"162\": -0.0005779322236776352, \"163\": -0.004261779133230448, \"164\": -0.014810480177402496, \"165\": 0.030191559344530106, \"166\": 0.016248326748609543, \"167\": 0.022570177912712097, \"168\": 0.016851162537932396, \"169\": 0.01120359729975462, \"170\": 0.009963231161236763, \"171\": 0.02420205995440483, \"172\": -0.0076912096701562405, \"173\": 0.045150961726903915, \"174\": 0.034329917281866074, \"175\": -0.02707582712173462, \"176\": -0.01127305906265974, \"177\": -0.0040290518663823605, \"178\": 0.006679806858301163, \"179\": -0.012154616415500641, \"180\": -0.00415351428091526, \"181\": -0.04982843995094299, \"182\": -0.02433107979595661, \"183\": -0.01582639291882515, \"184\": -0.017171429470181465, \"185\": -0.031141024082899094, \"186\": 0.006256450433284044, \"187\": 0.021400926634669304, \"188\": -0.007724006660282612, \"189\": 0.0014040757669135928, \"190\": -0.021417565643787384, \"191\": -0.028703754767775536, \"192\": -0.003635419998317957, \"193\": 0.02545768953859806, \"194\": -0.026478881016373634, \"195\": -0.04432602599263191, \"196\": -0.030616382136940956, \"197\": -0.04321885108947754, \"198\": 0.004314166493713856, \"199\": -0.012232840992510319, \"index\": 3, \"NATIONALITY\": \"Algeria\"}, {\"query\": \"Yousuf Masoud Zahri\", \"0\": 0.2728627026081085, \"1\": 0.05023946240544319, \"2\": 0.06150420382618904, \"3\": 0.17255456745624542, \"4\": 0.031356122344732285, \"5\": 0.004326845519244671, \"6\": -0.07679307460784912, \"7\": 0.11706449836492538, \"8\": 0.05503767728805542, \"9\": 0.0639420598745346, \"10\": 0.08021294325590134, \"11\": -0.004286931362003088, \"12\": -0.08113358914852142, \"13\": 0.09666360169649124, \"14\": -0.08728354424238205, \"15\": 0.03472753241658211, \"16\": 0.02619449608027935, \"17\": 0.04539861902594566, \"18\": 0.025957182049751282, \"19\": -0.025922495871782303, \"20\": 0.004327758681029081, \"21\": -0.00705415103584528, \"22\": 0.021980533376336098, \"23\": 0.018406247720122337, \"24\": -0.060234133154153824, \"25\": -0.06687374413013458, \"26\": 0.049437444657087326, \"27\": 0.10668133199214935, \"28\": 0.017383631318807602, \"29\": 0.1902497112751007, \"30\": 0.03217628225684166, \"31\": -0.011939197778701782, \"32\": 0.05448102578520775, \"33\": 0.14303331077098846, \"34\": -0.06977968662977219, \"35\": -0.09555547684431076, \"36\": -0.10476143658161163, \"37\": 0.07698678225278854, \"38\": -0.09646503627300262, \"39\": 0.05088510736823082, \"40\": -0.09925129264593124, \"41\": 0.0245358869433403, \"42\": -0.0005751900025643408, \"43\": 0.03577682003378868, \"44\": -0.06730170547962189, \"45\": -0.09325337409973145, \"46\": 0.03193247318267822, \"47\": -0.06059691682457924, \"48\": -0.038075145334005356, \"49\": 0.005978032946586609, \"50\": 0.047900475561618805, \"51\": 0.0067307534627616405, \"52\": -0.08032416552305222, \"53\": -0.03224753960967064, \"54\": -0.006391171831637621, \"55\": 0.008727319538593292, \"56\": -0.11116264760494232, \"57\": 0.05131421610713005, \"58\": -0.00944458693265915, \"59\": 0.039734430611133575, \"60\": 0.028947314247488976, \"61\": -0.07121783494949341, \"62\": 0.04347026348114014, \"63\": -0.012338933534920216, \"64\": 0.05949675291776657, \"65\": -0.04388991743326187, \"66\": -0.09008334577083588, \"67\": 0.0495728924870491, \"68\": 0.030682295560836792, \"69\": -0.0758252963423729, \"70\": 0.0656188577413559, \"71\": 0.052947837859392166, \"72\": 0.007877661846578121, \"73\": -0.0813576728105545, \"74\": -0.016845976933836937, \"75\": -0.05986390635371208, \"76\": -0.017415756359696388, \"77\": -0.046795252710580826, \"78\": 0.03623047098517418, \"79\": 0.026966731995344162, \"80\": -0.07278372347354889, \"81\": -0.022149881348013878, \"82\": 0.06737810373306274, \"83\": 0.026047775521874428, \"84\": 0.062053240835666656, \"85\": -0.017820969223976135, \"86\": -0.04798003286123276, \"87\": -6.121298793004826e-05, \"88\": -0.012324599549174309, \"89\": -0.01308389101177454, \"90\": -0.024674493819475174, \"91\": 0.006309007294476032, \"92\": 0.0018225624226033688, \"93\": -0.007856286130845547, \"94\": -0.0339939258992672, \"95\": 0.014416600577533245, \"96\": 0.03246740996837616, \"97\": 0.05676716938614845, \"98\": 0.0650482326745987, \"99\": -0.031219953671097755, \"100\": -0.0040625580586493015, \"101\": 0.03938296437263489, \"102\": 0.02945173718035221, \"103\": -0.032962676137685776, \"104\": -0.027693260461091995, \"105\": -0.08734682947397232, \"106\": 0.0026636437978595495, \"107\": 0.011484257876873016, \"108\": 0.006286215037107468, \"109\": 0.03920208662748337, \"110\": 0.008394215255975723, \"111\": 0.042828984558582306, \"112\": -0.033021897077560425, \"113\": 0.024322088807821274, \"114\": -0.018429098650813103, \"115\": -0.03948361054062843, \"116\": 0.010353699326515198, \"117\": 0.029017789289355278, \"118\": -0.03553437441587448, \"119\": 0.016765497624874115, \"120\": -0.014993937686085701, \"121\": 0.024096451699733734, \"122\": -0.06455648690462112, \"123\": -0.0027115263510495424, \"124\": -0.018076417967677116, \"125\": -0.013288645073771477, \"126\": -0.014684570021927357, \"127\": -0.0030352617613971233, \"128\": -0.002345009008422494, \"129\": -0.037268396466970444, \"130\": 0.043229613453149796, \"131\": -0.028312021866440773, \"132\": -0.019946949556469917, \"133\": 0.002225542441010475, \"134\": 0.06420322507619858, \"135\": -0.0009323675185441971, \"136\": -0.03628060966730118, \"137\": 0.0067857177928090096, \"138\": -0.002951152389869094, \"139\": 0.03575943782925606, \"140\": 0.021951856091618538, \"141\": -0.02068876102566719, \"142\": 0.027932897210121155, \"143\": 0.01890016719698906, \"144\": 0.0014936162624508142, \"145\": -0.0041692559607326984, \"146\": 0.056703679263591766, \"147\": 0.022177571430802345, \"148\": 0.00973760336637497, \"149\": 0.011172331869602203, \"150\": 0.0020389456767588854, \"151\": 0.004178663715720177, \"152\": -0.0022391227539628744, \"153\": -0.015520350076258183, \"154\": 0.03743133693933487, \"155\": 0.0029107166919857264, \"156\": -0.0004845254006795585, \"157\": 0.0314437635242939, \"158\": 0.03301373869180679, \"159\": -0.0385434553027153, \"160\": -0.022012745961546898, \"161\": 0.009217003360390663, \"162\": 0.007151054684072733, \"163\": -0.011514232493937016, \"164\": 0.042381156235933304, \"165\": -0.04764715954661369, \"166\": -0.036416277289390564, \"167\": 0.013906331732869148, \"168\": 0.014836571179330349, \"169\": -0.0284164659678936, \"170\": -0.01626252569258213, \"171\": 0.0008952754433266819, \"172\": -0.014160208404064178, \"173\": -0.02853291481733322, \"174\": 0.025017140433192253, \"175\": 0.024797333404421806, \"176\": -0.02178914099931717, \"177\": 0.00034527276875451207, \"178\": 0.03617829829454422, \"179\": -0.004375155083835125, \"180\": -0.021870318800210953, \"181\": -0.034222040325403214, \"182\": 0.031131086871027946, \"183\": 0.01241975650191307, \"184\": -0.015641620382666588, \"185\": 0.007958495058119297, \"186\": 0.031344007700681686, \"187\": 0.017811186611652374, \"188\": -0.025273920968174934, \"189\": -0.019618572667241096, \"190\": -0.013635479845106602, \"191\": 0.01239022333174944, \"192\": -0.015406115911900997, \"193\": 0.007885419763624668, \"194\": -0.01832929626107216, \"195\": -0.024804910644888878, \"196\": 0.021369989961385727, \"197\": 0.02306254580616951, \"198\": 0.020747138187289238, \"199\": -0.01457226276397705, \"index\": 4, \"NATIONALITY\": \"Algeria\"}, {\"query\": \"Abd Errahmane Omar Mouhab\", \"0\": 0.32694074511528015, \"1\": 0.09042763710021973, \"2\": -0.0197449941188097, \"3\": 0.1325269639492035, \"4\": 0.2587697505950928, \"5\": -0.024600008502602577, \"6\": 0.06027951091527939, \"7\": -0.07297824323177338, \"8\": -0.14045733213424683, \"9\": 0.07813593000173569, \"10\": -0.1387888342142105, \"11\": 0.05874931812286377, \"12\": 0.017368236556649208, \"13\": -0.14731517434120178, \"14\": 0.06751936674118042, \"15\": 0.007059410680085421, \"16\": -0.06000646948814392, \"17\": 0.048995811492204666, \"18\": 0.03131892904639244, \"19\": -0.078731968998909, \"20\": 0.027457766234874725, \"21\": -0.04659932479262352, \"22\": 0.11547819525003433, \"23\": 0.07103496789932251, \"24\": 0.020516356453299522, \"25\": 0.08778931945562363, \"26\": 0.033379971981048584, \"27\": 0.02075844444334507, \"28\": 0.08312851190567017, \"29\": 0.04199168086051941, \"30\": 0.026712020859122276, \"31\": -0.002824092283844948, \"32\": 0.004320886917412281, \"33\": 0.03740982338786125, \"34\": -0.06213464215397835, \"35\": 0.05015071481466293, \"36\": 0.009523178450763226, \"37\": 0.005013142246752977, \"38\": 0.06703481078147888, \"39\": 0.028769712895154953, \"40\": 0.04331740736961365, \"41\": -0.050248026847839355, \"42\": -0.042645350098609924, \"43\": 0.10803113877773285, \"44\": -0.1491020917892456, \"45\": -0.023052489385008812, \"46\": 0.051625024527311325, \"47\": 0.03185764327645302, \"48\": 0.06712651252746582, \"49\": 0.041128210723400116, \"50\": -0.04698023200035095, \"51\": -0.03689084202051163, \"52\": 0.01725330948829651, \"53\": -0.0385948084294796, \"54\": 0.04179264232516289, \"55\": 0.05165770649909973, \"56\": -0.09542994201183319, \"57\": -0.027536755427718163, \"58\": -0.03342033177614212, \"59\": -0.061349403113126755, \"60\": -0.025807814672589302, \"61\": 0.013467161916196346, \"62\": -0.07284405082464218, \"63\": 0.028700491413474083, \"64\": -0.0034742720890790224, \"65\": 0.021092180162668228, \"66\": -0.0704166516661644, \"67\": 0.0258946530520916, \"68\": 0.02211618237197399, \"69\": -0.0007702389848418534, \"70\": -0.024178560823202133, \"71\": -0.07866522669792175, \"72\": -0.02024015784263611, \"73\": 0.03332192078232765, \"74\": 0.05637696757912636, \"75\": 0.09029097110033035, \"76\": -0.017965802922844887, \"77\": -0.08261620998382568, \"78\": 0.016272811219096184, \"79\": -0.015868114307522774, \"80\": -0.021043922752141953, \"81\": -0.028062783181667328, \"82\": -0.042033806443214417, \"83\": 0.04635395109653473, \"84\": -0.009060464799404144, \"85\": 0.011232367716729641, \"86\": 0.017961589619517326, \"87\": -0.004034504294395447, \"88\": -0.010507326573133469, \"89\": 0.03017396479845047, \"90\": -0.015784146264195442, \"91\": -0.018365541473031044, \"92\": -0.04259665310382843, \"93\": 0.03711966425180435, \"94\": -0.05454627424478531, \"95\": 0.0006075009587220848, \"96\": -0.017770754173398018, \"97\": -0.0030089239589869976, \"98\": 0.02826208434998989, \"99\": 0.022558197379112244, \"100\": 0.02190140262246132, \"101\": 0.023656807839870453, \"102\": -0.003747079288586974, \"103\": 0.03180538862943649, \"104\": 0.0014008496655151248, \"105\": -0.0065542059019207954, \"106\": -0.04539601877331734, \"107\": -0.03755003213882446, \"108\": -0.01154236402362585, \"109\": 0.016598381102085114, \"110\": 0.035815026611089706, \"111\": -0.028839604929089546, \"112\": -0.020561715587973595, \"113\": -0.004284570924937725, \"114\": 0.013757677748799324, \"115\": 0.04834875091910362, \"116\": 0.009775174781680107, \"117\": -0.019289512187242508, \"118\": -0.04332222416996956, \"119\": -0.01986410655081272, \"120\": 0.005431546829640865, \"121\": -0.011009767651557922, \"122\": -0.033892616629600525, \"123\": 0.086085744202137, \"124\": 0.02971094846725464, \"125\": -0.005003118421882391, \"126\": 0.0053847902454435825, \"127\": 0.053259965032339096, \"128\": 0.019506795331835747, \"129\": -0.005078512243926525, \"130\": -0.0007889551343396306, \"131\": -0.007901846431195736, \"132\": -0.024471476674079895, \"133\": 0.018712472170591354, \"134\": -0.020178984850645065, \"135\": 0.02349834330379963, \"136\": 0.06122539937496185, \"137\": 0.00791965238749981, \"138\": 0.0022368687205016613, \"139\": -0.012478861957788467, \"140\": -0.05794551223516464, \"141\": 0.0012250455329194665, \"142\": 0.0380156971514225, \"143\": -0.04960921034216881, \"144\": 0.015542769804596901, \"145\": 0.011382272467017174, \"146\": -0.005391383543610573, \"147\": -0.016956204548478127, \"148\": -0.014997843652963638, \"149\": -0.008621998131275177, \"150\": -0.02598680555820465, \"151\": -0.009264979511499405, \"152\": -0.0026371562853455544, \"153\": -0.009600585326552391, \"154\": -0.06404804438352585, \"155\": 0.03002312406897545, \"156\": -0.009283378720283508, \"157\": -0.02250756323337555, \"158\": -0.03018956258893013, \"159\": -5.9577701904345304e-05, \"160\": -1.4787477994104847e-05, \"161\": -0.003934953827410936, \"162\": 0.029513107612729073, \"163\": 0.01370261237025261, \"164\": 0.015041830949485302, \"165\": -0.04798031970858574, \"166\": 0.046892181038856506, \"167\": 0.004776084795594215, \"168\": 0.009149030782282352, \"169\": 0.01190970465540886, \"170\": -0.010209531523287296, \"171\": 0.05925005301833153, \"172\": -0.004129474516957998, \"173\": 0.01625775173306465, \"174\": -0.008330946788191795, \"175\": -0.0450378879904747, \"176\": 0.002138350624591112, \"177\": 0.017207181081175804, \"178\": -0.044937122613191605, \"179\": -0.009983975440263748, \"180\": -0.0038040343206375837, \"181\": 0.04018738865852356, \"182\": 0.010001481510698795, \"183\": -0.006863591726869345, \"184\": -0.012189492583274841, \"185\": 0.0001319084403803572, \"186\": -0.017708497121930122, \"187\": -0.011670611798763275, \"188\": -0.0014751844573765993, \"189\": 0.02556881122291088, \"190\": -0.01099953893572092, \"191\": -0.01936604641377926, \"192\": 0.006573435850441456, \"193\": 0.04191362112760544, \"194\": -0.0024151653051376343, \"195\": -0.0019127922132611275, \"196\": -0.005623043980449438, \"197\": -0.02309301309287548, \"198\": 0.008229735307395458, \"199\": 0.017611810937523842, \"index\": 5, \"NATIONALITY\": \"Algeria\"}, {\"query\": \"Nelson Faria Diogo\", \"0\": -0.14595036208629608, \"1\": 0.19774317741394043, \"2\": -0.0302801001816988, \"3\": 0.06795156002044678, \"4\": 0.03573001176118851, \"5\": -0.044937215745449066, \"6\": -0.006391157861799002, \"7\": 0.09436283260583878, \"8\": -0.005125096999108791, \"9\": 0.07763196527957916, \"10\": -0.0003377394750714302, \"11\": -0.03165750950574875, \"12\": 0.08729811757802963, \"13\": 0.03244401887059212, \"14\": 0.15425199270248413, \"15\": -0.09674626588821411, \"16\": 0.10642082989215851, \"17\": 0.06315625458955765, \"18\": 0.1291493922472, \"19\": 0.08525228500366211, \"20\": 0.08818242698907852, \"21\": 0.012069359421730042, \"22\": 0.008682593703269958, \"23\": 0.003887559287250042, \"24\": -0.03064703568816185, \"25\": 0.024886803701519966, \"26\": -0.0815233588218689, \"27\": -0.02885451540350914, \"28\": -0.10299450159072876, \"29\": -0.08507639169692993, \"30\": -0.009494893252849579, \"31\": 0.06835624575614929, \"32\": -0.055988091975450516, \"33\": -0.1236160397529602, \"34\": -0.04892933368682861, \"35\": 0.014865471981465816, \"36\": -0.14423337578773499, \"37\": -0.03868561610579491, \"38\": 0.006512916646897793, \"39\": 0.19814343750476837, \"40\": -0.01562647707760334, \"41\": 0.1334262639284134, \"42\": -0.018142791464924812, \"43\": -0.00330739957280457, \"44\": -0.08911781758069992, \"45\": -0.04956548660993576, \"46\": 0.025829695165157318, \"47\": 0.053215593099594116, \"48\": -0.10885471105575562, \"49\": -0.026938188821077347, \"50\": 0.05867014452815056, \"51\": -0.0411607064306736, \"52\": 0.04773234203457832, \"53\": 0.055708061903715134, \"54\": -0.0662139505147934, \"55\": -0.04405708983540535, \"56\": 0.05808079615235329, \"57\": -0.016103046014904976, \"58\": 0.031365759670734406, \"59\": 0.058285702019929886, \"60\": 0.15390340983867645, \"61\": -0.005927948281168938, \"62\": -0.027674337849020958, \"63\": 0.05451410263776779, \"64\": -0.044583678245544434, \"65\": 0.007250235881656408, \"66\": 0.04831354692578316, \"67\": 0.02279016003012657, \"68\": -0.08467523753643036, \"69\": -0.03379152715206146, \"70\": -0.02566579543054104, \"71\": -0.05834045261144638, \"72\": 0.07684331387281418, \"73\": 0.014343046583235264, \"74\": 0.03513258695602417, \"75\": 0.05282139033079147, \"76\": 0.033716265112161636, \"77\": -0.03297017142176628, \"78\": 0.01609809137880802, \"79\": 0.07465165108442307, \"80\": -0.04159259796142578, \"81\": 0.033597081899642944, \"82\": -0.012022508308291435, \"83\": 0.12450040131807327, \"84\": -0.0517263263463974, \"85\": 0.1068616509437561, \"86\": -0.03807446360588074, \"87\": -0.01421027909964323, \"88\": 0.08962204307317734, \"89\": -0.035406358540058136, \"90\": -0.010455934330821037, \"91\": -0.003327437676489353, \"92\": 0.022413846105337143, \"93\": -0.053156621754169464, \"94\": 0.0618576854467392, \"95\": -0.0897083580493927, \"96\": 0.07856485247612, \"97\": -0.05329202488064766, \"98\": -0.00021312593889888376, \"99\": 0.051093101501464844, \"100\": 0.007137453183531761, \"101\": -0.03597329556941986, \"102\": 0.03493150323629379, \"103\": -0.03186814859509468, \"104\": -0.04300345480442047, \"105\": 0.03238985687494278, \"106\": 0.0191554743796587, \"107\": 0.023249922320246696, \"108\": -0.037243425846099854, \"109\": -0.04614541679620743, \"110\": -0.07175646722316742, \"111\": -0.027550410479307175, \"112\": -0.087664395570755, \"113\": -0.011524626985192299, \"114\": 0.0462382510304451, \"115\": -0.005934031214565039, \"116\": -0.001838998170569539, \"117\": -0.022514624521136284, \"118\": -0.03674730658531189, \"119\": -0.0358157604932785, \"120\": 0.01685510389506817, \"121\": 0.03470773622393608, \"122\": -0.036502182483673096, \"123\": -0.0017602830193936825, \"124\": 0.033678095787763596, \"125\": 0.022814756259322166, \"126\": 0.04015447571873665, \"127\": 0.001991607015952468, \"128\": 0.026109682396054268, \"129\": -0.0803770199418068, \"130\": 0.03304284065961838, \"131\": 0.04449505731463432, \"132\": 0.03212670981884003, \"133\": 0.08131538331508636, \"134\": -0.017542390152812004, \"135\": -0.017793962731957436, \"136\": -0.012323323637247086, \"137\": -0.04004921019077301, \"138\": -0.03492789342999458, \"139\": -0.06427057832479477, \"140\": -0.013091177679598331, \"141\": 0.01528958510607481, \"142\": 0.02097785286605358, \"143\": 0.05243327468633652, \"144\": 0.060919858515262604, \"145\": 0.007588068023324013, \"146\": -0.0035379694309085608, \"147\": -0.004484629258513451, \"148\": -0.0002025082503678277, \"149\": 0.030251849442720413, \"150\": 0.024760279804468155, \"151\": 0.01251936424523592, \"152\": -0.004455519374459982, \"153\": -0.004080698825418949, \"154\": -0.012026543729007244, \"155\": -0.02452017180621624, \"156\": 0.018836751580238342, \"157\": 0.032231152057647705, \"158\": 0.02668333426117897, \"159\": -0.011598192155361176, \"160\": 0.010113894939422607, \"161\": -0.050023216754198074, \"162\": 0.020857371389865875, \"163\": -0.026476753875613213, \"164\": -0.016804289072752, \"165\": -0.022992992773652077, \"166\": -0.06346315890550613, \"167\": 0.01102348044514656, \"168\": 0.03653905540704727, \"169\": -0.007336767856031656, \"170\": 0.012610023841261864, \"171\": 0.031323015689849854, \"172\": -0.018276719376444817, \"173\": -0.04463479667901993, \"174\": -0.02127990871667862, \"175\": -0.043410561978816986, \"176\": 0.027643835172057152, \"177\": -0.006695276591926813, \"178\": 0.041813019663095474, \"179\": 0.04455976188182831, \"180\": 0.03299259766936302, \"181\": 0.017169175669550896, \"182\": 0.011989200487732887, \"183\": -0.011165963485836983, \"184\": -0.06571707129478455, \"185\": -0.021992400288581848, \"186\": -0.0060785929672420025, \"187\": -0.011088254861533642, \"188\": -0.046726569533348083, \"189\": 0.0019117787014693022, \"190\": -0.028911225497722626, \"191\": -0.0013152974424883723, \"192\": 0.004281148314476013, \"193\": -0.0026306731160730124, \"194\": 0.041342489421367645, \"195\": -0.0195363350212574, \"196\": 0.03230312839150429, \"197\": -0.056071192026138306, \"198\": -0.032503392547369, \"199\": 0.006998138967901468, \"index\": 6, \"NATIONALITY\": \"Angola\"}, {\"query\": \"Marcelo Gabriel Figueroa Figueroa\", \"0\": -0.1855904459953308, \"1\": 0.2689272165298462, \"2\": 0.028344053775072098, \"3\": 0.14438852667808533, \"4\": 0.030794009566307068, \"5\": -0.1888878494501114, \"6\": 0.024982260540127754, \"7\": 0.15920443832874298, \"8\": -0.03350502625107765, \"9\": 0.10576670616865158, \"10\": -0.05094011127948761, \"11\": 0.08680086582899094, \"12\": 0.029303133487701416, \"13\": -0.09067633002996445, \"14\": 0.04004213586449623, \"15\": -0.040376413613557816, \"16\": 0.12822169065475464, \"17\": -0.07319722324609756, \"18\": -0.02065417356789112, \"19\": 0.08190330862998962, \"20\": 0.03311697021126747, \"21\": 0.017257604748010635, \"22\": 0.010601360350847244, \"23\": -0.013597400858998299, \"24\": 0.041064970195293427, \"25\": -0.09032614529132843, \"26\": -0.07272977381944656, \"27\": -0.09334404766559601, \"28\": -0.047337040305137634, \"29\": 0.014764763414859772, \"30\": 0.1578315794467926, \"31\": 0.03864363580942154, \"32\": -0.03486828878521919, \"33\": -0.05463143810629845, \"34\": -0.015256880782544613, \"35\": -0.013785467483103275, \"36\": 0.009908216074109077, \"37\": 0.08253355324268341, \"38\": -0.0019660298712551594, \"39\": 0.08576728403568268, \"40\": -0.017695240676403046, \"41\": 0.05596365034580231, \"42\": -0.058777425438165665, \"43\": -0.006602248176932335, \"44\": -0.022028621286153793, \"45\": -0.06966063380241394, \"46\": -0.08505773544311523, \"47\": -0.003806635271757841, \"48\": -0.10010389238595963, \"49\": -0.04616821929812431, \"50\": -0.026957610622048378, \"51\": 0.007334874477237463, \"52\": 0.02934359945356846, \"53\": -0.0379779189825058, \"54\": 0.0033202192280441523, \"55\": 0.011329768225550652, \"56\": 0.07250307500362396, \"57\": -0.11062628775835037, \"58\": 0.07761013507843018, \"59\": 0.026670806109905243, \"60\": 0.045610733330249786, \"61\": 0.034800466150045395, \"62\": 0.08606705814599991, \"63\": 0.05838058516383171, \"64\": -0.0394861102104187, \"65\": 0.028394140303134918, \"66\": -0.012568676844239235, \"67\": 0.012036261148750782, \"68\": -0.08304742723703384, \"69\": 0.008581575937569141, \"70\": -0.03436524420976639, \"71\": -0.019251534715294838, \"72\": -0.035789746791124344, \"73\": 0.0207403302192688, \"74\": -0.005777977406978607, \"75\": 0.023107068613171577, \"76\": -0.07919903099536896, \"77\": -0.01742354966700077, \"78\": 0.012970359064638615, \"79\": 0.002307409653440118, \"80\": -0.11246483772993088, \"81\": 0.00019363025785423815, \"82\": -0.08749652653932571, \"83\": 0.0354456827044487, \"84\": -0.01446361280977726, \"85\": -0.027244653552770615, \"86\": -0.03487341105937958, \"87\": 0.053014062345027924, \"88\": -0.02323920466005802, \"89\": 0.014628318138420582, \"90\": 0.048004936426877975, \"91\": -0.057514384388923645, \"92\": 0.0016030645929276943, \"93\": -0.021365631371736526, \"94\": -0.02947383187711239, \"95\": -0.01818799413740635, \"96\": -0.0010442730272188783, \"97\": 0.003740547690540552, \"98\": 0.027152124792337418, \"99\": -0.01456619892269373, \"100\": 0.00512664346024394, \"101\": 0.06495282053947449, \"102\": -0.06000620126724243, \"103\": -0.029172906652092934, \"104\": -0.02401486225426197, \"105\": 0.002834373852238059, \"106\": -0.01358364149928093, \"107\": 0.007251692935824394, \"108\": -0.07213414460420609, \"109\": -0.012989412061870098, \"110\": -0.0253430362790823, \"111\": 0.06387386471033096, \"112\": 0.014325516298413277, \"113\": 0.005241743754595518, \"114\": -0.0438385047018528, \"115\": 0.009476183913648129, \"116\": 0.004511074163019657, \"117\": -0.026792384684085846, \"118\": 0.06183381751179695, \"119\": 0.07068783044815063, \"120\": 0.0727197602391243, \"121\": 0.017705563455820084, \"122\": 0.0005816328339278698, \"123\": 0.018346624448895454, \"124\": -0.07674888521432877, \"125\": -0.02045482024550438, \"126\": -0.009180952794849873, \"127\": 0.011397785507142544, \"128\": -0.029560504481196404, \"129\": 0.0024558876175433397, \"130\": -0.026550110429525375, \"131\": 0.004613346885889769, \"132\": -0.018523620441555977, \"133\": -0.010911695659160614, \"134\": -0.021953625604510307, \"135\": 0.01573023945093155, \"136\": -0.007061542011797428, \"137\": 0.06810271739959717, \"138\": 0.010999785736203194, \"139\": -0.001877696835435927, \"140\": 0.05948962643742561, \"141\": -0.019992981106042862, \"142\": -0.023964639753103256, \"143\": -0.03944303095340729, \"144\": -0.0023353388532996178, \"145\": 0.018638934940099716, \"146\": -0.001742280088365078, \"147\": -0.0606531947851181, \"148\": 0.060562584549188614, \"149\": -0.0013578810030594468, \"150\": -0.03182946518063545, \"151\": -0.04656067490577698, \"152\": 0.014189916662871838, \"153\": 0.06631694734096527, \"154\": 0.0073317717760801315, \"155\": 0.04163074120879173, \"156\": -0.009666085243225098, \"157\": 0.012157030403614044, \"158\": -0.025004984810948372, \"159\": 0.0404612235724926, \"160\": 0.016931898891925812, \"161\": -0.05052525922656059, \"162\": -0.003174732206389308, \"163\": 0.054859865456819534, \"164\": -0.05390489846467972, \"165\": 0.03871899098157883, \"166\": -0.027298323810100555, \"167\": -0.021474231034517288, \"168\": -0.022550614550709724, \"169\": -0.03223332390189171, \"170\": 0.006916775368154049, \"171\": -0.008182266727089882, \"172\": 0.008074617013335228, \"173\": 0.0004631846968550235, \"174\": 0.0017792220460250974, \"175\": 0.04912771284580231, \"176\": -0.05354588106274605, \"177\": -0.00021773086336907, \"178\": -0.04077531024813652, \"179\": 0.009643441066145897, \"180\": 0.023492729291319847, \"181\": 0.007240907289087772, \"182\": -0.018360352143645287, \"183\": 0.07748791575431824, \"184\": 0.0010137335630133748, \"185\": 0.01024648081511259, \"186\": 0.008133475668728352, \"187\": 0.03364125266671181, \"188\": -0.02722739428281784, \"189\": -0.05845683813095093, \"190\": 0.0016438285820186138, \"191\": -0.003857659175992012, \"192\": -0.009569835849106312, \"193\": -0.0361223965883255, \"194\": 0.04304010048508644, \"195\": 0.0005859264638274908, \"196\": 0.02811167947947979, \"197\": -0.01764976978302002, \"198\": -0.014087033458054066, \"199\": -0.012990159913897514, \"index\": 7, \"NATIONALITY\": \"Argentina\"}, {\"query\": \"Hakoub  Kozyan\", \"0\": 0.0931360200047493, \"1\": 0.0022188068833202124, \"2\": -0.012265142984688282, \"3\": 0.11629821360111237, \"4\": 0.06961748749017715, \"5\": 0.1440419703722, \"6\": -0.04239081218838692, \"7\": -0.18275204300880432, \"8\": -0.10038455575704575, \"9\": -0.016646185889840126, \"10\": 0.0912008136510849, \"11\": 0.051665909588336945, \"12\": -0.10671593248844147, \"13\": 0.1461271494626999, \"14\": 0.07243184000253677, \"15\": 0.033828992396593094, \"16\": -0.0486471988260746, \"17\": -0.2050783932209015, \"18\": -0.0013827902730554342, \"19\": -0.09328509122133255, \"20\": 0.10433480143547058, \"21\": 0.07149866968393326, \"22\": -0.04748701676726341, \"23\": 0.1119883731007576, \"24\": -0.0790737196803093, \"25\": 0.0033144536428153515, \"26\": 0.02126779407262802, \"27\": 0.13757970929145813, \"28\": 0.13517636060714722, \"29\": -0.009635540656745434, \"30\": -0.013181831687688828, \"31\": 0.15860767662525177, \"32\": -0.08693055808544159, \"33\": 0.11651507765054703, \"34\": -0.07587001472711563, \"35\": -0.15297561883926392, \"36\": -0.057390760630369186, \"37\": 0.07413626462221146, \"38\": -0.029048634693026543, \"39\": -0.019823506474494934, \"40\": 0.08983304351568222, \"41\": -0.06913786381483078, \"42\": -0.09604638814926147, \"43\": 0.07710689306259155, \"44\": -0.04999108612537384, \"45\": 0.04772457107901573, \"46\": -0.03504955768585205, \"47\": -0.04502903297543526, \"48\": -0.0044077797792851925, \"49\": 0.008803052827715874, \"50\": -0.05773139372467995, \"51\": 0.029051361605525017, \"52\": 0.05637144297361374, \"53\": 0.013321945443749428, \"54\": -0.06346173584461212, \"55\": -0.047016967087984085, \"56\": 0.011568554677069187, \"57\": 0.08580208569765091, \"58\": -0.01418175920844078, \"59\": 0.024410070851445198, \"60\": -0.06808305531740189, \"61\": 0.012437413446605206, \"62\": 0.031136944890022278, \"63\": 0.039239175617694855, \"64\": 0.03666738420724869, \"65\": -0.018545934930443764, \"66\": -0.05000242590904236, \"67\": 0.0027812784537672997, \"68\": 0.079676054418087, \"69\": -0.018156684935092926, \"70\": -0.0022944235242903233, \"71\": -0.019407229498028755, \"72\": 0.04356859251856804, \"73\": 0.07496437430381775, \"74\": 0.015754930675029755, \"75\": -0.0446254126727581, \"76\": -0.027874363586306572, \"77\": -0.02919389121234417, \"78\": -0.02673330157995224, \"79\": 0.025135241448879242, \"80\": -0.031192325055599213, \"81\": -0.006377920508384705, \"82\": 0.03935445100069046, \"83\": -0.010757548734545708, \"84\": 0.04512392356991768, \"85\": -0.009772737510502338, \"86\": 0.05590880662202835, \"87\": -0.025995047762989998, \"88\": -0.01614881120622158, \"89\": 0.02854832634329796, \"90\": -0.0036871565971523523, \"91\": -0.044474370777606964, \"92\": -0.029492180794477463, \"93\": -0.021102119237184525, \"94\": -0.03501094505190849, \"95\": 0.020122185349464417, \"96\": -0.008134753443300724, \"97\": 0.0483657568693161, \"98\": 0.057089995592832565, \"99\": 0.07545308768749237, \"100\": -0.030809173360466957, \"101\": 0.0650271326303482, \"102\": -0.04880773648619652, \"103\": 0.007716538850218058, \"104\": -0.037415727972984314, \"105\": 0.028765860944986343, \"106\": -0.007756924256682396, \"107\": 0.010741771198809147, \"108\": -0.023972583934664726, \"109\": -0.05323363095521927, \"110\": 0.021931003779172897, \"111\": 0.05775308609008789, \"112\": -0.009828504174947739, \"113\": 0.03341396898031235, \"114\": -0.023505249992012978, \"115\": 0.06179886311292648, \"116\": -0.025437092408537865, \"117\": -0.06370671093463898, \"118\": 0.01673908717930317, \"119\": -0.0004431034903973341, \"120\": 0.014183318242430687, \"121\": -0.011224084533751011, \"122\": -0.002049545058980584, \"123\": -0.05409019812941551, \"124\": -0.04090840369462967, \"125\": -0.01614110916852951, \"126\": 0.01898251846432686, \"127\": -0.02243620529770851, \"128\": 0.004523506388068199, \"129\": 0.0036736782640218735, \"130\": 0.014782348647713661, \"131\": -0.028292568400502205, \"132\": -0.02420242317020893, \"133\": 0.03979532793164253, \"134\": -0.011000197380781174, \"135\": 0.00038586166920140386, \"136\": 0.04676899313926697, \"137\": 0.029345456510782242, \"138\": -0.0010343380272388458, \"139\": -0.030910134315490723, \"140\": 0.04617641493678093, \"141\": 0.020734114572405815, \"142\": -0.0054359738714993, \"143\": 0.04669041559100151, \"144\": -0.025408901274204254, \"145\": 0.01833248697221279, \"146\": 0.018706269562244415, \"147\": 0.004860888700932264, \"148\": 0.0009193759178742766, \"149\": -0.023560917004942894, \"150\": 0.0034323304425925016, \"151\": -0.049375660717487335, \"152\": 0.013014609925448895, \"153\": 0.03779289871454239, \"154\": -0.00964893028140068, \"155\": 0.04493217170238495, \"156\": -0.005412186961621046, \"157\": 0.014730330556631088, \"158\": 0.02314027212560177, \"159\": 0.004008014686405659, \"160\": 0.012411254458129406, \"161\": 0.02868877351284027, \"162\": 0.004200338385999203, \"163\": -0.022669441998004913, \"164\": 0.01304565742611885, \"165\": -0.05864943563938141, \"166\": -0.014626536518335342, \"167\": 0.010507327504456043, \"168\": -0.027996953576803207, \"169\": 0.03389761224389076, \"170\": -0.04501548409461975, \"171\": -0.017115416005253792, \"172\": 0.00042568898061290383, \"173\": 0.034596849232912064, \"174\": -0.01982988603413105, \"175\": -0.0035076343920081854, \"176\": -0.04749162495136261, \"177\": 0.005943615920841694, \"178\": -0.03606431931257248, \"179\": -0.008042166009545326, \"180\": 0.010825377888977528, \"181\": 0.026805903762578964, \"182\": -0.006663778331130743, \"183\": -0.0397854782640934, \"184\": 0.03526793420314789, \"185\": 0.008501185104250908, \"186\": -0.005509919486939907, \"187\": 0.001804002677090466, \"188\": -0.005703470669686794, \"189\": -0.00912932027131319, \"190\": -0.02699863724410534, \"191\": -0.010064742527902126, \"192\": -0.004061272833496332, \"193\": 0.007691539824008942, \"194\": 0.03581893816590309, \"195\": -0.02406061440706253, \"196\": -0.027878712862730026, \"197\": -0.016140326857566833, \"198\": -0.034240711480379105, \"199\": -0.013851516880095005, \"index\": 8, \"NATIONALITY\": \"Armenia\"}, {\"query\": \"Joanne Lesley  Norman\", \"0\": -0.197759211063385, \"1\": 0.22168919444084167, \"2\": -0.02938428334891796, \"3\": -0.08797764033079147, \"4\": 0.025035476312041283, \"5\": 0.10006355494260788, \"6\": -0.10734114795923233, \"7\": 0.011724548414349556, \"8\": 0.02291472814977169, \"9\": -0.1438130885362625, \"10\": 0.031087221577763557, \"11\": 0.05733320862054825, \"12\": 0.033775512129068375, \"13\": 0.05506394803524017, \"14\": 0.1809430569410324, \"15\": -0.04217199608683586, \"16\": 0.042474254965782166, \"17\": 0.11816874891519547, \"18\": 0.08543961495161057, \"19\": -0.07533404231071472, \"20\": 0.04407382011413574, \"21\": 0.022405771538615227, \"22\": 0.1383676528930664, \"23\": 0.08265060931444168, \"24\": 0.017016533762216568, \"25\": 0.1887495070695877, \"26\": -0.0028984465170651674, \"27\": 0.21909144520759583, \"28\": 0.09491000324487686, \"29\": 0.10559339821338654, \"30\": -0.11212239414453506, \"31\": -0.04786578565835953, \"32\": 0.09179017692804337, \"33\": -0.027751144021749496, \"34\": 0.01074992585927248, \"35\": 0.04050039127469063, \"36\": 0.008738495409488678, \"37\": -0.04709646850824356, \"38\": 0.07029566168785095, \"39\": -0.02472996525466442, \"40\": 0.06754308938980103, \"41\": -0.009219381958246231, \"42\": 0.02212049439549446, \"43\": -0.019837835803627968, \"44\": -0.015955939888954163, \"45\": 0.08473272621631622, \"46\": -0.0021226592361927032, \"47\": 0.01678471639752388, \"48\": 0.07427481561899185, \"49\": 0.03687671944499016, \"50\": -0.06641329824924469, \"51\": 0.07922367006540298, \"52\": 0.016897734254598618, \"53\": 0.08843172341585159, \"54\": -0.02085128426551819, \"55\": -0.07624538242816925, \"56\": 0.11240138113498688, \"57\": -0.034110475331544876, \"58\": 0.005858542863279581, \"59\": 0.046054657548666, \"60\": 0.08041732013225555, \"61\": 0.023796038702130318, \"62\": 0.046709731221199036, \"63\": -0.0014224497135728598, \"64\": 0.10693850368261337, \"65\": -0.0267868060618639, \"66\": -0.05738557130098343, \"67\": -0.057811565697193146, \"68\": 0.09583438187837601, \"69\": -0.05165620520710945, \"70\": 0.025571059435606003, \"71\": -0.0635269358754158, \"72\": 0.04886244609951973, \"73\": 0.06221120059490204, \"74\": 0.044060684740543365, \"75\": 0.09078585356473923, \"76\": 0.011380142532289028, \"77\": 0.07408808916807175, \"78\": 0.004936728160828352, \"79\": -0.026741111651062965, \"80\": 0.004770253784954548, \"81\": 0.05010981485247612, \"82\": 0.037588924169540405, \"83\": 0.11812568455934525, \"84\": 0.060700129717588425, \"85\": 0.013115821406245232, \"86\": 0.017774038016796112, \"87\": 0.005907214712351561, \"88\": -0.03031073324382305, \"89\": 0.07427036017179489, \"90\": 0.09586072713136673, \"91\": 0.0032367475796490908, \"92\": 0.04952235147356987, \"93\": -0.01621357910335064, \"94\": -0.048717789351940155, \"95\": 0.050669554620981216, \"96\": -0.023541800677776337, \"97\": -0.02882450260221958, \"98\": -0.004427527077496052, \"99\": -0.04116852208971977, \"100\": -0.019876984879374504, \"101\": -0.09159671515226364, \"102\": -0.057932399213314056, \"103\": -0.04798836633563042, \"104\": -0.026415707543492317, \"105\": -0.03016700968146324, \"106\": 0.02372465655207634, \"107\": -0.028540508821606636, \"108\": -0.015740256756544113, \"109\": 0.009748835116624832, \"110\": -0.06163071095943451, \"111\": 0.0372825562953949, \"112\": 0.049014754593372345, \"113\": -0.08422734588384628, \"114\": 0.08342879265546799, \"115\": 0.013574551790952682, \"116\": -0.09863805025815964, \"117\": 0.024414686486124992, \"118\": 0.03389032185077667, \"119\": -0.0058511714451014996, \"120\": -0.03464303910732269, \"121\": -0.0008567976183257997, \"122\": -0.02457176148891449, \"123\": 0.00024617963936179876, \"124\": 0.021202098578214645, \"125\": -0.05018916353583336, \"126\": 0.023997746407985687, \"127\": 0.030613204464316368, \"128\": 0.042268816381692886, \"129\": 0.042722996324300766, \"130\": -0.017500292509794235, \"131\": 0.020211925730109215, \"132\": -0.07426928728818893, \"133\": -0.04120995104312897, \"134\": -0.020876150578260422, \"135\": 0.00505103450268507, \"136\": 0.0031013484112918377, \"137\": -0.027356065809726715, \"138\": 0.009380429983139038, \"139\": -0.0070823561400175095, \"140\": -0.020090898498892784, \"141\": -0.004176924005150795, \"142\": -0.0035620916169136763, \"143\": 0.009152833372354507, \"144\": 0.024785032495856285, \"145\": -0.028589261695742607, \"146\": -0.024031927809119225, \"147\": 0.04397505149245262, \"148\": 0.08877727389335632, \"149\": -0.01824277825653553, \"150\": 0.03535705432295799, \"151\": 0.0369747094810009, \"152\": 0.05620170757174492, \"153\": 0.010475076735019684, \"154\": 0.006933582480996847, \"155\": -0.05857449397444725, \"156\": 0.011072707362473011, \"157\": 0.01435990072786808, \"158\": 0.0009408045443706214, \"159\": 0.0039581716991961, \"160\": 0.05015043541789055, \"161\": -0.013546857982873917, \"162\": 0.05386131629347801, \"163\": 0.049880217760801315, \"164\": 0.04686352610588074, \"165\": 0.04796624183654785, \"166\": 0.025039907544851303, \"167\": -0.03408334031701088, \"168\": -0.02730761095881462, \"169\": 0.005866150837391615, \"170\": 0.046990666538476944, \"171\": -0.07197519391775131, \"172\": 0.022164708003401756, \"173\": -0.019309958443045616, \"174\": 0.0016468793619424105, \"175\": -0.024006273597478867, \"176\": 0.038147103041410446, \"177\": -0.015007353387773037, \"178\": 0.007585611194372177, \"179\": -0.02072262018918991, \"180\": -0.02575094997882843, \"181\": 0.03214185684919357, \"182\": 0.012191365472972393, \"183\": 0.04645943269133568, \"184\": 0.011753915809094906, \"185\": 0.003583373501896858, \"186\": 0.006249027792364359, \"187\": 0.013451661914587021, \"188\": 0.02425648830831051, \"189\": -0.03518522158265114, \"190\": -0.011897643096745014, \"191\": 0.003004515776410699, \"192\": -0.025177331641316414, \"193\": -0.00754536921158433, \"194\": 0.019126184284687042, \"195\": -0.007277420721948147, \"196\": 0.0035486065316945314, \"197\": 0.02603275328874588, \"198\": 0.009008948691189289, \"199\": -0.001374409650452435, \"index\": 9, \"NATIONALITY\": \"Australia\"}, {\"query\": \"Irmak  Ozbek\", \"0\": -0.039590198546648026, \"1\": 0.03890015184879303, \"2\": 0.036485180258750916, \"3\": 0.17802724242210388, \"4\": -0.017781203612685204, \"5\": 0.15325376391410828, \"6\": -0.02968977391719818, \"7\": -0.07865384221076965, \"8\": -0.11080130189657211, \"9\": -0.00014231851673685014, \"10\": 0.0013942720834165812, \"11\": 0.06679638475179672, \"12\": 0.05394267290830612, \"13\": -0.05461127310991287, \"14\": 0.07863003760576248, \"15\": -0.019038263708353043, \"16\": 0.06310351192951202, \"17\": -0.05134467035531998, \"18\": -0.13514406979084015, \"19\": -0.023367688059806824, \"20\": 0.028900112956762314, \"21\": 0.1776822805404663, \"22\": -0.0036272304132580757, \"23\": 0.09991782903671265, \"24\": 0.08166369050741196, \"25\": -0.023891370743513107, \"26\": 0.06796521693468094, \"27\": -0.07341659069061279, \"28\": 0.10563341528177261, \"29\": -0.028554124757647514, \"30\": -0.006088869646191597, \"31\": 0.12526607513427734, \"32\": -0.07529996335506439, \"33\": 0.045005086809396744, \"34\": 0.040281105786561966, \"35\": -0.046485092490911484, \"36\": -0.07702338695526123, \"37\": 0.05719001218676567, \"38\": 0.15659667551517487, \"39\": -0.0036002048291265965, \"40\": -0.08045899122953415, \"41\": 0.0059438650496304035, \"42\": 0.043728139251470566, \"43\": -0.05806620046496391, \"44\": 0.057050369679927826, \"45\": 0.030540496110916138, \"46\": 0.03971833363175392, \"47\": -0.05574874207377434, \"48\": 0.10318755358457565, \"49\": 0.022233087569475174, \"50\": -0.044149287045001984, \"51\": -0.013850729912519455, \"52\": 0.12308990210294724, \"53\": -0.04357112571597099, \"54\": -0.05792148411273956, \"55\": -0.0034082536585628986, \"56\": -0.09971611946821213, \"57\": 0.0372837632894516, \"58\": 0.028179241344332695, \"59\": -0.0330236554145813, \"60\": -0.07710723578929901, \"61\": -0.0940706804394722, \"62\": -0.07445274293422699, \"63\": -0.005267548840492964, \"64\": 0.20981289446353912, \"65\": 0.09942793101072311, \"66\": -0.0019333692034706473, \"67\": -0.02387118712067604, \"68\": 0.11407580226659775, \"69\": 0.0758194550871849, \"70\": 0.00023191329091787338, \"71\": 0.02394954301416874, \"72\": -0.04050612077116966, \"73\": -0.06284891068935394, \"74\": 0.04727260768413544, \"75\": 0.01618335023522377, \"76\": -0.027380092069506645, \"77\": 0.018727445974946022, \"78\": 0.03964446485042572, \"79\": 0.07697363942861557, \"80\": 0.05766288563609123, \"81\": -0.058266591280698776, \"82\": -0.06989102810621262, \"83\": 0.010890146717429161, \"84\": -0.02179070934653282, \"85\": 0.07184097170829773, \"86\": 0.055548034608364105, \"87\": -0.02825956791639328, \"88\": 0.006040838547050953, \"89\": 0.040640708059072495, \"90\": -0.004681810270994902, \"91\": -0.009860397316515446, \"92\": -0.020929452031850815, \"93\": 0.012928515672683716, \"94\": -0.026135185733437538, \"95\": 0.04257954657077789, \"96\": -0.03293142840266228, \"97\": 0.0763816311955452, \"98\": 0.1002989411354065, \"99\": 0.009375537745654583, \"100\": 0.04378688335418701, \"101\": 0.005297413561493158, \"102\": 0.04566057026386261, \"103\": 0.029065007343888283, \"104\": -0.06431621313095093, \"105\": 0.10079415142536163, \"106\": 0.019250227138400078, \"107\": 0.05624072998762131, \"108\": 0.03604947775602341, \"109\": 0.01710035465657711, \"110\": -0.0406595878303051, \"111\": 0.03484750911593437, \"112\": 0.035953063517808914, \"113\": 0.07858714461326599, \"114\": 0.00826810859143734, \"115\": 0.039728522300720215, \"116\": -0.004156304523348808, \"117\": -0.054687779396772385, \"118\": 0.015115463174879551, \"119\": -0.031151650473475456, \"120\": -0.03231917694211006, \"121\": -0.02790844440460205, \"122\": -0.05323253944516182, \"123\": -0.010687394998967648, \"124\": -0.03987695276737213, \"125\": 0.10222937166690826, \"126\": 0.0010196886723861098, \"127\": -0.0049104755744338036, \"128\": -0.004877617582678795, \"129\": -0.03236046060919762, \"130\": -0.022839009761810303, \"131\": 0.03058043122291565, \"132\": -0.05110173672437668, \"133\": 0.10999232530593872, \"134\": 0.06359289586544037, \"135\": -0.03291715309023857, \"136\": -0.041278693825006485, \"137\": 0.03359523415565491, \"138\": -0.11465367674827576, \"139\": -0.016617048531770706, \"140\": -0.01670967787504196, \"141\": 0.007951276376843452, \"142\": -0.04137042164802551, \"143\": 0.0009653128799982369, \"144\": -0.013957326300442219, \"145\": -0.037757840007543564, \"146\": 0.015160194598138332, \"147\": -0.01596512459218502, \"148\": 0.04886837676167488, \"149\": -0.058352500200271606, \"150\": -0.01734311506152153, \"151\": 0.044115036725997925, \"152\": 0.04655659198760986, \"153\": 0.06696762889623642, \"154\": -0.00884771253913641, \"155\": 0.0826830044388771, \"156\": -0.029806725680828094, \"157\": 0.06631956249475479, \"158\": -0.08476701378822327, \"159\": 0.011938699521124363, \"160\": 0.0437491238117218, \"161\": 0.059465307742357254, \"162\": 0.007256242446601391, \"163\": 0.019339289516210556, \"164\": -0.01716267131268978, \"165\": 0.020856168121099472, \"166\": 0.02959928847849369, \"167\": 0.02788066677749157, \"168\": -0.058337777853012085, \"169\": -0.011799599975347519, \"170\": -0.0055463481694459915, \"171\": -0.03289462625980377, \"172\": -0.011865098029375076, \"173\": 0.01798032410442829, \"174\": -0.0007689280319027603, \"175\": 0.019220508635044098, \"176\": 0.04870029166340828, \"177\": -0.05501570180058479, \"178\": -0.001541513716802001, \"179\": -0.00846165232360363, \"180\": -0.03322524577379227, \"181\": -0.013801163993775845, \"182\": -0.027304096147418022, \"183\": -0.02325827069580555, \"184\": 0.013442887924611568, \"185\": 0.0061402167193591595, \"186\": -0.058722760528326035, \"187\": 0.027735097333788872, \"188\": 0.007935172878205776, \"189\": -0.08388617634773254, \"190\": -0.001623904681764543, \"191\": 0.01881343126296997, \"192\": 0.051754795014858246, \"193\": 0.05712312459945679, \"194\": -0.04189445823431015, \"195\": -0.0008397791534662247, \"196\": -0.03589259460568428, \"197\": -0.02310180850327015, \"198\": 0.0033931112848222256, \"199\": -0.003141998080536723, \"index\": 10, \"NATIONALITY\": \"Australia\"}, {\"query\": \"Vikram Sebastian Noronha\", \"0\": -0.13588525354862213, \"1\": -0.06170792877674103, \"2\": -0.1634354442358017, \"3\": -0.17561635375022888, \"4\": 0.030019186437129974, \"5\": -0.11743810772895813, \"6\": -0.04729166626930237, \"7\": 0.1109873428940773, \"8\": 0.018399678170681, \"9\": 0.03191621974110603, \"10\": 0.0741620734333992, \"11\": -0.11016479134559631, \"12\": 0.05738532543182373, \"13\": 0.11224349588155746, \"14\": 0.14509932696819305, \"15\": 0.03581094369292259, \"16\": 0.11790982633829117, \"17\": -0.0161314494907856, \"18\": 0.037693172693252563, \"19\": 0.0911782756447792, \"20\": 0.1222926527261734, \"21\": 0.010653944686055183, \"22\": 0.10753003507852554, \"23\": 0.024884916841983795, \"24\": -0.01767956092953682, \"25\": 0.06852453202009201, \"26\": 0.06497985869646072, \"27\": -0.018561046570539474, \"28\": -0.017608778551220894, \"29\": -0.05367911979556084, \"30\": 0.03831816837191582, \"31\": 0.012169708497822285, \"32\": -0.015578461810946465, \"33\": -0.037855423986911774, \"34\": 0.012461960315704346, \"35\": -0.03073391690850258, \"36\": -0.010850122198462486, \"37\": 0.05294269323348999, \"38\": -0.0067757656797766685, \"39\": 0.06074414402246475, \"40\": -0.05723438411951065, \"41\": 0.13935765624046326, \"42\": 0.01787552423775196, \"43\": -0.09385407716035843, \"44\": -0.007426498923450708, \"45\": -0.01773679256439209, \"46\": -0.01944350078701973, \"47\": -0.025220170617103577, \"48\": 0.07209297269582748, \"49\": -0.012444080784916878, \"50\": -0.058552034199237823, \"51\": 0.010828375816345215, \"52\": -0.029388045892119408, \"53\": 0.0692494586110115, \"54\": 0.039792101830244064, \"55\": -0.010268067009747028, \"56\": 0.039924316108226776, \"57\": -0.028890058398246765, \"58\": 0.0511457584798336, \"59\": -0.060409411787986755, \"60\": 0.05952192097902298, \"61\": 0.03363627940416336, \"62\": -0.033685699105262756, \"63\": -0.016520358622074127, \"64\": 0.03770151734352112, \"65\": -0.09608850628137589, \"66\": 0.0009691182058304548, \"67\": -0.02100784331560135, \"68\": -0.03187554329633713, \"69\": -0.074831023812294, \"70\": -0.02706019952893257, \"71\": -0.035072021186351776, \"72\": -0.012597733177244663, \"73\": 0.014624794013798237, \"74\": 0.0794978216290474, \"75\": 0.03900746628642082, \"76\": 0.11261802166700363, \"77\": -0.0027035921812057495, \"78\": -0.04936959594488144, \"79\": 0.0712883248925209, \"80\": -0.08244239538908005, \"81\": -0.03594036400318146, \"82\": -0.025738023221492767, \"83\": 0.00784129835665226, \"84\": -0.011635401286184788, \"85\": 0.057545006275177, \"86\": 0.01188588421791792, \"87\": -0.058881860226392746, \"88\": -0.052387818694114685, \"89\": 0.028619134798645973, \"90\": -0.041561294347047806, \"91\": -0.0011713901767507195, \"92\": 0.02909940853714943, \"93\": 0.020249877125024796, \"94\": -0.0660470500588417, \"95\": -0.023916365578770638, \"96\": 0.04358772560954094, \"97\": 0.015754947438836098, \"98\": -0.0018644325900822878, \"99\": -0.0641440600156784, \"100\": 0.005628998391330242, \"101\": -0.023966612294316292, \"102\": 0.06365995109081268, \"103\": -0.02049669250845909, \"104\": 0.03135517239570618, \"105\": 0.019641565158963203, \"106\": 0.029950253665447235, \"107\": -0.08955800533294678, \"108\": 0.010747523978352547, \"109\": -0.0657365694642067, \"110\": -0.03445624187588692, \"111\": -0.012601415626704693, \"112\": -0.06844692677259445, \"113\": -0.021760089322924614, \"114\": -0.019751137122511864, \"115\": 0.021396303549408913, \"116\": 0.041303850710392, \"117\": 0.011058826930820942, \"118\": -0.04361129179596901, \"119\": -0.07515431940555573, \"120\": 0.04361643269658089, \"121\": -0.06502342224121094, \"122\": -0.015385064296424389, \"123\": -0.0022742487490177155, \"124\": 0.031037094071507454, \"125\": 0.0020450358279049397, \"126\": 0.008880704641342163, \"127\": -0.00724322022870183, \"128\": -0.022525768727064133, \"129\": 0.07794170081615448, \"130\": -0.07316229492425919, \"131\": -0.00760297616943717, \"132\": -0.02687276154756546, \"133\": -0.023622285574674606, \"134\": -0.05897736921906471, \"135\": 0.011558451689779758, \"136\": 0.011992150917649269, \"137\": -0.08695219457149506, \"138\": 0.03825950250029564, \"139\": 0.015624778345227242, \"140\": 0.008422978222370148, \"141\": -0.08477722108364105, \"142\": -0.06454680860042572, \"143\": -0.06709965318441391, \"144\": 0.018356425687670708, \"145\": -0.0018718120409175754, \"146\": 0.04489219933748245, \"147\": -0.07710932195186615, \"148\": 0.03333063796162605, \"149\": 0.00027880456764250994, \"150\": -0.03558779135346413, \"151\": -0.017946716398000717, \"152\": 0.027651580050587654, \"153\": -0.07137919962406158, \"154\": 0.007554929703474045, \"155\": -0.0174331683665514, \"156\": 0.06896117329597473, \"157\": 0.043788619339466095, \"158\": -0.014400278218090534, \"159\": 0.013478479348123074, \"160\": 0.02427671290934086, \"161\": -0.027222726494073868, \"162\": 0.029166819527745247, \"163\": -0.003092115046456456, \"164\": 0.029190793633461, \"165\": 0.053665731102228165, \"166\": -0.003224128158763051, \"167\": 0.03339153900742531, \"168\": -0.042544174939394, \"169\": -0.007332214619964361, \"170\": 0.05131571367383003, \"171\": 0.01238283421844244, \"172\": -0.010672940872609615, \"173\": -0.028400061652064323, \"174\": 0.03544725105166435, \"175\": -0.018539171665906906, \"176\": -0.025527218356728554, \"177\": 0.0337316170334816, \"178\": 0.037086375057697296, \"179\": 0.06866177171468735, \"180\": 0.004385043866932392, \"181\": 0.008264177478849888, \"182\": 0.05612494796514511, \"183\": -0.03578493371605873, \"184\": -0.007934723980724812, \"185\": 0.04602751508355141, \"186\": 0.014405759051442146, \"187\": 0.006213159300386906, \"188\": 8.991597860585898e-05, \"189\": 0.05570882186293602, \"190\": -0.007392294239252806, \"191\": 0.05227858945727348, \"192\": -0.049073319882154465, \"193\": 0.005459783133119345, \"194\": -0.006291764322668314, \"195\": -0.007065403740853071, \"196\": 0.07162956893444061, \"197\": 0.003652580315247178, \"198\": 0.0013539392966777086, \"199\": -0.01025135163217783, \"index\": 11, \"NATIONALITY\": \"Australia\"}, {\"query\": \"Stephen Wayne Krygger\", \"0\": -0.14196574687957764, \"1\": 0.0643133819103241, \"2\": -0.02552706189453602, \"3\": 0.01818765513598919, \"4\": 0.08460330963134766, \"5\": -0.17368696630001068, \"6\": -0.1655619740486145, \"7\": 0.009545117616653442, \"8\": 0.030741697177290916, \"9\": -0.057389844208955765, \"10\": 0.05388784408569336, \"11\": 0.018809091299772263, \"12\": -0.08268304914236069, \"13\": 0.07288099825382233, \"14\": 0.07273175567388535, \"15\": -0.007317391689866781, \"16\": -0.00745499599725008, \"17\": -0.07602204382419586, \"18\": 0.006111223716288805, \"19\": -0.042469628155231476, \"20\": -0.11018870025873184, \"21\": 0.15109260380268097, \"22\": -0.042036425322294235, \"23\": 0.05112467706203461, \"24\": 0.0024244377855211496, \"25\": 0.08336997777223587, \"26\": -0.03228276968002319, \"27\": -0.10347867012023926, \"28\": 0.027293216437101364, \"29\": -0.012394212186336517, \"30\": 0.02070670761168003, \"31\": 0.10463206470012665, \"32\": 0.037055060267448425, \"33\": 0.09596844762563705, \"34\": 0.1433509737253189, \"35\": -0.027553120627999306, \"36\": 0.005571838468313217, \"37\": 0.0028644674457609653, \"38\": 0.058745741844177246, \"39\": -0.033279143273830414, \"40\": -0.10236285626888275, \"41\": -0.07654694467782974, \"42\": 0.0006664512911811471, \"43\": 0.0022472767159342766, \"44\": 0.033399660140275955, \"45\": 0.08662411570549011, \"46\": 0.04574142023921013, \"47\": -0.06016731262207031, \"48\": 0.02405362017452717, \"49\": 0.026631826534867287, \"50\": -0.14957600831985474, \"51\": 0.046302538365125656, \"52\": 0.01846972107887268, \"53\": 0.13861262798309326, \"54\": -0.01918385550379753, \"55\": 0.019116943702101707, \"56\": 0.009858724661171436, \"57\": -0.053931429982185364, \"58\": -0.015865061432123184, \"59\": 0.004819940775632858, \"60\": -0.005851971451193094, \"61\": 0.07489246129989624, \"62\": -0.03378310054540634, \"63\": -0.08419891446828842, \"64\": 0.06039813160896301, \"65\": 0.015375670976936817, \"66\": -0.08778636157512665, \"67\": -0.035494931042194366, \"68\": 0.006293003913015127, \"69\": 0.053071457892656326, \"70\": 0.03744767606258392, \"71\": -0.034829411655664444, \"72\": 0.14797765016555786, \"73\": 0.0053515248000621796, \"74\": 0.08938851207494736, \"75\": -0.010238095186650753, \"76\": -0.011551436968147755, \"77\": 0.08423416316509247, \"78\": -0.05256524682044983, \"79\": -0.14632092416286469, \"80\": -0.043985623866319656, \"81\": 0.04214745759963989, \"82\": 0.03963620588183403, \"83\": 0.10750638693571091, \"84\": -0.1274561882019043, \"85\": 0.06504052132368088, \"86\": 0.0007987632416188717, \"87\": -0.00016858796880114824, \"88\": 0.039110518991947174, \"89\": -0.018550995737314224, \"90\": -0.04776493087410927, \"91\": -0.029985515400767326, \"92\": -0.020926307886838913, \"93\": 0.038239188492298126, \"94\": -0.0012749095913022757, \"95\": -0.013982640579342842, \"96\": -0.018266284838318825, \"97\": 0.059794142842292786, \"98\": -0.048870716243982315, \"99\": -0.037080854177474976, \"100\": -0.07703790813684464, \"101\": -0.01170437503606081, \"102\": 0.03039761632680893, \"103\": 0.05431022495031357, \"104\": 0.015754854306578636, \"105\": 0.06957011669874191, \"106\": -0.08229382336139679, \"107\": -0.06595960259437561, \"108\": -0.0075914291664958, \"109\": -0.04008570313453674, \"110\": 0.002507459372282028, \"111\": 0.1319389045238495, \"112\": 0.04375007376074791, \"113\": -0.001241953345015645, \"114\": 0.03256283700466156, \"115\": -0.008289619348943233, \"116\": 0.03633516654372215, \"117\": 0.047627728432416916, \"118\": 0.05943434312939644, \"119\": -0.08093122392892838, \"120\": 0.012815933674573898, \"121\": 0.03466610610485077, \"122\": 0.0006384844891726971, \"123\": 0.01716526784002781, \"124\": -0.056636035442352295, \"125\": -0.057968031615018845, \"126\": 0.03422865644097328, \"127\": 0.05199456214904785, \"128\": -0.029363220557570457, \"129\": 0.042666397988796234, \"130\": -0.036933206021785736, \"131\": 0.02205863781273365, \"132\": -0.036383550614118576, \"133\": -0.006650647614151239, \"134\": -0.011595764197409153, \"135\": -0.039784375578165054, \"136\": -0.05413036048412323, \"137\": 0.0014080166583880782, \"138\": 0.00838541891425848, \"139\": -0.09056752920150757, \"140\": 0.05116938799619675, \"141\": 0.006055107340216637, \"142\": 0.08357711881399155, \"143\": 0.014380063861608505, \"144\": 0.013152673840522766, \"145\": 0.08718469738960266, \"146\": 0.0833326131105423, \"147\": 0.013278027065098286, \"148\": -0.08891751617193222, \"149\": -0.024441532790660858, \"150\": 0.0810568705201149, \"151\": 0.00666750967502594, \"152\": 0.010474447160959244, \"153\": 0.028707554563879967, \"154\": -0.042381174862384796, \"155\": -0.017620643600821495, \"156\": -0.07442523539066315, \"157\": -0.04038635268807411, \"158\": 0.07665076851844788, \"159\": 0.03144053742289543, \"160\": -0.033673401921987534, \"161\": -0.06301660090684891, \"162\": -0.03860175982117653, \"163\": 0.048541780561208725, \"164\": 0.00683102011680603, \"165\": 0.024839522317051888, \"166\": -0.051290370523929596, \"167\": 0.00029102005646564066, \"168\": -0.028766272589564323, \"169\": 0.020354555919766426, \"170\": 0.03197662904858589, \"171\": -0.04986298456788063, \"172\": -0.006540598813444376, \"173\": 0.10834883153438568, \"174\": 0.036517683416604996, \"175\": -0.04083600267767906, \"176\": -0.019906796514987946, \"177\": 0.04375617206096649, \"178\": -0.04807804897427559, \"179\": 0.025803159922361374, \"180\": -0.055204182863235474, \"181\": -0.0010004822397604585, \"182\": -0.009334102272987366, \"183\": -0.045538511127233505, \"184\": 0.04583906754851341, \"185\": 0.05455990880727768, \"186\": 0.03852406144142151, \"187\": 0.059367451816797256, \"188\": -0.0019592544995248318, \"189\": 0.025965914130210876, \"190\": -0.014234520494937897, \"191\": -0.0283039603382349, \"192\": -0.03547322005033493, \"193\": 0.019877353683114052, \"194\": 0.024429621174931526, \"195\": 0.04748501628637314, \"196\": 0.06571326404809952, \"197\": 0.015241609886288643, \"198\": -0.004212678875774145, \"199\": 0.025578364729881287, \"index\": 12, \"NATIONALITY\": \"Australia\"}, {\"query\": \"Paul Luke Myers\", \"0\": -0.18219023942947388, \"1\": 0.11831028759479523, \"2\": -0.04185892269015312, \"3\": 0.034413326531648636, \"4\": 0.04767094925045967, \"5\": -0.12105204910039902, \"6\": -0.02518894337117672, \"7\": 0.09791512042284012, \"8\": 0.06746203452348709, \"9\": -0.07088526338338852, \"10\": -0.0023820041678845882, \"11\": 0.04347050189971924, \"12\": 0.0880361869931221, \"13\": 0.13026337325572968, \"14\": 0.00576348090544343, \"15\": -0.09825685620307922, \"16\": -0.031561437994241714, \"17\": 0.06858431547880173, \"18\": 0.025204844772815704, \"19\": 0.08441828936338425, \"20\": -0.011939899064600468, \"21\": 0.005093614105135202, \"22\": -0.03279323875904083, \"23\": 0.10595879703760147, \"24\": 0.09214635193347931, \"25\": -0.005574511364102364, \"26\": -0.11451280117034912, \"27\": 0.04285989701747894, \"28\": 0.009517102502286434, \"29\": 0.1551344394683838, \"30\": -0.03364908695220947, \"31\": 0.0186088215559721, \"32\": 0.1320367455482483, \"33\": 0.17100074887275696, \"34\": 0.05587276443839073, \"35\": -0.031377483159303665, \"36\": 0.05963204428553581, \"37\": 0.06662281602621078, \"38\": -0.08668120950460434, \"39\": 0.07429808378219604, \"40\": -0.02785160206258297, \"41\": -0.07669134438037872, \"42\": -0.07818318903446198, \"43\": 0.04355427250266075, \"44\": 0.10743949562311172, \"45\": 0.03403286635875702, \"46\": -0.025073394179344177, \"47\": -0.007302784826606512, \"48\": -0.050992801785469055, \"49\": -0.06197616457939148, \"50\": -0.15948344767093658, \"51\": 0.011522786691784859, \"52\": 0.015501641668379307, \"53\": 0.13168425858020782, \"54\": -0.004239535890519619, \"55\": -0.12602771818637848, \"56\": -0.09621284157037735, \"57\": -0.08593873679637909, \"58\": -0.014330502599477768, \"59\": 0.020244574174284935, \"60\": -0.015334785915911198, \"61\": 0.05608906224370003, \"62\": 0.025948429480195045, \"63\": -0.025313299149274826, \"64\": -0.01663586124777794, \"65\": 0.08043219894170761, \"66\": -0.07579398155212402, \"67\": -0.033585481345653534, \"68\": 0.07611285150051117, \"69\": 0.05945471301674843, \"70\": 0.04835767298936844, \"71\": 0.029671207070350647, \"72\": 0.040028851479291916, \"73\": 0.05541445314884186, \"74\": 0.07672616094350815, \"75\": -0.040563132613897324, \"76\": -0.0005855819908902049, \"77\": 0.04059503600001335, \"78\": -0.021071959286928177, \"79\": 0.00621670251712203, \"80\": 0.02641640417277813, \"81\": 0.04785224050283432, \"82\": -0.03564634174108505, \"83\": 0.052643559873104095, \"84\": 0.07514608651399612, \"85\": -0.029279207810759544, \"86\": -0.023685205727815628, \"87\": 0.05009132996201515, \"88\": -0.03395333141088486, \"89\": -0.03868194669485092, \"90\": 0.06519298255443573, \"91\": 0.04466041177511215, \"92\": 0.04315928369760513, \"93\": 0.004912573378533125, \"94\": -0.08738478273153305, \"95\": -0.04717245697975159, \"96\": -0.011124004609882832, \"97\": 0.014626060612499714, \"98\": 0.02545440010726452, \"99\": 0.02697913721203804, \"100\": -0.008252130821347237, \"101\": -0.05746830999851227, \"102\": -0.009847614914178848, \"103\": -0.05491309612989426, \"104\": -0.026582062244415283, \"105\": -0.016744166612625122, \"106\": 0.033864185214042664, \"107\": -0.03622409328818321, \"108\": -0.01990499161183834, \"109\": -0.05779406800866127, \"110\": -0.00037599430652335286, \"111\": -0.010508929379284382, \"112\": 0.08949188143014908, \"113\": -0.05162058025598526, \"114\": 0.0831604078412056, \"115\": -0.0853523313999176, \"116\": -0.05215907841920853, \"117\": 0.025596624240279198, \"118\": 0.018661562353372574, \"119\": 0.011441160924732685, \"120\": -0.08378712087869644, \"121\": 0.008608621545135975, \"122\": 0.016839351505041122, \"123\": 0.026417141780257225, \"124\": 0.02725370228290558, \"125\": 0.0014881080714985728, \"126\": -0.0054556322284042835, \"127\": -0.023270446807146072, \"128\": 0.009978542104363441, \"129\": -0.001927257631905377, \"130\": -0.04687376692891121, \"131\": 0.011903641745448112, \"132\": 0.021736016497015953, \"133\": -0.03466425836086273, \"134\": -0.009937298484146595, \"135\": -0.04003457725048065, \"136\": 0.028113720938563347, \"137\": 0.04544265940785408, \"138\": -0.005697131156921387, \"139\": 0.04006325453519821, \"140\": 0.022508438676595688, \"141\": -0.00479095708578825, \"142\": 0.04264253005385399, \"143\": -0.02410932630300522, \"144\": 0.004566453862935305, \"145\": 0.017625369131565094, \"146\": 0.06022174656391144, \"147\": -0.10858840495347977, \"148\": 0.0036647659726440907, \"149\": -0.04864412546157837, \"150\": 0.011225261725485325, \"151\": 0.02551131881773472, \"152\": 0.004641293548047543, \"153\": -0.08775358647108078, \"154\": -0.03450951725244522, \"155\": -0.024694176390767097, \"156\": -0.004322960507124662, \"157\": -0.023740988224744797, \"158\": -0.0478823147714138, \"159\": 0.038613997399806976, \"160\": -0.038055967539548874, \"161\": -0.011489564552903175, \"162\": -0.02101878449320793, \"163\": 0.01800193078815937, \"164\": 0.0015401925193145871, \"165\": -0.007557096425443888, \"166\": -0.015854936093091965, \"167\": 0.0757841169834137, \"168\": -0.01005147211253643, \"169\": 0.012369963340461254, \"170\": 0.027571842074394226, \"171\": 0.0012143384665250778, \"172\": -0.005053528118878603, \"173\": 0.008717306889593601, \"174\": 0.00041405390948057175, \"175\": -0.02466377429664135, \"176\": 0.04054483771324158, \"177\": 0.06805000454187393, \"178\": -0.026184802874922752, \"179\": 0.020920947194099426, \"180\": 0.028952719643712044, \"181\": -0.07998069375753403, \"182\": 0.0018647490069270134, \"183\": -0.034520938992500305, \"184\": 0.018291551619768143, \"185\": -0.04138527065515518, \"186\": -0.012015748769044876, \"187\": 0.05651392042636871, \"188\": -0.012879416346549988, \"189\": -0.009575908072292805, \"190\": -0.04244837164878845, \"191\": 0.020576350390911102, \"192\": 0.022043537348508835, \"193\": 0.031099485233426094, \"194\": -0.04562465474009514, \"195\": -0.026233023032546043, \"196\": -0.018881864845752716, \"197\": 0.030568242073059082, \"198\": 0.060405854135751724, \"199\": -0.061393048614263535, \"index\": 13, \"NATIONALITY\": \"Australia\"}, {\"query\": \"Camillo  Schobesberger\", \"0\": -0.2014351785182953, \"1\": 0.19154784083366394, \"2\": -0.03527366742491722, \"3\": -0.002883665496483445, \"4\": 0.07599595189094543, \"5\": -0.059219613671302795, \"6\": 0.0057756914757192135, \"7\": 0.09327096492052078, \"8\": -0.053983867168426514, \"9\": 0.12290095537900925, \"10\": 0.03300074115395546, \"11\": 0.05661702901124954, \"12\": -0.12862998247146606, \"13\": -0.09320221096277237, \"14\": 0.03584069758653641, \"15\": -0.09448135644197464, \"16\": 0.011964146047830582, \"17\": -0.1371936798095703, \"18\": -0.0851249098777771, \"19\": -0.01924745738506317, \"20\": 0.10737184435129166, \"21\": -0.033903367817401886, \"22\": 0.03852463886141777, \"23\": 0.08263078331947327, \"24\": 0.057337306439876556, \"25\": -0.029533229768276215, \"26\": 0.03405581787228584, \"27\": -0.05287067964673042, \"28\": -0.054025426506996155, \"29\": -0.02429758571088314, \"30\": -0.11953136324882507, \"31\": 0.09768785536289215, \"32\": 0.0023371486458927393, \"33\": -0.0027184835635125637, \"34\": 0.021358279511332512, \"35\": 0.07171613723039627, \"36\": -0.028760043904185295, \"37\": -0.11198528110980988, \"38\": -0.06946080923080444, \"39\": -0.06446943432092667, \"40\": 0.052162617444992065, \"41\": 0.09490463137626648, \"42\": 0.07446486502885818, \"43\": 0.029329106211662292, \"44\": -0.022839292883872986, \"45\": 0.018261859193444252, \"46\": -0.03826941177248955, \"47\": -0.011460511013865471, \"48\": 0.015414224937558174, \"49\": 0.007451373152434826, \"50\": -0.0070667811669409275, \"51\": 0.12864172458648682, \"52\": -0.025757746770977974, \"53\": 0.07501770555973053, \"54\": 0.07848379760980606, \"55\": -0.022214384749531746, \"56\": 0.07517976313829422, \"57\": -0.11416669189929962, \"58\": 0.025660298764705658, \"59\": -0.06015786528587341, \"60\": 0.007427616976201534, \"61\": 0.012683631852269173, \"62\": 0.1542988121509552, \"63\": 0.028201580047607422, \"64\": 0.10616129636764526, \"65\": 0.01755872182548046, \"66\": -0.0463288277387619, \"67\": 0.01235122885555029, \"68\": -0.01522461324930191, \"69\": 0.0016409140080213547, \"70\": 0.04408339783549309, \"71\": 0.061108510941267014, \"72\": 0.012108382768929005, \"73\": 0.06949362903833389, \"74\": -0.1083831861615181, \"75\": -0.045106496661901474, \"76\": -0.04647649824619293, \"77\": 0.05513821914792061, \"78\": 0.03790459409356117, \"79\": -0.01754639856517315, \"80\": -0.004348183516412973, \"81\": -0.14123563468456268, \"82\": 0.019542355090379715, \"83\": 0.09418629854917526, \"84\": 0.037331752479076385, \"85\": -0.0626528263092041, \"86\": 0.06970316916704178, \"87\": 0.028353752568364143, \"88\": 0.10008474439382553, \"89\": -0.03016839735209942, \"90\": 0.039568353444337845, \"91\": 0.05976494401693344, \"92\": 0.022971680387854576, \"93\": -0.06694916635751724, \"94\": 0.05017394945025444, \"95\": -0.051321160048246384, \"96\": 0.043453510850667953, \"97\": -0.006806236691772938, \"98\": -0.0013455545995384455, \"99\": -0.026613749563694, \"100\": 0.012156583368778229, \"101\": -0.009736430831253529, \"102\": -0.031257644295692444, \"103\": 0.0015035801334306598, \"104\": 0.029250584542751312, \"105\": -0.03551599755883217, \"106\": -0.0451606810092926, \"107\": 0.010762832127511501, \"108\": -0.08173020929098129, \"109\": 0.007362280040979385, \"110\": 0.003605126403272152, \"111\": -0.08288206160068512, \"112\": -0.023934556171298027, \"113\": -0.033521249890327454, \"114\": -0.03643693029880524, \"115\": -0.01899830251932144, \"116\": 0.038511741906404495, \"117\": 0.04998066648840904, \"118\": 0.028010988608002663, \"119\": 0.04129081219434738, \"120\": -0.018760118633508682, \"121\": -0.07768967747688293, \"122\": -0.07999226450920105, \"123\": 0.000999018200673163, \"124\": 0.021383656188845634, \"125\": -0.03146705403923988, \"126\": 0.02726287953555584, \"127\": 0.16338089108467102, \"128\": 0.030649079009890556, \"129\": -0.0651581734418869, \"130\": -0.027281692251563072, \"131\": -0.04662415012717247, \"132\": -0.08889184147119522, \"133\": 0.003509725909680128, \"134\": -0.05066930875182152, \"135\": -0.008216338232159615, \"136\": 0.07570484280586243, \"137\": 0.056469812989234924, \"138\": -0.061123326420784, \"139\": -0.02803082764148712, \"140\": -0.015011154115200043, \"141\": 0.005147453397512436, \"142\": 0.0016797393327578902, \"143\": -0.02261466160416603, \"144\": -0.001072620158083737, \"145\": -0.03865461423993111, \"146\": -0.03790898248553276, \"147\": 0.0072828782722353935, \"148\": 0.020155293866991997, \"149\": -0.041363425552845, \"150\": -0.018766727298498154, \"151\": -0.047560155391693115, \"152\": 0.035666365176439285, \"153\": 0.01753096655011177, \"154\": -0.0037297732196748257, \"155\": 0.06265171617269516, \"156\": 0.0006789692561142147, \"157\": -0.025944510474801064, \"158\": -0.03993978723883629, \"159\": -0.022735320031642914, \"160\": 0.04277051240205765, \"161\": 0.06252562999725342, \"162\": 0.019021334126591682, \"163\": -0.01523043867200613, \"164\": -0.025402596220374107, \"165\": -0.006873133592307568, \"166\": -0.024285098537802696, \"167\": -0.05464987829327583, \"168\": -0.006620495114475489, \"169\": -0.03960583731532097, \"170\": 0.02030629850924015, \"171\": -0.004473990760743618, \"172\": -0.07072316110134125, \"173\": 0.001322177005931735, \"174\": -0.023446131497621536, \"175\": 0.0404701754450798, \"176\": -0.03066544234752655, \"177\": 0.05502315238118172, \"178\": 0.02326601929962635, \"179\": 0.054062001407146454, \"180\": -0.02322894148528576, \"181\": -0.0020778123289346695, \"182\": -0.03677904233336449, \"183\": 0.0045478553511202335, \"184\": 0.02263973094522953, \"185\": 0.08227472752332687, \"186\": -0.013400346040725708, \"187\": 0.0177112128585577, \"188\": 0.004267009440809488, \"189\": 0.05127396807074547, \"190\": 0.037024278193712234, \"191\": 0.0025811204686760902, \"192\": 0.04112678021192551, \"193\": 0.010593420825898647, \"194\": -0.02581249736249447, \"195\": -0.00580788217484951, \"196\": -0.023996343836188316, \"197\": -0.026864146813750267, \"198\": 0.03428761288523674, \"199\": -0.0013639250537380576, \"index\": 14, \"NATIONALITY\": \"Austria\"}, {\"query\": \"Sarah  Rouben\", \"0\": -0.07177110016345978, \"1\": 0.13181084394454956, \"2\": 0.07749917358160019, \"3\": -0.02511083520948887, \"4\": -0.005870595574378967, \"5\": 0.11328797042369843, \"6\": -0.18979550898075104, \"7\": 0.04858849197626114, \"8\": -0.18643978238105774, \"9\": 0.05414038524031639, \"10\": 0.15464632213115692, \"11\": 0.04104774445295334, \"12\": 0.0693764016032219, \"13\": -0.0722067654132843, \"14\": 0.026672452688217163, \"15\": 0.07855936139822006, \"16\": -0.13552755117416382, \"17\": 0.012836693786084652, \"18\": -0.039874836802482605, \"19\": -0.09234678745269775, \"20\": -0.0006395266391336918, \"21\": -0.0059277368709445, \"22\": 0.09988376498222351, \"23\": 0.13051466643810272, \"24\": 0.02197432518005371, \"25\": 0.15384025871753693, \"26\": 0.04677072539925575, \"27\": 0.08917585760354996, \"28\": -0.15270404517650604, \"29\": -0.005754097364842892, \"30\": -0.09610481560230255, \"31\": -0.031571321189403534, \"32\": -0.05623297393321991, \"33\": 0.09486038982868195, \"34\": 0.04606591910123825, \"35\": -0.03708469867706299, \"36\": -0.02229495532810688, \"37\": -0.013149595819413662, \"38\": -0.03336773440241814, \"39\": -0.04282428324222565, \"40\": -0.05922272056341171, \"41\": -0.06709364056587219, \"42\": 0.01416055765002966, \"43\": 0.0659128874540329, \"44\": 0.020721931010484695, \"45\": 0.08866006135940552, \"46\": 0.09294460713863373, \"47\": -0.0039523025043308735, \"48\": 0.06703931838274002, \"49\": -0.017818521708250046, \"50\": 0.02370927296578884, \"51\": -0.027659472078084946, \"52\": 0.01753120683133602, \"53\": -0.03586327284574509, \"54\": -0.08725900948047638, \"55\": -0.06956817209720612, \"56\": 0.0015286753186956048, \"57\": 0.0026568423490971327, \"58\": 0.07501756399869919, \"59\": -0.038634300231933594, \"60\": 0.01382308080792427, \"61\": 0.06587591767311096, \"62\": 0.08508402109146118, \"63\": 0.042303599417209625, \"64\": 0.05741624906659126, \"65\": 0.013207772746682167, \"66\": -0.007620861288160086, \"67\": -0.013194460421800613, \"68\": -0.02616366557776928, \"69\": 0.042182520031929016, \"70\": -0.0120734553784132, \"71\": 0.013321701437234879, \"72\": -0.041166286915540695, \"73\": 0.07761853188276291, \"74\": 0.006405394058674574, \"75\": -0.0983394980430603, \"76\": -0.02746591344475746, \"77\": 0.045382097363471985, \"78\": 0.10641872882843018, \"79\": -0.041055262088775635, \"80\": -0.09427741914987564, \"81\": 0.05851079523563385, \"82\": 0.009532534517347813, \"83\": 0.02527935802936554, \"84\": -0.1333734542131424, \"85\": 0.03274049237370491, \"86\": 0.134480819106102, \"87\": 0.06177014857530594, \"88\": -0.014707287773489952, \"89\": 0.039439305663108826, \"90\": -0.04884876683354378, \"91\": 0.009367350488901138, \"92\": -0.008506007492542267, \"93\": 0.05507780611515045, \"94\": -0.022595614194869995, \"95\": -0.00737087382003665, \"96\": -0.04619569703936577, \"97\": 0.03671956807374954, \"98\": -0.010135107673704624, \"99\": 0.036861054599285126, \"100\": -0.04032527655363083, \"101\": -0.0038837799802422523, \"102\": -0.06106135994195938, \"103\": -0.011020299978554249, \"104\": -0.07939058542251587, \"105\": -0.06467698514461517, \"106\": 0.033562831580638885, \"107\": -0.08574534207582474, \"108\": -0.007835039868950844, \"109\": -0.04176110401749611, \"110\": -0.011803096160292625, \"111\": 0.01137452945113182, \"112\": -0.017764972522854805, \"113\": -0.05438106507062912, \"114\": -0.007819278165698051, \"115\": 0.05826381593942642, \"116\": 0.042797673493623734, \"117\": -0.013900822959840298, \"118\": -0.01942814514040947, \"119\": -0.0593789666891098, \"120\": 0.03200213238596916, \"121\": 0.021960387006402016, \"122\": 0.04215679690241814, \"123\": -0.06847795099020004, \"124\": -0.0017246694769710302, \"125\": -0.01783423125743866, \"126\": -0.0040697818621993065, \"127\": -0.04370416700839996, \"128\": 0.06020558252930641, \"129\": -0.03396747633814812, \"130\": 0.06447801738977432, \"131\": -0.08461593836545944, \"132\": 0.014372403733432293, \"133\": 0.026296576485037804, \"134\": -0.025707874447107315, \"135\": 0.04534532502293587, \"136\": 0.009458696469664574, \"137\": -0.007157877553254366, \"138\": -0.056773532181978226, \"139\": -0.07116791605949402, \"140\": -0.026825932785868645, \"141\": 0.018650567159056664, \"142\": 0.06996515393257141, \"143\": 0.017985716462135315, \"144\": -0.012775196693837643, \"145\": -0.01768273115158081, \"146\": -0.020124010741710663, \"147\": 0.03702234849333763, \"148\": 0.019887158647179604, \"149\": 0.03505941480398178, \"150\": -0.00040784335578791797, \"151\": -0.0005886747385375202, \"152\": -0.002965949708595872, \"153\": -0.04072689637541771, \"154\": -0.018761903047561646, \"155\": 0.019417066127061844, \"156\": 0.009625113569200039, \"157\": -0.002645683940500021, \"158\": 0.021366966888308525, \"159\": 0.025017354637384415, \"160\": 0.047355081886053085, \"161\": 0.013959936797618866, \"162\": 0.08785690367221832, \"163\": -0.06318742781877518, \"164\": 0.027125656604766846, \"165\": 0.018456416204571724, \"166\": -0.048112716525793076, \"167\": 0.0152232451364398, \"168\": -0.03909068554639816, \"169\": 0.04358058422803879, \"170\": 0.02578430250287056, \"171\": -0.026015833020210266, \"172\": 0.019011253491044044, \"173\": 0.018196338787674904, \"174\": 0.02040093205869198, \"175\": 0.06070433184504509, \"176\": 0.043505482375621796, \"177\": -0.0008295404841192067, \"178\": 0.020739011466503143, \"179\": -0.015837175771594048, \"180\": 0.027364470064640045, \"181\": -0.005924665369093418, \"182\": -0.005599759519100189, \"183\": 0.005159612745046616, \"184\": -0.006650655064731836, \"185\": 0.0038389191031455994, \"186\": -0.0021397187374532223, \"187\": 0.010297628119587898, \"188\": -0.04295679181814194, \"189\": 0.01261474471539259, \"190\": -0.0297690536826849, \"191\": 0.0003829604247584939, \"192\": 0.02986203320324421, \"193\": 0.016110142692923546, \"194\": 0.007159247063100338, \"195\": 0.010965882800519466, \"196\": -0.026504214853048325, \"197\": 0.021151144057512283, \"198\": 0.01693432219326496, \"199\": -0.012414844706654549, \"index\": 15, \"NATIONALITY\": \"Bahrain\"}, {\"query\": \"Dawood Sulaiman Abdulla Salem\", \"0\": 0.36486127972602844, \"1\": 0.04161616042256355, \"2\": 0.0007845634245313704, \"3\": -0.1217733845114708, \"4\": 0.05672609806060791, \"5\": -0.04725261405110359, \"6\": 0.08356525748968124, \"7\": -0.06253481656312943, \"8\": 0.15479624271392822, \"9\": 0.049435805529356, \"10\": 0.12692321836948395, \"11\": -0.025956248864531517, \"12\": -0.07798317074775696, \"13\": -0.09220337122678757, \"14\": -0.050638046115636826, \"15\": -0.015904899686574936, \"16\": 0.0614783875644207, \"17\": 0.2325187772512436, \"18\": 0.0063178651034832, \"19\": -0.07662312686443329, \"20\": -0.013225004076957703, \"21\": -0.025076398625969887, \"22\": 0.02158702351152897, \"23\": 0.057138241827487946, \"24\": 0.08571155369281769, \"25\": 0.04409269243478775, \"26\": -0.04125063866376877, \"27\": 0.035272158682346344, \"28\": -0.08558937907218933, \"29\": -0.12156614661216736, \"30\": -0.020537247881293297, \"31\": -0.052322495728731155, \"32\": 0.011619537137448788, \"33\": 0.07320781797170639, \"34\": 0.006945253815501928, \"35\": 0.0036838713567703962, \"36\": 0.017701294273138046, \"37\": 0.05506749078631401, \"38\": 0.07470516115427017, \"39\": 0.008878383785486221, \"40\": -0.07950333505868912, \"41\": 0.0018774766940623522, \"42\": -0.013160837814211845, \"43\": -0.011948240920901299, \"44\": -0.01988222450017929, \"45\": 0.04628293961286545, \"46\": 0.06578822433948517, \"47\": 0.04967707768082619, \"48\": 0.0017873760079964995, \"49\": -0.13140539824962616, \"50\": 0.09695535153150558, \"51\": -0.04126705601811409, \"52\": 0.12779565155506134, \"53\": 0.018231933936476707, \"54\": 0.05350182205438614, \"55\": 0.03412335738539696, \"56\": 0.04579199105501175, \"57\": -0.03254662826657295, \"58\": -0.034193675965070724, \"59\": 0.016104232519865036, \"60\": -0.0016089583514258265, \"61\": 0.060833726078271866, \"62\": 0.08475413918495178, \"63\": 0.05351020768284798, \"64\": -0.023402782157063484, \"65\": -0.05596495047211647, \"66\": 0.07123466581106186, \"67\": -0.007655586116015911, \"68\": -0.0022976386826485395, \"69\": 0.005296781659126282, \"70\": -0.02198839746415615, \"71\": -0.008041607216000557, \"72\": 0.09271018952131271, \"73\": 0.0009428017074242234, \"74\": 0.02369840070605278, \"75\": -0.021041203290224075, \"76\": 0.012300565838813782, \"77\": -0.02779957838356495, \"78\": -0.04161711782217026, \"79\": -0.057762511074543, \"80\": 0.046934112906455994, \"81\": -0.002862961031496525, \"82\": -0.026220686733722687, \"83\": -0.05703418701887131, \"84\": -0.04394863545894623, \"85\": 0.040057647973299026, \"86\": -0.01023720670491457, \"87\": -0.009931131266057491, \"88\": -0.0557064451277256, \"89\": 0.014624814502894878, \"90\": 0.023160705342888832, \"91\": -0.035232946276664734, \"92\": -0.04441550001502037, \"93\": 0.08066850155591965, \"94\": -0.04837454482913017, \"95\": 0.0030732944142073393, \"96\": 0.017780885100364685, \"97\": 0.020332712680101395, \"98\": 0.0076232897117733955, \"99\": 0.04934191331267357, \"100\": -0.02421543374657631, \"101\": 0.027428632602095604, \"102\": 0.030812419950962067, \"103\": 0.007859490811824799, \"104\": 0.05549655854701996, \"105\": 0.0327574647963047, \"106\": 0.03196762129664421, \"107\": 0.03514604642987251, \"108\": -0.013447185978293419, \"109\": 0.022804833948612213, \"110\": 0.01312228199094534, \"111\": -0.055447887629270554, \"112\": 0.01192752830684185, \"113\": -0.036715876311063766, \"114\": 0.027702713385224342, \"115\": 0.03420550003647804, \"116\": 0.011390548199415207, \"117\": 0.04056230187416077, \"118\": -0.07302405685186386, \"119\": -0.02018253691494465, \"120\": 0.02962314896285534, \"121\": 0.015553579665720463, \"122\": -0.01832982525229454, \"123\": -0.001956644933670759, \"124\": 0.00886277575045824, \"125\": -0.005943396128714085, \"126\": 0.060396041721105576, \"127\": 0.012780759483575821, \"128\": 0.0017310787225142121, \"129\": 0.00690045952796936, \"130\": 0.03403317183256149, \"131\": 0.0186628345400095, \"132\": 0.04163280501961708, \"133\": 0.045935310423374176, \"134\": 0.033874161541461945, \"135\": 0.031375110149383545, \"136\": -0.0195976160466671, \"137\": -0.000314580334816128, \"138\": 0.01901712641119957, \"139\": -0.01515871100127697, \"140\": 0.03664502874016762, \"141\": 0.023469069972634315, \"142\": 0.04086456820368767, \"143\": -0.016847435384988785, \"144\": 0.027645912021398544, \"145\": -0.028426093980669975, \"146\": -0.011845173314213753, \"147\": 0.031083254143595695, \"148\": -0.007559504359960556, \"149\": -0.024564817547798157, \"150\": -0.025099948048591614, \"151\": -0.04271620884537697, \"152\": -0.005279242992401123, \"153\": 0.018715616315603256, \"154\": -0.012000330723822117, \"155\": 0.04657626524567604, \"156\": 0.05838632956147194, \"157\": 0.022218400612473488, \"158\": -0.043103232979774475, \"159\": 0.04046253859996796, \"160\": 0.00947267934679985, \"161\": 0.012764854356646538, \"162\": -0.03276245668530464, \"163\": 0.034677572548389435, \"164\": 0.013509785756468773, \"165\": 0.05369652062654495, \"166\": 0.008157351054251194, \"167\": -0.06144030764698982, \"168\": -0.020821016281843185, \"169\": 0.0051888395100831985, \"170\": 0.030963100492954254, \"171\": -0.0045943125151097775, \"172\": -0.034311626106500626, \"173\": -0.018595971167087555, \"174\": -0.0037186380941420794, \"175\": 0.04739456996321678, \"176\": -0.049860402941703796, \"177\": 0.03511295095086098, \"178\": -0.04327066242694855, \"179\": 0.018078401684761047, \"180\": -0.012563943862915039, \"181\": 0.027244238182902336, \"182\": 0.010169056244194508, \"183\": 0.013197648338973522, \"184\": 0.006735196337103844, \"185\": -0.03536974638700485, \"186\": 0.04420554265379906, \"187\": -0.004645336419343948, \"188\": -0.01935436576604843, \"189\": -0.014473523013293743, \"190\": -0.003104829927906394, \"191\": 0.02807488664984703, \"192\": -0.014522825367748737, \"193\": -0.049734510481357574, \"194\": 0.007450222037732601, \"195\": -0.0660918727517128, \"196\": -0.02684592455625534, \"197\": -0.012226341292262077, \"198\": 0.016998345032334328, \"199\": 0.017352424561977386, \"index\": 16, \"NATIONALITY\": \"Bahrain\"}, {\"query\": \"Salem  Mubarak Salem Dehair\", \"0\": 0.19714291393756866, \"1\": 0.048007573932409286, \"2\": 0.09932126104831696, \"3\": -0.09183875471353531, \"4\": 0.1220625564455986, \"5\": 0.1816496104001999, \"6\": 0.06986315548419952, \"7\": -0.02101200819015503, \"8\": -0.07983919233083725, \"9\": 0.06919781118631363, \"10\": 0.1367274522781372, \"11\": 0.06597406417131424, \"12\": -0.08953622728586197, \"13\": -0.10518935322761536, \"14\": 0.06970441341400146, \"15\": -0.019280364736914635, \"16\": 0.031426191329956055, \"17\": 0.016318483278155327, \"18\": -0.09197232872247696, \"19\": -0.10415426641702652, \"20\": 0.04009469971060753, \"21\": -0.015873650088906288, \"22\": 0.031232094392180443, \"23\": 0.057213980704545975, \"24\": 0.020715337246656418, \"25\": 0.02395028993487358, \"26\": -0.06315590441226959, \"27\": 0.05514158681035042, \"28\": -0.027308691293001175, \"29\": -0.01621834561228752, \"30\": -0.1577998548746109, \"31\": -0.04422212019562721, \"32\": 0.07961218804121017, \"33\": 0.07973910868167877, \"34\": 0.04162037372589111, \"35\": 0.0033475530799478292, \"36\": 0.031854867935180664, \"37\": 0.11897473782300949, \"38\": -0.01112146396189928, \"39\": 0.05223345384001732, \"40\": -0.037931643426418304, \"41\": 0.007596707437187433, \"42\": 0.043481286615133286, \"43\": 0.037582945078611374, \"44\": -0.016236914321780205, \"45\": 0.053292516618967056, \"46\": 0.04811868444085121, \"47\": 0.030735624954104424, \"48\": 0.04349062964320183, \"49\": -0.012449183501303196, \"50\": 0.08315927535295486, \"51\": -0.08217274397611618, \"52\": 0.029996927827596664, \"53\": 0.003050830215215683, \"54\": 0.006704637315124273, \"55\": -0.01613340713083744, \"56\": 0.03764716163277626, \"57\": -0.053231559693813324, \"58\": 0.006127744447439909, \"59\": -0.04468563199043274, \"60\": -0.01416865549981594, \"61\": 0.016852967441082, \"62\": 0.024459853768348694, \"63\": -0.04146029055118561, \"64\": -0.0941665843129158, \"65\": -0.12179385125637054, \"66\": 0.07671704888343811, \"67\": -0.028453616425395012, \"68\": 0.07510772347450256, \"69\": -0.014274083077907562, \"70\": -0.014428731054067612, \"71\": 0.03471822664141655, \"72\": 0.0008352138102054596, \"73\": 0.08215823769569397, \"74\": 0.01629595458507538, \"75\": 0.0068179648369550705, \"76\": 0.11007525026798248, \"77\": 0.012674815952777863, \"78\": 0.0695093497633934, \"79\": -0.037079837173223495, \"80\": -0.008618163876235485, \"81\": 0.08468116074800491, \"82\": 0.014499022625386715, \"83\": -0.013109282590448856, \"84\": -0.0875157043337822, \"85\": 0.0457325354218483, \"86\": -0.021679475903511047, \"87\": -0.02908424101769924, \"88\": -0.014394249767065048, \"89\": -0.045519374310970306, \"90\": -0.058135755360126495, \"91\": -0.021936364471912384, \"92\": -0.027419865131378174, \"93\": 0.0439155176281929, \"94\": -0.059263311326503754, \"95\": -0.04622134566307068, \"96\": 0.007898064330220222, \"97\": -0.007494369521737099, \"98\": 0.034376926720142365, \"99\": -0.024220295250415802, \"100\": 0.009539114311337471, \"101\": 0.08789226412773132, \"102\": -0.037163373082876205, \"103\": -0.05033731460571289, \"104\": -0.053510118275880814, \"105\": 0.021612120792269707, \"106\": 0.07280335575342178, \"107\": -0.0023227925412356853, \"108\": -0.050295256078243256, \"109\": -0.10670798271894455, \"110\": -0.0018265853868797421, \"111\": 0.06277740001678467, \"112\": -0.010998757556080818, \"113\": -0.006265335250645876, \"114\": 0.024020861834287643, \"115\": 0.12200185656547546, \"116\": 0.012983155436813831, \"117\": 0.03970102220773697, \"118\": -0.014143726788461208, \"119\": -0.06748481839895248, \"120\": 0.0701737031340599, \"121\": -0.05881604179739952, \"122\": -0.015497866086661816, \"123\": 0.05540849640965462, \"124\": 0.0025784524623304605, \"125\": 0.02808656543493271, \"126\": 0.056183476001024246, \"127\": 0.051934149116277695, \"128\": 0.047586843371391296, \"129\": -0.03787320479750633, \"130\": 0.014472424052655697, \"131\": -0.04088132828474045, \"132\": 0.026933806017041206, \"133\": 0.008554115891456604, \"134\": 0.04461164399981499, \"135\": 0.016331100836396217, \"136\": -0.03035004623234272, \"137\": -0.062363401055336, \"138\": -0.03552798554301262, \"139\": -0.04712879657745361, \"140\": 0.002042170846834779, \"141\": 0.0010717588011175394, \"142\": 0.032550398260354996, \"143\": 0.03545357659459114, \"144\": 0.005526300985366106, \"145\": 0.04101965203881264, \"146\": 0.020801428705453873, \"147\": 0.02396887168288231, \"148\": 0.01743440143764019, \"149\": 0.014246765524148941, \"150\": -0.06514229625463486, \"151\": -0.04068732261657715, \"152\": -0.01870216615498066, \"153\": 0.030840521678328514, \"154\": -0.00679677864536643, \"155\": -0.01535887736827135, \"156\": 0.053372424095869064, \"157\": 0.0300936009734869, \"158\": -0.021320411935448647, \"159\": 0.06101742014288902, \"160\": -0.03187839686870575, \"161\": -0.0022059192415326834, \"162\": -0.033876921981573105, \"163\": -0.02560965158045292, \"164\": -0.03213793784379959, \"165\": -0.018813084810972214, \"166\": -0.029651964083313942, \"167\": 0.017489537596702576, \"168\": -0.03590713068842888, \"169\": -0.06700194627046585, \"170\": 0.014741248451173306, \"171\": -0.025981320068240166, \"172\": -0.029889598488807678, \"173\": -0.027779702097177505, \"174\": 0.013625534251332283, \"175\": 0.037862297147512436, \"176\": 0.06921661645174026, \"177\": -0.001906288438476622, \"178\": -0.014364859089255333, \"179\": 0.0279134139418602, \"180\": -0.004407036118209362, \"181\": -0.0601385198533535, \"182\": 0.03545166179537773, \"183\": 0.033595770597457886, \"184\": -0.0014426594134420156, \"185\": -0.039048850536346436, \"186\": -0.005466078873723745, \"187\": -0.022796854376792908, \"188\": -0.010386896319687366, \"189\": -0.009961934760212898, \"190\": -0.01675516553223133, \"191\": 0.004060379229485989, \"192\": -0.011477766558527946, \"193\": -0.00553264282643795, \"194\": -0.047724537551403046, \"195\": -0.020610852167010307, \"196\": -0.04559076577425003, \"197\": -0.007755591534078121, \"198\": 0.018072156235575676, \"199\": 0.012252201326191425, \"index\": 17, \"NATIONALITY\": \"Bahrain\"}, {\"query\": \"Abdulla Hassan Ahmed Ali Alaali\", \"0\": 0.46516379714012146, \"1\": -0.014665483497083187, \"2\": -0.008686457760632038, \"3\": -0.1013234406709671, \"4\": -0.03420120105147362, \"5\": -0.12555117905139923, \"6\": 0.0013852004194632173, \"7\": -0.13223068416118622, \"8\": 0.08592633903026581, \"9\": -0.024308012798428535, \"10\": -0.11688466370105743, \"11\": -0.03188681602478027, \"12\": -0.004780720453709364, \"13\": -0.02599465474486351, \"14\": 0.045847225934267044, \"15\": -0.004288850352168083, \"16\": 0.05794048681855202, \"17\": -0.026719972491264343, \"18\": 0.07574944198131561, \"19\": 0.06973182410001755, \"20\": -0.08701162040233612, \"21\": -0.1121153011918068, \"22\": -0.007119509391486645, \"23\": 0.06825419515371323, \"24\": 0.003419723594561219, \"25\": -0.09065432101488113, \"26\": 0.03777623921632767, \"27\": 0.05646326020359993, \"28\": -0.15960460901260376, \"29\": -0.06518875807523727, \"30\": 0.003998320084065199, \"31\": -0.13099093735218048, \"32\": 0.028316743671894073, \"33\": -0.0724545270204544, \"34\": -0.07212943583726883, \"35\": -0.00018012353393714875, \"36\": -0.056294701993465424, \"37\": 0.043567921966314316, \"38\": -0.03926277160644531, \"39\": -0.009963439777493477, \"40\": 0.023797931149601936, \"41\": 0.025041703134775162, \"42\": -0.033243197947740555, \"43\": 0.03460085019469261, \"44\": -0.004439615644514561, \"45\": 0.030038444325327873, \"46\": -0.03307296708226204, \"47\": 0.059938427060842514, \"48\": -0.019280407577753067, \"49\": -0.006138972006738186, \"50\": 0.0174714345484972, \"51\": -0.06653893738985062, \"52\": -0.022340627387166023, \"53\": 0.0444466806948185, \"54\": -0.021738849580287933, \"55\": -0.008014876395463943, \"56\": 0.03177176043391228, \"57\": -0.011416438966989517, \"58\": -0.006695185322314501, \"59\": 0.07042521238327026, \"60\": -0.04792832210659981, \"61\": 0.03204422444105148, \"62\": -0.01866624876856804, \"63\": 0.0052365493029356, \"64\": -0.00032729611848481, \"65\": 0.003749232506379485, \"66\": 0.015642352402210236, \"67\": 0.03307270631194115, \"68\": 0.003376523032784462, \"69\": 0.0442083403468132, \"70\": -0.036832086741924286, \"71\": 0.014717156998813152, \"72\": 0.07610476016998291, \"73\": -0.053967107087373734, \"74\": 0.009556245990097523, \"75\": 0.020182637497782707, \"76\": 0.009766235016286373, \"77\": -0.030169367790222168, \"78\": 0.03789747133851051, \"79\": -0.033068057149648666, \"80\": 0.0384814478456974, \"81\": -0.009297574870288372, \"82\": -0.04489528387784958, \"83\": 0.00021196600573603064, \"84\": -0.03250833600759506, \"85\": -0.05368092656135559, \"86\": 0.05517743527889252, \"87\": -0.026017922908067703, \"88\": -0.019072817638516426, \"89\": 0.0071431719698011875, \"90\": 0.05003741383552551, \"91\": 0.0058937654830515385, \"92\": 0.006441663485020399, \"93\": -0.00887544546276331, \"94\": -0.003689334262162447, \"95\": -0.03800874575972557, \"96\": -0.034569017589092255, \"97\": 0.042578522115945816, \"98\": -0.036814238876104355, \"99\": 0.03479255363345146, \"100\": -0.049917563796043396, \"101\": -0.037084534764289856, \"102\": 0.03939167037606239, \"103\": 0.019469065591692924, \"104\": -0.008018545806407928, \"105\": -0.0019040319602936506, \"106\": -0.016998229548335075, \"107\": -0.02904893457889557, \"108\": -0.0340174064040184, \"109\": -0.01066104881465435, \"110\": 0.02565023861825466, \"111\": -0.020251410081982613, \"112\": -0.011307958513498306, \"113\": 0.00029174250084906816, \"114\": -0.027944406494498253, \"115\": -0.010720325633883476, \"116\": -0.00875420868396759, \"117\": -0.001956264255568385, \"118\": -0.042086564004421234, \"119\": -0.028295882046222687, \"120\": -0.03292819857597351, \"121\": -0.019716104492545128, \"122\": 0.002657701028510928, \"123\": 0.03355523943901062, \"124\": 0.03209522366523743, \"125\": -0.006466889288276434, \"126\": 0.010778531432151794, \"127\": -0.019141312688589096, \"128\": -0.01260577142238617, \"129\": 0.02207960933446884, \"130\": -0.020417312160134315, \"131\": 0.018122931942343712, \"132\": 0.005364105571061373, \"133\": 0.006357384845614433, \"134\": 0.011193287558853626, \"135\": 0.023323139175772667, \"136\": -0.0013341428712010384, \"137\": -0.017606161534786224, \"138\": 0.004904949106276035, \"139\": -0.0013963672099635005, \"140\": 0.018785100430250168, \"141\": -0.006353508215397596, \"142\": -0.021391086280345917, \"143\": 0.00047261675354093313, \"144\": 0.019516201689839363, \"145\": 0.03226282447576523, \"146\": -0.001258526579476893, \"147\": 0.025305896997451782, \"148\": -0.025099189952015877, \"149\": 0.007703261449933052, \"150\": -0.008297968655824661, \"151\": -0.007329434622079134, \"152\": 0.016794240102171898, \"153\": -0.011846119537949562, \"154\": -0.002484013559296727, \"155\": 0.01970083825290203, \"156\": -0.00016772265371400863, \"157\": -0.009632710367441177, \"158\": 0.01445661298930645, \"159\": 0.014746742323040962, \"160\": 0.0010601608082652092, \"161\": -0.03562944009900093, \"162\": -0.005232547875493765, \"163\": 0.02102036587893963, \"164\": 0.006510136649012566, \"165\": -0.01631772331893444, \"166\": 0.0009314317139796913, \"167\": -0.025899738073349, \"168\": -0.007920924574136734, \"169\": 0.014480563811957836, \"170\": -0.013132850639522076, \"171\": -0.007435104344040155, \"172\": -0.009734643623232841, \"173\": -0.021344363689422607, \"174\": 0.016277598217129707, \"175\": 0.016897739842534065, \"176\": -0.00437372038140893, \"177\": 0.027757860720157623, \"178\": 0.012640739791095257, \"179\": 0.03267152979969978, \"180\": -0.008868755772709846, \"181\": 0.007138009183108807, \"182\": 0.00027696756296791136, \"183\": 0.012016608379781246, \"184\": -0.0229815561324358, \"185\": -0.0008042472181841731, \"186\": -0.00512221222743392, \"187\": -0.008415987715125084, \"188\": 0.028028422966599464, \"189\": -0.014802048914134502, \"190\": -0.013626963831484318, \"191\": 0.004227494355291128, \"192\": 0.022022303193807602, \"193\": -0.0005232178955338895, \"194\": -0.010190708562731743, \"195\": -0.016991402953863144, \"196\": -0.017504747956991196, \"197\": -0.004922030493617058, \"198\": -0.010003708302974701, \"199\": -0.012954654172062874, \"index\": 18, \"NATIONALITY\": \"Bahrain\"}, {\"query\": \"Osama Ahmed Ahmed\", \"0\": 0.3387450575828552, \"1\": 0.0006469592335633934, \"2\": 0.029687682166695595, \"3\": 0.06932630389928818, \"4\": 0.03300310671329498, \"5\": -0.1745808869600296, \"6\": -0.04978596791625023, \"7\": -0.017783496528863907, \"8\": -0.10812922567129135, \"9\": -0.19962666928768158, \"10\": -0.04557185620069504, \"11\": -0.08012766391038895, \"12\": -0.040557388216257095, \"13\": -0.10449257493019104, \"14\": 0.09013460576534271, \"15\": -0.05734655633568764, \"16\": 0.02837226539850235, \"17\": 0.043372754007577896, \"18\": 0.05407318100333214, \"19\": 0.02349471114575863, \"20\": 0.020779095590114594, \"21\": -0.05590327829122543, \"22\": 0.02090834453701973, \"23\": 0.06157698482275009, \"24\": 0.08978431671857834, \"25\": -0.06532302498817444, \"26\": 0.08656641095876694, \"27\": 0.008281915448606014, \"28\": 0.0904073417186737, \"29\": -0.05909385532140732, \"30\": -0.059238649904727936, \"31\": -0.03342154994606972, \"32\": 0.004995822440832853, \"33\": 0.09508916735649109, \"34\": -0.07605358958244324, \"35\": -0.07922746241092682, \"36\": 0.04011617973446846, \"37\": -0.014912283048033714, \"38\": 0.02124706469476223, \"39\": -0.021713951602578163, \"40\": -0.0769721195101738, \"41\": -0.04320148378610611, \"42\": 0.10315593332052231, \"43\": -0.1008683294057846, \"44\": 0.14102038741111755, \"45\": 0.025900105014443398, \"46\": -0.06740999221801758, \"47\": 0.07815523445606232, \"48\": -0.06496145576238632, \"49\": 0.1463571935892105, \"50\": 0.011907265521585941, \"51\": -0.012674487195909023, \"52\": 0.04971756413578987, \"53\": -0.03993906080722809, \"54\": -0.04734012112021446, \"55\": 0.012191885150969028, \"56\": 0.062160443514585495, \"57\": 0.0025318574625998735, \"58\": -0.036622826009988785, \"59\": 0.018986834213137627, \"60\": -0.017009122297167778, \"61\": 0.059217777103185654, \"62\": -0.025932051241397858, \"63\": 0.00932503305375576, \"64\": -0.0021981752943247557, \"65\": 0.032402973622083664, \"66\": 0.022085947915911674, \"67\": 0.07462859898805618, \"68\": 0.03761325031518936, \"69\": -0.012020479887723923, \"70\": -0.08210086822509766, \"71\": 0.031305015087127686, \"72\": -0.007181302644312382, \"73\": -0.05935344845056534, \"74\": 0.07396893203258514, \"75\": 0.027467848733067513, \"76\": -0.00474128220230341, \"77\": -0.08710768073797226, \"78\": 0.05951507017016411, \"79\": -0.002042521955445409, \"80\": -0.0033749311696738005, \"81\": 0.019016142934560776, \"82\": -0.054329026490449905, \"83\": -0.006612530443817377, \"84\": 0.02002820186316967, \"85\": -0.0727902203798294, \"86\": -0.018622776493430138, \"87\": -0.028310446068644524, \"88\": 0.07428955286741257, \"89\": -0.01833174005150795, \"90\": -0.04206201434135437, \"91\": -0.004842482507228851, \"92\": 0.01937289535999298, \"93\": 0.007252092473208904, \"94\": -0.03292812407016754, \"95\": -0.04646867513656616, \"96\": -0.04373724386096001, \"97\": 0.041692521423101425, \"98\": -0.004762769211083651, \"99\": 0.052682437002658844, \"100\": 0.018577879294753075, \"101\": 0.04789649695158005, \"102\": -0.019460633397102356, \"103\": 0.013828546740114689, \"104\": -0.008480959571897984, \"105\": 0.017413103953003883, \"106\": 0.007935354486107826, \"107\": 0.010073854587972164, \"108\": 0.031878095120191574, \"109\": 0.015784023329615593, \"110\": 0.005101410672068596, \"111\": 0.028214870020747185, \"112\": -0.025187931954860687, \"113\": -0.036561038345098495, \"114\": 0.003507819725200534, \"115\": -0.0024296671617776155, \"116\": -0.03181168809533119, \"117\": -0.011323577724397182, \"118\": 0.005594030953943729, \"119\": -0.02867782674729824, \"120\": -0.0045460923574864864, \"121\": -0.07773187011480331, \"122\": 0.006278845947235823, \"123\": -0.04913918673992157, \"124\": -0.0379202775657177, \"125\": 0.022107934579253197, \"126\": -0.0118409413844347, \"127\": 0.05879867449402809, \"128\": 0.03568032383918762, \"129\": -0.0625392496585846, \"130\": -0.0035243360325694084, \"131\": 0.00019197991059627384, \"132\": 0.01004404854029417, \"133\": -0.0017534600337967277, \"134\": -0.01676166243851185, \"135\": 0.03186760097742081, \"136\": 0.04643319547176361, \"137\": 0.04349170997738838, \"138\": -0.01929136924445629, \"139\": -0.002554971491917968, \"140\": 0.022526700049638748, \"141\": -0.020908329635858536, \"142\": -0.001584208570420742, \"143\": -0.04094396531581879, \"144\": -0.01022493839263916, \"145\": -0.03327059745788574, \"146\": -0.027120620012283325, \"147\": -0.025131704285740852, \"148\": -0.024317683652043343, \"149\": -0.057696182280778885, \"150\": 0.0151444673538208, \"151\": 0.05955272540450096, \"152\": 0.02276715077459812, \"153\": -0.013338363729417324, \"154\": -0.05393816530704498, \"155\": -0.011413684114813805, \"156\": 0.0029847072437405586, \"157\": -0.030610600486397743, \"158\": 0.034167490899562836, \"159\": -0.015714529901742935, \"160\": 0.005015326663851738, \"161\": -0.010480302385985851, \"162\": 0.040996480733156204, \"163\": 0.009247500449419022, \"164\": -0.01416316069662571, \"165\": -0.010877132415771484, \"166\": -0.007346048019826412, \"167\": -0.051719848066568375, \"168\": -0.0037269643507897854, \"169\": 0.00809386745095253, \"170\": 0.01968451403081417, \"171\": -0.004753081128001213, \"172\": 0.0004545630654320121, \"173\": -0.0366441085934639, \"174\": -0.03677750378847122, \"175\": 0.03640969470143318, \"176\": -0.018530290573835373, \"177\": 0.029711445793509483, \"178\": 0.03420942276716232, \"179\": 0.008717603050172329, \"180\": 0.036871287971735, \"181\": -0.02990231104195118, \"182\": -0.004134324379265308, \"183\": -0.02521645650267601, \"184\": 0.01265916507691145, \"185\": -0.032425276935100555, \"186\": 0.02289682626724243, \"187\": 0.003500100690871477, \"188\": -0.002449118997901678, \"189\": -0.01688864640891552, \"190\": -0.01506306417286396, \"191\": -0.009218472987413406, \"192\": -0.027856387197971344, \"193\": 0.024171624332666397, \"194\": -0.015200477093458176, \"195\": -0.034011997282505035, \"196\": -0.012998347170650959, \"197\": 3.584849400795065e-05, \"198\": 0.01907655969262123, \"199\": 0.013840047642588615, \"index\": 19, \"NATIONALITY\": \"Bahrain\"}, {\"query\": \"Sayed Husain Abdul Aziz Al Alwi\", \"0\": 0.33807098865509033, \"1\": 0.10218892246484756, \"2\": -0.030887924134731293, \"3\": -0.04376649111509323, \"4\": -0.12132206559181213, \"5\": -0.05137596279382706, \"6\": 0.0029501139651983976, \"7\": -0.13996420800685883, \"8\": 0.19892916083335876, \"9\": -0.034063395112752914, \"10\": 0.1002790704369545, \"11\": -0.011272391304373741, \"12\": 0.04493514820933342, \"13\": 0.024184109643101692, \"14\": -0.10058360546827316, \"15\": 0.0638604536652565, \"16\": 0.030315162613987923, \"17\": 0.013545991852879524, \"18\": 0.06627053022384644, \"19\": 0.0822383239865303, \"20\": 0.004575629718601704, \"21\": 0.10078850388526917, \"22\": -0.12749533355236053, \"23\": -0.03444068133831024, \"24\": 0.037701960653066635, \"25\": 0.0195214431732893, \"26\": 0.03559872880578041, \"27\": 0.11252368986606598, \"28\": 0.014965463429689407, \"29\": 0.07734713703393936, \"30\": -0.11081968247890472, \"31\": 0.08112207800149918, \"32\": -0.03759373724460602, \"33\": 0.04141586646437645, \"34\": 5.260048055788502e-05, \"35\": -0.04644254222512245, \"36\": 0.0035158945247530937, \"37\": 0.02917945384979248, \"38\": -0.019158801063895226, \"39\": -0.07467269152402878, \"40\": 0.09261868894100189, \"41\": 0.04763380438089371, \"42\": 0.004028138238936663, \"43\": 0.03822966665029526, \"44\": -0.053060054779052734, \"45\": 0.0573369525372982, \"46\": -0.08403550833463669, \"47\": 0.005189268384128809, \"48\": 0.055362287908792496, \"49\": 0.017215771600604057, \"50\": -0.06132318824529648, \"51\": 0.07219403982162476, \"52\": 0.04731902480125427, \"53\": 0.04991741105914116, \"54\": -0.0148177370429039, \"55\": -0.02153231017291546, \"56\": 0.05756959319114685, \"57\": 0.02797643467783928, \"58\": 0.024357352405786514, \"59\": -0.015338144265115261, \"60\": 0.01912999153137207, \"61\": -0.011135619133710861, \"62\": 0.023016637191176414, \"63\": 0.01515012513846159, \"64\": -0.07738906145095825, \"65\": -0.019944703206419945, \"66\": -0.0286598838865757, \"67\": 0.021852383390069008, \"68\": -0.03242290019989014, \"69\": -0.04749847576022148, \"70\": -0.01958879455924034, \"71\": -0.03938193991780281, \"72\": 0.02517225220799446, \"73\": -0.030992262065410614, \"74\": 0.017714809626340866, \"75\": 0.025713887065649033, \"76\": -0.04506072402000427, \"77\": -0.00011810654541477561, \"78\": -0.03623161464929581, \"79\": 0.00022022005578037351, \"80\": 0.05576184764504433, \"81\": -0.043420106172561646, \"82\": 0.026290755718946457, \"83\": 0.023956162855029106, \"84\": 0.044481247663497925, \"85\": 0.01847965456545353, \"86\": -0.08132588863372803, \"87\": 0.07073512673377991, \"88\": 0.004554274026304483, \"89\": 0.050425153225660324, \"90\": -0.026323901489377022, \"91\": -0.006214234046638012, \"92\": -0.006905560381710529, \"93\": 0.01615077815949917, \"94\": -0.009144602343440056, \"95\": -0.030514640733599663, \"96\": -0.004331945441663265, \"97\": -0.024179894477128983, \"98\": -0.01696011982858181, \"99\": -0.053712036460638046, \"100\": 0.031767141073942184, \"101\": -0.047341883182525635, \"102\": 0.027663767337799072, \"103\": 0.0293577928096056, \"104\": -0.014233525842428207, \"105\": 0.04713157191872597, \"106\": 0.0403745211660862, \"107\": 0.04348931089043617, \"108\": 0.054836455732584, \"109\": -0.017561152577400208, \"110\": 0.022911857813596725, \"111\": -0.1116316169500351, \"112\": 0.03195247799158096, \"113\": 0.024211883544921875, \"114\": -0.049167878925800323, \"115\": -0.04145300015807152, \"116\": 0.02815084531903267, \"117\": 0.02228081412613392, \"118\": -0.011659573763608932, \"119\": -0.0032347897067666054, \"120\": 0.047794975340366364, \"121\": 0.010304231196641922, \"122\": 0.031364504247903824, \"123\": 0.012334363535046577, \"124\": -0.0023755922447890043, \"125\": 0.01505341101437807, \"126\": -0.03036998026072979, \"127\": 0.025946812704205513, \"128\": -0.035688366740942, \"129\": -0.07605965435504913, \"130\": -0.00834212452173233, \"131\": 0.008882813155651093, \"132\": 0.009498042054474354, \"133\": 0.035971321165561676, \"134\": -0.050631724298000336, \"135\": 0.040989719331264496, \"136\": -0.04199083894491196, \"137\": -0.023476731032133102, \"138\": -0.0002945336455013603, \"139\": -0.0044871363788843155, \"140\": -0.00456433417275548, \"141\": 0.0020260007586330175, \"142\": 0.0029182538855820894, \"143\": -0.013990645296871662, \"144\": -0.05222642049193382, \"145\": 0.02881004475057125, \"146\": 0.026788394898176193, \"147\": -0.017609013244509697, \"148\": -0.031179746612906456, \"149\": 0.02242673747241497, \"150\": -0.007155569735914469, \"151\": -0.004453793168067932, \"152\": -0.023617606610059738, \"153\": -0.040377479046583176, \"154\": 0.00020666916680056602, \"155\": -0.011792922392487526, \"156\": 0.01283514965325594, \"157\": 0.021899905055761337, \"158\": 0.024279477074742317, \"159\": 0.024203049018979073, \"160\": -0.03043036162853241, \"161\": 0.0067769065499305725, \"162\": 0.007070209830999374, \"163\": 0.01465216837823391, \"164\": 0.012481099925935268, \"165\": 0.00037680554669350386, \"166\": -0.04291572794318199, \"167\": -0.03798791021108627, \"168\": -0.04199014604091644, \"169\": -0.017475254833698273, \"170\": 0.024083375930786133, \"171\": -0.005481205880641937, \"172\": -0.018815364688634872, \"173\": 0.02109038084745407, \"174\": 0.017187681049108505, \"175\": -0.02624605782330036, \"176\": -0.01628464087843895, \"177\": -0.05017103999853134, \"178\": -0.021383365616202354, \"179\": -0.025804663076996803, \"180\": 0.002132859081029892, \"181\": 0.042639996856451035, \"182\": 0.016473308205604553, \"183\": 0.03787210211157799, \"184\": 0.04506935551762581, \"185\": 0.03661392629146576, \"186\": 0.04931939020752907, \"187\": -0.02945498749613762, \"188\": 0.0030486632604151964, \"189\": 0.028454512357711792, \"190\": 0.03306307643651962, \"191\": 0.023926863446831703, \"192\": 0.019851790741086006, \"193\": 0.007632164750248194, \"194\": -0.013354235328733921, \"195\": 0.025803154334425926, \"196\": -0.047259461134672165, \"197\": 0.04790006950497627, \"198\": -0.018643241375684738, \"199\": -0.003975763916969299, \"index\": 20, \"NATIONALITY\": \"Bahrain\"}, {\"query\": \"Ali Hasan Mohamed Almansoori\", \"0\": 0.4247133731842041, \"1\": 0.05573837086558342, \"2\": 0.03048585169017315, \"3\": -0.08055702596902847, \"4\": -0.003467925125733018, \"5\": -0.12877157330513, \"6\": 0.03760905563831329, \"7\": 0.029759138822555542, \"8\": 0.08700402826070786, \"9\": -0.08624892681837082, \"10\": 0.08196450769901276, \"11\": -0.10226843506097794, \"12\": 0.15062637627124786, \"13\": 0.005902810022234917, \"14\": -0.0023964697029441595, \"15\": 0.023910045623779297, \"16\": 0.008879057131707668, \"17\": -0.11442992836236954, \"18\": -0.054169271141290665, \"19\": 0.04670768231153488, \"20\": -0.006125790067017078, \"21\": 0.03212152421474457, \"22\": 0.01639130897819996, \"23\": 0.03578345850110054, \"24\": -0.010509710758924484, \"25\": -0.09606176614761353, \"26\": 0.04904436320066452, \"27\": 0.1159920021891594, \"28\": -0.0026722631882876158, \"29\": 0.014974902383983135, \"30\": 0.010110236704349518, \"31\": 0.0029602323193103075, \"32\": -0.06251756101846695, \"33\": 0.011344407685101032, \"34\": 0.0032033282332122326, \"35\": -0.01177259348332882, \"36\": -0.1011343002319336, \"37\": -0.03778625279664993, \"38\": 0.10796605795621872, \"39\": 0.08714020997285843, \"40\": 0.05446966737508774, \"41\": -0.025135638192296028, \"42\": 0.040264710783958435, \"43\": 0.011123154312372208, \"44\": -0.031200742349028587, \"45\": -0.013267334550619125, \"46\": -0.010463930666446686, \"47\": -0.013682370074093342, \"48\": 0.014507844112813473, \"49\": 0.04650256037712097, \"50\": -0.025931227952241898, \"51\": 0.002534437458962202, \"52\": -0.08066286891698837, \"53\": 0.00783462729305029, \"54\": 0.018674755468964577, \"55\": -0.06337784975767136, \"56\": -0.03152710571885109, \"57\": 0.00446098018437624, \"58\": -0.05158619210124016, \"59\": 0.02662653662264347, \"60\": -0.010250771418213844, \"61\": 0.055668119341135025, \"62\": -0.06938599050045013, \"63\": -0.02283574640750885, \"64\": 0.033231548964977264, \"65\": -0.005943664815276861, \"66\": 0.07277403771877289, \"67\": 0.0316661037504673, \"68\": 0.06506273150444031, \"69\": -0.028735890984535217, \"70\": -0.014072461985051632, \"71\": -0.04261830076575279, \"72\": -0.007343614473938942, \"73\": -0.010135519318282604, \"74\": -0.05361579731106758, \"75\": -0.0025228022132068872, \"76\": -0.025371791794896126, \"77\": -0.002563311718404293, \"78\": -0.06238039582967758, \"79\": -0.0173881147056818, \"80\": 0.040513429790735245, \"81\": 0.041475944221019745, \"82\": -0.0013725233729928732, \"83\": 0.0597422793507576, \"84\": -0.02761353924870491, \"85\": -0.06367362290620804, \"86\": 0.0827043354511261, \"87\": 0.020455846562981606, \"88\": 0.04168632626533508, \"89\": -0.007094393949955702, \"90\": 0.01819063164293766, \"91\": 0.042220696806907654, \"92\": -0.01206519827246666, \"93\": -0.004447067156434059, \"94\": -0.06669408828020096, \"95\": 0.042440298944711685, \"96\": 0.03841341286897659, \"97\": -0.035017918795347214, \"98\": -0.033079009503126144, \"99\": 0.06819501519203186, \"100\": -0.03180898353457451, \"101\": -0.0265398807823658, \"102\": 0.020717468112707138, \"103\": -0.006124603562057018, \"104\": -0.09685811400413513, \"105\": 0.0015339175006374717, \"106\": 0.04765014350414276, \"107\": -0.02618742361664772, \"108\": 0.004615613259375095, \"109\": -0.03135358914732933, \"110\": 0.004227471072226763, \"111\": -0.008474226109683514, \"112\": 0.02536405436694622, \"113\": -0.08638276159763336, \"114\": 0.01723473146557808, \"115\": -0.033234573900699615, \"116\": 0.00803165789693594, \"117\": 0.050841089338064194, \"118\": 0.05461825430393219, \"119\": 0.03587482497096062, \"120\": -0.038235846906900406, \"121\": -0.014684062451124191, \"122\": 0.030805109068751335, \"123\": 0.03850521147251129, \"124\": 0.01625775545835495, \"125\": 0.02242535911500454, \"126\": -0.025849511846899986, \"127\": 0.008133883588016033, \"128\": -0.030503900721669197, \"129\": 0.028327040374279022, \"130\": -0.005662886891514063, \"131\": 0.020416950806975365, \"132\": 0.022349709644913673, \"133\": 0.03193094581365585, \"134\": 0.0022537510376423597, \"135\": -0.06529726088047028, \"136\": 0.04354323446750641, \"137\": 0.07679103314876556, \"138\": 0.01988251507282257, \"139\": 0.001954835606738925, \"140\": 0.0026509463787078857, \"141\": -0.015061750076711178, \"142\": -0.010482224635779858, \"143\": 0.013653455302119255, \"144\": -0.02027980238199234, \"145\": -0.0207226425409317, \"146\": -0.009544399566948414, \"147\": -0.008900826796889305, \"148\": -0.04610467702150345, \"149\": 0.038909267634153366, \"150\": -0.02278636395931244, \"151\": -0.00810769572854042, \"152\": -0.03894452750682831, \"153\": -0.03141394257545471, \"154\": -0.04575606808066368, \"155\": 0.043382592499256134, \"156\": -0.01628432795405388, \"157\": 0.005001421552151442, \"158\": 0.025443170219659805, \"159\": 0.01844649203121662, \"160\": -0.011750861071050167, \"161\": -0.017478138208389282, \"162\": -0.019379209727048874, \"163\": -0.010164688341319561, \"164\": 0.048609938472509384, \"165\": -0.006387222558259964, \"166\": -0.033203933387994766, \"167\": 0.010557077825069427, \"168\": 0.046491798013448715, \"169\": 0.011054480448365211, \"170\": 0.016702737659215927, \"171\": -0.023181552067399025, \"172\": -0.004044258501380682, \"173\": -0.004756579641252756, \"174\": -0.0144959082826972, \"175\": 0.0006380050908774137, \"176\": -0.02557864598929882, \"177\": -0.0008418725919909775, \"178\": 0.013264263048768044, \"179\": 0.0003948967787437141, \"180\": -0.01400247123092413, \"181\": 0.046755433082580566, \"182\": -0.019652243703603745, \"183\": 0.0197908915579319, \"184\": 0.02923780493438244, \"185\": -0.0039727273397147655, \"186\": 0.025184763595461845, \"187\": -0.01923566870391369, \"188\": -0.0017298924503847957, \"189\": -0.03690557926893234, \"190\": -0.012368128634989262, \"191\": -0.01138960663229227, \"192\": 6.099268648540601e-05, \"193\": -0.008178086951375008, \"194\": 0.0033840714022517204, \"195\": 0.0175390113145113, \"196\": -0.006891259923577309, \"197\": 0.02161945216357708, \"198\": 0.0006459939177148044, \"199\": 0.005639423616230488, \"index\": 21, \"NATIONALITY\": \"Bahrain\"}, {\"query\": \"Mohd Shah Nawaz Siddique Al Haj\", \"0\": 0.2909298539161682, \"1\": -0.03277619183063507, \"2\": 0.013141993433237076, \"3\": 0.05501667410135269, \"4\": -0.105892613530159, \"5\": -0.055170655250549316, \"6\": -0.0017483850242570043, \"7\": 0.039792366325855255, \"8\": 0.05562937632203102, \"9\": 0.04531136900186539, \"10\": 0.04112168028950691, \"11\": -0.06371960788965225, \"12\": -0.018870869651436806, \"13\": 0.13622596859931946, \"14\": -0.05817023664712906, \"15\": 0.0330905057489872, \"16\": 0.0871414765715599, \"17\": -0.0324881486594677, \"18\": 0.042340654879808426, \"19\": 0.034833118319511414, \"20\": 0.022760044783353806, \"21\": -0.056836776435375214, \"22\": -0.007176512386649847, \"23\": -0.08176547288894653, \"24\": -0.16496208310127258, \"25\": 0.016344740986824036, \"26\": -0.06462039798498154, \"27\": 0.0772186815738678, \"28\": 0.01363678090274334, \"29\": -0.012309180572628975, \"30\": -0.05952507629990578, \"31\": 0.005789969582110643, \"32\": 0.01863306760787964, \"33\": -0.05813954398036003, \"34\": 0.009027373977005482, \"35\": 0.04157566279172897, \"36\": 0.012278426438570023, \"37\": 0.028377216309309006, \"38\": -0.06936093419790268, \"39\": -0.03233885392546654, \"40\": 0.02536744996905327, \"41\": 0.03694655001163483, \"42\": 0.05702773481607437, \"43\": 0.002412529196590185, \"44\": 0.01073105726391077, \"45\": -0.029035504907369614, \"46\": -0.033439114689826965, \"47\": 0.01707177609205246, \"48\": 0.00030498733394779265, \"49\": 0.04256267845630646, \"50\": -0.1284685581922531, \"51\": 0.041183795779943466, \"52\": 0.0213566143065691, \"53\": 0.03145211562514305, \"54\": 0.07994165271520615, \"55\": -0.010061613284051418, \"56\": 0.08147824555635452, \"57\": 0.018832197412848473, \"58\": 0.004267454147338867, \"59\": -0.08441538363695145, \"60\": -0.027716265991330147, \"61\": -0.005400288850069046, \"62\": 0.026747100055217743, \"63\": 0.014304190874099731, \"64\": 0.011456596665084362, \"65\": 0.06317680329084396, \"66\": 0.01446768082678318, \"67\": -0.04082764312624931, \"68\": 0.010235452093183994, \"69\": -0.028763165697455406, \"70\": 0.16886447370052338, \"71\": -0.054917655885219574, \"72\": -0.039723385125398636, \"73\": -0.0011898407246917486, \"74\": 0.030352313071489334, \"75\": -0.039632443338632584, \"76\": -0.029098236933350563, \"77\": -0.06179654225707054, \"78\": -0.08007317036390305, \"79\": 0.031691111624240875, \"80\": -0.02318529784679413, \"81\": -0.004910361487418413, \"82\": -0.04160263016819954, \"83\": 0.01429691631346941, \"84\": -0.03149671107530594, \"85\": 0.07740505039691925, \"86\": -0.112567238509655, \"87\": 0.024857910349965096, \"88\": 0.04573750123381615, \"89\": 0.033796366304159164, \"90\": -0.010662765242159367, \"91\": 0.012673566117882729, \"92\": 0.007824188098311424, \"93\": -0.02271413430571556, \"94\": 0.010804707184433937, \"95\": -0.047975823283195496, \"96\": -0.0440824069082737, \"97\": -0.0123617397621274, \"98\": -0.023339692503213882, \"99\": -0.004090983886271715, \"100\": 0.027759669348597527, \"101\": -0.0701604038476944, \"102\": -0.032756440341472626, \"103\": 0.0029923252295702696, \"104\": -0.06425017863512039, \"105\": -0.0010051620192825794, \"106\": 0.046941183507442474, \"107\": -0.01788352243602276, \"108\": -0.027585245668888092, \"109\": -0.06091694161295891, \"110\": 0.042807985097169876, \"111\": -0.056779950857162476, \"112\": -0.06268978118896484, \"113\": 0.07385440915822983, \"114\": -0.02173083834350109, \"115\": 0.006417071912437677, \"116\": 0.046877630054950714, \"117\": 0.03484172746539116, \"118\": 0.02673812210559845, \"119\": -0.01168484054505825, \"120\": 0.022585134953260422, \"121\": 0.018469829112291336, \"122\": 0.015718072652816772, \"123\": 0.008355013094842434, \"124\": 0.02437189221382141, \"125\": -0.010853933170437813, \"126\": -0.07069811969995499, \"127\": -0.011645441874861717, \"128\": -0.04599449783563614, \"129\": 0.007795626763254404, \"130\": 0.027996715158224106, \"131\": 0.022630317136645317, \"132\": -0.01664530299603939, \"133\": -0.03177541866898537, \"134\": 0.0193927064538002, \"135\": -0.03557677939534187, \"136\": 0.03931710124015808, \"137\": 0.007269315421581268, \"138\": 0.021233662962913513, \"139\": 0.0725361630320549, \"140\": -0.0024103294126689434, \"141\": -0.004545839037746191, \"142\": -0.06361418962478638, \"143\": -0.001034504733979702, \"144\": -0.03091033734381199, \"145\": -0.05691183730959892, \"146\": -0.018321596086025238, \"147\": 0.09087122231721878, \"148\": 0.00840061902999878, \"149\": -0.02802305854856968, \"150\": 0.011546104215085506, \"151\": -0.016584299504756927, \"152\": 0.008109388872981071, \"153\": 0.011655154637992382, \"154\": -0.0057950750924646854, \"155\": 0.01694205403327942, \"156\": -0.04182257875800133, \"157\": -0.007913383655250072, \"158\": 0.03550095856189728, \"159\": 0.013414382003247738, \"160\": -0.0183971356600523, \"161\": 0.048478130251169205, \"162\": -0.020219193771481514, \"163\": 0.009925249963998795, \"164\": 0.03751056641340256, \"165\": 0.0008754385635256767, \"166\": 0.006883916445076466, \"167\": 0.04652385041117668, \"168\": -0.023897862061858177, \"169\": -0.03853266313672066, \"170\": 0.041907113045454025, \"171\": 0.007601180579513311, \"172\": -0.009586157277226448, \"173\": -0.012109880335628986, \"174\": 0.05428676679730415, \"175\": 0.045260559767484665, \"176\": 0.039979446679353714, \"177\": -0.0062587992288172245, \"178\": 0.05121162533760071, \"179\": 0.05083075538277626, \"180\": 0.01855233497917652, \"181\": -0.003460145089775324, \"182\": -0.00210284860804677, \"183\": 0.003447958966717124, \"184\": -0.03153996542096138, \"185\": 0.012291709892451763, \"186\": -0.015368903987109661, \"187\": 0.005252334289252758, \"188\": 0.00048604674520902336, \"189\": -0.003349265083670616, \"190\": -0.006726639810949564, \"191\": 0.03227321803569794, \"192\": -0.028583083301782608, \"193\": -0.031011635437607765, \"194\": 0.016345471143722534, \"195\": -0.00023462726676370949, \"196\": -0.0009873182279989123, \"197\": -0.061720531433820724, \"198\": -0.0033374670892953873, \"199\": -0.002815763233229518, \"index\": 22, \"NATIONALITY\": \"Bangladesh\"}, {\"query\": \"Md. Syed Hossain Abul Hashem\", \"0\": 0.2587703764438629, \"1\": -0.07411125302314758, \"2\": -0.03699006885290146, \"3\": 0.10207099467515945, \"4\": -0.07481249421834946, \"5\": -0.04029536619782448, \"6\": -0.009794804267585278, \"7\": 0.0665954127907753, \"8\": -0.07222992926836014, \"9\": -0.10829756408929825, \"10\": 0.014490282163023949, \"11\": -0.06011306867003441, \"12\": -0.13867594301700592, \"13\": -0.030726952478289604, \"14\": -0.14506836235523224, \"15\": 0.08370887488126755, \"16\": 0.06633857637643814, \"17\": -0.05401711165904999, \"18\": -0.07202158123254776, \"19\": -0.04759564995765686, \"20\": 0.004662597551941872, \"21\": -0.07580821216106415, \"22\": 0.0012694199103862047, \"23\": 0.024256063625216484, \"24\": 0.07618322968482971, \"25\": 0.061146482825279236, \"26\": 0.05452105402946472, \"27\": 0.17065484821796417, \"28\": 0.0350261814892292, \"29\": -0.02699795365333557, \"30\": -0.08264877647161484, \"31\": -0.037003327161073685, \"32\": 0.014634081162512302, \"33\": 0.02379520609974861, \"34\": -0.005374104715883732, \"35\": 0.018982108682394028, \"36\": -0.061159368604421616, \"37\": 0.034154877066612244, \"38\": -0.008595885708928108, \"39\": -0.01538473553955555, \"40\": 0.10244128108024597, \"41\": -0.023967210203409195, \"42\": -0.03938025236129761, \"43\": -0.10564597696065903, \"44\": -0.1378178894519806, \"45\": 0.1653451919555664, \"46\": 0.004402833990752697, \"47\": -0.059180501848459244, \"48\": 0.016603555530309677, \"49\": -0.08702189475297928, \"50\": -0.026790032163262367, \"51\": -0.009306272491812706, \"52\": 0.04308968037366867, \"53\": 0.09689279645681381, \"54\": -0.07669554650783539, \"55\": -0.08476477116346359, \"56\": 0.04308168590068817, \"57\": 0.008626184426248074, \"58\": 0.11981575936079025, \"59\": -0.05136951804161072, \"60\": 0.053922396153211594, \"61\": 0.05353221297264099, \"62\": -0.04031451418995857, \"63\": -0.09014527499675751, \"64\": 0.010253094136714935, \"65\": 0.003018816700205207, \"66\": 0.006641795858740807, \"67\": -0.07054631412029266, \"68\": 0.012330172583460808, \"69\": -0.013808151707053185, \"70\": 0.0703599750995636, \"71\": 0.005755594931542873, \"72\": -0.005404922179877758, \"73\": 0.017963819205760956, \"74\": 0.033206962049007416, \"75\": 0.04388745129108429, \"76\": -0.015795135870575905, \"77\": -0.08028947561979294, \"78\": -0.01369545515626669, \"79\": -0.029392553493380547, \"80\": -0.04146454855799675, \"81\": 0.0397520586848259, \"82\": 0.048229433596134186, \"83\": -0.017443520948290825, \"84\": 0.02488519251346588, \"85\": 0.06738937646150589, \"86\": -0.01556343212723732, \"87\": -0.01091277040541172, \"88\": -0.005228566005825996, \"89\": -0.01118955947458744, \"90\": -0.04306939244270325, \"91\": 0.018801454454660416, \"92\": -0.0016730086645111442, \"93\": 0.03709257394075394, \"94\": 0.01609017513692379, \"95\": -0.013143906369805336, \"96\": 0.018775634467601776, \"97\": -0.026043027639389038, \"98\": -0.016995744779706, \"99\": -0.016653364524245262, \"100\": -0.03688472881913185, \"101\": 0.01076770480722189, \"102\": 0.028575679287314415, \"103\": 0.04096556827425957, \"104\": -0.01743016391992569, \"105\": 0.0329454205930233, \"106\": 0.0361274890601635, \"107\": 0.06266974657773972, \"108\": -0.018001161515712738, \"109\": 0.0006361082778312266, \"110\": -0.015644792467355728, \"111\": -0.05684474855661392, \"112\": -0.05487729236483574, \"113\": 0.02564680576324463, \"114\": 0.008184676058590412, \"115\": -0.029582064598798752, \"116\": 0.02737020142376423, \"117\": -0.05091198906302452, \"118\": 0.03443308547139168, \"119\": -0.036452386528253555, \"120\": -0.016716675832867622, \"121\": 0.04699617251753807, \"122\": 0.06769592314958572, \"123\": -0.05818340927362442, \"124\": -0.007697055581957102, \"125\": 0.0006324435235001147, \"126\": -0.020523937419056892, \"127\": 0.02236185595393181, \"128\": -0.10216206312179565, \"129\": -0.06281262636184692, \"130\": 0.00724478205665946, \"131\": -0.009625357575714588, \"132\": 0.025427455082535744, \"133\": 0.005725625902414322, \"134\": -0.00793909840285778, \"135\": 0.04043373465538025, \"136\": -0.023010484874248505, \"137\": -0.028573481366038322, \"138\": 0.023329587653279305, \"139\": 0.03164324536919594, \"140\": -0.00591155095025897, \"141\": 0.023617228493094444, \"142\": -0.007923792116343975, \"143\": 0.007025198545306921, \"144\": -0.012488764710724354, \"145\": -0.005226936191320419, \"146\": -0.004998766351491213, \"147\": -0.03280429542064667, \"148\": -3.8031521398806944e-05, \"149\": 0.007019582204520702, \"150\": 0.032280612736940384, \"151\": -0.01769185997545719, \"152\": 0.012794112786650658, \"153\": 0.06591419875621796, \"154\": -0.006061675492674112, \"155\": -0.040240708738565445, \"156\": 0.028044018894433975, \"157\": 0.013615868054330349, \"158\": 0.021276293322443962, \"159\": -0.025685129687190056, \"160\": 0.038282670080661774, \"161\": -0.0076325684785842896, \"162\": -0.00938042439520359, \"163\": -0.07255786657333374, \"164\": -0.05314936116337776, \"165\": 0.041281089186668396, \"166\": -0.0076527781784534454, \"167\": -0.046874623745679855, \"168\": -0.00597248924896121, \"169\": 0.022378655150532722, \"170\": -0.02664818800985813, \"171\": 0.04363146796822548, \"172\": -0.028833827003836632, \"173\": -0.014578305184841156, \"174\": -0.014322001487016678, \"175\": 0.025583559647202492, \"176\": 0.037339095026254654, \"177\": -0.0021696186158806086, \"178\": 0.01453232578933239, \"179\": -0.042024727910757065, \"180\": 0.005164282396435738, \"181\": 0.04911135882139206, \"182\": -0.026436014100909233, \"183\": 0.02895733155310154, \"184\": 0.029094062745571136, \"185\": -0.030977291986346245, \"186\": -0.007407975848764181, \"187\": -0.010484384372830391, \"188\": -0.07339459657669067, \"189\": -0.027684710919857025, \"190\": 0.0023417030461132526, \"191\": -0.04344506561756134, \"192\": -0.017482588067650795, \"193\": 0.020348060876131058, \"194\": 0.028177713975310326, \"195\": 0.03060021437704563, \"196\": 0.019370170310139656, \"197\": 0.025923170149326324, \"198\": 0.010764866136014462, \"199\": -0.006291705183684826, \"index\": 23, \"NATIONALITY\": \"Bangladesh\"}, {\"query\": \"Mohd Nazmul Huda Late Alhaj Ahamed Nazmul Huda Late Alhaj Ahamed\", \"0\": 0.19161586463451385, \"1\": -0.07766935974359512, \"2\": -0.06510026752948761, \"3\": 0.1272159367799759, \"4\": -0.037420134991407394, \"5\": -0.05608285218477249, \"6\": 0.10977575927972794, \"7\": 0.05708087608218193, \"8\": 0.013053077273070812, \"9\": -0.028380876407027245, \"10\": -0.0659288614988327, \"11\": -0.08530180901288986, \"12\": -0.025557667016983032, \"13\": 0.09202446788549423, \"14\": -0.06758518517017365, \"15\": 0.045285820960998535, \"16\": 0.08931262791156769, \"17\": 0.01719166338443756, \"18\": 0.04977985471487045, \"19\": -0.013820523396134377, \"20\": 0.03855171799659729, \"21\": -0.003907511476427317, \"22\": -0.06864053755998611, \"23\": 0.020942673087120056, \"24\": -0.015126878395676613, \"25\": -0.010512648150324821, \"26\": 0.021129954606294632, \"27\": 0.1961715966463089, \"28\": -0.0862017422914505, \"29\": -0.1019880622625351, \"30\": -0.09526944905519485, \"31\": 0.06888455897569656, \"32\": 0.026109827682375908, \"33\": -0.10257583111524582, \"34\": 0.07528169453144073, \"35\": 0.0345749706029892, \"36\": 0.02102689817547798, \"37\": 0.04024491086602211, \"38\": -0.05611583963036537, \"39\": 0.04186338186264038, \"40\": 0.003439946798607707, \"41\": 0.026740407571196556, \"42\": -0.037646111100912094, \"43\": -0.04613720253109932, \"44\": -0.010493445210158825, \"45\": 0.001461902866140008, \"46\": -0.03951409459114075, \"47\": 0.013163059018552303, \"48\": 0.0011065566213801503, \"49\": 0.05330118164420128, \"50\": -0.046371277421712875, \"51\": -0.0027154721319675446, \"52\": 0.016538314521312714, \"53\": 0.014388891868293285, \"54\": 0.03457769379019737, \"55\": -0.02644316293299198, \"56\": 0.0712340697646141, \"57\": 0.07062957435846329, \"58\": -0.031807247549295425, \"59\": -0.04544553533196449, \"60\": 0.09863868355751038, \"61\": 0.015925753861665726, \"62\": 0.013742614537477493, \"63\": -0.034409698098897934, \"64\": -0.03529826179146767, \"65\": 0.05412738025188446, \"66\": 0.009347298182547092, \"67\": -0.06714703887701035, \"68\": -0.00911285076290369, \"69\": -0.042659156024456024, \"70\": 0.07525226473808289, \"71\": 0.005796929821372032, \"72\": 0.006293932441622019, \"73\": 0.012496857903897762, \"74\": 0.004645999055355787, \"75\": -0.029032280668616295, \"76\": -0.0408698171377182, \"77\": -0.02877202257514, \"78\": -0.03574210777878761, \"79\": 0.03196244314312935, \"80\": -0.001864677295088768, \"81\": 0.0350768119096756, \"82\": 0.010154305957257748, \"83\": 0.015089794062077999, \"84\": -0.03833090141415596, \"85\": 0.01457594521343708, \"86\": -0.0003400030836928636, \"87\": -0.005779856350272894, \"88\": 0.014956247992813587, \"89\": -0.06220226734876633, \"90\": -0.031007759273052216, \"91\": 0.013422071933746338, \"92\": -4.848934622714296e-05, \"93\": 0.013808557763695717, \"94\": 0.040425971150398254, \"95\": -0.023789091035723686, \"96\": -0.1344483643770218, \"97\": 0.05017005279660225, \"98\": -0.037660613656044006, \"99\": -0.05406961962580681, \"100\": 0.0643351674079895, \"101\": -0.0019736522808670998, \"102\": -0.03429407998919487, \"103\": 0.024146633222699165, \"104\": -0.006827350705862045, \"105\": 0.06180625036358833, \"106\": 0.04826609790325165, \"107\": 0.014239536598324776, \"108\": -0.008552735671401024, \"109\": -0.017353815957903862, \"110\": -0.019425218924880028, \"111\": -0.009082659147679806, \"112\": -0.0029301561880856752, \"113\": 0.030211826786398888, \"114\": 0.012909868732094765, \"115\": 0.004110405221581459, \"116\": 0.01725388690829277, \"117\": 0.009160513989627361, \"118\": -0.0398479662835598, \"119\": 0.03251691162586212, \"120\": 0.0005493491189554334, \"121\": 0.0020505900029093027, \"122\": -0.02900541014969349, \"123\": -0.11778177320957184, \"124\": -0.013439906761050224, \"125\": -0.07646957039833069, \"126\": -0.051872845739126205, \"127\": 0.006497292313724756, \"128\": -0.05830463767051697, \"129\": -0.004941323306411505, \"130\": -0.013592340983450413, \"131\": -0.033346474170684814, \"132\": -0.05705631896853447, \"133\": 0.0031530929263681173, \"134\": -0.00021010247291997075, \"135\": -0.0565401054918766, \"136\": -0.012914183549582958, \"137\": -0.0347539484500885, \"138\": -0.01983143761754036, \"139\": 0.0704537034034729, \"140\": 0.022987132892012596, \"141\": -0.025086350739002228, \"142\": -0.020940514281392097, \"143\": 0.009377873502671719, \"144\": 0.014643521048128605, \"145\": 0.01065982598811388, \"146\": -0.010547435842454433, \"147\": 0.03561146929860115, \"148\": -0.01541310828179121, \"149\": 0.04415542259812355, \"150\": -0.010169168002903461, \"151\": -0.01283877994865179, \"152\": 0.05040701851248741, \"153\": 0.00418033916503191, \"154\": -0.028069715946912766, \"155\": -0.0008548213518224657, \"156\": 0.01429112907499075, \"157\": 0.044438086450099945, \"158\": 0.01376293133944273, \"159\": -0.027769729495048523, \"160\": 0.01692158915102482, \"161\": 0.013049586676061153, \"162\": -0.022544967010617256, \"163\": -0.017576653510332108, \"164\": 0.02359139546751976, \"165\": 0.05404625087976456, \"166\": 0.0996655523777008, \"167\": -0.04945586994290352, \"168\": -0.002421395154669881, \"169\": 0.009582199156284332, \"170\": 0.0031582012306898832, \"171\": 0.008884637616574764, \"172\": 0.03907299414277077, \"173\": 0.022118793800473213, \"174\": -0.0035761878825724125, \"175\": 0.008626949042081833, \"176\": 0.05156118422746658, \"177\": 0.006935954559594393, \"178\": 0.008331473916769028, \"179\": 0.04882979020476341, \"180\": 0.00905481819063425, \"181\": -0.019109070301055908, \"182\": -0.026235543191432953, \"183\": 0.013431169092655182, \"184\": -0.03392226621508598, \"185\": 0.003220165614038706, \"186\": -0.006245580967515707, \"187\": 0.01968075893819332, \"188\": 0.022792981937527657, \"189\": -0.02439894713461399, \"190\": 0.008133183233439922, \"191\": -0.017801880836486816, \"192\": -0.03272010385990143, \"193\": 0.014662238769233227, \"194\": -0.015886841341853142, \"195\": 0.017321567982435226, \"196\": -0.016882827505469322, \"197\": -0.020142067223787308, \"198\": 0.002210070611909032, \"199\": 0.06800390034914017, \"index\": 24, \"NATIONALITY\": \"Bangladesh\"}, {\"query\": \"Mohammad Tazul Islam Mustakim\", \"0\": 0.23543144762516022, \"1\": -0.10325001925230026, \"2\": -0.10789881646633148, \"3\": 0.2616003751754761, \"4\": -0.039546262472867966, \"5\": 0.04973180592060089, \"6\": 0.14284974336624146, \"7\": 0.2204451560974121, \"8\": 0.05913884565234184, \"9\": -0.024209236726164818, \"10\": -0.018439708277583122, \"11\": 0.018092913553118706, \"12\": 0.003867901861667633, \"13\": 0.04902825504541397, \"14\": -0.084126777946949, \"15\": 0.03169228881597519, \"16\": -0.035067424178123474, \"17\": 0.0001866151869762689, \"18\": 0.008792824111878872, \"19\": 0.05059327557682991, \"20\": 0.00429940689355135, \"21\": 0.07438528537750244, \"22\": -0.05001538246870041, \"23\": 0.0237985011190176, \"24\": 0.09517763555049896, \"25\": 0.03654646873474121, \"26\": 0.08271815627813339, \"27\": -0.038459643721580505, \"28\": 0.00046337372623384, \"29\": 0.018001670017838478, \"30\": -0.04500516131520271, \"31\": 0.09408028423786163, \"32\": -0.016918765380978584, \"33\": -0.0009387029567733407, \"34\": 0.016021914780139923, \"35\": 0.04783603176474571, \"36\": -0.08045453578233719, \"37\": 0.027822164818644524, \"38\": 0.08269815891981125, \"39\": -0.052395522594451904, \"40\": 0.0126988235861063, \"41\": -0.08715324103832245, \"42\": 0.020955650135874748, \"43\": -0.057292524725198746, \"44\": -0.06859085708856583, \"45\": 0.038557518273591995, \"46\": -0.029395103454589844, \"47\": -0.04096560552716255, \"48\": -0.009271278977394104, \"49\": -0.020092973485589027, \"50\": 0.002474775305017829, \"51\": -0.03592517971992493, \"52\": 0.03919675573706627, \"53\": 0.008305632509291172, \"54\": 0.06722398847341537, \"55\": 0.01827228255569935, \"56\": 0.002471932442858815, \"57\": 0.010702311061322689, \"58\": -0.00788832176476717, \"59\": -0.03952845185995102, \"60\": 0.06337771564722061, \"61\": 0.01754080131649971, \"62\": -0.04681762307882309, \"63\": -0.029720526188611984, \"64\": 0.02860119380056858, \"65\": -0.03716345503926277, \"66\": 0.05295167118310928, \"67\": -0.05067220330238342, \"68\": 0.08475951105356216, \"69\": -0.06092258542776108, \"70\": -0.011884168721735477, \"71\": 0.02599966526031494, \"72\": 0.043558601289987564, \"73\": -0.012350939214229584, \"74\": -0.03006480634212494, \"75\": -0.06304822117090225, \"76\": -0.052334584295749664, \"77\": -0.014432594180107117, \"78\": -0.050266411155462265, \"79\": 0.0012385144364088774, \"80\": 0.02134770154953003, \"81\": -0.024243928492069244, \"82\": -0.011170134879648685, \"83\": 0.004645538982003927, \"84\": -0.029795672744512558, \"85\": -0.03703189268708229, \"86\": 0.062139760702848434, \"87\": 0.004878977779299021, \"88\": 0.03397638350725174, \"89\": 0.004273558501154184, \"90\": -0.003941991366446018, \"91\": -0.027208317071199417, \"92\": 0.02696732059121132, \"93\": -0.002820701105520129, \"94\": -0.04105129465460777, \"95\": 0.027300113812088966, \"96\": -0.034570127725601196, \"97\": 0.022260824218392372, \"98\": 0.011949921026825905, \"99\": -0.017025329172611237, \"100\": 0.0023568603210151196, \"101\": 0.041385456919670105, \"102\": 0.02841794490814209, \"103\": -0.024526624009013176, \"104\": 0.005400035064667463, \"105\": 0.023654790595173836, \"106\": 0.019660446792840958, \"107\": -0.004793425556272268, \"108\": -0.01477489247918129, \"109\": 0.04883283004164696, \"110\": -0.009093180298805237, \"111\": -0.026407206431031227, \"112\": 0.023335076868534088, \"113\": 0.014167611487209797, \"114\": 0.024908076971769333, \"115\": -0.033078018575906754, \"116\": 0.00852748192846775, \"117\": 0.04751035198569298, \"118\": -0.0323946550488472, \"119\": 0.016281718388199806, \"120\": 0.0063200718723237514, \"121\": 0.002337649930268526, \"122\": -0.015078190714120865, \"123\": 0.03462633490562439, \"124\": 0.02937328815460205, \"125\": 0.01663762703537941, \"126\": 0.029685650020837784, \"127\": 0.0181534755975008, \"128\": -0.02245202846825123, \"129\": -0.009794378653168678, \"130\": -0.0002989044296555221, \"131\": -0.007667808327823877, \"132\": 0.005066555459052324, \"133\": -0.023983582854270935, \"134\": -0.02415497414767742, \"135\": -0.013208298943936825, \"136\": -0.051558367908000946, \"137\": -0.0005711187841370702, \"138\": 0.002155040157958865, \"139\": -0.01245324406772852, \"140\": 0.01103093009442091, \"141\": 0.04194444417953491, \"142\": 0.008122211322188377, \"143\": -0.0487077571451664, \"144\": 0.025129325687885284, \"145\": -0.008298863656818867, \"146\": 0.006596555933356285, \"147\": -0.023630719631910324, \"148\": 0.03800574317574501, \"149\": 0.06507224589586258, \"150\": 0.026580505073070526, \"151\": -0.014052311889827251, \"152\": -0.06531805545091629, \"153\": 0.04650762304663658, \"154\": 0.031249675899744034, \"155\": 0.013127494603395462, \"156\": 0.00921557191759348, \"157\": -0.04427093267440796, \"158\": 0.02579360641539097, \"159\": 0.03472502529621124, \"160\": 0.020056501030921936, \"161\": 0.030547024682164192, \"162\": 0.02308870106935501, \"163\": 0.014256921596825123, \"164\": -0.004757077433168888, \"165\": -0.02152038924396038, \"166\": -0.011722172610461712, \"167\": -0.0061180866323411465, \"168\": -0.0271972194314003, \"169\": 0.0021791718900203705, \"170\": 0.02375555969774723, \"171\": 0.02797623723745346, \"172\": 0.04445077106356621, \"173\": 0.026816273108124733, \"174\": 0.005712494254112244, \"175\": -0.0809708759188652, \"176\": 0.07477953284978867, \"177\": -0.013785812072455883, \"178\": 0.02339124120771885, \"179\": -0.009980935603380203, \"180\": -0.016937408596277237, \"181\": 0.004201066214591265, \"182\": -0.000852225290145725, \"183\": -0.016787800937891006, \"184\": -0.007335177157074213, \"185\": 0.03347521647810936, \"186\": -0.021167896687984467, \"187\": 0.004187389742583036, \"188\": 0.02092025801539421, \"189\": 0.01410258561372757, \"190\": 0.04140259325504303, \"191\": 0.014157615602016449, \"192\": 0.0535614974796772, \"193\": -0.013565562665462494, \"194\": -0.001096228719688952, \"195\": 0.02461288869380951, \"196\": -0.025325285270810127, \"197\": -0.0157461054623127, \"198\": 0.0018513555405661464, \"199\": 0.002946537220850587, \"index\": 25, \"NATIONALITY\": \"Bangladesh\"}, {\"query\": \"Awal  Abdul\", \"0\": 0.11800199002027512, \"1\": 0.03658390790224075, \"2\": -0.0691477432847023, \"3\": 0.08156036585569382, \"4\": 0.016404978930950165, \"5\": -0.05120183899998665, \"6\": 0.11695227771997452, \"7\": -0.29246786236763, \"8\": 0.030270664021372795, \"9\": -0.11474400758743286, \"10\": -0.09386478364467621, \"11\": -0.11789916455745697, \"12\": 0.028731441125273705, \"13\": -0.08605833351612091, \"14\": -0.1085420548915863, \"15\": 0.06827512383460999, \"16\": -0.05822824314236641, \"17\": 0.07555759698152542, \"18\": 0.02549230307340622, \"19\": 0.008383591659367085, \"20\": -0.08605687320232391, \"21\": -0.045887839049100876, \"22\": 0.018780531361699104, \"23\": 0.06464799493551254, \"24\": -0.0006968640373088419, \"25\": 0.11605717986822128, \"26\": -0.053488023579120636, \"27\": 0.08937816321849823, \"28\": -0.044163864105939865, \"29\": -0.008903801441192627, \"30\": -0.023417633026838303, \"31\": 0.07669521868228912, \"32\": 0.021096836775541306, \"33\": -0.0466109924018383, \"34\": -0.03365295007824898, \"35\": 0.09545327723026276, \"36\": 0.07231069356203079, \"37\": 0.06858397275209427, \"38\": 0.09465968608856201, \"39\": -0.030351243913173676, \"40\": 0.02738873101770878, \"41\": 0.06678788363933563, \"42\": 0.014360737055540085, \"43\": 0.043916672468185425, \"44\": -0.0018800543621182442, \"45\": 0.027084950357675552, \"46\": -0.02817075327038765, \"47\": -0.049122776836156845, \"48\": 0.04935474321246147, \"49\": 0.0279847364872694, \"50\": -0.019169820472598076, \"51\": 0.054298508912324905, \"52\": -0.015151767991483212, \"53\": -0.03133728355169296, \"54\": -0.04832310229539871, \"55\": 0.016955822706222534, \"56\": -0.029911093413829803, \"57\": -0.07534746825695038, \"58\": 0.038729652762413025, \"59\": -0.0015615244628861547, \"60\": 0.041603948920965195, \"61\": 0.004508487414568663, \"62\": -0.002927096327766776, \"63\": -0.011413639411330223, \"64\": -0.03591965511441231, \"65\": 0.018988141790032387, \"66\": -0.05970138683915138, \"67\": -0.03944046422839165, \"68\": -0.025635892525315285, \"69\": 0.008081805892288685, \"70\": 0.07390246540307999, \"71\": 0.02177010290324688, \"72\": -0.03115011565387249, \"73\": 0.015536189079284668, \"74\": -0.07793451100587845, \"75\": 0.08864715695381165, \"76\": 0.014811632223427296, \"77\": -0.02032644860446453, \"78\": -0.028094280511140823, \"79\": 0.04998902976512909, \"80\": -0.03463916853070259, \"81\": 0.003219389822334051, \"82\": -0.07177700847387314, \"83\": -0.04283552244305611, \"84\": 0.018109746277332306, \"85\": 0.023721221834421158, \"86\": -0.031748127192258835, \"87\": 0.07672253996133804, \"88\": 0.08741426467895508, \"89\": 0.01340477541089058, \"90\": -0.04849804937839508, \"91\": -0.0068366555497050285, \"92\": -0.028363635763525963, \"93\": -0.03172973915934563, \"94\": -0.01943778432905674, \"95\": -0.07385347038507462, \"96\": 0.03983195126056671, \"97\": 0.01696859672665596, \"98\": 0.004851676989346743, \"99\": -0.014528412371873856, \"100\": 0.01603914424777031, \"101\": 0.036829788237810135, \"102\": 0.004774659872055054, \"103\": -0.016833996400237083, \"104\": -0.016730455681681633, \"105\": -0.00821392610669136, \"106\": 0.03184300661087036, \"107\": 0.0020095165818929672, \"108\": -0.032615628093481064, \"109\": 0.027919167652726173, \"110\": 0.04538492113351822, \"111\": 0.033300548791885376, \"112\": 0.026502035558223724, \"113\": 0.054552845656871796, \"114\": 0.02766232378780842, \"115\": 0.010500160045921803, \"116\": -0.00920333992689848, \"117\": 0.018269279971718788, \"118\": -0.015096252784132957, \"119\": 0.017548387870192528, \"120\": -0.010091077536344528, \"121\": -0.024142375215888023, \"122\": -0.03558962792158127, \"123\": -0.046232737600803375, \"124\": -0.01703706383705139, \"125\": -0.009554519318044186, \"126\": 0.019448721781373024, \"127\": 0.005246506072580814, \"128\": 0.024679265916347504, \"129\": 0.03657060116529465, \"130\": -0.008510962128639221, \"131\": 0.021553564816713333, \"132\": 0.027472812682390213, \"133\": 0.005019763018935919, \"134\": -0.0320100374519825, \"135\": -0.013720553368330002, \"136\": 0.002414912451058626, \"137\": -0.019969657063484192, \"138\": -0.009330454282462597, \"139\": 0.01325402781367302, \"140\": -0.0007195603102445602, \"141\": -0.051699768751859665, \"142\": 0.04244455322623253, \"143\": 0.00028315643430687487, \"144\": 0.02099459432065487, \"145\": 0.006111733615398407, \"146\": 0.011587130837142467, \"147\": -0.011658898554742336, \"148\": -0.0015477854758501053, \"149\": -0.016060031950473785, \"150\": -0.06946586817502975, \"151\": -0.04547477141022682, \"152\": 0.00023664665059186518, \"153\": -0.0026411826256662607, \"154\": -0.021155713126063347, \"155\": 0.039702653884887695, \"156\": -0.026286348700523376, \"157\": -0.020489925518631935, \"158\": 0.03941092640161514, \"159\": -0.014612951315939426, \"160\": 0.02519056759774685, \"161\": -0.06988685578107834, \"162\": -0.010309632867574692, \"163\": -0.0032646225299686193, \"164\": 0.04074544832110405, \"165\": -0.06034557893872261, \"166\": 0.010362832807004452, \"167\": 0.0389714241027832, \"168\": -0.026397794485092163, \"169\": -0.010678443126380444, \"170\": 0.03933057188987732, \"171\": -0.002929393667727709, \"172\": 0.04514961689710617, \"173\": 0.018932797014713287, \"174\": 0.013854244723916054, \"175\": -0.012264251708984375, \"176\": -0.06092648208141327, \"177\": 0.00749921053647995, \"178\": 0.047505952417850494, \"179\": 0.03772517666220665, \"180\": -0.012998820282518864, \"181\": -0.02349066361784935, \"182\": 0.008073138073086739, \"183\": 0.00903556402772665, \"184\": 0.03176422789692879, \"185\": 0.03901955112814903, \"186\": -0.009035524912178516, \"187\": -0.014544384554028511, \"188\": -0.0030649243853986263, \"189\": 0.021970681846141815, \"190\": -0.01288190484046936, \"191\": 0.01319387648254633, \"192\": -0.010009359568357468, \"193\": 0.028803793713450432, \"194\": -0.008424375206232071, \"195\": -0.02777186967432499, \"196\": 0.04039944335818291, \"197\": 0.010865689255297184, \"198\": -0.058950334787368774, \"199\": 0.02385169081389904, \"index\": 26, \"NATIONALITY\": \"Bangladesh\"}, {\"query\": \"Shariar Majumder Majumder\", \"0\": 0.005859612952917814, \"1\": -0.18176691234111786, \"2\": 0.040433369576931, \"3\": -0.013415452092885971, \"4\": -0.1292695552110672, \"5\": -0.013659142889082432, \"6\": -0.04443489387631416, \"7\": 0.10872332751750946, \"8\": -0.03775234892964363, \"9\": 0.01367879007011652, \"10\": -0.04539847746491432, \"11\": 0.055841900408267975, \"12\": -0.047592394053936005, \"13\": -0.14914670586585999, \"14\": -0.03843916580080986, \"15\": 0.06254114955663681, \"16\": -0.08799894899129868, \"17\": -0.0709608867764473, \"18\": -0.13985668122768402, \"19\": -0.07478629797697067, \"20\": -0.0846259593963623, \"21\": -0.06050655245780945, \"22\": 0.11118806153535843, \"23\": -0.06232747063040733, \"24\": 0.022623637691140175, \"25\": 0.03663918375968933, \"26\": -0.083498515188694, \"27\": -0.005456971470266581, \"28\": 0.11668726801872253, \"29\": 0.03885694965720177, \"30\": -0.039039116352796555, \"31\": -0.009081644006073475, \"32\": 0.042169228196144104, \"33\": 0.03395440801978111, \"34\": -0.031939052045345306, \"35\": 0.14039885997772217, \"36\": -0.08589949458837509, \"37\": 0.056928932666778564, \"38\": 0.013950835913419724, \"39\": 0.04131980240345001, \"40\": 0.016066357493400574, \"41\": 0.007197108119726181, \"42\": 0.02396748960018158, \"43\": -0.03233899548649788, \"44\": -0.12183353304862976, \"45\": 0.054644498974084854, \"46\": -0.06573889404535294, \"47\": 0.1067151129245758, \"48\": 0.007108103483915329, \"49\": -0.04889458790421486, \"50\": 0.023516211658716202, \"51\": -0.029579728841781616, \"52\": 0.08506432175636292, \"53\": 0.09837532788515091, \"54\": 0.0578249953687191, \"55\": -0.08562716841697693, \"56\": 0.10731443017721176, \"57\": -0.017004352062940598, \"58\": 0.004164160694926977, \"59\": -0.07888223975896835, \"60\": 0.05329469218850136, \"61\": 0.07079702615737915, \"62\": -0.07487092912197113, \"63\": 0.009287356398999691, \"64\": 0.004485010169446468, \"65\": -0.03465118631720543, \"66\": -0.02475263737142086, \"67\": -0.06282404810190201, \"68\": -0.003136549610644579, \"69\": -0.03022857941687107, \"70\": 0.03031403012573719, \"71\": 0.028271488845348358, \"72\": 0.08438463509082794, \"73\": -0.029141472652554512, \"74\": 0.04425125941634178, \"75\": -0.02096973918378353, \"76\": -0.01599045656621456, \"77\": -0.005293463356792927, \"78\": 0.01988179236650467, \"79\": 0.021260149776935577, \"80\": 0.01207720022648573, \"81\": -0.027126453816890717, \"82\": 0.034845590591430664, \"83\": 0.05615547299385071, \"84\": -0.019498253241181374, \"85\": 0.005484523251652718, \"86\": -0.013446257449686527, \"87\": -0.08178681135177612, \"88\": 0.07070061564445496, \"89\": 0.012308773584663868, \"90\": -0.012081179767847061, \"91\": 0.015312422066926956, \"92\": 0.0025546576362103224, \"93\": 0.02840013988316059, \"94\": -0.01127778459340334, \"95\": 0.006804597098380327, \"96\": -0.027303412556648254, \"97\": 0.034196577966213226, \"98\": 0.011890726163983345, \"99\": -0.0132341543212533, \"100\": -0.012851621955633163, \"101\": 0.007565780077129602, \"102\": 0.02394900470972061, \"103\": 0.05111986771225929, \"104\": 0.0449843555688858, \"105\": 0.06479085981845856, \"106\": -0.03835932910442352, \"107\": -0.020388485863804817, \"108\": -0.008276345208287239, \"109\": -0.021852701902389526, \"110\": -0.018858857452869415, \"111\": 0.03497840836644173, \"112\": 0.08621569722890854, \"113\": -0.04266645386815071, \"114\": 0.00763848377391696, \"115\": 0.0044610388576984406, \"116\": -0.003373117418959737, \"117\": -0.008167877793312073, \"118\": 0.07192137092351913, \"119\": 0.005645589902997017, \"120\": 0.053935471922159195, \"121\": -0.0013621823163703084, \"122\": 0.043124765157699585, \"123\": -0.058521028608083725, \"124\": 0.01037698332220316, \"125\": -0.037334270775318146, \"126\": -0.030333157628774643, \"127\": -0.012775744311511517, \"128\": -0.014360230416059494, \"129\": 0.020518718287348747, \"130\": -0.02755705825984478, \"131\": 0.008597183972597122, \"132\": 0.022756310179829597, \"133\": 0.008145246654748917, \"134\": 0.041728079319000244, \"135\": -0.020121127367019653, \"136\": -0.024135729297995567, \"137\": 0.021703438833355904, \"138\": 0.05911645665764809, \"139\": 0.013963038101792336, \"140\": 0.008060652762651443, \"141\": 0.030009685084223747, \"142\": -0.01099034771323204, \"143\": 0.010872289538383484, \"144\": 0.06182112544775009, \"145\": -0.04410150274634361, \"146\": -0.002911933697760105, \"147\": 0.03130539506673813, \"148\": -0.016502302139997482, \"149\": 0.0003644040261860937, \"150\": 0.025726327672600746, \"151\": -0.0034244877751916647, \"152\": 0.005629959981888533, \"153\": 0.02442058175802231, \"154\": -0.025276483967900276, \"155\": 0.02117556892335415, \"156\": -0.01401324663311243, \"157\": -0.006911443080753088, \"158\": 0.0056767635978758335, \"159\": 0.05776022747159004, \"160\": -0.046010568737983704, \"161\": 0.040489938110113144, \"162\": 0.033890414983034134, \"163\": -0.030321069061756134, \"164\": -0.033798687160015106, \"165\": -0.014325437135994434, \"166\": -0.02924644760787487, \"167\": -0.015949435532093048, \"168\": 0.05795044079422951, \"169\": -0.01339675672352314, \"170\": 0.04673463851213455, \"171\": -0.028579015284776688, \"172\": 0.015318067744374275, \"173\": -0.05462992563843727, \"174\": -0.011717417277395725, \"175\": 0.007367899641394615, \"176\": 0.022931331768631935, \"177\": -0.007948515936732292, \"178\": 0.004517621360719204, \"179\": 0.02950715832412243, \"180\": 0.009137011133134365, \"181\": -0.004101964645087719, \"182\": -0.06926474720239639, \"183\": -0.00475772051140666, \"184\": 0.030915455892682076, \"185\": 0.03710993006825447, \"186\": 0.0031403012108057737, \"187\": -0.0008469995809718966, \"188\": -0.012460468336939812, \"189\": 0.002923442516475916, \"190\": -0.023047881200909615, \"191\": -0.03123994544148445, \"192\": -0.006082282401621342, \"193\": 0.01437190268188715, \"194\": 0.055760886520147324, \"195\": 0.031091157346963882, \"196\": 0.00543990358710289, \"197\": 0.024150211364030838, \"198\": 0.01938622258603573, \"199\": -0.016153136268258095, \"index\": 27, \"NATIONALITY\": \"Bangladesh\"}, {\"query\": \"Mohd Nasarul Haque Emdad Syed\", \"0\": 0.2236739844083786, \"1\": -0.1170000359416008, \"2\": -0.08470672369003296, \"3\": 0.14274433255195618, \"4\": -0.06991413980722427, \"5\": 0.010394654236733913, \"6\": 0.03383077681064606, \"7\": 0.08565999567508698, \"8\": -0.10367045551538467, \"9\": -0.0028666898142546415, \"10\": 0.09245150536298752, \"11\": -0.16465632617473602, \"12\": -0.0424361489713192, \"13\": 0.06739998608827591, \"14\": -0.006734894122928381, \"15\": 0.1085636094212532, \"16\": 0.05060584843158722, \"17\": 0.024923136457800865, \"18\": -0.050577662885189056, \"19\": -0.036473918706178665, \"20\": 0.07835916429758072, \"21\": 0.025306928902864456, \"22\": -0.01782563142478466, \"23\": -0.06289738416671753, \"24\": -0.014148061163723469, \"25\": 0.0442843921482563, \"26\": -0.02963084727525711, \"27\": 0.15052509307861328, \"28\": 0.03613324463367462, \"29\": -0.0906563475728035, \"30\": -0.1320330947637558, \"31\": 0.007691832259297371, \"32\": 0.0006767839076928794, \"33\": -0.03484082594513893, \"34\": 0.11375054717063904, \"35\": 0.09683404117822647, \"36\": -0.04708314314484596, \"37\": 0.04103782773017883, \"38\": -0.012279432266950607, \"39\": 0.0007861728663556278, \"40\": -0.012725158594548702, \"41\": 0.021525073796510696, \"42\": -0.07771846652030945, \"43\": -0.057034336030483246, \"44\": -0.11512956023216248, \"45\": 0.01588018797338009, \"46\": -0.11343340575695038, \"47\": 0.009540228173136711, \"48\": 0.02456117607653141, \"49\": -0.07287276536226273, \"50\": 0.026440618559718132, \"51\": -0.02694353647530079, \"52\": 0.030219674110412598, \"53\": 0.03653004392981529, \"54\": -0.014618056826293468, \"55\": -0.09294310212135315, \"56\": 0.02197321504354477, \"57\": 0.0030439943075180054, \"58\": 0.09487804025411606, \"59\": -0.002346612513065338, \"60\": 0.0804128497838974, \"61\": 0.03155123069882393, \"62\": 0.011343939229846, \"63\": -0.0034074492286890745, \"64\": 0.009034586139023304, \"65\": 0.04130890965461731, \"66\": 0.04111538827419281, \"67\": -0.09750194102525711, \"68\": -0.047984346747398376, \"69\": 0.05881061032414436, \"70\": 0.044056735932826996, \"71\": -0.017835821956396103, \"72\": -0.014758093282580376, \"73\": 0.06587263196706772, \"74\": 0.055151764303445816, \"75\": 0.009546635672450066, \"76\": -0.0619913786649704, \"77\": -0.05285654217004776, \"78\": -0.05581854283809662, \"79\": 0.030546346679329872, \"80\": 0.042691707611083984, \"81\": 0.02038285695016384, \"82\": 0.08871478587388992, \"83\": 0.030728450044989586, \"84\": -0.008470570668578148, \"85\": -0.008993348106741905, \"86\": 0.00940688420087099, \"87\": -0.02325809746980667, \"88\": 0.06895749270915985, \"89\": 0.021142952144145966, \"90\": -0.07056357711553574, \"91\": 0.03981902450323105, \"92\": 0.040029533207416534, \"93\": 0.03797180578112602, \"94\": 0.0342177078127861, \"95\": 0.021070757880806923, \"96\": 0.003420379012823105, \"97\": -0.02465379796922207, \"98\": -0.09013563394546509, \"99\": 0.020521875470876694, \"100\": -0.012904081493616104, \"101\": 0.04120931029319763, \"102\": 0.007505685091018677, \"103\": -0.07747280597686768, \"104\": -0.004162903875112534, \"105\": -0.01088486984372139, \"106\": 0.05509959161281586, \"107\": -0.016626058146357536, \"108\": 0.013222921639680862, \"109\": -0.012573583982884884, \"110\": 0.01370946690440178, \"111\": -0.019773483276367188, \"112\": -0.03198392689228058, \"113\": 0.03845733404159546, \"114\": 0.00987817719578743, \"115\": 0.03807368874549866, \"116\": 0.019843200221657753, \"117\": -0.0269464161247015, \"118\": 0.025170965120196342, \"119\": -0.03667176514863968, \"120\": 0.0010525286197662354, \"121\": 0.021434547379612923, \"122\": 0.01608155108988285, \"123\": -0.004513375461101532, \"124\": 0.03689435124397278, \"125\": -0.04771013557910919, \"126\": -0.013794021680951118, \"127\": 0.05132616311311722, \"128\": -0.09168381989002228, \"129\": 0.028785141184926033, \"130\": -0.014641093090176582, \"131\": 0.01849532313644886, \"132\": -0.0159038994461298, \"133\": -0.04725157096982002, \"134\": -0.0084798913449049, \"135\": 0.0005206419737078249, \"136\": 0.03842562437057495, \"137\": -0.0076105669140815735, \"138\": -0.025903617963194847, \"139\": 0.06907442957162857, \"140\": -0.022165650501847267, \"141\": -0.012524427846074104, \"142\": -0.0065634967759251595, \"143\": 0.026478027924895287, \"144\": -0.006824947893619537, \"145\": 0.016190510243177414, \"146\": 0.006474136840552092, \"147\": 0.034279558807611465, \"148\": 0.012460409663617611, \"149\": -0.01860039308667183, \"150\": -0.003802522551268339, \"151\": -0.015500491484999657, \"152\": -0.01894473284482956, \"153\": 0.02721817046403885, \"154\": -0.013592513278126717, \"155\": 0.008699379861354828, \"156\": 0.0243422482162714, \"157\": -0.030493739992380142, \"158\": 0.013840440660715103, \"159\": -0.03228641301393509, \"160\": 0.0070491330698132515, \"161\": 0.0014704657951369882, \"162\": -0.012178565375506878, \"163\": -0.037970587611198425, \"164\": 0.010206891223788261, \"165\": -0.0074167512357234955, \"166\": -0.014604137279093266, \"167\": -0.012437419965863228, \"168\": -0.02064390480518341, \"169\": -0.029024720191955566, \"170\": -0.008915169164538383, \"171\": -0.018067492172122, \"172\": 0.03284967318177223, \"173\": 0.03940221667289734, \"174\": 0.03926919028162956, \"175\": -0.046703364700078964, \"176\": -0.006205595098435879, \"177\": -0.020069532096385956, \"178\": 0.001619412680156529, \"179\": -0.0355738028883934, \"180\": -0.05375051125884056, \"181\": -0.019534273073077202, \"182\": -0.007437486667186022, \"183\": 0.0064976392313838005, \"184\": -0.005531421862542629, \"185\": 0.06837298721075058, \"186\": -0.005316297523677349, \"187\": 0.01776532642543316, \"188\": -0.027467435225844383, \"189\": 0.031302884221076965, \"190\": -0.042872585356235504, \"191\": -0.0026623373851180077, \"192\": -0.03475598245859146, \"193\": 0.05385686829686165, \"194\": 0.01055388804525137, \"195\": 0.023219404742121696, \"196\": 0.02205825410783291, \"197\": 0.006664847023785114, \"198\": 0.04835896193981171, \"199\": -0.020161904394626617, \"index\": 28, \"NATIONALITY\": \"Bangladesh\"}, {\"query\": \"Kazi  Mujiburrahman K.Mashuqurrahman\", \"0\": 0.1444188803434372, \"1\": -0.15634936094284058, \"2\": -0.08169995993375778, \"3\": 0.25940683484077454, \"4\": -0.05446444824337959, \"5\": 0.06705574691295624, \"6\": -0.0906677171587944, \"7\": 0.056598301976919174, \"8\": 0.02875124104321003, \"9\": 0.10347318649291992, \"10\": -0.04160090535879135, \"11\": -0.028000954538583755, \"12\": -0.05726537108421326, \"13\": 0.006284736562520266, \"14\": -0.040445178747177124, \"15\": 0.03536074608564377, \"16\": -0.06968674808740616, \"17\": -0.09445557743310928, \"18\": -0.06495252251625061, \"19\": -0.07285728305578232, \"20\": 0.008194845169782639, \"21\": -0.04366176947951317, \"22\": -0.07217925041913986, \"23\": -0.03559562563896179, \"24\": 0.04517519474029541, \"25\": -0.06044706702232361, \"26\": 0.0647280216217041, \"27\": 0.06945747882127762, \"28\": 0.08024164289236069, \"29\": 0.0202712994068861, \"30\": -0.011715042404830456, \"31\": 0.09314675629138947, \"32\": 0.10453023761510849, \"33\": -0.0019260189728811383, \"34\": 0.03345877677202225, \"35\": 0.0669482871890068, \"36\": -0.06796836107969284, \"37\": 0.06317940354347229, \"38\": 0.08824095875024796, \"39\": 0.0498117133975029, \"40\": 0.017581885680556297, \"41\": -0.043078795075416565, \"42\": 0.03801572322845459, \"43\": -0.06540989130735397, \"44\": -0.09363099187612534, \"45\": -0.01674814336001873, \"46\": 0.017484571784734726, \"47\": -0.0345148891210556, \"48\": 0.019895562902092934, \"49\": 0.061350226402282715, \"50\": 0.009354354813694954, \"51\": -0.023085815832018852, \"52\": 0.00822015292942524, \"53\": 0.02238532155752182, \"54\": -0.12878018617630005, \"55\": 0.030854489654302597, \"56\": 0.12040846794843674, \"57\": -0.06500404328107834, \"58\": 0.03993585705757141, \"59\": 0.03911098837852478, \"60\": 0.03814651072025299, \"61\": 0.016174491494894028, \"62\": -0.03212779387831688, \"63\": 0.016350669786334038, \"64\": 0.03785312920808792, \"65\": -0.018411938101053238, \"66\": 0.046082645654678345, \"67\": -0.02222321555018425, \"68\": 0.09384303539991379, \"69\": -0.09551215171813965, \"70\": 0.011525041423738003, \"71\": -0.013902022503316402, \"72\": -0.04052557051181793, \"73\": -0.005728159565478563, \"74\": 0.019637299701571465, \"75\": 0.029685143381357193, \"76\": -0.04291246086359024, \"77\": 0.040212057530879974, \"78\": -0.02665509656071663, \"79\": 0.048122528940439224, \"80\": 0.030772440135478973, \"81\": -0.017323456704616547, \"82\": 0.050473231822252274, \"83\": 0.013253329321742058, \"84\": -0.05741686373949051, \"85\": 0.018646905198693275, \"86\": -0.07092772424221039, \"87\": 0.0009445290197618306, \"88\": 0.028021464124321938, \"89\": 0.011974147520959377, \"90\": 0.005977497901767492, \"91\": -0.04380500689148903, \"92\": -0.04414130002260208, \"93\": -0.03564796224236488, \"94\": -0.041384756565093994, \"95\": -0.030794885009527206, \"96\": -0.018710635602474213, \"97\": -0.05272733420133591, \"98\": 0.012746520340442657, \"99\": -0.03400343656539917, \"100\": -0.05705241858959198, \"101\": -0.03603476658463478, \"102\": 0.006019555497914553, \"103\": -0.003638358088210225, \"104\": 0.024871814996004105, \"105\": -0.02748505026102066, \"106\": -0.040649157017469406, \"107\": -0.017995353788137436, \"108\": -0.02604956552386284, \"109\": -0.03911362215876579, \"110\": 0.049219295382499695, \"111\": 0.03396664559841156, \"112\": -0.026431770995259285, \"113\": 0.10714112222194672, \"114\": 0.04439267888665199, \"115\": 0.003515617921948433, \"116\": 0.0433097742497921, \"117\": -0.010691399686038494, \"118\": -0.08316011726856232, \"119\": 0.05642939358949661, \"120\": 0.03459939360618591, \"121\": -0.06298204511404037, \"122\": 0.04868479445576668, \"123\": 0.007474367972463369, \"124\": 0.05334595590829849, \"125\": -0.0857437402009964, \"126\": -0.017158454284071922, \"127\": 0.0985264778137207, \"128\": 0.06151113286614418, \"129\": 0.02467064931988716, \"130\": -0.030984465032815933, \"131\": 0.014655855484306812, \"132\": -0.015560328029096127, \"133\": 0.014562352560460567, \"134\": 0.016825314611196518, \"135\": 0.009791762568056583, \"136\": -0.0031240989919751883, \"137\": 0.014638833701610565, \"138\": 0.012103245593607426, \"139\": 0.012805061414837837, \"140\": 0.012295898050069809, \"141\": 0.03480047360062599, \"142\": -0.02994399704039097, \"143\": 0.0020814610179513693, \"144\": -0.05403222516179085, \"145\": 0.022128144279122353, \"146\": 0.000365903862984851, \"147\": -0.010666743852198124, \"148\": -0.026236334815621376, \"149\": 0.0018738389480859041, \"150\": 0.01910598762333393, \"151\": -0.021207068115472794, \"152\": -0.005163435824215412, \"153\": 0.03341525048017502, \"154\": -0.025027714669704437, \"155\": -0.05851126089692116, \"156\": 0.00699574826285243, \"157\": 0.006358124315738678, \"158\": 0.02650798112154007, \"159\": 0.02134072035551071, \"160\": -0.02334780991077423, \"161\": 0.007268127053976059, \"162\": 0.002843208611011505, \"163\": -0.03455198183655739, \"164\": 0.024384992197155952, \"165\": -0.021643029525876045, \"166\": 0.03641650453209877, \"167\": 0.03453393653035164, \"168\": -0.06593554466962814, \"169\": 0.023738320916891098, \"170\": -0.01042425911873579, \"171\": -0.019372878596186638, \"172\": 0.0048144799657166, \"173\": 0.038718096911907196, \"174\": 0.015632161870598793, \"175\": 0.004750704392790794, \"176\": -0.03326873481273651, \"177\": 0.048656344413757324, \"178\": 0.01488317921757698, \"179\": 0.0027294938918203115, \"180\": -0.027637647464871407, \"181\": -0.0029781253542751074, \"182\": 0.03773271292448044, \"183\": 0.016776885837316513, \"184\": 0.031949471682310104, \"185\": -0.01859799586236477, \"186\": 0.05232025682926178, \"187\": -0.007632145658135414, \"188\": -0.03920070081949234, \"189\": 0.013878919184207916, \"190\": -0.0016914722509682178, \"191\": 0.010562698356807232, \"192\": 0.043299540877342224, \"193\": 0.038282494992017746, \"194\": 0.04370616376399994, \"195\": 0.02371145226061344, \"196\": 0.04112590104341507, \"197\": 0.01435100007802248, \"198\": 0.010707779787480831, \"199\": -0.0013612768379971385, \"index\": 29, \"NATIONALITY\": \"Bangladesh\"}, {\"query\": \"Mohd Azizur Rahman Mohd Anfor Ali Azizur Rahman Mohd Anfor Ali\", \"0\": 0.1399689018726349, \"1\": -0.05888164043426514, \"2\": -0.16300271451473236, \"3\": 0.17344164848327637, \"4\": -0.04553254321217537, \"5\": -0.10043076425790787, \"6\": 0.0017861807718873024, \"7\": -0.023598263040184975, \"8\": -0.08217522501945496, \"9\": -0.11757747083902359, \"10\": -0.11840669065713882, \"11\": -0.09636127948760986, \"12\": 0.10550206154584885, \"13\": -0.012277652509510517, \"14\": -0.04192221164703369, \"15\": 0.022185327485203743, \"16\": 0.027834085747599602, \"17\": -0.028022389858961105, \"18\": 0.016348786652088165, \"19\": 0.015602488070726395, \"20\": -0.05872659757733345, \"21\": -0.052266545593738556, \"22\": -0.02846457250416279, \"23\": 0.017093699425458908, \"24\": -0.02758520096540451, \"25\": 0.06070414185523987, \"26\": 0.01918398216366768, \"27\": 0.08500984311103821, \"28\": -0.052274130284786224, \"29\": 0.01819140836596489, \"30\": 0.011516301892697811, \"31\": 0.025163479149341583, \"32\": 0.016879403963685036, \"33\": -0.07908842712640762, \"34\": 0.08675524592399597, \"35\": -0.01186849270015955, \"36\": -0.10368020087480545, \"37\": 0.0910547599196434, \"38\": -0.07270165532827377, \"39\": 0.0025004688650369644, \"40\": 0.046960558742284775, \"41\": 0.06180793046951294, \"42\": -0.04539133980870247, \"43\": 0.009603546001017094, \"44\": -0.00047011938295327127, \"45\": -0.05473121255636215, \"46\": -0.006135561503469944, \"47\": -0.07351025938987732, \"48\": 0.04654925316572189, \"49\": -0.06504127383232117, \"50\": -0.03237565606832504, \"51\": -0.04018695279955864, \"52\": 0.07570329308509827, \"53\": 0.03262486308813095, \"54\": 0.0959397479891777, \"55\": 0.02855890989303589, \"56\": 0.06930060684680939, \"57\": -0.005995053332298994, \"58\": -0.04286821931600571, \"59\": 0.013772225007414818, \"60\": 0.02405468001961708, \"61\": 0.06726214289665222, \"62\": 0.06313636153936386, \"63\": 0.015455669723451138, \"64\": 0.05404241755604744, \"65\": 0.008372971788048744, \"66\": -0.09154278039932251, \"67\": -0.026286760345101357, \"68\": 0.03180239349603653, \"69\": -0.012941254302859306, \"70\": 0.01754814200103283, \"71\": 0.020746396854519844, \"72\": 0.08783965557813644, \"73\": -0.007522243075072765, \"74\": -0.004759103991091251, \"75\": 0.022049900144338608, \"76\": -0.14337465167045593, \"77\": -0.04695650562644005, \"78\": -0.04971349239349365, \"79\": -0.005331649910658598, \"80\": -0.005126557312905788, \"81\": -0.030724411830306053, \"82\": 0.04735623672604561, \"83\": -0.01934010535478592, \"84\": 0.017216941341757774, \"85\": 0.06084528937935829, \"86\": -0.02689233236014843, \"87\": 0.02602691389620304, \"88\": -0.06001966819167137, \"89\": -0.01148142758756876, \"90\": -0.04556453227996826, \"91\": 0.019993668422102928, \"92\": 0.021007712930440903, \"93\": -0.020917007699608803, \"94\": -0.061038024723529816, \"95\": 0.01601611264050007, \"96\": 0.05966417118906975, \"97\": 0.007044385187327862, \"98\": -0.0652552917599678, \"99\": -0.023281805217266083, \"100\": -0.023215360939502716, \"101\": -0.045384157449007034, \"102\": -0.021079320460557938, \"103\": -0.01720481738448143, \"104\": 0.07164289802312851, \"105\": -0.03432821109890938, \"106\": 0.010312005877494812, \"107\": -0.045054588466882706, \"108\": 0.011773880571126938, \"109\": -0.05488719418644905, \"110\": 0.0530070886015892, \"111\": 0.0418986938893795, \"112\": 0.02430589497089386, \"113\": 0.04490446671843529, \"114\": 0.025964248925447464, \"115\": 0.05643291771411896, \"116\": 0.058879829943180084, \"117\": -0.06244860216975212, \"118\": -0.058783166110515594, \"119\": 0.03796006739139557, \"120\": 0.033897992223501205, \"121\": -0.011198306456208229, \"122\": 0.10183744877576828, \"123\": -0.0018839086405932903, \"124\": 0.046770334243774414, \"125\": 0.0010471607092767954, \"126\": 0.013416501693427563, \"127\": -0.002871174132451415, \"128\": 0.06121520698070526, \"129\": 0.020724404603242874, \"130\": 0.0049311318434774876, \"131\": -0.05494919791817665, \"132\": 0.017504742369055748, \"133\": 0.015857096761465073, \"134\": -0.015052939765155315, \"135\": -0.01874907687306404, \"136\": -0.056000079959630966, \"137\": -0.010089120827615261, \"138\": 0.01516269613057375, \"139\": -0.015398018062114716, \"140\": 0.0034159172791987658, \"141\": 0.006325587630271912, \"142\": -0.0360441654920578, \"143\": -0.008358271792531013, \"144\": -0.009195641614496708, \"145\": -0.0025309217162430286, \"146\": 0.019622046500444412, \"147\": 0.019408442080020905, \"148\": 0.011400870978832245, \"149\": 0.04113072529435158, \"150\": -0.026531284675002098, \"151\": 0.005064855795353651, \"152\": 0.02543809823691845, \"153\": 0.046970851719379425, \"154\": -0.011121963150799274, \"155\": 0.04549327492713928, \"156\": 0.015528467483818531, \"157\": -0.005505886394530535, \"158\": -0.015200058929622173, \"159\": -0.017725208774209023, \"160\": 0.014455996453762054, \"161\": 0.04381021857261658, \"162\": 0.03036828711628914, \"163\": 0.005014318972826004, \"164\": -0.010590794496238232, \"165\": -0.010754241608083248, \"166\": -0.0038601048290729523, \"167\": -0.04918155446648598, \"168\": -0.0017160060815513134, \"169\": 0.011556629091501236, \"170\": 0.042594291269779205, \"171\": 0.00217984477058053, \"172\": 0.06270260363817215, \"173\": -0.02973507158458233, \"174\": 0.0315108522772789, \"175\": -0.009253362193703651, \"176\": 0.021325619891285896, \"177\": 0.0011714398860931396, \"178\": 0.008844312280416489, \"179\": 0.012682314962148666, \"180\": -0.0825829729437828, \"181\": 0.0033104592002928257, \"182\": 0.04297797754406929, \"183\": 0.010278434492647648, \"184\": 0.040595851838588715, \"185\": 0.004195343237370253, \"186\": -0.02526969648897648, \"187\": -0.06718818098306656, \"188\": -0.03084651008248329, \"189\": 0.02544422075152397, \"190\": 0.04058437794446945, \"191\": -0.038391511887311935, \"192\": 0.03328176960349083, \"193\": 0.013082042336463928, \"194\": -0.0193525068461895, \"195\": -0.017632601782679558, \"196\": -0.018229398876428604, \"197\": 0.00780383450910449, \"198\": -0.00845333095639944, \"199\": -0.00038017670158296824, \"index\": 30, \"NATIONALITY\": \"Bangladesh\"}, {\"query\": \"Mohammed Abul Kalam Md. Abul Bashar\", \"0\": 0.21365289390087128, \"1\": -0.099591925740242, \"2\": -0.047679413110017776, \"3\": 0.11659668385982513, \"4\": 0.013288379646837711, \"5\": -0.09901874512434006, \"6\": 0.06904478371143341, \"7\": 0.10926011949777603, \"8\": 0.007938236929476261, \"9\": 0.03220110014081001, \"10\": -0.1234157532453537, \"11\": -0.0142282135784626, \"12\": -0.12263941019773483, \"13\": -0.026128442957997322, \"14\": -0.08017532527446747, \"15\": 0.01854279637336731, \"16\": -0.13203826546669006, \"17\": -0.032668571919202805, \"18\": -0.035713303834199905, \"19\": -0.017589639872312546, \"20\": 0.003971627913415432, \"21\": -0.07621198147535324, \"22\": 0.005166044924408197, \"23\": 0.03195169195532799, \"24\": -0.02176394872367382, \"25\": 0.07925664633512497, \"26\": -0.011699083261191845, \"27\": 0.0729997456073761, \"28\": 0.0016828171210363507, \"29\": -0.05732430890202522, \"30\": -0.006458813324570656, \"31\": -0.005344973877072334, \"32\": 0.07529094815254211, \"33\": 0.0029512629844248295, \"34\": 0.014969678595662117, \"35\": 0.0761866569519043, \"36\": 0.02340202033519745, \"37\": 0.016027845442295074, \"38\": 0.06347238272428513, \"39\": -0.010859408415853977, \"40\": -0.015251923352479935, \"41\": 0.02111220546066761, \"42\": -0.05428825691342354, \"43\": -0.09307856857776642, \"44\": -0.1182217076420784, \"45\": 0.05007382482290268, \"46\": -0.02339179255068302, \"47\": -0.1770888864994049, \"48\": 0.030605310574173927, \"49\": -0.014458141289651394, \"50\": 0.05270020663738251, \"51\": -0.015556763857603073, \"52\": 0.025191256776452065, \"53\": 0.006249419413506985, \"54\": -0.08480532467365265, \"55\": 0.07020965218544006, \"56\": 0.035978853702545166, \"57\": -0.03713827580213547, \"58\": 0.13037629425525665, \"59\": 0.08404511958360672, \"60\": 0.07457324862480164, \"61\": -0.01423006784170866, \"62\": -0.018155721947550774, \"63\": 0.0007187051232904196, \"64\": 0.05210484564304352, \"65\": 0.0047601209953427315, \"66\": 0.017848607152700424, \"67\": -0.06174534931778908, \"68\": 0.07811466604471207, \"69\": -0.0904693678021431, \"70\": 0.03020288608968258, \"71\": -0.06848033517599106, \"72\": 0.029043588787317276, \"73\": 0.0269780270755291, \"74\": 0.039758529514074326, \"75\": -0.004457991570234299, \"76\": -0.015334066934883595, \"77\": -0.02405664324760437, \"78\": -0.009025606326758862, \"79\": 0.02612840011715889, \"80\": -0.03244585916399956, \"81\": -0.029330505058169365, \"82\": 0.0017303710337728262, \"83\": -0.04928715154528618, \"84\": -0.04444793239235878, \"85\": 0.008206252008676529, \"86\": -0.011496750637888908, \"87\": -0.011327121406793594, \"88\": 0.0526084378361702, \"89\": 0.05039262771606445, \"90\": -0.011348208412528038, \"91\": 0.003559159580618143, \"92\": -0.0021761662792414427, \"93\": 0.01406839769333601, \"94\": -0.044492207467556, \"95\": -0.049214355647563934, \"96\": 0.07027769833803177, \"97\": -0.022389790043234825, \"98\": -0.06055072322487831, \"99\": -0.04469193145632744, \"100\": -0.023738691583275795, \"101\": 0.03873078525066376, \"102\": -0.07188330590724945, \"103\": -0.02702130377292633, \"104\": 0.03158335015177727, \"105\": 0.05407046899199486, \"106\": 0.034995779395103455, \"107\": -0.011582651175558567, \"108\": -0.04665166884660721, \"109\": 0.026032786816358566, \"110\": -0.007749211974442005, \"111\": -0.03799137473106384, \"112\": 0.03058520145714283, \"113\": 0.0021860951092094183, \"114\": 0.034497134387493134, \"115\": -0.015132918953895569, \"116\": 0.05032387003302574, \"117\": -0.09910710901021957, \"118\": 0.054345350712537766, \"119\": -0.05564253404736519, \"120\": 0.06975337117910385, \"121\": 0.05025627836585045, \"122\": 0.04364970326423645, \"123\": 0.0007297368138097227, \"124\": 0.033540740609169006, \"125\": 0.00836367066949606, \"126\": -0.05692420154809952, \"127\": 0.02697667106986046, \"128\": -0.029804976657032967, \"129\": 0.023458097130060196, \"130\": 0.04143678769469261, \"131\": -0.026095127686858177, \"132\": 0.00010840265895240009, \"133\": -0.01766050048172474, \"134\": -0.027003828436136246, \"135\": -0.0017358064651489258, \"136\": 0.0012638317421078682, \"137\": 0.0321647971868515, \"138\": 0.03903116285800934, \"139\": 0.022190438583493233, \"140\": 0.03213648870587349, \"141\": 0.008046271279454231, \"142\": -0.004341501742601395, \"143\": 0.029552266001701355, \"144\": -0.032661229372024536, \"145\": -0.00833878479897976, \"146\": 0.06086115911602974, \"147\": 0.03654521331191063, \"148\": 0.01070811040699482, \"149\": -0.008294516243040562, \"150\": 0.03025936894118786, \"151\": 0.03289269283413887, \"152\": 0.02933879755437374, \"153\": 0.08617673814296722, \"154\": -0.014651746489107609, \"155\": -0.0191328302025795, \"156\": 0.08833926916122437, \"157\": -0.02703806757926941, \"158\": 0.09192904829978943, \"159\": 0.005534914787858725, \"160\": -0.05655638128519058, \"161\": -0.038755953311920166, \"162\": -0.022178972139954567, \"163\": -0.013927272520959377, \"164\": 0.0071763405576348305, \"165\": 0.0018818118842318654, \"166\": -0.015841465443372726, \"167\": -0.05680688098073006, \"168\": 0.06633920967578888, \"169\": -0.04295898973941803, \"170\": -0.017845401540398598, \"171\": -0.03791109472513199, \"172\": 0.012042820453643799, \"173\": 0.006023690570145845, \"174\": 0.014571549370884895, \"175\": 0.004595472943037748, \"176\": -0.008335049264132977, \"177\": 0.0006580777699127793, \"178\": -0.029537217691540718, \"179\": 0.023296037688851357, \"180\": -0.03221376985311508, \"181\": -0.020779473707079887, \"182\": 0.010842887684702873, \"183\": -0.0013709291815757751, \"184\": -0.005481536965817213, \"185\": 0.001581396907567978, \"186\": -0.017774052917957306, \"187\": 0.0016632196493446827, \"188\": -0.029499517753720284, \"189\": -0.007853709161281586, \"190\": -0.007531238254159689, \"191\": -0.029799040406942368, \"192\": 0.014693266712129116, \"193\": -0.02693401463329792, \"194\": 0.029238278046250343, \"195\": 0.011300966143608093, \"196\": 0.0287933349609375, \"197\": -0.041251376271247864, \"198\": 0.01013617217540741, \"199\": -0.02733047679066658, \"index\": 31, \"NATIONALITY\": \"Bangladesh\"}, {\"query\": \"Mohd Abdul Hannan Mohd Sekander Abdul Hannan Mohd Sekander\", \"0\": 0.14284645020961761, \"1\": -0.06550509482622147, \"2\": -0.1301482915878296, \"3\": 0.08025521039962769, \"4\": 0.01764570362865925, \"5\": -0.10142521560192108, \"6\": 0.08527734130620956, \"7\": -0.004399557132273912, \"8\": -0.02785031497478485, \"9\": -0.06544354557991028, \"10\": 0.025774039328098297, \"11\": -0.1917152851819992, \"12\": 0.012922921217978, \"13\": -0.036858052015304565, \"14\": -0.03848902881145477, \"15\": 0.0826234519481659, \"16\": 0.037781890481710434, \"17\": -0.11927544325590134, \"18\": 0.17010609805583954, \"19\": -0.10659166425466537, \"20\": 0.003249620320275426, \"21\": -0.09022700786590576, \"22\": 0.0670737698674202, \"23\": 0.05893731117248535, \"24\": -0.090040422976017, \"25\": 0.07215811312198639, \"26\": 0.05203397572040558, \"27\": 0.10879414528608322, \"28\": -0.04389049485325813, \"29\": -0.030787572264671326, \"30\": 0.010151799768209457, \"31\": -0.020358707755804062, \"32\": 0.09676960110664368, \"33\": -0.12526001036167145, \"34\": 0.030291739851236343, \"35\": -0.009810521267354488, \"36\": 0.013129215687513351, \"37\": 0.055519163608551025, \"38\": 0.0714031234383583, \"39\": -0.031122058629989624, \"40\": -0.04804087057709694, \"41\": 0.13615787029266357, \"42\": -0.08604472130537033, \"43\": 0.04242362082004547, \"44\": -0.009541643783450127, \"45\": 0.017557263374328613, \"46\": -0.00716942036524415, \"47\": -0.041533492505550385, \"48\": 0.061738524585962296, \"49\": -0.06251118332147598, \"50\": -0.059728287160396576, \"51\": 0.019332824274897575, \"52\": 0.059890907257795334, \"53\": -0.02648240700364113, \"54\": 0.02756735309958458, \"55\": -0.02261642925441265, \"56\": 0.07122615724802017, \"57\": -0.04986964538693428, \"58\": 0.0646451786160469, \"59\": 0.031408604234457016, \"60\": -0.003819171106442809, \"61\": 0.08192087709903717, \"62\": -0.026297027245163918, \"63\": -0.0591282844543457, \"64\": -0.02162938565015793, \"65\": -0.0034033339470624924, \"66\": -0.09475871920585632, \"67\": -0.04251652956008911, \"68\": -0.006053319666534662, \"69\": 0.03267620503902435, \"70\": 0.06508279591798782, \"71\": 0.021903712302446365, \"72\": 0.03726800158619881, \"73\": 0.06605102866888046, \"74\": -0.011231754906475544, \"75\": 0.027497975155711174, \"76\": 0.020269649103283882, \"77\": -0.029099153354763985, \"78\": -0.04368620738387108, \"79\": 0.05745680630207062, \"80\": -0.05841055512428284, \"81\": -0.057563140988349915, \"82\": 0.001189968315884471, \"83\": 0.001829836517572403, \"84\": 0.04705962911248207, \"85\": 0.00361942732706666, \"86\": -0.006202684249728918, \"87\": 0.030293026939034462, \"88\": -0.04022276774048805, \"89\": 0.10118664056062698, \"90\": 0.012690185569226742, \"91\": 0.062389008700847626, \"92\": 0.05303891748189926, \"93\": 0.042634230107069016, \"94\": -0.071477510035038, \"95\": -0.024986542761325836, \"96\": -0.020609380677342415, \"97\": 0.06686308979988098, \"98\": -0.058518897742033005, \"99\": 0.018174948170781136, \"100\": -0.0022994240280240774, \"101\": 0.034944403916597366, \"102\": 0.028022263199090958, \"103\": -0.009485128335654736, \"104\": 0.026312503963708878, \"105\": 0.05128663405776024, \"106\": -0.002963974606245756, \"107\": -0.05687360092997551, \"108\": -0.013018746860325336, \"109\": -0.04517107456922531, \"110\": 0.0504508912563324, \"111\": -0.03605775535106659, \"112\": -0.005018927156925201, \"113\": -0.03679516166448593, \"114\": 0.015859326347708702, \"115\": -0.04107173532247543, \"116\": 0.008142313919961452, \"117\": 0.0354396253824234, \"118\": -0.02464696392416954, \"119\": 0.030950509011745453, \"120\": 0.006726501043885946, \"121\": -0.03715195506811142, \"122\": -0.011617745272815228, \"123\": -0.046054136008024216, \"124\": -0.042480241507291794, \"125\": -0.022334620356559753, \"126\": -0.03018704615533352, \"127\": 0.03816442936658859, \"128\": -0.04425181448459625, \"129\": 0.011079332791268826, \"130\": -0.02763131633400917, \"131\": 0.05792662501335144, \"132\": -0.005322391167283058, \"133\": -0.024544082581996918, \"134\": -0.02665764093399048, \"135\": -0.018315881490707397, \"136\": -0.03235799819231033, \"137\": 0.05766040459275246, \"138\": 0.0037203198298811913, \"139\": 0.029869582504034042, \"140\": -0.05143357440829277, \"141\": -0.03734501823782921, \"142\": 0.07636246085166931, \"143\": 0.008509987033903599, \"144\": -0.01101614348590374, \"145\": 0.07161393761634827, \"146\": 0.043024010956287384, \"147\": 4.896075915894471e-05, \"148\": -0.006459806114435196, \"149\": -0.050833575427532196, \"150\": 0.005249671172350645, \"151\": -0.037843700498342514, \"152\": 0.029264962300658226, \"153\": 0.03159265220165253, \"154\": -0.020896224305033684, \"155\": 0.009834752418100834, \"156\": 0.03455854207277298, \"157\": 0.04946235567331314, \"158\": -0.025971580296754837, \"159\": -0.0615239180624485, \"160\": 0.05647563934326172, \"161\": -0.007982107810676098, \"162\": -0.01545978244394064, \"163\": -0.0022591440938413143, \"164\": -0.01974405348300934, \"165\": 0.04026311635971069, \"166\": 0.020425057038664818, \"167\": 0.033748600631952286, \"168\": -0.00811495166271925, \"169\": 0.03336894512176514, \"170\": 0.015901681035757065, \"171\": 0.011829547584056854, \"172\": 0.006796621717512608, \"173\": 0.01502025406807661, \"174\": -0.0013180348323658109, \"175\": -0.029703492298722267, \"176\": 0.040253087878227234, \"177\": -0.03386517986655235, \"178\": 0.08798682689666748, \"179\": -0.033152494579553604, \"180\": 0.009524820372462273, \"181\": -0.07353752106428146, \"182\": 0.01607915386557579, \"183\": -0.07393909245729446, \"184\": 0.012651445344090462, \"185\": 0.055964864790439606, \"186\": -0.02027185633778572, \"187\": -0.012868641875684261, \"188\": -0.008217872120440006, \"189\": -0.005195743404328823, \"190\": 0.002085944637656212, \"191\": -0.003824453568086028, \"192\": -0.025221988558769226, \"193\": 0.021065669134259224, \"194\": 0.020557837560772896, \"195\": 0.008042216300964355, \"196\": 0.03331431746482849, \"197\": 0.00293178902938962, \"198\": -0.04700260981917381, \"199\": -0.02676338143646717, \"index\": 32, \"NATIONALITY\": \"Bangladesh\"}, {\"query\": \"Md Asraful Ambia Chowdhory Chowdhory\", \"0\": 0.13705530762672424, \"1\": -0.053208742290735245, \"2\": 0.029971055686473846, \"3\": 0.04293946176767349, \"4\": -0.09245491772890091, \"5\": 0.007361471187323332, \"6\": -0.04853548854589462, \"7\": 0.004782531410455704, \"8\": -0.06340853869915009, \"9\": -0.07931997627019882, \"10\": -0.13221575319766998, \"11\": -0.06924966722726822, \"12\": -0.014728055335581303, \"13\": -0.1641152799129486, \"14\": -0.1377103328704834, \"15\": -0.0128550436347723, \"16\": 0.023922285065054893, \"17\": -0.025263570249080658, \"18\": -0.11838643997907639, \"19\": -0.05937504023313522, \"20\": -0.041488222777843475, \"21\": -0.039352428168058395, \"22\": -0.01751585863530636, \"23\": -0.06791113317012787, \"24\": 0.030169710516929626, \"25\": -0.03278316557407379, \"26\": -0.009622485376894474, \"27\": 0.16862884163856506, \"28\": 0.033784471452236176, \"29\": 0.0405062772333622, \"30\": -0.007787192706018686, \"31\": -0.05982985347509384, \"32\": -0.010436329059302807, \"33\": -0.00717785581946373, \"34\": 0.07149798423051834, \"35\": 0.0089125856757164, \"36\": -0.11145132780075073, \"37\": -0.044482018798589706, \"38\": -0.028351005166769028, \"39\": 0.06686697155237198, \"40\": -0.09339062869548798, \"41\": 0.06394630670547485, \"42\": 0.03265977278351784, \"43\": -0.08822747319936752, \"44\": -0.14926759898662567, \"45\": -0.01144689042121172, \"46\": 0.10608033835887909, \"47\": -0.11749949306249619, \"48\": -0.020938923582434654, \"49\": -0.07661139219999313, \"50\": 0.06261076778173447, \"51\": -0.012638727203011513, \"52\": 0.028671052306890488, \"53\": 0.03612269461154938, \"54\": 0.043184421956539154, \"55\": -0.07230524718761444, \"56\": 0.10844702273607254, \"57\": -0.005015945993363857, \"58\": 0.06547266244888306, \"59\": -0.007853401824831963, \"60\": 0.021076645702123642, \"61\": 0.00971089769154787, \"62\": -0.043849680572748184, \"63\": 0.0018202398205175996, \"64\": 0.12263038009405136, \"65\": -0.01662377640604973, \"66\": 0.0037883168552070856, \"67\": -0.012688140384852886, \"68\": -0.007823169231414795, \"69\": 0.03399113938212395, \"70\": 0.03835168108344078, \"71\": -0.06416197866201401, \"72\": 0.037201881408691406, \"73\": 0.09779031574726105, \"74\": 0.07994111627340317, \"75\": -0.012265213765203953, \"76\": -0.08308430761098862, \"77\": -0.018077721819281578, \"78\": 0.010492067784070969, \"79\": 0.034438107162714005, \"80\": -0.020867351442575455, \"81\": 0.05258822441101074, \"82\": 0.02498546615242958, \"83\": 0.009023069404065609, \"84\": -0.011938302777707577, \"85\": 0.015238843858242035, \"86\": -0.028317395597696304, \"87\": 0.006036191713064909, \"88\": 0.04796415939927101, \"89\": 0.008475030772387981, \"90\": 0.04000264033675194, \"91\": 0.024347655475139618, \"92\": -0.07499359548091888, \"93\": -0.020253239199519157, \"94\": -0.03148295730352402, \"95\": -0.018956493586301804, \"96\": 0.029613323509693146, \"97\": -0.0412873812019825, \"98\": -0.03792406991124153, \"99\": -0.03703608736395836, \"100\": -0.026137199252843857, \"101\": -0.0005775413010269403, \"102\": 0.006240330170840025, \"103\": -0.029807690531015396, \"104\": 0.019119558855891228, \"105\": 0.03612319007515907, \"106\": -0.02226257510483265, \"107\": 0.02080373838543892, \"108\": 0.003843553364276886, \"109\": -0.006276876665651798, \"110\": -0.018641315400600433, \"111\": -0.03585871681571007, \"112\": 0.0193577129393816, \"113\": 0.00137353187892586, \"114\": 0.003403620794415474, \"115\": -0.004417939577251673, \"116\": 0.04486871883273125, \"117\": 0.0052032265812158585, \"118\": 0.054330356419086456, \"119\": -0.0045775435864925385, \"120\": -0.021938825026154518, \"121\": -0.007950609549880028, \"122\": 0.05818384513258934, \"123\": 0.02339860051870346, \"124\": 6.281664536800236e-05, \"125\": -0.005332408472895622, \"126\": -0.0013281934661790729, \"127\": -0.06318406015634537, \"128\": -0.01605900377035141, \"129\": 0.0005309779080562294, \"130\": -0.014782894402742386, \"131\": -0.021478591486811638, \"132\": 0.006666782312095165, \"133\": -0.0668235719203949, \"134\": 0.052026644349098206, \"135\": 0.003193674376234412, \"136\": -0.03389322757720947, \"137\": -0.0174067672342062, \"138\": 0.056129090487957, \"139\": 0.06980743259191513, \"140\": 0.015266913920640945, \"141\": 0.018771806731820107, \"142\": 0.029414864256978035, \"143\": 0.044314686208963394, \"144\": 0.018802452832460403, \"145\": -0.0268821083009243, \"146\": 0.022937415167689323, \"147\": -0.005819507874548435, \"148\": 0.009764639660716057, \"149\": 0.022399969398975372, \"150\": 0.09421806782484055, \"151\": -0.017913002520799637, \"152\": -0.0591573491692543, \"153\": 0.024489164352416992, \"154\": -0.02893892675638199, \"155\": 0.032171037048101425, \"156\": 0.025810183957219124, \"157\": 0.006639832630753517, \"158\": -0.0010531313018873334, \"159\": -0.0048058112151920795, \"160\": -0.019596906378865242, \"161\": -0.00880268681794405, \"162\": -0.019831057637929916, \"163\": -0.03460514545440674, \"164\": 0.00567291583865881, \"165\": 0.002582316054031253, \"166\": 0.019435258582234383, \"167\": -0.0236051045358181, \"168\": 0.06028452515602112, \"169\": -0.021698523312807083, \"170\": 0.01205117255449295, \"171\": -0.015360353514552116, \"172\": 0.04483189433813095, \"173\": -0.02147342823445797, \"174\": -0.01104943547397852, \"175\": 0.021129382774233818, \"176\": 0.056522905826568604, \"177\": 0.01825631409883499, \"178\": 0.03391106426715851, \"179\": -0.04598560929298401, \"180\": 0.03094407357275486, \"181\": 0.032460715621709824, \"182\": 0.003643265226855874, \"183\": -0.05233223736286163, \"184\": -0.02084263041615486, \"185\": 0.0040240478701889515, \"186\": -0.01819096878170967, \"187\": 0.05333079397678375, \"188\": -0.0015412131324410439, \"189\": -0.031615253537893295, \"190\": -0.01193246804177761, \"191\": -0.015632767230272293, \"192\": 0.0016711854841560125, \"193\": 0.005331589840352535, \"194\": -0.014214294031262398, \"195\": 0.033441267907619476, \"196\": -0.031184542924165726, \"197\": 0.009710662998259068, \"198\": 0.03971481695771217, \"199\": -0.02958081290125847, \"index\": 33, \"NATIONALITY\": \"Bangladesh\"}, {\"query\": \"Hasan Murad Abu Taher\", \"0\": 0.29447659850120544, \"1\": 0.03302862122654915, \"2\": 0.033994775265455246, \"3\": 0.15510854125022888, \"4\": 0.04605880007147789, \"5\": 0.010001990012824535, \"6\": 0.10819292068481445, \"7\": -0.03942765295505524, \"8\": -0.098499596118927, \"9\": 0.025144090875983238, \"10\": 0.035917527973651886, \"11\": -0.10873629152774811, \"12\": -0.0018947928911074996, \"13\": 0.0036084160674363375, \"14\": -0.06824241578578949, \"15\": 0.09631901979446411, \"16\": 0.024670999497175217, \"17\": -0.07086080312728882, \"18\": 0.05621727928519249, \"19\": -0.04679446667432785, \"20\": 0.09819667786359787, \"21\": 0.0631260871887207, \"22\": 0.028582777827978134, \"23\": 0.12380211800336838, \"24\": 0.043159984052181244, \"25\": -0.027779869735240936, \"26\": 0.02980424463748932, \"27\": -0.05936408415436745, \"28\": -0.04413308575749397, \"29\": 0.061463817954063416, \"30\": -0.02481689862906933, \"31\": -0.03548429533839226, \"32\": -0.07714866101741791, \"33\": 0.09097831696271896, \"34\": -0.14962054789066315, \"35\": 0.08139943331480026, \"36\": -0.007619735784828663, \"37\": 0.0454137809574604, \"38\": 0.00047001565690152347, \"39\": 0.003280278295278549, \"40\": 0.004586815368384123, \"41\": -0.12000126391649246, \"42\": -0.023819364607334137, \"43\": -0.019382331520318985, \"44\": 0.025533486157655716, \"45\": 0.06956265866756439, \"46\": -0.04381771385669708, \"47\": 0.06778941303491592, \"48\": -0.02103814296424389, \"49\": -0.04907608404755592, \"50\": -0.08577480912208557, \"51\": -0.023125670850276947, \"52\": -0.024369003251194954, \"53\": -0.01941661536693573, \"54\": 0.0174761600792408, \"55\": -0.046829599887132645, \"56\": -0.04541607201099396, \"57\": 0.049933768808841705, \"58\": 0.06069562956690788, \"59\": 0.00807840097695589, \"60\": -0.05049361288547516, \"61\": -0.023543942719697952, \"62\": 0.021270474418997765, \"63\": -0.041105177253484726, \"64\": 0.003549152286723256, \"65\": 0.008437749929726124, \"66\": 0.016089802607893944, \"67\": 0.0642431452870369, \"68\": 0.09482365846633911, \"69\": 0.051918573677539825, \"70\": -0.05368499830365181, \"71\": -0.12742771208286285, \"72\": -0.06971362233161926, \"73\": 0.026337841525673866, \"74\": -0.020286621525883675, \"75\": -0.006142240483313799, \"76\": 0.007379232440143824, \"77\": -0.06820130348205566, \"78\": -0.003581511089578271, \"79\": -0.06743364036083221, \"80\": -0.019905935972929, \"81\": -0.06463520228862762, \"82\": 0.036260057240724564, \"83\": 0.06732645630836487, \"84\": 0.020708082243800163, \"85\": -0.04863450676202774, \"86\": 0.03767978027462959, \"87\": -0.02552618272602558, \"88\": 0.07288096845149994, \"89\": -0.05798691138625145, \"90\": -0.0008125914027914405, \"91\": 0.033797577023506165, \"92\": 0.07116716355085373, \"93\": 0.0160782802850008, \"94\": -0.045073337852954865, \"95\": -0.07600101828575134, \"96\": 0.058782633394002914, \"97\": -0.02671111933887005, \"98\": -0.06659611314535141, \"99\": 0.018040966242551804, \"100\": 0.02823776565492153, \"101\": 0.0016198991797864437, \"102\": 0.03976880759000778, \"103\": 0.03554437682032585, \"104\": 0.021386340260505676, \"105\": 0.02137046493589878, \"106\": 0.025296075269579887, \"107\": 0.016481617465615273, \"108\": -0.027924614027142525, \"109\": -0.028270089998841286, \"110\": -0.05952073633670807, \"111\": -0.015028120018541813, \"112\": -0.006268402095884085, \"113\": -0.03867560625076294, \"114\": -0.023861465975642204, \"115\": 0.017336226999759674, \"116\": 0.026617860421538353, \"117\": -0.03078003227710724, \"118\": -0.010457301512360573, \"119\": 0.003606292186304927, \"120\": -0.021253064274787903, \"121\": -0.004814727231860161, \"122\": 0.04862752929329872, \"123\": -0.05044281482696533, \"124\": 0.014428713358938694, \"125\": 0.03542686998844147, \"126\": -0.03334600105881691, \"127\": -0.08286842703819275, \"128\": -0.025999071076512337, \"129\": -0.002830450190231204, \"130\": -0.023485353216528893, \"131\": 0.07853210717439651, \"132\": 0.049559447914361954, \"133\": -0.018800294026732445, \"134\": -0.00656967144459486, \"135\": -0.0855957567691803, \"136\": 0.07452700287103653, \"137\": 0.05977775529026985, \"138\": 0.04625687748193741, \"139\": 0.005014869850128889, \"140\": -0.015507732518017292, \"141\": 0.012476222589612007, \"142\": -0.007274365518242121, \"143\": -0.06721166521310806, \"144\": -0.0011379861971363425, \"145\": -0.001273521687835455, \"146\": 0.023040005937218666, \"147\": -0.0035012606531381607, \"148\": 0.004412730224430561, \"149\": 0.020438939332962036, \"150\": -0.0363009050488472, \"151\": 0.032999709248542786, \"152\": -0.039977625012397766, \"153\": 0.013928786851465702, \"154\": -0.007638134993612766, \"155\": 0.034084588289260864, \"156\": -0.015141692012548447, \"157\": -0.012959061190485954, \"158\": -0.0255575031042099, \"159\": 0.02646823786199093, \"160\": -0.025223389267921448, \"161\": -0.05397498607635498, \"162\": -0.06822200864553452, \"163\": -0.06700839847326279, \"164\": 0.033579446375370026, \"165\": 0.036256298422813416, \"166\": 0.009238017722964287, \"167\": 0.008081797510385513, \"168\": 0.06357627362012863, \"169\": 0.022076992318034172, \"170\": 0.022395826876163483, \"171\": 0.004800275433808565, \"172\": -0.0170440636575222, \"173\": 0.04382149875164032, \"174\": -0.02398020401597023, \"175\": -0.03141814097762108, \"176\": -0.0022910116240382195, \"177\": 0.01863030157983303, \"178\": -0.008102134801447392, \"179\": -0.0135378772392869, \"180\": -0.01010032370686531, \"181\": 0.008598619140684605, \"182\": 0.029736055061221123, \"183\": 0.018274694681167603, \"184\": -0.00028332279180176556, \"185\": -0.036986514925956726, \"186\": 0.037744417786598206, \"187\": 0.03918953984975815, \"188\": -0.02138400450348854, \"189\": -0.03245917335152626, \"190\": -0.03397185355424881, \"191\": 0.020780764520168304, \"192\": 0.021169213578104973, \"193\": -0.04754704609513283, \"194\": 0.036150239408016205, \"195\": -0.0227154940366745, \"196\": -0.0476393885910511, \"197\": -0.03482845425605774, \"198\": -0.014703536406159401, \"199\": -0.029024232178926468, \"index\": 34, \"NATIONALITY\": \"Bangladesh\"}, {\"query\": \"Mohammed Belal Hossain\", \"0\": 0.1984509378671646, \"1\": -0.07776271551847458, \"2\": 0.011403203941881657, \"3\": 0.09870970249176025, \"4\": -0.009505434893071651, \"5\": -0.10687322914600372, \"6\": 0.052725836634635925, \"7\": 0.2275390923023224, \"8\": -0.09299503266811371, \"9\": -0.12352463603019714, \"10\": 0.025035064667463303, \"11\": 0.05301947891712189, \"12\": -0.09093361347913742, \"13\": 0.10122774541378021, \"14\": -0.05646275356411934, \"15\": 0.05326566472649574, \"16\": 0.005236687138676643, \"17\": -0.14012962579727173, \"18\": 0.011038818396627903, \"19\": 0.03932987153530121, \"20\": 0.036562442779541016, \"21\": -0.07131315767765045, \"22\": -0.045792218297719955, \"23\": 0.07564786821603775, \"24\": 0.04630063474178314, \"25\": 0.09125570207834244, \"26\": 0.0689406469464302, \"27\": 0.1909511536359787, \"28\": -0.0829596295952797, \"29\": -0.05590071156620979, \"30\": -0.04415915533900261, \"31\": -0.07587171345949173, \"32\": -0.00426962086930871, \"33\": -0.06289273500442505, \"34\": 0.029149822890758514, \"35\": -0.0939294844865799, \"36\": -0.06797214597463608, \"37\": -0.026087159290909767, \"38\": 0.03374003246426582, \"39\": -0.0641484186053276, \"40\": -0.009299131110310555, \"41\": 0.009367018938064575, \"42\": -0.0329265259206295, \"43\": -0.07250165194272995, \"44\": -0.17831046879291534, \"45\": 0.14931392669677734, \"46\": -0.04105796292424202, \"47\": -0.03582211956381798, \"48\": -0.01037498377263546, \"49\": -0.001204659347422421, \"50\": 0.021508904173970222, \"51\": -0.053912729024887085, \"52\": -0.008021264337003231, \"53\": 0.09296637773513794, \"54\": 0.03737157955765724, \"55\": -0.0014686501817777753, \"56\": 0.025921307504177094, \"57\": -0.02113313227891922, \"58\": 0.02363082580268383, \"59\": -0.03842297941446304, \"60\": 0.07822663336992264, \"61\": 0.025755807757377625, \"62\": -0.0601213276386261, \"63\": -0.02720601297914982, \"64\": -0.002102405298501253, \"65\": 0.011443411000072956, \"66\": 0.027935856953263283, \"67\": -0.055422957986593246, \"68\": 0.02750103734433651, \"69\": -0.08982766419649124, \"70\": 0.005110911559313536, \"71\": -0.011375786736607552, \"72\": 0.060807522386312485, \"73\": -0.05114743113517761, \"74\": 0.02771592326462269, \"75\": 0.0012031795922666788, \"76\": -0.007076892536133528, \"77\": -0.07152056694030762, \"78\": -0.042431797832250595, \"79\": 0.04449126496911049, \"80\": 0.013308362103998661, \"81\": 0.057764116674661636, \"82\": 0.06069563329219818, \"83\": -0.03932803124189377, \"84\": 0.021350275725126266, \"85\": -0.017457280308008194, \"86\": -0.04570814222097397, \"87\": -0.019583621993660927, \"88\": -0.006098159123212099, \"89\": 0.03593216836452484, \"90\": 0.04204060882329941, \"91\": -0.045238103717565536, \"92\": 0.00902383029460907, \"93\": 0.021073097363114357, \"94\": -0.007719655521214008, \"95\": 0.06436619162559509, \"96\": 0.009487808682024479, \"97\": 0.005543681792914867, \"98\": 0.014848756603896618, \"99\": -0.0320592075586319, \"100\": 0.0027994303964078426, \"101\": 0.006293808110058308, \"102\": 0.0005996284307911992, \"103\": 0.057757385075092316, \"104\": -0.021597594022750854, \"105\": 0.06042337417602539, \"106\": -0.030096914619207382, \"107\": 0.0452377088367939, \"108\": 0.032885316759347916, \"109\": -0.01842048019170761, \"110\": -0.0024181597400456667, \"111\": -0.04291430488228798, \"112\": 0.02643699012696743, \"113\": 0.04882374033331871, \"114\": 0.017561431974172592, \"115\": -0.03261303901672363, \"116\": 0.0741105005145073, \"117\": -0.06234806776046753, \"118\": 0.018180953338742256, \"119\": -0.02951934188604355, \"120\": 0.03198326751589775, \"121\": 0.03102794475853443, \"122\": 0.01449775043874979, \"123\": -0.0026660265866667032, \"124\": 0.0053446413949131966, \"125\": 0.002807674463838339, \"126\": -0.0001612836931599304, \"127\": -0.004658473189920187, \"128\": -0.011991466395556927, \"129\": -0.013891317881643772, \"130\": 0.018107572570443153, \"131\": 0.022398756816983223, \"132\": 0.029721442610025406, \"133\": -0.022199133411049843, \"134\": -0.012909086421132088, \"135\": -0.013956813141703606, \"136\": -0.023566829040646553, \"137\": 0.007442064583301544, \"138\": 0.047162797302007675, \"139\": 0.03857489302754402, \"140\": -0.03196035698056221, \"141\": 0.05015498399734497, \"142\": -0.043595049530267715, \"143\": -0.026000922545790672, \"144\": -0.010174744762480259, \"145\": -0.06587930023670197, \"146\": 0.0053672329522669315, \"147\": 0.009427754208445549, \"148\": -0.010631045326590538, \"149\": -0.03009723871946335, \"150\": 0.0033354819752275944, \"151\": -0.02959557995200157, \"152\": -0.0094887875020504, \"153\": -0.004691548179835081, \"154\": -0.019908223301172256, \"155\": -0.04692128673195839, \"156\": 0.026217736303806305, \"157\": 0.01840915158390999, \"158\": -0.01071929931640625, \"159\": -0.006835917942225933, \"160\": -0.011214134283363819, \"161\": 0.04142724722623825, \"162\": -0.03164167329668999, \"163\": 0.0011518360115587711, \"164\": -0.016785655170679092, \"165\": -0.0007994771585799754, \"166\": 0.031058134511113167, \"167\": -0.04634331539273262, \"168\": -0.017017247155308723, \"169\": 0.03907573223114014, \"170\": -0.03677187114953995, \"171\": -0.004457250237464905, \"172\": -0.004207083489745855, \"173\": 0.009163042530417442, \"174\": 0.018570194020867348, \"175\": 0.04094116762280464, \"176\": -0.004244821611791849, \"177\": 0.002827639225870371, \"178\": 0.03577783703804016, \"179\": 0.01952812448143959, \"180\": -0.009172152727842331, \"181\": -0.009018845856189728, \"182\": -0.02866652049124241, \"183\": -0.019153036177158356, \"184\": 0.030017223209142685, \"185\": -0.03083757683634758, \"186\": -0.01026236917823553, \"187\": 0.0018120851600542665, \"188\": -0.01180214062333107, \"189\": -0.022756202146410942, \"190\": 0.023216020315885544, \"191\": 0.015057460404932499, \"192\": 0.03358900919556618, \"193\": 0.00949888862669468, \"194\": 0.029023991897702217, \"195\": 0.05316409096121788, \"196\": -0.025476772338151932, \"197\": 0.023674478754401207, \"198\": 0.011683516204357147, \"199\": 0.019702749326825142, \"index\": 35, \"NATIONALITY\": \"Bangladesh\"}, {\"query\": \"Muhammed Joynal Abedin Nil\", \"0\": 0.19502775371074677, \"1\": -0.026812845841050148, \"2\": -0.14145496487617493, \"3\": 0.07441093772649765, \"4\": -0.0011044827988371253, \"5\": 0.05299374461174011, \"6\": 0.09515577554702759, \"7\": 0.013644859194755554, \"8\": 0.01210244745016098, \"9\": -0.14250199496746063, \"10\": -0.1573527604341507, \"11\": 0.03567492961883545, \"12\": 0.017802923917770386, \"13\": 0.05067454278469086, \"14\": 0.027682771906256676, \"15\": 0.1442182958126068, \"16\": 0.04765583574771881, \"17\": 0.11741910129785538, \"18\": 0.019398508593440056, \"19\": 0.05609597638249397, \"20\": -0.038245875388383865, \"21\": -0.1503610759973526, \"22\": 0.053744349628686905, \"23\": 0.04886689409613609, \"24\": 0.005598500370979309, \"25\": 0.05439707636833191, \"26\": 0.0077700926922261715, \"27\": 0.02729274518787861, \"28\": 0.059283070266246796, \"29\": -0.04723919928073883, \"30\": 0.011759951710700989, \"31\": -0.06450358778238297, \"32\": -0.02595248818397522, \"33\": -0.03504446521401405, \"34\": -0.028602050617337227, \"35\": 0.036114826798439026, \"36\": -0.0658017098903656, \"37\": -0.04398394376039505, \"38\": -0.0011134007945656776, \"39\": -0.018358929082751274, \"40\": 0.07940797507762909, \"41\": -0.00984465517103672, \"42\": -0.002077447948977351, \"43\": -0.06368388235569, \"44\": -0.12728415429592133, \"45\": 0.07117976248264313, \"46\": 0.029203202575445175, \"47\": -0.025131763890385628, \"48\": -0.04059707373380661, \"49\": 0.02355765923857689, \"50\": 0.03486305847764015, \"51\": -0.044815804809331894, \"52\": 0.0005664602504111826, \"53\": 0.07555500417947769, \"54\": 0.02679898776113987, \"55\": 0.001092675607651472, \"56\": 0.05915673077106476, \"57\": 0.09482397884130478, \"58\": -0.018791869282722473, \"59\": -0.05169839784502983, \"60\": 0.06622511893510818, \"61\": 0.0015938438009470701, \"62\": 0.02583511918783188, \"63\": -0.039565231651067734, \"64\": 0.03440470993518829, \"65\": -0.022529058158397675, \"66\": -0.01645316556096077, \"67\": 0.03552781790494919, \"68\": -0.03342808410525322, \"69\": 0.03738313913345337, \"70\": 0.052951086312532425, \"71\": -0.015431049279868603, \"72\": 0.09146462380886078, \"73\": 0.07388127595186234, \"74\": 0.037227813154459, \"75\": 0.04361572489142418, \"76\": 0.07599694281816483, \"77\": -0.019780036062002182, \"78\": -0.01202184148132801, \"79\": 0.02834457904100418, \"80\": 0.0062926169484853745, \"81\": 0.043154072016477585, \"82\": 0.03156495466828346, \"83\": 0.002054742304608226, \"84\": 0.029911654070019722, \"85\": 0.08972599357366562, \"86\": -0.055004943162202835, \"87\": 0.015155366621911526, \"88\": 0.025949569419026375, \"89\": -0.006974607240408659, \"90\": 0.03696238994598389, \"91\": 0.05367058888077736, \"92\": -0.0029998908285051584, \"93\": 0.01285453699529171, \"94\": -0.07617301493883133, \"95\": -0.023202070966362953, \"96\": 0.061535220593214035, \"97\": 0.03033412992954254, \"98\": -0.008816231042146683, \"99\": 0.006898975931107998, \"100\": 0.004426018800586462, \"101\": 0.03013712167739868, \"102\": 0.07853515446186066, \"103\": -0.00893230177462101, \"104\": -0.0006547271623276174, \"105\": -0.05012962967157364, \"106\": -0.015555662102997303, \"107\": 0.050011586397886276, \"108\": -0.03952961787581444, \"109\": -0.03888498991727829, \"110\": -0.01766929030418396, \"111\": -0.01067399512976408, \"112\": -0.011336490511894226, \"113\": -0.060301441699266434, \"114\": 0.007565604988485575, \"115\": -0.039253152906894684, \"116\": 0.0017520107794553041, \"117\": -0.055471669882535934, \"118\": -0.008132272399961948, \"119\": -0.027614129707217216, \"120\": -0.029519760981202126, \"121\": -0.07921697199344635, \"122\": -0.048021286725997925, \"123\": -0.06033102422952652, \"124\": -0.034691836684942245, \"125\": -0.020263228565454483, \"126\": -0.006999478675425053, \"127\": -0.01631893962621689, \"128\": 0.043962106108665466, \"129\": 0.04734595865011215, \"130\": -0.007579154334962368, \"131\": -0.02989887446165085, \"132\": 0.00609275558963418, \"133\": -0.026574624702334404, \"134\": -0.014616397209465504, \"135\": 0.005149351432919502, \"136\": -0.0035463019739836454, \"137\": 0.02026275359094143, \"138\": -0.01916050724685192, \"139\": -0.011380060575902462, \"140\": -0.013233576901257038, \"141\": 0.005624470766633749, \"142\": -0.001029074308462441, \"143\": -0.0014424902619794011, \"144\": 0.021868251264095306, \"145\": 0.011732629500329494, \"146\": -0.03065156191587448, \"147\": 0.0039602769538760185, \"148\": -0.05897114425897598, \"149\": -0.014850212261080742, \"150\": -0.008193589746952057, \"151\": -0.013086037710309029, \"152\": 0.06311072409152985, \"153\": 0.020613621920347214, \"154\": -0.019417867064476013, \"155\": -0.03999214246869087, \"156\": 0.030095074325799942, \"157\": -0.055925026535987854, \"158\": 0.059518568217754364, \"159\": -0.00400124816223979, \"160\": -0.006491826381534338, \"161\": -0.07333816587924957, \"162\": 0.0002075933152809739, \"163\": 0.013049243949353695, \"164\": -0.027495821937918663, \"165\": -0.016651779413223267, \"166\": 0.052326757460832596, \"167\": -0.009459656663239002, \"168\": -0.03883618488907814, \"169\": 0.030885227024555206, \"170\": -0.013330316171050072, \"171\": 0.006612848490476608, \"172\": 0.01342980470508337, \"173\": 0.01809612847864628, \"174\": 0.014175602234899998, \"175\": -0.02329835668206215, \"176\": 0.02506985515356064, \"177\": -0.004839910194277763, \"178\": -0.03228196129202843, \"179\": 0.04419112950563431, \"180\": 0.03162137046456337, \"181\": -0.010379301384091377, \"182\": 0.01438598707318306, \"183\": -0.04554156959056854, \"184\": 0.004565607290714979, \"185\": -0.016844231635332108, \"186\": -0.008328353054821491, \"187\": 0.011525769717991352, \"188\": 0.018221287056803703, \"189\": 0.01795877516269684, \"190\": -0.017621371895074844, \"191\": 0.026805168017745018, \"192\": -0.03567751124501228, \"193\": 0.014151551760733128, \"194\": 0.06316480040550232, \"195\": -0.0008506965241394937, \"196\": 0.027937190607190132, \"197\": 0.01776324398815632, \"198\": 0.045207586139440536, \"199\": 0.0168960802257061, \"index\": 36, \"NATIONALITY\": \"Bangladesh\"}, {\"query\": \"Shah Nowaz Khan Ali Nowaz Khan Khan Ali Nowaz Khan\", \"0\": 0.12283752113580704, \"1\": -0.16474053263664246, \"2\": -0.08746826648712158, \"3\": 0.2619001865386963, \"4\": -0.29273393750190735, \"5\": -0.04692739620804787, \"6\": -0.10984215140342712, \"7\": -0.06927897781133652, \"8\": 0.06800337880849838, \"9\": -0.020066266879439354, \"10\": -0.10167589783668518, \"11\": 0.018941164016723633, \"12\": -0.03937221318483353, \"13\": 0.09477593749761581, \"14\": 0.16523222625255585, \"15\": -0.14228574931621552, \"16\": 0.06327022612094879, \"17\": -0.03925906494259834, \"18\": 0.1271880865097046, \"19\": 0.02542763389647007, \"20\": -0.023913264274597168, \"21\": -0.07449159026145935, \"22\": 0.08028212189674377, \"23\": 0.00613275496289134, \"24\": -0.1924934834241867, \"25\": -0.006396202836185694, \"26\": 0.06778933107852936, \"27\": -0.039697952568531036, \"28\": 0.10403013974428177, \"29\": -0.05609452724456787, \"30\": 0.008440481498837471, \"31\": -0.0723005086183548, \"32\": 0.08426419645547867, \"33\": -0.06579790264368057, \"34\": 0.10555091500282288, \"35\": 0.07487858831882477, \"36\": -0.009201492182910442, \"37\": 0.09321945905685425, \"38\": -0.06401855498552322, \"39\": -0.0044135539792478085, \"40\": 0.05132170394062996, \"41\": 0.0853855162858963, \"42\": 0.07054425030946732, \"43\": 0.05846651643514633, \"44\": 0.06261994689702988, \"45\": -0.07120262831449509, \"46\": 0.04529377818107605, \"47\": 0.011968943290412426, \"48\": 0.03815372288227081, \"49\": -0.06864553689956665, \"50\": -0.04149478301405907, \"51\": -0.06802282482385635, \"52\": 0.01384945772588253, \"53\": 0.036456506699323654, \"54\": 0.03919612616300583, \"55\": -0.037982504814863205, \"56\": 0.023295855149626732, \"57\": -0.056366678327322006, \"58\": -0.04629119113087654, \"59\": 0.02508796565234661, \"60\": 0.007767412345856428, \"61\": 0.0346345417201519, \"62\": 0.003867917461320758, \"63\": 0.08259820193052292, \"64\": 0.01226606871932745, \"65\": 0.039521705359220505, \"66\": -0.03174012526869774, \"67\": 0.07045600563287735, \"68\": 0.003467022208496928, \"69\": -0.01274165604263544, \"70\": 0.04779256880283356, \"71\": -0.06222155690193176, \"72\": 0.028891589492559433, \"73\": -0.008664881810545921, \"74\": 0.02706667222082615, \"75\": -0.03120860643684864, \"76\": -0.02495523914694786, \"77\": -0.024452056735754013, \"78\": 0.0022772273514419794, \"79\": 0.010670116171240807, \"80\": 0.03866809979081154, \"81\": 0.021117577329277992, \"82\": -0.056244224309921265, \"83\": -0.016549043357372284, \"84\": -0.023930611088871956, \"85\": 0.04584047198295593, \"86\": 0.015685390681028366, \"87\": 0.02783798612654209, \"88\": 0.0439104400575161, \"89\": -0.011684832163155079, \"90\": 0.017345691099762917, \"91\": 0.023022182285785675, \"92\": 0.017650751397013664, \"93\": -0.02167099341750145, \"94\": 0.009262551553547382, \"95\": 0.009173627011477947, \"96\": 0.05868120118975639, \"97\": 0.05401698127388954, \"98\": -0.026355791836977005, \"99\": -0.05573100596666336, \"100\": 0.020178431645035744, \"101\": -0.012029093690216541, \"102\": -0.015585104934871197, \"103\": 0.023024242371320724, \"104\": 0.04433276131749153, \"105\": 0.00041080493247136474, \"106\": 0.04093814268708229, \"107\": 0.015905650332570076, \"108\": -0.023029033094644547, \"109\": -0.01528347097337246, \"110\": 0.019417498260736465, \"111\": 0.011294939555227757, \"112\": -0.0351279079914093, \"113\": 0.014490412548184395, \"114\": 0.02048320509493351, \"115\": -0.06669430434703827, \"116\": 0.026737933978438377, \"117\": 0.007038470823317766, \"118\": 0.014223824255168438, \"119\": 0.0024590014945715666, \"120\": 0.028630990535020828, \"121\": -0.008650734089314938, \"122\": 0.019686248153448105, \"123\": 0.06891768425703049, \"124\": 0.014918859116733074, \"125\": -0.014517283998429775, \"126\": -0.033459022641181946, \"127\": -0.029589373618364334, \"128\": 0.02882714942097664, \"129\": -0.010193217545747757, \"130\": 0.00021827513410244137, \"131\": 0.03168546408414841, \"132\": -0.00020114771905355155, \"133\": -0.022639378905296326, \"134\": -0.004742657765746117, \"135\": 0.004150326829403639, \"136\": -0.004061019979417324, \"137\": -0.009826707653701305, \"138\": -0.0025940858758985996, \"139\": 0.00852849893271923, \"140\": 0.011698362417519093, \"141\": -0.011224347166717052, \"142\": -0.02722657285630703, \"143\": -0.01581297069787979, \"144\": 0.030163845047354698, \"145\": -0.0454513281583786, \"146\": -0.0043419236317276955, \"147\": 0.04510141909122467, \"148\": 0.04293527081608772, \"149\": 0.0211428664624691, \"150\": 0.03165469691157341, \"151\": -0.018720421940088272, \"152\": 0.004145593848079443, \"153\": 0.005685664713382721, \"154\": 0.019388094544410706, \"155\": -0.011147837154567242, \"156\": 0.018167482689023018, \"157\": 0.0006905993213877082, \"158\": -0.04414694011211395, \"159\": 0.03932485729455948, \"160\": -0.0064771585166454315, \"161\": 0.03340676799416542, \"162\": -0.040339112281799316, \"163\": -0.01131364144384861, \"164\": 0.023822668939828873, \"165\": 0.001375658204779029, \"166\": 0.024359719827771187, \"167\": 0.0026983043644577265, \"168\": -0.009775521233677864, \"169\": -0.03481672704219818, \"170\": 0.012354465201497078, \"171\": -0.025402691215276718, \"172\": 0.02248401753604412, \"173\": -0.014912871643900871, \"174\": -0.004298625513911247, \"175\": -0.024864334613084793, \"176\": 0.005736661609262228, \"177\": -0.003684154013171792, \"178\": 0.031132200732827187, \"179\": 0.0009850705973803997, \"180\": -0.050416961312294006, \"181\": 0.001721197389997542, \"182\": 0.007645330857485533, \"183\": -0.018851539120078087, \"184\": -0.017139548435807228, \"185\": 0.013326616026461124, \"186\": 0.004639774560928345, \"187\": 0.06292840093374252, \"188\": -0.07132341712713242, \"189\": 0.0015343127306550741, \"190\": 0.00461046677082777, \"191\": 0.008621040731668472, \"192\": 0.0023764807265251875, \"193\": -0.003418021136894822, \"194\": 0.01352653093636036, \"195\": 0.029744822531938553, \"196\": -0.005442588124424219, \"197\": -0.0027200221084058285, \"198\": -0.027276596054434776, \"199\": 0.02843349054455757, \"index\": 37, \"NATIONALITY\": \"Bangladesh\"}, {\"query\": \"Abdul Motaleb Comilla Abdul Jalil\", \"0\": 0.10042088478803635, \"1\": -0.03377906233072281, \"2\": -0.05918363481760025, \"3\": 0.09010639786720276, \"4\": -0.00011383925448171794, \"5\": -0.057319093495607376, \"6\": 0.11722089350223541, \"7\": -0.1619328111410141, \"8\": -0.01471062283962965, \"9\": -0.013177569955587387, \"10\": -0.07650315016508102, \"11\": 0.03580626845359802, \"12\": -0.18927446007728577, \"13\": -0.054806455969810486, \"14\": 0.030834322795271873, \"15\": -0.010117517784237862, \"16\": -0.06401298195123672, \"17\": 0.1315997689962387, \"18\": -0.11187713593244553, \"19\": -0.04413365200161934, \"20\": -0.05968603864312172, \"21\": -0.18608105182647705, \"22\": 0.039798785001039505, \"23\": -0.04244580864906311, \"24\": 0.1275300830602646, \"25\": 0.006438498850911856, \"26\": 0.02890155278146267, \"27\": 0.05052201822400093, \"28\": -0.033687930554151535, \"29\": 0.0456153005361557, \"30\": 0.0037120620254427195, \"31\": 0.010535179637372494, \"32\": 0.03959721699357033, \"33\": -0.02585911750793457, \"34\": -0.02942662686109543, \"35\": 0.12733395397663116, \"36\": -0.0791759341955185, \"37\": 0.03829386085271835, \"38\": 0.06301730871200562, \"39\": -0.005912261549383402, \"40\": -0.047268979251384735, \"41\": 0.07619194686412811, \"42\": -0.09966006875038147, \"43\": 0.10675285011529922, \"44\": -0.10009744763374329, \"45\": 0.06788887083530426, \"46\": -0.00663139158859849, \"47\": -0.052985984832048416, \"48\": -0.08598173409700394, \"49\": 0.06834417581558228, \"50\": 0.040949951857328415, \"51\": -0.0369376614689827, \"52\": 0.06254733353853226, \"53\": 0.13923241198062897, \"54\": 0.029144784435629845, \"55\": 0.04286693036556244, \"56\": -0.015896029770374298, \"57\": 0.013055166229605675, \"58\": 0.03459089994430542, \"59\": -0.05894061550498009, \"60\": -0.0029644856695085764, \"61\": 0.03892868012189865, \"62\": -0.033007897436618805, \"63\": -0.014763529412448406, \"64\": -0.03220745176076889, \"65\": 0.06612517684698105, \"66\": -0.009123468771576881, \"67\": -0.08623810857534409, \"68\": 0.029349718242883682, \"69\": -0.0011874631745740771, \"70\": 0.033228982239961624, \"71\": -0.010001336224377155, \"72\": 0.027586141601204872, \"73\": 0.03427201136946678, \"74\": -0.044946666806936264, \"75\": 0.019813336431980133, \"76\": -0.003509394358843565, \"77\": 0.014108829200267792, \"78\": 0.01882210373878479, \"79\": 0.04389028251171112, \"80\": 0.018797215074300766, \"81\": 0.030035149306058884, \"82\": 0.05729832500219345, \"83\": -0.053810447454452515, \"84\": 0.07804921269416809, \"85\": 0.06289637088775635, \"86\": 0.029867732897400856, \"87\": -0.01385295856744051, \"88\": 0.08190707862377167, \"89\": 0.09981163591146469, \"90\": -0.05942583084106445, \"91\": -0.015952959656715393, \"92\": 0.018946412950754166, \"93\": 0.029663871973752975, \"94\": 0.022748922929167747, \"95\": 0.07192506641149521, \"96\": 0.012029741890728474, \"97\": -0.022451624274253845, \"98\": 0.06475061923265457, \"99\": -0.008617665618658066, \"100\": -0.037090934813022614, \"101\": 0.062214676290750504, \"102\": -0.040248457342386246, \"103\": -0.030659083276987076, \"104\": 0.03376424312591553, \"105\": -0.09889379143714905, \"106\": 0.039267200976610184, \"107\": 0.020958038046956062, \"108\": -0.04175250232219696, \"109\": -0.05135062336921692, \"110\": -0.07559499144554138, \"111\": -0.029849333688616753, \"112\": -0.009654948487877846, \"113\": 0.026070138439536095, \"114\": 0.07628633826971054, \"115\": -0.006586343050003052, \"116\": 0.030477754771709442, \"117\": 0.0053268070332705975, \"118\": 0.027629584074020386, \"119\": -0.040522441267967224, \"120\": 0.03797754645347595, \"121\": -0.04332762211561203, \"122\": -0.03805176913738251, \"123\": 0.017874354496598244, \"124\": -0.017969729378819466, \"125\": -0.022623207420110703, \"126\": 0.07095500826835632, \"127\": -0.03488672152161598, \"128\": 0.030253835022449493, \"129\": 0.04314415529370308, \"130\": -0.041426993906497955, \"131\": -0.021601079031825066, \"132\": 0.035993997007608414, \"133\": 0.029348786920309067, \"134\": -0.0023041057866066694, \"135\": -0.028852559626102448, \"136\": 0.024626489728689194, \"137\": -0.02936173975467682, \"138\": 0.06385666131973267, \"139\": 0.07379013299942017, \"140\": -0.06856910139322281, \"141\": -0.007538828533142805, \"142\": -0.011402391828596592, \"143\": 0.04092978686094284, \"144\": 0.009288841858506203, \"145\": -0.038468215614557266, \"146\": -0.03891056030988693, \"147\": 0.04590567946434021, \"148\": -0.02439291775226593, \"149\": -0.0007716105901636183, \"150\": 0.006904165726155043, \"151\": -0.061858486384153366, \"152\": -0.03184937313199043, \"153\": 0.05418345704674721, \"154\": 0.05955176427960396, \"155\": -0.004362933803349733, \"156\": -0.0162439476698637, \"157\": -0.02702173963189125, \"158\": 0.016331318765878677, \"159\": 0.0051885936409235, \"160\": -0.013221248053014278, \"161\": -0.0137174716219306, \"162\": 0.04718644544482231, \"163\": -0.03801565617322922, \"164\": 0.00777479400858283, \"165\": -0.02770482376217842, \"166\": -0.022635947912931442, \"167\": -0.0038265325129032135, \"168\": -0.03392565995454788, \"169\": 0.027443571016192436, \"170\": 0.008258765563368797, \"171\": -0.029780495911836624, \"172\": -0.022741131484508514, \"173\": 0.026186490431427956, \"174\": 0.008249404840171337, \"175\": -0.027878472581505775, \"176\": 0.0041823177598416805, \"177\": -0.032287292182445526, \"178\": -0.027182528749108315, \"179\": -0.026638535782694817, \"180\": -0.02683199569582939, \"181\": -0.04196561500430107, \"182\": -0.0005549429333768785, \"183\": -0.006337728817015886, \"184\": 0.06891071051359177, \"185\": 0.0069770230911672115, \"186\": -0.005320873111486435, \"187\": 0.011280200444161892, \"188\": -0.02208063006401062, \"189\": -0.0015126037178561091, \"190\": 0.00181409134529531, \"191\": -0.027114298194646835, \"192\": -0.02842010371387005, \"193\": 0.010091666132211685, \"194\": -0.0888427346944809, \"195\": 0.024614587426185608, \"196\": 0.022978227585554123, \"197\": -0.03461843729019165, \"198\": 0.035400956869125366, \"199\": 0.015955913811922073, \"index\": 38, \"NATIONALITY\": \"Bangladesh\"}, {\"query\": \"Abdur Rahim Hossain Ahammad\", \"0\": 0.25803351402282715, \"1\": -0.12216085195541382, \"2\": -0.057085633277893066, \"3\": 0.23867695033550262, \"4\": -0.07312000542879105, \"5\": -0.1140223816037178, \"6\": -0.01423220057040453, \"7\": -0.08549851179122925, \"8\": -0.1155405268073082, \"9\": -0.10685981065034866, \"10\": -0.07129978388547897, \"11\": -0.1041443720459938, \"12\": -0.030289042741060257, \"13\": -0.06050397828221321, \"14\": -0.16396617889404297, \"15\": 0.07298316806554794, \"16\": -0.01561830472201109, \"17\": 0.04442429915070534, \"18\": -0.002870878204703331, \"19\": -0.05401158332824707, \"20\": -0.016044333577156067, \"21\": 0.020846320316195488, \"22\": -0.011031060479581356, \"23\": 0.10588870197534561, \"24\": 0.1233445554971695, \"25\": -0.0075253676623106, \"26\": 0.10032770037651062, \"27\": 0.15726804733276367, \"28\": 0.040807727724313736, \"29\": -0.09918133914470673, \"30\": -0.07620953768491745, \"31\": -0.01928078942000866, \"32\": -0.037225089967250824, \"33\": -0.07297995686531067, \"34\": -0.019458377733826637, \"35\": -0.044940780848264694, \"36\": -0.011459708213806152, \"37\": 0.04947180673480034, \"38\": -0.0329798199236393, \"39\": 0.023977529257535934, \"40\": 0.03291265666484833, \"41\": -0.026287725195288658, \"42\": -0.06849708408117294, \"43\": -0.052467551082372665, \"44\": -0.026247959583997726, \"45\": 0.09449812024831772, \"46\": 0.08462578058242798, \"47\": -0.025952503085136414, \"48\": -0.04164934903383255, \"49\": 0.014729941263794899, \"50\": -0.008427673950791359, \"51\": -0.029079876840114594, \"52\": 0.019269807264208794, \"53\": 0.07798918336629868, \"54\": 0.0006734216585755348, \"55\": 0.020641587674617767, \"56\": -0.011192905716598034, \"57\": -0.017713211476802826, \"58\": -0.015556871891021729, \"59\": -0.052097469568252563, \"60\": 0.006276092492043972, \"61\": 0.08492942899465561, \"62\": -0.038408465683460236, \"63\": -0.012856637127697468, \"64\": 0.030039886012673378, \"65\": 0.02404521033167839, \"66\": 0.0028590012807399035, \"67\": -0.03581426665186882, \"68\": 0.025921987369656563, \"69\": -0.042003706097602844, \"70\": -0.0013194973580539227, \"71\": -0.059317752718925476, \"72\": 0.024160316213965416, \"73\": 0.02256540022790432, \"74\": 0.015515420585870743, \"75\": 0.030775681138038635, \"76\": -0.05341048166155815, \"77\": -0.005265184212476015, \"78\": -0.009466788731515408, \"79\": 0.029257742688059807, \"80\": 0.004105595406144857, \"81\": 0.01910869963467121, \"82\": 0.02959384396672249, \"83\": -0.02555723488330841, \"84\": -0.024816084653139114, \"85\": 0.0018684847746044397, \"86\": -0.016582272946834564, \"87\": -0.026369696483016014, \"88\": 0.04612506553530693, \"89\": 0.03701326996088028, \"90\": -0.008371798321604729, \"91\": -0.03910073637962341, \"92\": -0.07486632466316223, \"93\": 0.019424358382821083, \"94\": 0.02240137942135334, \"95\": -0.014837238937616348, \"96\": -0.026655934751033783, \"97\": 0.011963343247771263, \"98\": 0.01637006364762783, \"99\": -0.016484370455145836, \"100\": 0.03617659583687782, \"101\": -0.02551720105111599, \"102\": 0.030759576708078384, \"103\": 0.057154543697834015, \"104\": 0.03527304157614708, \"105\": -0.0009673001477494836, \"106\": -0.016216259449720383, \"107\": -0.044545602053403854, \"108\": -0.019322006031870842, \"109\": -0.02709118463099003, \"110\": -0.022072797641158104, \"111\": -0.025468477979302406, \"112\": -0.002522490220144391, \"113\": 0.07731921225786209, \"114\": 0.031762417405843735, \"115\": -0.023125318810343742, \"116\": 0.038149651139974594, \"117\": -0.014870922081172466, \"118\": -0.041887711733579636, \"119\": 0.031644031405448914, \"120\": 0.022446846589446068, \"121\": 0.010225184261798859, \"122\": -0.01804783195257187, \"123\": -0.07230349630117416, \"124\": -0.030269257724285126, \"125\": -0.03626219928264618, \"126\": 0.023419182747602463, \"127\": 0.04927396774291992, \"128\": 0.016959169879555702, \"129\": 0.007434467785060406, \"130\": -0.02833000011742115, \"131\": 0.0022287494502961636, \"132\": -0.004752915818244219, \"133\": -0.015014857053756714, \"134\": -0.02001410536468029, \"135\": -0.031544528901576996, \"136\": -0.004056822974234819, \"137\": 0.001932597835548222, \"138\": 0.033467475324869156, \"139\": 0.006995873991400003, \"140\": -0.013209821656346321, \"141\": -0.018472440540790558, \"142\": 0.0024618080351501703, \"143\": -0.0005210115923546255, \"144\": 0.029485899955034256, \"145\": 0.015653308480978012, \"146\": -0.019524306058883667, \"147\": -0.0201315525919199, \"148\": 0.023644492030143738, \"149\": -0.013059883378446102, \"150\": -0.02169443853199482, \"151\": 0.005788799375295639, \"152\": 0.027791470289230347, \"153\": 0.022414108738303185, \"154\": 0.06007213890552521, \"155\": -0.006936088670045137, \"156\": -0.03514808043837547, \"157\": 0.011945986188948154, \"158\": 0.045110881328582764, \"159\": 0.009400139562785625, \"160\": 0.0025051613338291645, \"161\": 0.010392989031970501, \"162\": -0.04724658653140068, \"163\": -0.03189849108457565, \"164\": -0.031348712742328644, \"165\": -0.003397295717149973, \"166\": 0.0589771568775177, \"167\": -0.023634163662791252, \"168\": 0.025733329355716705, \"169\": 0.020310817286372185, \"170\": -0.004147670231759548, \"171\": 0.04503325745463371, \"172\": 0.010505477897822857, \"173\": 0.020203815773129463, \"174\": 0.042034588754177094, \"175\": 0.05034319683909416, \"176\": 0.02089398168027401, \"177\": 0.004791314247995615, \"178\": 0.026889869943261147, \"179\": -0.02467094361782074, \"180\": -0.030815472826361656, \"181\": 0.010628167539834976, \"182\": 0.004780331160873175, \"183\": -0.017100559547543526, \"184\": -0.008233430795371532, \"185\": -0.02402425743639469, \"186\": -0.016306202858686447, \"187\": 0.02559868060052395, \"188\": 0.005307335406541824, \"189\": -0.009404243901371956, \"190\": -0.012875553220510483, \"191\": 0.011967756785452366, \"192\": 0.05372626706957817, \"193\": 0.04161941260099411, \"194\": 0.005008999723941088, \"195\": 0.05642644688487053, \"196\": 0.0021316681522876024, \"197\": 0.047052547335624695, \"198\": 0.019518457353115082, \"199\": 0.01810026355087757, \"index\": 39, \"NATIONALITY\": \"Bangladesh\"}, {\"query\": \"Mohd  Ayaius Hajee Moulana Mohd Musa\", \"0\": 0.1987302303314209, \"1\": -0.017863482236862183, \"2\": -0.1672462373971939, \"3\": 0.11355149000883102, \"4\": 0.07301083952188492, \"5\": 0.07533680647611618, \"6\": 0.1422881782054901, \"7\": 0.1365179866552353, \"8\": 0.015943370759487152, \"9\": -0.006442163605242968, \"10\": -0.030511314049363136, \"11\": 0.046085670590400696, \"12\": 0.06427374482154846, \"13\": -0.01273302361369133, \"14\": -0.15516382455825806, \"15\": 0.12603116035461426, \"16\": 0.019746756181120872, \"17\": -0.051369067281484604, \"18\": 0.07550039887428284, \"19\": 0.08201710879802704, \"20\": 0.03467601537704468, \"21\": 0.05134681612253189, \"22\": -0.12567131221294403, \"23\": -0.03684432804584503, \"24\": -0.09533845633268356, \"25\": 0.022753404453396797, \"26\": -0.023802494630217552, \"27\": 0.11491428315639496, \"28\": -0.022552475333213806, \"29\": 0.10945059359073639, \"30\": 0.07439105957746506, \"31\": 0.008657327853143215, \"32\": 0.0070142680779099464, \"33\": -0.01142809633165598, \"34\": 0.03333146497607231, \"35\": -0.0008336709579452872, \"36\": 0.03588445112109184, \"37\": 0.06751416623592377, \"38\": 0.043255969882011414, \"39\": -0.011137571185827255, \"40\": 0.011557613499462605, \"41\": 0.004211160354316235, \"42\": -0.05763451009988785, \"43\": 0.04076189547777176, \"44\": -0.03827815502882004, \"45\": 0.047410640865564346, \"46\": -0.04889044910669327, \"47\": -0.06262943893671036, \"48\": 0.03042781725525856, \"49\": -0.02399389073252678, \"50\": -0.07232244312763214, \"51\": -0.010756328701972961, \"52\": -0.050205864012241364, \"53\": -0.023346584290266037, \"54\": 0.0828864648938179, \"55\": -0.009336386807262897, \"56\": 0.06537827104330063, \"57\": -0.02753838524222374, \"58\": -0.02563844434916973, \"59\": 0.04276110604405403, \"60\": 0.0035158460959792137, \"61\": 0.026322610676288605, \"62\": -0.0033483172301203012, \"63\": 0.003346737939864397, \"64\": -0.06777177006006241, \"65\": -0.053138840943574905, \"66\": -0.08913620561361313, \"67\": -0.026028571650385857, \"68\": -0.02376922406256199, \"69\": 0.062091946601867676, \"70\": -0.049927689135074615, \"71\": 0.030909178778529167, \"72\": -0.004261372610926628, \"73\": 0.07981976866722107, \"74\": -0.023808438330888748, \"75\": 0.009015117771923542, \"76\": -0.00045634142588824034, \"77\": -0.04199399799108505, \"78\": 0.01679486595094204, \"79\": -0.00902740377932787, \"80\": -0.02696511335670948, \"81\": -0.0314159020781517, \"82\": 0.008953476324677467, \"83\": 0.05259678512811661, \"84\": -0.0033357327338308096, \"85\": -0.00913970172405243, \"86\": -0.06066025048494339, \"87\": -0.04595525562763214, \"88\": -0.014281162992119789, \"89\": 0.020388295873999596, \"90\": -0.007201267872005701, \"91\": -0.03919047862291336, \"92\": -0.08407095819711685, \"93\": 0.010361999273300171, \"94\": -0.009133540093898773, \"95\": -0.052329812198877335, \"96\": 0.042045675218105316, \"97\": 0.0006088749505579472, \"98\": -0.09120575338602066, \"99\": -0.028016347438097, \"100\": -0.0334283821284771, \"101\": -0.004838570486754179, \"102\": -0.05430306866765022, \"103\": -0.03131435438990593, \"104\": -0.002875752281397581, \"105\": 0.005238225217908621, \"106\": 0.03522896766662598, \"107\": -0.01978239417076111, \"108\": 0.0204330887645483, \"109\": -0.02963005006313324, \"110\": 0.04760587587952614, \"111\": -0.015602179802954197, \"112\": 0.0321766696870327, \"113\": -0.015645034611225128, \"114\": 0.046539973467588425, \"115\": 0.02635069750249386, \"116\": -0.0015855494420975447, \"117\": -0.025279894471168518, \"118\": 0.009445969015359879, \"119\": -0.026659637689590454, \"120\": 0.01334316935390234, \"121\": -0.02139419876039028, \"122\": 0.020388294011354446, \"123\": 0.04425438120961189, \"124\": -0.008435316383838654, \"125\": -0.012210470624268055, \"126\": -0.028523528948426247, \"127\": 0.02516353502869606, \"128\": -0.03722477704286575, \"129\": -0.014157554134726524, \"130\": 0.07357097417116165, \"131\": -0.040174372494220734, \"132\": 0.0003167457180097699, \"133\": -0.028983701020479202, \"134\": 0.011323034763336182, \"135\": -0.02238520421087742, \"136\": 0.01577727124094963, \"137\": -0.01207324955612421, \"138\": -0.011306477710604668, \"139\": 0.09393486380577087, \"140\": -0.07169445604085922, \"141\": 0.001179257407784462, \"142\": -0.015084435231983662, \"143\": 0.0264285858720541, \"144\": -0.0277013648301363, \"145\": -0.026017000898718834, \"146\": -0.03508512303233147, \"147\": 0.017525827512145042, \"148\": 0.010171115398406982, \"149\": -0.005649853497743607, \"150\": 0.0140596404671669, \"151\": 0.013483577407896519, \"152\": -0.023617016151547432, \"153\": 0.007502793334424496, \"154\": -0.0320272296667099, \"155\": 0.01230786181986332, \"156\": -0.04146985709667206, \"157\": 0.04350068047642708, \"158\": -0.013186769559979439, \"159\": 0.01570434682071209, \"160\": 0.0391065888106823, \"161\": 0.05003466084599495, \"162\": 0.02966364659368992, \"163\": -0.015724321827292442, \"164\": -0.013201932422816753, \"165\": 0.03587447479367256, \"166\": 0.03800055384635925, \"167\": -0.006249947473406792, \"168\": -0.006394520867615938, \"169\": -0.06301973015069962, \"170\": 0.014175262302160263, \"171\": 0.007973285391926765, \"172\": -0.04856976494193077, \"173\": 0.030712971463799477, \"174\": 0.04221272096037865, \"175\": -0.018409984186291695, \"176\": -0.01968846283853054, \"177\": 0.0505908839404583, \"178\": 0.039633359760046005, \"179\": -0.020879609510302544, \"180\": 0.009856482036411762, \"181\": 0.027318429201841354, \"182\": -0.003122873604297638, \"183\": 0.055460356175899506, \"184\": -0.029269665479660034, \"185\": 0.008338137529790401, \"186\": 0.005463493522256613, \"187\": -0.0288020521402359, \"188\": -0.007195749785751104, \"189\": 0.0024154067505151033, \"190\": 0.011965722776949406, \"191\": 0.005702039692550898, \"192\": -0.008457298390567303, \"193\": 0.006243733689188957, \"194\": -0.02247944287955761, \"195\": 0.020414913073182106, \"196\": -0.05498392507433891, \"197\": -0.022432731464505196, \"198\": 0.01477902103215456, \"199\": -0.05576494708657265, \"index\": 40, \"NATIONALITY\": \"Bangladesh\"}, {\"query\": \"Abu Mansur  Aminul Rahman\", \"0\": 0.17420287430286407, \"1\": -0.00954386405646801, \"2\": -0.1042347326874733, \"3\": 0.13023270666599274, \"4\": 0.02093643695116043, \"5\": -0.05964784696698189, \"6\": 0.08118051290512085, \"7\": -0.18528415262699127, \"8\": -0.002087810542434454, \"9\": -0.004925800487399101, \"10\": -0.07904136180877686, \"11\": -0.10821850597858429, \"12\": 0.18169765174388885, \"13\": -0.09742606431245804, \"14\": -0.1188264861702919, \"15\": 0.06380858272314072, \"16\": -0.0204482264816761, \"17\": 0.030481697991490364, \"18\": -0.06827226281166077, \"19\": -0.04454992711544037, \"20\": 0.02592379041016102, \"21\": -0.021124515682458878, \"22\": 0.08268214017152786, \"23\": 0.04646126925945282, \"24\": 0.07937691360712051, \"25\": 0.03255631774663925, \"26\": 0.07866045832633972, \"27\": -0.005619055591523647, \"28\": 0.0691324919462204, \"29\": 0.011020276695489883, \"30\": 0.07205604761838913, \"31\": 0.09023239463567734, \"32\": 0.04658784717321396, \"33\": 0.002392298774793744, \"34\": 0.01655009016394615, \"35\": 0.10450537502765656, \"36\": 0.07439134269952774, \"37\": 0.01539450790733099, \"38\": 0.019269833341240883, \"39\": 0.09872998297214508, \"40\": 0.04921182990074158, \"41\": -0.04269938915967941, \"42\": -0.013616792857646942, \"43\": 0.0006837350083515048, \"44\": -0.05539242923259735, \"45\": 0.06085249036550522, \"46\": 0.010088138282299042, \"47\": -0.05166882276535034, \"48\": 0.0413801409304142, \"49\": 0.03426269814372063, \"50\": -0.001858227769844234, \"51\": -0.04832630231976509, \"52\": -0.018977824598550797, \"53\": 0.009901285171508789, \"54\": 0.07810968905687332, \"55\": 0.003734877333045006, \"56\": -0.010341718792915344, \"57\": 0.014068510383367538, \"58\": -0.042227648198604584, \"59\": 0.007881059311330318, \"60\": -0.010965202935039997, \"61\": 0.09428123384714127, \"62\": 0.04168139770627022, \"63\": 0.024641143158078194, \"64\": 0.06317023187875748, \"65\": -0.032449860125780106, \"66\": -0.07014856487512589, \"67\": -0.018291497603058815, \"68\": 0.0460972934961319, \"69\": -0.016177615150809288, \"70\": -0.00019673386123031378, \"71\": -0.10082089155912399, \"72\": -0.04751497879624367, \"73\": 0.09770498424768448, \"74\": -0.05978814885020256, \"75\": -0.05410663038492203, \"76\": -0.0807068943977356, \"77\": -0.0006844870513305068, \"78\": -0.09673471748828888, \"79\": 0.04737716168165207, \"80\": 0.07159247994422913, \"81\": 0.04196643829345703, \"82\": 0.03798613324761391, \"83\": 0.008747274056077003, \"84\": -0.03802311047911644, \"85\": -0.07667424529790878, \"86\": -4.467231337912381e-05, \"87\": -0.03666817024350166, \"88\": 0.040173254907131195, \"89\": -0.0689007118344307, \"90\": -0.0708090215921402, \"91\": 0.02954559028148651, \"92\": -0.01693097874522209, \"93\": 0.033775195479393005, \"94\": -0.04813600704073906, \"95\": 0.035292353481054306, \"96\": 0.11068550497293472, \"97\": -0.09627331048250198, \"98\": 0.016736075282096863, \"99\": 0.039558351039886475, \"100\": -0.0933350995182991, \"101\": 0.0029101097024977207, \"102\": 0.020092913880944252, \"103\": -0.0716099962592125, \"104\": -0.028892939910292625, \"105\": -0.0059822858311235905, \"106\": 0.024393251165747643, \"107\": 0.01996050402522087, \"108\": 0.033785369247198105, \"109\": -0.05897216126322746, \"110\": 0.019781675189733505, \"111\": -0.08411383628845215, \"112\": -0.05630839988589287, \"113\": 0.008475717157125473, \"114\": 0.018666934221982956, \"115\": -0.06763391941785812, \"116\": 0.003431058255955577, \"117\": -0.008623131550848484, \"118\": -0.029533982276916504, \"119\": -0.027297960594296455, \"120\": -0.03699777275323868, \"121\": -0.03156203031539917, \"122\": 0.012886826880276203, \"123\": -0.0163304191082716, \"124\": 0.015553811565041542, \"125\": -0.05217776820063591, \"126\": 0.015143129974603653, \"127\": 0.05926089733839035, \"128\": 0.020448146387934685, \"129\": 0.03524401783943176, \"130\": -0.028241954743862152, \"131\": 0.06014462187886238, \"132\": 0.03322283551096916, \"133\": -0.02635977417230606, \"134\": -0.07439681887626648, \"135\": -0.046909186989068985, \"136\": 0.007540522143244743, \"137\": -0.0007497949991375208, \"138\": -0.0084110451862216, \"139\": 0.00858196709305048, \"140\": 0.07773030549287796, \"141\": 0.004420183598995209, \"142\": -0.02721567079424858, \"143\": -0.00044426583917811513, \"144\": 0.0469309501349926, \"145\": -0.058068521320819855, \"146\": 0.026563188061118126, \"147\": -0.04836265370249748, \"148\": -0.04581800475716591, \"149\": 0.014011634513735771, \"150\": -0.04626348987221718, \"151\": 0.02433769591152668, \"152\": 0.05395589768886566, \"153\": -0.00410751486197114, \"154\": 0.017072323709726334, \"155\": 0.04556422308087349, \"156\": 0.040336914360523224, \"157\": -0.001608436112292111, \"158\": 0.035776201635599136, \"159\": 0.009798475541174412, \"160\": 0.013757482171058655, \"161\": -0.05255480110645294, \"162\": 0.02092299610376358, \"163\": 0.02378913015127182, \"164\": -0.008435966446995735, \"165\": 0.00832789484411478, \"166\": -0.030410291627049446, \"167\": -0.019210251048207283, \"168\": 0.0430089496076107, \"169\": -0.012386780232191086, \"170\": 0.023989558219909668, \"171\": -0.006083882879465818, \"172\": -0.024662816897034645, \"173\": 0.011523684486746788, \"174\": 0.013957452960312366, \"175\": -0.013814596459269524, \"176\": 0.02296171523630619, \"177\": 0.00428379699587822, \"178\": -0.02774876169860363, \"179\": -0.04562734067440033, \"180\": -0.05227956175804138, \"181\": -0.0034282756969332695, \"182\": -0.013425199314951897, \"183\": -0.03157065808773041, \"184\": 0.011726247146725655, \"185\": -0.0040951985865831375, \"186\": 0.02631727047264576, \"187\": -0.031204361468553543, \"188\": -0.04581385850906372, \"189\": -0.028509806841611862, \"190\": 0.011494548991322517, \"191\": 0.01810031570494175, \"192\": -0.02841028943657875, \"193\": -0.008564714342355728, \"194\": 0.011958258226513863, \"195\": 0.057628534734249115, \"196\": 0.007409781217575073, \"197\": -0.019150882959365845, \"198\": -0.03429945930838585, \"199\": -0.00020347442477941513, \"index\": 41, \"NATIONALITY\": \"Bangladesh\"}, {\"query\": \"Forhad Hossain Alauddin Seik\", \"0\": 0.18601641058921814, \"1\": -0.11430099606513977, \"2\": 0.03563464805483818, \"3\": 0.0745910182595253, \"4\": -0.09782091528177261, \"5\": -0.08368298411369324, \"6\": -0.020654046908020973, \"7\": -0.05734826996922493, \"8\": 0.0552692785859108, \"9\": -0.07997345179319382, \"10\": 0.07221682369709015, \"11\": -0.03762783855199814, \"12\": -0.053665075451135635, \"13\": -0.009655111469328403, \"14\": 0.017531201243400574, \"15\": -0.025284215807914734, \"16\": 0.04751129448413849, \"17\": -0.11714722216129303, \"18\": 0.02457122877240181, \"19\": 0.010317009873688221, \"20\": -0.02943122573196888, \"21\": -0.028787586838006973, \"22\": -0.10444806516170502, \"23\": 0.0030685279052704573, \"24\": 0.085456483066082, \"25\": 0.05554535984992981, \"26\": 0.07580500841140747, \"27\": 0.03442833945155144, \"28\": 0.06602302193641663, \"29\": 0.007059140130877495, \"30\": -0.0012539182789623737, \"31\": -0.04758412390947342, \"32\": -0.02658202312886715, \"33\": -0.13783812522888184, \"34\": 0.11141379177570343, \"35\": -0.013653137721121311, \"36\": -0.09465529769659042, \"37\": 0.01770182140171528, \"38\": -0.02157585509121418, \"39\": 0.04810610041022301, \"40\": 0.01948019675910473, \"41\": -0.050768084824085236, \"42\": 0.03967946767807007, \"43\": -0.02043411321938038, \"44\": -0.10935746878385544, \"45\": 0.10203132033348083, \"46\": -0.05664284899830818, \"47\": 0.01411142386496067, \"48\": 0.00847078487277031, \"49\": 0.031028276309370995, \"50\": 0.005644246935844421, \"51\": 0.08783594518899918, \"52\": 0.008307753130793571, \"53\": 0.0851881355047226, \"54\": 0.04507462680339813, \"55\": -0.1011030375957489, \"56\": 0.04670308530330658, \"57\": -0.01621578447520733, \"58\": 0.04225635901093483, \"59\": -0.05785983055830002, \"60\": 0.03423110768198967, \"61\": 0.0966918095946312, \"62\": -0.15400280058383942, \"63\": -0.02415493316948414, \"64\": -0.0007851013215258718, \"65\": 0.01349723618477583, \"66\": -0.037892695516347885, \"67\": -0.0873316153883934, \"68\": 0.07895691692829132, \"69\": -0.14029428362846375, \"70\": 0.05200020596385002, \"71\": 0.030055731534957886, \"72\": 0.0036769455764442682, \"73\": -0.011096677742898464, \"74\": 0.03310461714863777, \"75\": 0.06239524856209755, \"76\": 0.03159050643444061, \"77\": -0.04601944983005524, \"78\": -0.05024375766515732, \"79\": 0.0527103990316391, \"80\": -0.06993787735700607, \"81\": -0.020052051171660423, \"82\": 0.013690777122974396, \"83\": 0.06799270212650299, \"84\": 0.012746864929795265, \"85\": 0.009266111068427563, \"86\": -0.047883667051792145, \"87\": -0.05136260390281677, \"88\": 0.03890679031610489, \"89\": 0.06190982833504677, \"90\": -0.03689086064696312, \"91\": -0.002061565173789859, \"92\": -0.04018106684088707, \"93\": 0.06897347420454025, \"94\": -0.03996271267533302, \"95\": 0.06011797487735748, \"96\": -0.025216298177838326, \"97\": 0.04477676749229431, \"98\": -0.003129394492134452, \"99\": -0.036374062299728394, \"100\": 0.023550406098365784, \"101\": -0.008806837722659111, \"102\": 0.029641516506671906, \"103\": 0.06035061553120613, \"104\": -0.0690809041261673, \"105\": 0.05180123448371887, \"106\": -0.10889946669340134, \"107\": -0.02078605815768242, \"108\": -0.043660759925842285, \"109\": -0.023002533242106438, \"110\": 0.0008440290112048388, \"111\": -0.04962939769029617, \"112\": -0.040311023592948914, \"113\": 0.01347456406801939, \"114\": 0.036528561264276505, \"115\": -0.05999596416950226, \"116\": 0.05828674137592316, \"117\": -0.0016000086907297373, \"118\": -0.027716191485524178, \"119\": -0.04832331836223602, \"120\": 0.03826617822051048, \"121\": -0.02007162757217884, \"122\": -0.001605254947207868, \"123\": -0.0021365825086832047, \"124\": -0.02917163446545601, \"125\": -0.04203903302550316, \"126\": 0.003635359462350607, \"127\": 0.027671869844198227, \"128\": -0.04939660057425499, \"129\": -0.02339630387723446, \"130\": -0.03863995894789696, \"131\": -0.03078855201601982, \"132\": 0.04555448889732361, \"133\": -0.017029033973813057, \"134\": -0.0113981943577528, \"135\": -0.010119601152837276, \"136\": -0.040764909237623215, \"137\": -0.002016696846112609, \"138\": 0.015206607058644295, \"139\": 0.019634343683719635, \"140\": -0.03438626602292061, \"141\": -0.09356789290904999, \"142\": -0.056619077920913696, \"143\": 0.02578827552497387, \"144\": -0.002738503273576498, \"145\": -0.035103488713502884, \"146\": 0.0029343003407120705, \"147\": 0.03640855476260185, \"148\": 0.04477289319038391, \"149\": -0.07399769127368927, \"150\": 0.004251381848007441, \"151\": -0.0002854175982065499, \"152\": 0.06134572997689247, \"153\": 0.003533442970365286, \"154\": 0.035742271691560745, \"155\": -0.04125141352415085, \"156\": 0.04814428836107254, \"157\": 0.016347447410225868, \"158\": -0.031011445447802544, \"159\": 0.002702318597584963, \"160\": 0.017342660576105118, \"161\": -0.007329033222049475, \"162\": 0.016606327146291733, \"163\": -0.014169172383844852, \"164\": -0.06798538565635681, \"165\": 0.044124577194452286, \"166\": -0.036025725305080414, \"167\": 0.04706171900033951, \"168\": -0.05896953120827675, \"169\": 0.0858008936047554, \"170\": 0.04257125034928322, \"171\": -0.03863982483744621, \"172\": 0.014592754654586315, \"173\": 0.0304025337100029, \"174\": -0.023878905922174454, \"175\": 0.036812279373407364, \"176\": 0.03519076108932495, \"177\": 0.010244927369058132, \"178\": 0.037885796278715134, \"179\": 0.0012951412936672568, \"180\": -0.04468723386526108, \"181\": -0.024626852944493294, \"182\": -0.011033570393919945, \"183\": 0.009396382607519627, \"184\": 0.024564215913414955, \"185\": 0.005702282767742872, \"186\": -0.003757762024179101, \"187\": -0.0187087282538414, \"188\": 0.007985261268913746, \"189\": 0.051555268466472626, \"190\": 0.014950177632272243, \"191\": 0.03282634913921356, \"192\": -0.026013478636741638, \"193\": -0.026865962892770767, \"194\": 0.024286942556500435, \"195\": -0.02912459708750248, \"196\": 0.016101516783237457, \"197\": 0.007575579918920994, \"198\": -0.050355736166238785, \"199\": -0.00392488855868578, \"index\": 42, \"NATIONALITY\": \"Bangladesh\"}, {\"query\": \"Mohammed Moshraf Hossai Haji Sadiqurrahman Bunya\", \"0\": 0.21387381851673126, \"1\": -0.1276341825723648, \"2\": -0.06287161260843277, \"3\": 0.22489233314990997, \"4\": -0.01380523294210434, \"5\": 0.0032950362656265497, \"6\": 0.06987514346837997, \"7\": 0.14543746411800385, \"8\": 0.0595935694873333, \"9\": 0.05068830028176308, \"10\": 0.0721765086054802, \"11\": 0.022897938266396523, \"12\": 0.03384602069854736, \"13\": -0.037981633096933365, \"14\": -0.15084308385849, \"15\": 0.09802001714706421, \"16\": -0.02183172106742859, \"17\": -0.10448449850082397, \"18\": 0.033685311675071716, \"19\": 0.00858158990740776, \"20\": 0.04918496310710907, \"21\": 0.00014153431402519345, \"22\": -0.04612379148602486, \"23\": 0.06830143928527832, \"24\": 0.010288354940712452, \"25\": 0.0695599615573883, \"26\": 0.11019273847341537, \"27\": 0.08958597481250763, \"28\": 0.09316270053386688, \"29\": -0.022196946665644646, \"30\": -0.008651010692119598, \"31\": 0.015730705112218857, \"32\": -0.018390027806162834, \"33\": -0.024071983993053436, \"34\": 0.03946629911661148, \"35\": -0.05553627014160156, \"36\": -0.01610768586397171, \"37\": 0.02991672232747078, \"38\": -0.07814234495162964, \"39\": 0.0004213678475935012, \"40\": -0.025779129937291145, \"41\": 0.01015274878591299, \"42\": -0.08164475113153458, \"43\": -0.06277412921190262, \"44\": -0.045351698994636536, \"45\": 0.009783162735402584, \"46\": 0.005915313493460417, \"47\": 0.017573023214936256, \"48\": -0.025317857041954994, \"49\": -0.04488251358270645, \"50\": 0.03974612057209015, \"51\": -0.02447637915611267, \"52\": 0.006095897872000933, \"53\": 0.035356555134058, \"54\": 0.02141415886580944, \"55\": -0.030108880251646042, \"56\": 0.04921369254589081, \"57\": 0.02687373198568821, \"58\": -0.0047339871525764465, \"59\": -0.00794086791574955, \"60\": 0.004173888824880123, \"61\": 0.07421693950891495, \"62\": -0.05821641534566879, \"63\": 0.10105282813310623, \"64\": -0.013134298846125603, \"65\": 0.0005533634684979916, \"66\": -0.07342034578323364, \"67\": 0.037070970982313156, \"68\": 0.037419456988573074, \"69\": -0.05940856784582138, \"70\": -0.04323215037584305, \"71\": 0.059495262801647186, \"72\": 0.06344631314277649, \"73\": 0.00827630702406168, \"74\": 0.03752845898270607, \"75\": -0.008560904301702976, \"76\": -0.006229639984667301, \"77\": 0.031535111367702484, \"78\": -0.004697836935520172, \"79\": 0.07373549044132233, \"80\": 0.09796526283025742, \"81\": 0.031394969671964645, \"82\": 0.09553622454404831, \"83\": -0.007488196715712547, \"84\": -0.023818310350179672, \"85\": 0.0005005454295314848, \"86\": -0.06429022550582886, \"87\": -0.06630601733922958, \"88\": 0.005996502470225096, \"89\": 0.0710655078291893, \"90\": 0.014248047955334187, \"91\": -0.03367869183421135, \"92\": -0.051577188074588776, \"93\": -0.06122765690088272, \"94\": 0.017239367589354515, \"95\": 0.01320401020348072, \"96\": -0.001379873021505773, \"97\": 0.07471265643835068, \"98\": -0.010308753699064255, \"99\": -0.038703907281160355, \"100\": 0.011208824813365936, \"101\": 0.043410614132881165, \"102\": -0.06633291393518448, \"103\": -0.02235598862171173, \"104\": 0.017973700538277626, \"105\": -0.005556345451623201, \"106\": 0.003676499705761671, \"107\": 0.04862626641988754, \"108\": 0.029237795621156693, \"109\": -0.029720496386289597, \"110\": -0.0014316309243440628, \"111\": -0.033459488302469254, \"112\": 0.011538751423358917, \"113\": 0.035172391682863235, \"114\": 0.08486610651016235, \"115\": -0.06191426143050194, \"116\": -0.00548037514090538, \"117\": -0.07635656744241714, \"118\": 0.07657252997159958, \"119\": 0.004890742711722851, \"120\": 0.021610604599118233, \"121\": 0.013349747285246849, \"122\": -0.03115737810730934, \"123\": -0.01264339592307806, \"124\": 0.0010203068377450109, \"125\": -0.04956935718655586, \"126\": 0.013979880139231682, \"127\": -0.03017641417682171, \"128\": -0.07435495406389236, \"129\": 0.04785089194774628, \"130\": -0.01570066623389721, \"131\": 0.019798528403043747, \"132\": -0.06544661521911621, \"133\": -0.03197300061583519, \"134\": -0.02392512559890747, \"135\": -0.03148926794528961, \"136\": -0.022572580724954605, \"137\": -0.08598065376281738, \"138\": 0.011111862026154995, \"139\": -0.005220136605203152, \"140\": -0.05410490930080414, \"141\": 0.05028639733791351, \"142\": -0.06856229156255722, \"143\": -0.005022992845624685, \"144\": 0.006278401706367731, \"145\": -0.01262910570949316, \"146\": 0.015266912057995796, \"147\": 0.027194224298000336, \"148\": -0.005509252659976482, \"149\": 0.01151967141777277, \"150\": 0.017292670905590057, \"151\": 0.009779352694749832, \"152\": -0.004362601321190596, \"153\": 0.031399473547935486, \"154\": -0.012901687994599342, \"155\": 0.034961387515068054, \"156\": -0.02327602356672287, \"157\": 0.012859503738582134, \"158\": 0.03598107397556305, \"159\": -0.0327879935503006, \"160\": 0.02104431763291359, \"161\": 0.005192633252590895, \"162\": -0.008853808045387268, \"163\": -0.004003291018307209, \"164\": -0.008739961311221123, \"165\": -0.007987740449607372, \"166\": 0.025022173300385475, \"167\": -0.02583380788564682, \"168\": -0.03608933091163635, \"169\": -0.004569416865706444, \"170\": 0.01564582623541355, \"171\": 0.0206358153373003, \"172\": -0.033710628747940063, \"173\": 0.019070936366915703, \"174\": -0.025056403130292892, \"175\": 0.04436575621366501, \"176\": 0.002453063614666462, \"177\": -0.03317851573228836, \"178\": -0.018363473936915398, \"179\": 0.04910913482308388, \"180\": -0.011902464553713799, \"181\": -0.028963735327124596, \"182\": 0.01793885976076126, \"183\": 0.0067710839211940765, \"184\": 0.00761893717572093, \"185\": -0.01277702022343874, \"186\": 0.02345142513513565, \"187\": -0.031747136265039444, \"188\": 0.001337653724476695, \"189\": -0.034135542809963226, \"190\": 0.010701427236199379, \"191\": -0.029522264376282692, \"192\": 0.019286740571260452, \"193\": 0.0037725588772445917, \"194\": 0.00041351362597197294, \"195\": 0.025686034932732582, \"196\": -0.02283370867371559, \"197\": -0.005034265108406544, \"198\": 0.03437630087137222, \"199\": 0.01413721777498722, \"index\": 43, \"NATIONALITY\": \"Bangladesh\"}, {\"query\": \"Sohrab Abdur Rahman Hosen\", \"0\": 0.15469446778297424, \"1\": -0.08376166969537735, \"2\": -0.04219786077737808, \"3\": 0.1568639576435089, \"4\": -0.10466837882995605, \"5\": -0.033008839935064316, \"6\": -0.009915322065353394, \"7\": -0.010965795256197453, \"8\": -0.13683141767978668, \"9\": 0.007388030178844929, \"10\": 0.10148468613624573, \"11\": -0.020394865423440933, \"12\": 0.0026976100634783506, \"13\": -0.05163632333278656, \"14\": -0.10702022910118103, \"15\": 0.056734856218099594, \"16\": 0.030283968895673752, \"17\": -0.02648003213107586, \"18\": 0.0022984067909419537, \"19\": -0.07558280974626541, \"20\": 0.07439285516738892, \"21\": 0.05339593440294266, \"22\": 0.01946147345006466, \"23\": 0.189141646027565, \"24\": 0.030143842101097107, \"25\": 0.08653831481933594, \"26\": 0.12683451175689697, \"27\": 0.19544650614261627, \"28\": 0.08492244780063629, \"29\": -0.053091730922460556, \"30\": -0.004426853731274605, \"31\": -0.03558002784848213, \"32\": -0.027910729870200157, \"33\": -0.034972868859767914, \"34\": -0.04691567271947861, \"35\": 0.03650636598467827, \"36\": -0.0610148161649704, \"37\": 0.05104142799973488, \"38\": -0.03092750906944275, \"39\": 0.029787059873342514, \"40\": 0.03430620953440666, \"41\": 0.006289490964263678, \"42\": -0.08010756969451904, \"43\": -0.10244860500097275, \"44\": -0.09138941764831543, \"45\": 0.10668408870697021, \"46\": 0.03453860431909561, \"47\": -0.011726305820047855, \"48\": -0.025009559467434883, \"49\": -0.04892447963356972, \"50\": -0.05905287712812424, \"51\": -0.009628813713788986, \"52\": 0.0008014981867745519, \"53\": 0.08096654713153839, \"54\": 0.007166234310716391, \"55\": 0.00017838827625382692, \"56\": 0.03508744016289711, \"57\": 0.007150715682655573, \"58\": -0.060311008244752884, \"59\": -0.05798519030213356, \"60\": 0.03734390810132027, \"61\": 0.08191737532615662, \"62\": 0.00615073274821043, \"63\": -0.05011000856757164, \"64\": 0.06906183063983917, \"65\": -0.02214866317808628, \"66\": -0.056731026619672775, \"67\": -0.07556010037660599, \"68\": 0.019745245575904846, \"69\": -0.020505474880337715, \"70\": 0.060683172196149826, \"71\": -0.056554511189460754, \"72\": -0.06973983347415924, \"73\": -0.078281931579113, \"74\": 0.022252874448895454, \"75\": -0.03951694443821907, \"76\": -0.01890605315566063, \"77\": -0.051443759351968765, \"78\": -0.06348112225532532, \"79\": 0.012868096120655537, \"80\": -0.009832367300987244, \"81\": -0.007936397567391396, \"82\": -0.038492877036333084, \"83\": 0.005906096659600735, \"84\": -0.009906923398375511, \"85\": 0.04553982615470886, \"86\": 0.041068073362112045, \"87\": 0.003923739772289991, \"88\": 0.0662282183766365, \"89\": 0.01653962954878807, \"90\": -0.010836329311132431, \"91\": 0.050056103616952896, \"92\": 0.0033292535226792097, \"93\": 0.0008650188683532178, \"94\": 0.0015578187303617597, \"95\": 0.009565752930939198, \"96\": 0.05732538923621178, \"97\": 0.05050911009311676, \"98\": 0.022224674001336098, \"99\": -0.06729713082313538, \"100\": -0.049298226833343506, \"101\": -0.034881770610809326, \"102\": 0.0023086490109562874, \"103\": 0.024486059322953224, \"104\": -0.010013258084654808, \"105\": 0.023270070552825928, \"106\": -0.06430330872535706, \"107\": 0.0170998927205801, \"108\": 0.008692733943462372, \"109\": -0.05831558629870415, \"110\": -0.008691355586051941, \"111\": 0.005559924524277449, \"112\": -0.004857334308326244, \"113\": 0.05922410264611244, \"114\": 0.01817062497138977, \"115\": -0.011426741257309914, \"116\": 0.02544877491891384, \"117\": -0.049206964671611786, \"118\": -0.020639199763536453, \"119\": -0.041571397334337234, \"120\": 0.029811589047312737, \"121\": -0.018717864528298378, \"122\": -0.046616777777671814, \"123\": -0.027825498953461647, \"124\": 0.030664250254631042, \"125\": 0.028303053230047226, \"126\": 0.11412496864795685, \"127\": -0.019103992730379105, \"128\": -0.021190237253904343, \"129\": 0.021740203723311424, \"130\": -0.0343177430331707, \"131\": 0.005070675164461136, \"132\": -0.06130228936672211, \"133\": -0.0512382946908474, \"134\": -0.05192331224679947, \"135\": -0.060301005840301514, \"136\": -0.003663051640614867, \"137\": -0.03000238724052906, \"138\": -0.008490457199513912, \"139\": -0.010728374123573303, \"140\": 0.012781012803316116, \"141\": 0.03614193946123123, \"142\": -0.039071641862392426, \"143\": 0.023341666907072067, \"144\": 0.035669103264808655, \"145\": -0.011125311255455017, \"146\": -0.033306222409009933, \"147\": -0.02663927711546421, \"148\": -0.10110170394182205, \"149\": -0.01734340749680996, \"150\": -0.014499274082481861, \"151\": 0.011556082405149937, \"152\": 0.023654401302337646, \"153\": 0.038277748972177505, \"154\": -0.007565826643258333, \"155\": 0.09431052207946777, \"156\": 0.03308039903640747, \"157\": -0.02700006030499935, \"158\": 0.030205251649022102, \"159\": -0.020665045827627182, \"160\": 0.04346761852502823, \"161\": -0.045306600630283356, \"162\": 0.007836703211069107, \"163\": -0.03230494260787964, \"164\": -0.01472953986376524, \"165\": -0.003596582915633917, \"166\": -0.016928762197494507, \"167\": -0.013638420961797237, \"168\": -0.003737454069778323, \"169\": -0.009673018008470535, \"170\": -0.02209893800318241, \"171\": 0.042197465896606445, \"172\": 0.0076927803456783295, \"173\": -0.013461251743137836, \"174\": -0.00937768816947937, \"175\": 0.06411436200141907, \"176\": 0.014567924663424492, \"177\": 0.0018747037975117564, \"178\": 0.04162244498729706, \"179\": -0.029389966279268265, \"180\": -0.06481582671403885, \"181\": 0.0019482296193018556, \"182\": -0.00328633445315063, \"183\": 0.01873968541622162, \"184\": 0.04363907501101494, \"185\": 0.0012590663973242044, \"186\": -0.005718995817005634, \"187\": -0.029990581795573235, \"188\": -0.00980003084987402, \"189\": -0.011774574406445026, \"190\": 0.016589393839240074, \"191\": 0.04399225115776062, \"192\": -0.017133984714746475, \"193\": 0.014171148650348186, \"194\": -0.013058277778327465, \"195\": 0.03824482858181, \"196\": 0.026435500010848045, \"197\": -0.011265270411968231, \"198\": -0.000958757649641484, \"199\": -0.027612918987870216, \"index\": 44, \"NATIONALITY\": \"Bangladesh\"}, {\"query\": \"Abu Masud  Mohd Mamun\", \"0\": 0.21450768411159515, \"1\": -0.09733261913061142, \"2\": -0.06351511180400848, \"3\": 0.15985986590385437, \"4\": 0.04474237933754921, \"5\": -0.009158644825220108, \"6\": 0.16873730719089508, \"7\": 0.0815313309431076, \"8\": 0.08599868416786194, \"9\": -0.030046598985791206, \"10\": -0.07314285635948181, \"11\": -0.043996911495923996, \"12\": 0.09752976149320602, \"13\": -0.07910875231027603, \"14\": -0.1338661015033722, \"15\": 0.11002062261104584, \"16\": -0.0037537633907049894, \"17\": -0.0031793913803994656, \"18\": -0.009172837249934673, \"19\": -0.0666804239153862, \"20\": 0.07294867932796478, \"21\": -0.13563914597034454, \"22\": 0.00230747414752841, \"23\": 0.02689356915652752, \"24\": 0.07265134900808334, \"25\": 0.039299700409173965, \"26\": 0.04485813155770302, \"27\": -0.014576920308172703, \"28\": 0.008730710484087467, \"29\": -0.007183961104601622, \"30\": 0.015512456186115742, \"31\": 0.035264965146780014, \"32\": -0.015531090088188648, \"33\": 0.0787312239408493, \"34\": 0.011220380663871765, \"35\": 0.10508892685174942, \"36\": 0.04612211138010025, \"37\": 0.017888536676764488, \"38\": 0.0220123752951622, \"39\": 0.03858679160475731, \"40\": 0.03408835083246231, \"41\": -0.0857875645160675, \"42\": 0.00039160321466624737, \"43\": 0.029200585559010506, \"44\": -0.060810189694166183, \"45\": 0.05986665189266205, \"46\": 0.0014809361891821027, \"47\": -0.02329629845917225, \"48\": -0.020369652658700943, \"49\": -0.028607051819562912, \"50\": 0.07321956008672714, \"51\": 0.021941665560007095, \"52\": -0.026453344151377678, \"53\": -0.007459794636815786, \"54\": -0.07480243593454361, \"55\": -0.07755781710147858, \"56\": -0.029288167133927345, \"57\": 0.005079337861388922, \"58\": 0.02815009094774723, \"59\": -0.00649105804041028, \"60\": -0.033797767013311386, \"61\": -0.00869246106594801, \"62\": -0.02930820733308792, \"63\": -0.017512474209070206, \"64\": -0.016488881781697273, \"65\": 0.0025771155487746, \"66\": -0.01584632322192192, \"67\": 0.01404597982764244, \"68\": -0.00612483499571681, \"69\": 0.008204667828977108, \"70\": 0.08260443806648254, \"71\": -0.02659108117222786, \"72\": -0.06406435370445251, \"73\": 0.04390314966440201, \"74\": 0.041605811566114426, \"75\": -0.053696710616350174, \"76\": -0.01555808074772358, \"77\": -0.05412232130765915, \"78\": -0.001178002916276455, \"79\": -0.022095298394560814, \"80\": -0.010978463105857372, \"81\": -0.012144530192017555, \"82\": 0.023915264755487442, \"83\": 0.06513034552335739, \"84\": 0.07160136848688126, \"85\": -0.0036476871464401484, \"86\": 0.010260628536343575, \"87\": -0.056263964623212814, \"88\": 0.03355039656162262, \"89\": 0.04010811075568199, \"90\": 0.009863481856882572, \"91\": 0.024103369563817978, \"92\": 0.01305535901337862, \"93\": 0.03282994404435158, \"94\": -0.061992425471544266, \"95\": -0.023082012310624123, \"96\": 0.047651298344135284, \"97\": -0.06503905355930328, \"98\": -0.060436177998781204, \"99\": -0.019367963075637817, \"100\": -0.06595111638307571, \"101\": 0.06850352883338928, \"102\": 0.04455096647143364, \"103\": -0.06579771637916565, \"104\": 0.04681462049484253, \"105\": 0.045675456523895264, \"106\": 0.020454270765185356, \"107\": 0.058453090488910675, \"108\": 0.034149784594774246, \"109\": 0.00921555794775486, \"110\": -0.026932433247566223, \"111\": -0.05517904832959175, \"112\": -0.017814520746469498, \"113\": 0.04571167379617691, \"114\": 0.00401633745059371, \"115\": -0.04251720756292343, \"116\": -0.03758594021201134, \"117\": -0.01837792620062828, \"118\": 0.0010769967921078205, \"119\": -0.030252965167164803, \"120\": 0.03127334639430046, \"121\": -0.0474972240626812, \"122\": 0.05977768823504448, \"123\": -0.04713401198387146, \"124\": 0.0351540669798851, \"125\": -0.0030151638202369213, \"126\": 0.017737071961164474, \"127\": -0.010432840324938297, \"128\": -0.03495807200670242, \"129\": 0.014619609341025352, \"130\": 0.028380872681736946, \"131\": 0.058327216655015945, \"132\": 0.005467938259243965, \"133\": 0.059514760971069336, \"134\": -0.011758053675293922, \"135\": -0.004376584198325872, \"136\": 0.04466129094362259, \"137\": -0.02454420179128647, \"138\": 0.07379553467035294, \"139\": 0.04033525660634041, \"140\": -0.012893006205558777, \"141\": -0.0035306632053107023, \"142\": 0.004194851964712143, \"143\": -0.010293392464518547, \"144\": -0.06444166600704193, \"145\": -0.039462435990571976, \"146\": -0.018196670338511467, \"147\": 0.004687773995101452, \"148\": 0.07334993034601212, \"149\": 0.03436039015650749, \"150\": 0.019075699150562286, \"151\": 0.04377976432442665, \"152\": 0.023278994485735893, \"153\": 0.001921355607919395, \"154\": 0.035051919519901276, \"155\": -0.022183889523148537, \"156\": 0.005128974560648203, \"157\": 0.03194085881114006, \"158\": 0.04968405142426491, \"159\": -0.03305346891283989, \"160\": -0.021551568061113358, \"161\": -0.026993656530976295, \"162\": 0.08145041763782501, \"163\": -0.008620436303317547, \"164\": 0.019684171304106712, \"165\": 0.007803857792168856, \"166\": 0.0014372593723237514, \"167\": -0.036380816251039505, \"168\": 0.048775073140859604, \"169\": -0.02298598736524582, \"170\": 0.03813009709119797, \"171\": -0.0173588115721941, \"172\": -0.0017225145129486918, \"173\": 0.011459333822131157, \"174\": 0.05375245213508606, \"175\": -0.007349483668804169, \"176\": -0.014901317656040192, \"177\": -0.045504726469516754, \"178\": 0.0008954093791544437, \"179\": -0.0039280373603105545, \"180\": -0.02013998106122017, \"181\": -0.009860267862677574, \"182\": 0.010548100806772709, \"183\": 0.04749320447444916, \"184\": 0.01285461150109768, \"185\": -0.00643111951649189, \"186\": -0.02057376131415367, \"187\": 0.035430047661066055, \"188\": -0.0449308343231678, \"189\": -0.007053695153445005, \"190\": 0.04029525816440582, \"191\": -0.035307642072439194, \"192\": -0.00040176667971536517, \"193\": 0.014668801799416542, \"194\": 0.01045160461217165, \"195\": 0.0037007946521043777, \"196\": -0.013731916435062885, \"197\": 0.024999724701046944, \"198\": -0.04855359345674515, \"199\": -0.019529646262526512, \"index\": 45, \"NATIONALITY\": \"Bangladesh\"}, {\"query\": \"Mohd Solaiman Ahmed Hossain Abdul Rahman\", \"0\": 0.17526809871196747, \"1\": -0.03147410601377487, \"2\": -0.08959237486124039, \"3\": 0.07160065323114395, \"4\": -0.037009045481681824, \"5\": -0.13869035243988037, \"6\": 0.04539540410041809, \"7\": 0.04259941726922989, \"8\": -0.14589226245880127, \"9\": -0.09797365218400955, \"10\": 0.030249299481511116, \"11\": -0.15939946472644806, \"12\": 0.014898656867444515, \"13\": -0.03084406442940235, \"14\": -0.11862028390169144, \"15\": 0.0349767841398716, \"16\": 0.002881906693801284, \"17\": -0.04187997803092003, \"18\": 0.012689325027167797, \"19\": -0.0175386480987072, \"20\": -0.0227636881172657, \"21\": -0.05660505220293999, \"22\": -0.028243333101272583, \"23\": 0.049113351851701736, \"24\": 0.06280501186847687, \"25\": 0.041075196117162704, \"26\": 0.11284240335226059, \"27\": 0.20231902599334717, \"28\": -0.012028699740767479, \"29\": -0.05773242935538292, \"30\": 0.0381583645939827, \"31\": 0.013633422553539276, \"32\": 0.010844399221241474, \"33\": -0.10389663279056549, \"34\": 0.04463864117860794, \"35\": 0.008792558684945107, \"36\": -0.0413249172270298, \"37\": 0.07874882221221924, \"38\": 0.07011900097131729, \"39\": 0.01565491035580635, \"40\": -0.002655013231560588, \"41\": 0.058561231940984726, \"42\": -0.0898226872086525, \"43\": -0.033221300691366196, \"44\": 0.007468258962035179, \"45\": 0.09061599522829056, \"46\": 0.048829033970832825, \"47\": -0.02319919504225254, \"48\": 0.03913888335227966, \"49\": -0.062036290764808655, \"50\": -0.008043126203119755, \"51\": -0.04738515242934227, \"52\": 0.038418445736169815, \"53\": 0.045349739491939545, \"54\": -0.011495024897158146, \"55\": 0.04292794317007065, \"56\": 0.09272007644176483, \"57\": 0.00971415638923645, \"58\": -0.052002206444740295, \"59\": -0.01145693939179182, \"60\": 0.06227203458547592, \"61\": 0.12567296624183655, \"62\": 0.011507818475365639, \"63\": 0.03605058044195175, \"64\": 0.03837426006793976, \"65\": 0.04851397126913071, \"66\": -0.022114722058176994, \"67\": -0.04349041357636452, \"68\": -0.01796397939324379, \"69\": 0.01785847172141075, \"70\": 0.09817983955144882, \"71\": 0.008396463468670845, \"72\": 0.0496218204498291, \"73\": -0.06896644085645676, \"74\": 0.028614986687898636, \"75\": 0.00043546874076128006, \"76\": -0.02490301802754402, \"77\": -0.11418294161558151, \"78\": -0.10394524782896042, \"79\": 0.02586117945611477, \"80\": -0.02990364469587803, \"81\": 0.029928233474493027, \"82\": -0.011017325334250927, \"83\": -0.009939802810549736, \"84\": -0.02146132104098797, \"85\": -0.04019516706466675, \"86\": 0.024295208975672722, \"87\": 0.009071629494428635, \"88\": -0.04539186507463455, \"89\": -0.019466441124677658, \"90\": 0.0024188815150409937, \"91\": 0.01959461160004139, \"92\": 0.0038496030028909445, \"93\": 0.013176006264984608, \"94\": 0.020825393497943878, \"95\": -0.034693460911512375, \"96\": 0.03584785386919975, \"97\": -0.04486699029803276, \"98\": 0.04731092229485512, \"99\": -0.04882964864373207, \"100\": -0.009682968258857727, \"101\": -0.000866409856826067, \"102\": -0.02723788283765316, \"103\": 0.047212861478328705, \"104\": 0.04058346524834633, \"105\": 0.0013590187299996614, \"106\": 0.014757964760065079, \"107\": 0.04834040626883507, \"108\": 0.011486365459859371, \"109\": -0.05397304892539978, \"110\": 0.03255658969283104, \"111\": -0.048291079699993134, \"112\": -0.03388213366270065, \"113\": 0.05339806154370308, \"114\": 0.034261029213666916, \"115\": 0.022931471467018127, \"116\": 0.0864441767334938, \"117\": -0.015060441568493843, \"118\": -0.07695803046226501, \"119\": 0.017258726060390472, \"120\": -0.019554896280169487, \"121\": 0.05922254920005798, \"122\": -0.019993891939520836, \"123\": -0.039700474590063095, \"124\": -0.01750786416232586, \"125\": 0.0032631983049213886, \"126\": 0.03243764117360115, \"127\": 0.05048409476876259, \"128\": 0.01133600901812315, \"129\": -0.001086104428395629, \"130\": -0.03161586448550224, \"131\": 0.011828332208096981, \"132\": 0.002715487265959382, \"133\": -0.030380144715309143, \"134\": -0.034119319170713425, \"135\": -0.04857335984706879, \"136\": -0.03470582142472267, \"137\": -0.04101860150694847, \"138\": -0.00013727824261877686, \"139\": 0.08273967355489731, \"140\": -0.05383416265249252, \"141\": 0.057947855442762375, \"142\": -0.01365665253251791, \"143\": 0.026905277743935585, \"144\": -0.020648160949349403, \"145\": -0.007796686142683029, \"146\": -0.029666027054190636, \"147\": -0.002077213255688548, \"148\": -0.060137126594781876, \"149\": -0.014324134215712547, \"150\": 0.012433764524757862, \"151\": -0.012112289667129517, \"152\": 0.0613744892179966, \"153\": 0.02406245283782482, \"154\": -0.015731755644083023, \"155\": 0.023756569251418114, \"156\": -0.015084454789757729, \"157\": 0.018444471061229706, \"158\": 0.045973099768161774, \"159\": -0.05307002738118172, \"160\": 0.015928205102682114, \"161\": 0.05555319786071777, \"162\": -0.030835770070552826, \"163\": -0.009080025367438793, \"164\": -0.03289567679166794, \"165\": 0.012422118335962296, \"166\": -0.00501819746568799, \"167\": -0.03987051546573639, \"168\": 0.029710233211517334, \"169\": 0.05698857456445694, \"170\": -0.025501921772956848, \"171\": 0.057973332703113556, \"172\": 0.028918983414769173, \"173\": 0.024121588096022606, \"174\": 0.02624261938035488, \"175\": 0.056445252150297165, \"176\": 0.030132384970784187, \"177\": 0.04003190994262695, \"178\": 0.041440535336732864, \"179\": 0.018365928903222084, \"180\": -0.06323578953742981, \"181\": 0.02713298238813877, \"182\": 0.022726381197571754, \"183\": -0.005023430101573467, \"184\": 0.012604735791683197, \"185\": 0.006900428794324398, \"186\": -0.005518845282495022, \"187\": -0.04277109354734421, \"188\": -0.033966246992349625, \"189\": 0.004409295041114092, \"190\": 0.03250769153237343, \"191\": -0.01802532747387886, \"192\": -0.03305690735578537, \"193\": 0.012389807030558586, \"194\": 0.046399325132369995, \"195\": 0.044850416481494904, \"196\": -0.008161011151969433, \"197\": 0.027375005185604095, \"198\": -0.021778041496872902, \"199\": -0.012533704750239849, \"index\": 46, \"NATIONALITY\": \"Bangladesh\"}, {\"query\": \"Moh`D  Shafiulazam\", \"0\": 0.21643418073654175, \"1\": -0.08080776035785675, \"2\": -0.12151012569665909, \"3\": 0.16111090779304504, \"4\": -0.015227030031383038, \"5\": 0.06051766872406006, \"6\": 0.1357761174440384, \"7\": 0.13045474886894226, \"8\": -0.0922992005944252, \"9\": 0.0069349524565041065, \"10\": 0.005365552380681038, \"11\": 0.004816361702978611, \"12\": -0.03195574879646301, \"13\": 0.09473051875829697, \"14\": -0.2285783588886261, \"15\": -0.12029137462377548, \"16\": 0.01826479472219944, \"17\": -0.02479052171111107, \"18\": -0.036349255591630936, \"19\": -0.0579347088932991, \"20\": -0.06336785107851028, \"21\": -0.030399370938539505, \"22\": 0.014037138782441616, \"23\": -0.028254320845007896, \"24\": -0.08516425639390945, \"25\": 0.03955636918544769, \"26\": -0.07012878358364105, \"27\": 0.06687752902507782, \"28\": -0.02449231781065464, \"29\": -0.013421530835330486, \"30\": 0.12417986243963242, \"31\": 0.1789899468421936, \"32\": 0.05016537010669708, \"33\": -0.013584357686340809, \"34\": -0.004215981811285019, \"35\": 0.05029898136854172, \"36\": -0.03289344906806946, \"37\": 0.042284462600946426, \"38\": -0.048308830708265305, \"39\": -0.04661012068390846, \"40\": 0.10831976681947708, \"41\": -0.011899948120117188, \"42\": 0.06429772824048996, \"43\": -0.024041322991251945, \"44\": -0.07205954194068909, \"45\": -0.022055596113204956, \"46\": -0.010359318926930428, \"47\": -0.049430347979068756, \"48\": 0.0441453754901886, \"49\": 0.04215617477893829, \"50\": -0.03216862305998802, \"51\": -0.012860148213803768, \"52\": 0.03164561092853546, \"53\": 0.07974646240472794, \"54\": 0.03397069498896599, \"55\": 0.033594824373722076, \"56\": 0.04190788418054581, \"57\": -0.07380139082670212, \"58\": -0.006910162977874279, \"59\": -0.10984662920236588, \"60\": 0.018475573509931564, \"61\": 0.022644203156232834, \"62\": 0.035299818962812424, \"63\": -0.03816886618733406, \"64\": -0.07435757666826248, \"65\": -0.04790258780121803, \"66\": -0.03460434451699257, \"67\": -0.04308928921818733, \"68\": 0.028720024973154068, \"69\": -0.03341945633292198, \"70\": -0.021656639873981476, \"71\": 0.03805244341492653, \"72\": 0.02064957097172737, \"73\": -0.016734706237912178, \"74\": -0.015772689133882523, \"75\": 0.04347188398241997, \"76\": -0.016314785927534103, \"77\": -0.0064646233804523945, \"78\": 0.03624863922595978, \"79\": -0.02676193229854107, \"80\": 0.007303130812942982, \"81\": -0.07712110131978989, \"82\": 0.007531722541898489, \"83\": 0.00021697839838452637, \"84\": -0.011328625492751598, \"85\": 0.06417907029390335, \"86\": 0.005504128988832235, \"87\": -0.02374746836721897, \"88\": -0.0029726694338023663, \"89\": 0.04406191408634186, \"90\": -0.0006065015913918614, \"91\": -0.0008159428834915161, \"92\": 0.0014750034315511584, \"93\": 0.007484296802431345, \"94\": -0.05431525781750679, \"95\": -0.007121072616428137, \"96\": 0.03982080891728401, \"97\": 0.01688588783144951, \"98\": -0.04080367833375931, \"99\": 0.021009955555200577, \"100\": -0.005940756294876337, \"101\": -0.009438162669539452, \"102\": -0.003306992119178176, \"103\": -0.03202681243419647, \"104\": -0.017162883654236794, \"105\": 0.01609060727059841, \"106\": -0.019883275032043457, \"107\": -0.02619832381606102, \"108\": 0.050783295184373856, \"109\": 0.03863115981221199, \"110\": 0.023411614820361137, \"111\": 0.031111573800444603, \"112\": 0.016576729714870453, \"113\": -0.015215419232845306, \"114\": -0.004585456568747759, \"115\": 0.01398926880210638, \"116\": -0.0021673734299838543, \"117\": -0.04782157391309738, \"118\": -0.017892181873321533, \"119\": 0.008859856054186821, \"120\": 0.021624762564897537, \"121\": -0.016590742394328117, \"122\": 0.02793150395154953, \"123\": 0.06331222504377365, \"124\": -0.0739598497748375, \"125\": -0.016543857753276825, \"126\": 0.016194593161344528, \"127\": 0.0616094246506691, \"128\": -0.003222096711397171, \"129\": 0.016572393476963043, \"130\": 0.024178501218557358, \"131\": -0.024865899235010147, \"132\": 0.006821762770414352, \"133\": -0.0034811876248568296, \"134\": -0.020302509889006615, \"135\": 0.02408638969063759, \"136\": 0.03372436389327049, \"137\": -0.02480296790599823, \"138\": -0.04295951500535011, \"139\": 0.02755507081747055, \"140\": 0.06201935559511185, \"141\": 0.015311922878026962, \"142\": 0.0013030593981966376, \"143\": 0.006682513281702995, \"144\": -0.02133808843791485, \"145\": 0.012137249112129211, \"146\": -0.061335623264312744, \"147\": -0.003815440461039543, \"148\": 0.0016481300117447972, \"149\": -0.015211068093776703, \"150\": 0.02682640589773655, \"151\": -0.003083424177020788, \"152\": 0.03806419298052788, \"153\": -0.01974240504205227, \"154\": -0.00828118622303009, \"155\": -0.00036311420262791216, \"156\": -0.008853769861161709, \"157\": 0.015197759494185448, \"158\": 0.031240716576576233, \"159\": 0.04542990028858185, \"160\": -0.07072307169437408, \"161\": 0.03655616194009781, \"162\": 0.007044609170407057, \"163\": -0.03787446767091751, \"164\": -0.00584869971498847, \"165\": 0.025165406987071037, \"166\": 0.008837322704494, \"167\": -0.06815633177757263, \"168\": 0.0296785905957222, \"169\": -0.0033923231530934572, \"170\": 0.007885541766881943, \"171\": 0.05008954554796219, \"172\": 0.024961337447166443, \"173\": -0.014870707876980305, \"174\": 0.042515967041254044, \"175\": -0.05383295938372612, \"176\": 0.019558580592274666, \"177\": -0.03155132010579109, \"178\": 0.04029971361160278, \"179\": -0.002999046817421913, \"180\": -0.0734374150633812, \"181\": -0.03362034261226654, \"182\": 0.03177184611558914, \"183\": -0.0006433534435927868, \"184\": -0.0009846155298873782, \"185\": -0.011330963112413883, \"186\": 0.015120312571525574, \"187\": -0.0004394587595015764, \"188\": 0.0005807830602861941, \"189\": -0.015742532908916473, \"190\": 0.0014315100852400064, \"191\": -0.006039605475962162, \"192\": 0.011826652102172375, \"193\": 0.006844795774668455, \"194\": -0.008140571415424347, \"195\": -0.02704152837395668, \"196\": -0.0051308441907167435, \"197\": -0.00957394391298294, \"198\": 0.026586204767227173, \"199\": 0.025706639513373375, \"index\": 47, \"NATIONALITY\": \"Bangladesh\"}, {\"query\": \"S. M. Ekram  Hossain\", \"0\": 0.07572928816080093, \"1\": -0.1146450787782669, \"2\": 0.0058715264312922955, \"3\": 0.09470716863870621, \"4\": -0.059323713183403015, \"5\": -0.02560545690357685, \"6\": -0.08616195619106293, \"7\": 0.11889854073524475, \"8\": -0.05893358215689659, \"9\": -0.12628903985023499, \"10\": 0.18810980021953583, \"11\": -0.05153864622116089, \"12\": -0.059604011476039886, \"13\": -0.05621854588389397, \"14\": -0.01867074891924858, \"15\": 0.01637878641486168, \"16\": 0.05591686815023422, \"17\": -0.09877075999975204, \"18\": -0.11999264359474182, \"19\": -0.019952360540628433, \"20\": 0.03935427591204643, \"21\": -0.04216046258807182, \"22\": -0.0894586443901062, \"23\": 0.07644232362508774, \"24\": 0.08996041119098663, \"25\": 0.012954126112163067, \"26\": 0.03493890538811684, \"27\": 0.10781428217887878, \"28\": 0.07535166293382645, \"29\": -0.0742073506116867, \"30\": -0.04328341409564018, \"31\": -0.028123298659920692, \"32\": 0.0722644031047821, \"33\": -0.0941464975476265, \"34\": 0.07421067357063293, \"35\": 0.03991548717021942, \"36\": -0.09104854613542557, \"37\": 0.016851212829351425, \"38\": 0.061138052493333817, \"39\": -0.056367550045251846, \"40\": 0.04838971421122551, \"41\": 0.019037654623389244, \"42\": -0.11688419431447983, \"43\": -0.031839605420827866, \"44\": -0.15419431030750275, \"45\": 0.1179061084985733, \"46\": -0.07924488186836243, \"47\": -0.05529350787401199, \"48\": 0.13232013583183289, \"49\": 0.04581024497747421, \"50\": 0.0956801325082779, \"51\": 0.013812070712447166, \"52\": 0.024717247113585472, \"53\": 0.10435023903846741, \"54\": -0.07688672095537186, \"55\": -0.022585581988096237, \"56\": -0.02052219957113266, \"57\": -0.049269385635852814, \"58\": -0.01943996548652649, \"59\": -0.026127144694328308, \"60\": 0.013745282776653767, \"61\": 0.07232213020324707, \"62\": -0.0050529660657048225, \"63\": -0.0006156382150948048, \"64\": 0.08824434876441956, \"65\": 0.10204878449440002, \"66\": 0.06276204437017441, \"67\": -0.06013629958033562, \"68\": -0.00944670382887125, \"69\": -0.04863573610782623, \"70\": 0.06654542684555054, \"71\": 0.006447118241339922, \"72\": 0.08556070923805237, \"73\": 0.01705210842192173, \"74\": 0.10127750784158707, \"75\": 0.007421978749334812, \"76\": 0.011158651672303677, \"77\": -0.11837447434663773, \"78\": 0.004221577197313309, \"79\": 0.09033414721488953, \"80\": 0.027679678052663803, \"81\": 0.019793974235653877, \"82\": 0.09118761867284775, \"83\": -0.012025587260723114, \"84\": -0.0565335787832737, \"85\": -0.01929648034274578, \"86\": -0.025203796103596687, \"87\": -0.07901781052350998, \"88\": 0.008272119797766209, \"89\": 0.0180969275534153, \"90\": 0.009040112607181072, \"91\": -0.03284015506505966, \"92\": -0.017594654113054276, \"93\": 0.05746733397245407, \"94\": 0.021793607622385025, \"95\": -0.006669745314866304, \"96\": 0.0885428860783577, \"97\": 0.04372931644320488, \"98\": 0.034825488924980164, \"99\": -0.054724473506212234, \"100\": -0.01161214243620634, \"101\": 0.011037014424800873, \"102\": 0.04722888767719269, \"103\": -0.0068543413653969765, \"104\": 0.04246600717306137, \"105\": 0.04924631863832474, \"106\": -0.08268164098262787, \"107\": -0.004400681238621473, \"108\": -0.03928787261247635, \"109\": -0.005167735740542412, \"110\": -0.019412294030189514, \"111\": 0.011319348588585854, \"112\": -0.021917760372161865, \"113\": 0.02838560752570629, \"114\": -0.0035268410574644804, \"115\": 0.024107279255986214, \"116\": 0.02079249732196331, \"117\": -0.017290029674768448, \"118\": 0.0777297392487526, \"119\": -0.011359469965100288, \"120\": 0.005613918416202068, \"121\": 0.03108193911612034, \"122\": 0.016751734539866447, \"123\": -0.042215295135974884, \"124\": -0.006860491819679737, \"125\": -0.035342469811439514, \"126\": 0.03049398399889469, \"127\": -0.011660714633762836, \"128\": 0.0014769763220101595, \"129\": -0.05101098492741585, \"130\": 0.002203327137976885, \"131\": 0.03923027217388153, \"132\": -0.02716011181473732, \"133\": 0.015020745806396008, \"134\": 0.04692722111940384, \"135\": 0.03672317788004875, \"136\": -0.011604844592511654, \"137\": -0.06279069930315018, \"138\": -0.0005997453699819744, \"139\": -0.023422405123710632, \"140\": -0.04932393506169319, \"141\": 0.01861978881061077, \"142\": -0.021431010216474533, \"143\": 0.030813150107860565, \"144\": -0.004608709365129471, \"145\": 0.00785240437835455, \"146\": 0.008337721228599548, \"147\": -0.03569110110402107, \"148\": 0.014785070903599262, \"149\": 0.02003917656838894, \"150\": -0.0002522905997466296, \"151\": -0.02503075823187828, \"152\": 0.025464119389653206, \"153\": -0.011307925917208195, \"154\": 0.003074219450354576, \"155\": -0.013705591671168804, \"156\": -0.03008749708533287, \"157\": -0.041475456207990646, \"158\": -0.02653941884636879, \"159\": 0.001745319226756692, \"160\": 0.020904747769236565, \"161\": 0.02343141660094261, \"162\": 0.008109119720757008, \"163\": -0.021200794726610184, \"164\": 0.0028880215249955654, \"165\": -0.03236899897456169, \"166\": 0.00589001877233386, \"167\": -0.011586661450564861, \"168\": 0.0005460024112835526, \"169\": -0.014030714519321918, \"170\": -0.03316677361726761, \"171\": 0.01108193676918745, \"172\": 0.02429618500173092, \"173\": 0.014543294906616211, \"174\": 0.03940141201019287, \"175\": 0.011430025100708008, \"176\": 0.04040543735027313, \"177\": -0.001768103800714016, \"178\": -0.03280602768063545, \"179\": 0.020023362711071968, \"180\": -0.013372267596423626, \"181\": -0.02099057286977768, \"182\": -0.03071756660938263, \"183\": -0.00890077743679285, \"184\": 0.031102314591407776, \"185\": -0.03545982390642166, \"186\": -0.03997278958559036, \"187\": 0.007252329494804144, \"188\": -0.049482561647892, \"189\": -0.02996116876602173, \"190\": 0.03594135120511055, \"191\": -0.003449036041274667, \"192\": 0.019635682925581932, \"193\": 0.004711295012384653, \"194\": -0.007465464994311333, \"195\": 0.017265822738409042, \"196\": 0.031403932720422745, \"197\": 0.03773980215191841, \"198\": 0.019460279494524002, \"199\": 0.007928053848445415, \"index\": 48, \"NATIONALITY\": \"Bangladesh\"}, {\"query\": \"Mohammed Shaha Jahan Shaha Alam\", \"0\": 0.15510205924510956, \"1\": -0.16889572143554688, \"2\": -0.04991428926587105, \"3\": 0.10380113124847412, \"4\": -0.12909027934074402, \"5\": -0.09557855129241943, \"6\": 0.08827684074640274, \"7\": 0.05675622820854187, \"8\": 0.0010196366347372532, \"9\": -0.12303023785352707, \"10\": -0.08635568618774414, \"11\": 0.10723266005516052, \"12\": -0.06639069318771362, \"13\": -0.007379370275884867, \"14\": -0.060315996408462524, \"15\": -0.1216815635561943, \"16\": -0.07638943195343018, \"17\": 0.09764421731233597, \"18\": 0.0938211977481842, \"19\": 0.02125219814479351, \"20\": -0.09710708260536194, \"21\": -0.04385467246174812, \"22\": 0.160904660820961, \"23\": -0.026577308773994446, \"24\": -0.10625205188989639, \"25\": -0.06408990174531937, \"26\": 0.025919590145349503, \"27\": -0.017791571095585823, \"28\": 0.08474297821521759, \"29\": -0.05616069585084915, \"30\": -0.019613299518823624, \"31\": 0.03530057147145271, \"32\": 0.10776976495981216, \"33\": -0.14358395338058472, \"34\": 0.05824989825487137, \"35\": 0.013470797799527645, \"36\": 0.03204701468348503, \"37\": -0.06704114377498627, \"38\": -0.07783791422843933, \"39\": 0.0002783399249892682, \"40\": -0.06349866837263107, \"41\": -0.01826222613453865, \"42\": 0.08861693739891052, \"43\": 0.0013459313195198774, \"44\": -0.06742769479751587, \"45\": -0.017660213634371758, \"46\": -0.04348883405327797, \"47\": 0.0793784111738205, \"48\": 0.08070025593042374, \"49\": 0.02303944155573845, \"50\": 0.010079439729452133, \"51\": 0.0504976361989975, \"52\": 0.06345227360725403, \"53\": -0.02988865226507187, \"54\": 0.02506517618894577, \"55\": -0.027871258556842804, \"56\": 0.02777918241918087, \"57\": 0.021677996963262558, \"58\": -0.04970749840140343, \"59\": -0.036167677491903305, \"60\": 0.09441256523132324, \"61\": 0.02748085744678974, \"62\": -0.05584527552127838, \"63\": 0.05637945979833603, \"64\": -0.037851810455322266, \"65\": -0.006389586720615625, \"66\": -0.012704909779131413, \"67\": -0.027720464393496513, \"68\": 0.018506402149796486, \"69\": -0.05131862312555313, \"70\": 0.04859115183353424, \"71\": -0.11186488717794418, \"72\": 0.0373116210103035, \"73\": 0.004035315476357937, \"74\": -0.08467563986778259, \"75\": 0.030196992680430412, \"76\": 0.021176623180508614, \"77\": -0.042339764535427094, \"78\": -0.03796117752790451, \"79\": -0.03885529190301895, \"80\": -0.029890134930610657, \"81\": -0.07744616270065308, \"82\": -0.06871890276670456, \"83\": -0.017456062138080597, \"84\": -0.03485758602619171, \"85\": -0.026572396978735924, \"86\": 0.04380008950829506, \"87\": -0.05608494579792023, \"88\": 0.061927057802677155, \"89\": 0.06420803815126419, \"90\": 0.03218097239732742, \"91\": 0.0524604357779026, \"92\": -0.015607930719852448, \"93\": 0.010309123434126377, \"94\": -0.009205405600368977, \"95\": 0.0078129218891263, \"96\": 0.033182717859745026, \"97\": 0.017313120886683464, \"98\": 0.0074918572790920734, \"99\": -0.0737873986363411, \"100\": -0.009514164179563522, \"101\": 0.04289974644780159, \"102\": 0.0087136784568429, \"103\": 0.006689487490803003, \"104\": -0.0022913396824151278, \"105\": 0.09397939592599869, \"106\": 0.008678833954036236, \"107\": -0.01350070908665657, \"108\": -0.06433352828025818, \"109\": 0.0036743939854204655, \"110\": 0.006544771138578653, \"111\": 0.04548429697751999, \"112\": -0.0027518311981111765, \"113\": 0.01962052471935749, \"114\": -0.025130433961749077, \"115\": -0.061001088470220566, \"116\": 0.05123106762766838, \"117\": -0.05326331779360771, \"118\": 0.03265606611967087, \"119\": 0.0017787027172744274, \"120\": 0.04302174970507622, \"121\": 0.033093396574258804, \"122\": 0.04129895940423012, \"123\": -0.02478957735002041, \"124\": 0.03727208822965622, \"125\": 0.022441675886511803, \"126\": -0.02605380490422249, \"127\": -0.0020499296952039003, \"128\": 0.012332838959991932, \"129\": 0.021081117913126945, \"130\": -0.0009900116128847003, \"131\": -0.0043184515088796616, \"132\": -0.04121556133031845, \"133\": 0.004495331086218357, \"134\": -0.0003205584071110934, \"135\": 0.028958547860383987, \"136\": -0.03739318996667862, \"137\": -0.053725093603134155, \"138\": 0.02346527948975563, \"139\": -0.0062532140873372555, \"140\": 0.04914801940321922, \"141\": 0.0008895648061297834, \"142\": 0.02550378441810608, \"143\": -0.04009716957807541, \"144\": -0.009581617079675198, \"145\": -0.055206332355737686, \"146\": -0.017934413626790047, \"147\": 0.04503501206636429, \"148\": -0.03886386379599571, \"149\": -0.0008929402101784945, \"150\": -0.01196381263434887, \"151\": -0.015918519347906113, \"152\": 0.000886971247382462, \"153\": 0.049470607191324234, \"154\": 0.017747700214385986, \"155\": 0.01254399586468935, \"156\": -0.01794319786131382, \"157\": 0.02998180501163006, \"158\": -0.013994041830301285, \"159\": -0.010633856989443302, \"160\": 0.008395997807383537, \"161\": -0.015734530985355377, \"162\": -0.030021876096725464, \"163\": -0.009061157703399658, \"164\": 0.04540262371301651, \"165\": -0.007200897671282291, \"166\": -0.032634321600198746, \"167\": -0.04412485659122467, \"168\": 0.014565227553248405, \"169\": -0.0025154927279800177, \"170\": 0.01609114184975624, \"171\": -0.043206654489040375, \"172\": -0.022350339218974113, \"173\": 0.002450736938044429, \"174\": -0.0011541754938662052, \"175\": 0.014335190877318382, \"176\": 8.72881937539205e-05, \"177\": 0.01649990677833557, \"178\": 0.014230863191187382, \"179\": 0.036178506910800934, \"180\": -0.006338007748126984, \"181\": -0.03863941878080368, \"182\": -0.010327702388167381, \"183\": -0.016069486737251282, \"184\": 0.019104447215795517, \"185\": -0.017719805240631104, \"186\": 0.002685334300622344, \"187\": 0.040062058717012405, \"188\": 0.004931643605232239, \"189\": -0.03647172451019287, \"190\": -0.03169706463813782, \"191\": 0.0006547431112267077, \"192\": -0.01392009574919939, \"193\": 0.01510614063590765, \"194\": -0.014454429037868977, \"195\": 0.007959993556141853, \"196\": -0.016559196636080742, \"197\": -0.013480991125106812, \"198\": 0.036981455981731415, \"199\": 0.038950785994529724, \"index\": 49, \"NATIONALITY\": \"Bangladesh\"}, {\"query\": \"Mohammed Helal Uddin Hajee Abu Taher\", \"0\": 0.3179551661014557, \"1\": -0.07316823303699493, \"2\": -0.03660750761628151, \"3\": 0.07821140438318253, \"4\": -0.01751374639570713, \"5\": -0.03505684435367584, \"6\": 0.0758340135216713, \"7\": 0.06126875802874565, \"8\": -0.019311057403683662, \"9\": 0.0022466068621724844, \"10\": -0.07976381480693817, \"11\": -0.001432380173355341, \"12\": -0.08281806856393814, \"13\": 0.12015901505947113, \"14\": -0.11208795011043549, \"15\": 0.08465845882892609, \"16\": 0.06658236682415009, \"17\": -0.015630869194865227, \"18\": 0.03673633188009262, \"19\": -0.058506011962890625, \"20\": 0.027860160917043686, \"21\": -0.024299411103129387, \"22\": -0.03398803994059563, \"23\": 0.07716406136751175, \"24\": 0.09960032254457474, \"25\": 0.047659438103437424, \"26\": 0.010871476493775845, \"27\": 0.018319010734558105, \"28\": -0.010858277790248394, \"29\": 0.0255611389875412, \"30\": -0.008986610919237137, \"31\": -0.1289529651403427, \"32\": -0.04256122186779976, \"33\": -0.029453763738274574, \"34\": -0.08175208419561386, \"35\": 0.0461556576192379, \"36\": 0.030699221417307854, \"37\": -0.09116119146347046, \"38\": -0.05356113240122795, \"39\": -0.06867440789937973, \"40\": -0.0023983356077224016, \"41\": -0.018110452219843864, \"42\": -0.12129288166761398, \"43\": -0.10017967224121094, \"44\": -0.08108130097389221, \"45\": 0.013773182407021523, \"46\": -0.08228547871112823, \"47\": 0.09922820329666138, \"48\": 0.011639933101832867, \"49\": -0.07409003376960754, \"50\": -0.02702762745320797, \"51\": -0.0036266869865357876, \"52\": -0.013548854738473892, \"53\": 0.04079399257898331, \"54\": 0.010500551201403141, \"55\": -0.019228016957640648, \"56\": -0.05712662264704704, \"57\": 0.06904308497905731, \"58\": 0.04624523967504501, \"59\": -0.03328213468194008, \"60\": 0.002629903145134449, \"61\": 0.03235307335853577, \"62\": -0.03185008093714714, \"63\": -0.012885172851383686, \"64\": 0.022855626419186592, \"65\": 0.05414805933833122, \"66\": -0.010905714705586433, \"67\": -0.012529697269201279, \"68\": 0.06594055891036987, \"69\": 0.029360711574554443, \"70\": 0.012928333133459091, \"71\": 0.01890459470450878, \"72\": -0.05110051482915878, \"73\": 0.0992233082652092, \"74\": -0.0513642355799675, \"75\": -0.03213413059711456, \"76\": -0.011287262663245201, \"77\": -0.08076822012662888, \"78\": 0.04308795556426048, \"79\": 0.028786353766918182, \"80\": 0.0009637704351916909, \"81\": -0.01910700462758541, \"82\": 0.007128465920686722, \"83\": 0.008578955195844173, \"84\": 0.02619737945497036, \"85\": -0.039492763578891754, \"86\": -0.05938126519322395, \"87\": -0.009870973415672779, \"88\": 0.05419905483722687, \"89\": -0.023772496730089188, \"90\": -0.013897821307182312, \"91\": 0.01345688384026289, \"92\": 0.008381211198866367, \"93\": 0.0008443357073701918, \"94\": -0.014711291529238224, \"95\": -0.04779517278075218, \"96\": 0.028140293434262276, \"97\": 0.006935051176697016, \"98\": -0.01715458184480667, \"99\": -0.03399917483329773, \"100\": -0.008913938887417316, \"101\": 0.0450233519077301, \"102\": -0.035182517021894455, \"103\": -0.008640502579510212, \"104\": 0.05667725205421448, \"105\": -0.0045634000562131405, \"106\": -0.009062356315553188, \"107\": 0.0610678605735302, \"108\": 0.006762595381587744, \"109\": -0.14101970195770264, \"110\": 0.01626761630177498, \"111\": -0.04132425785064697, \"112\": 0.013739264570176601, \"113\": 0.0040721469558775425, \"114\": 0.03473205864429474, \"115\": -0.015093107707798481, \"116\": 0.021884126588702202, \"117\": -0.061778031289577484, \"118\": 0.008829016238451004, \"119\": -0.01496064756065607, \"120\": 0.045700401067733765, \"121\": 0.01942870207130909, \"122\": -0.02673674188554287, \"123\": -0.03812996670603752, \"124\": 0.0048021357506513596, \"125\": 0.022016746923327446, \"126\": -0.05588753521442413, \"127\": -0.02020583488047123, \"128\": -0.024063769727945328, \"129\": 0.0014151493087410927, \"130\": -0.028186200186610222, \"131\": 0.002465777564793825, \"132\": 0.000985230435617268, \"133\": -0.07080189883708954, \"134\": -0.04352429881691933, \"135\": -0.05259713530540466, \"136\": -0.03025510534644127, \"137\": -0.025954870507121086, \"138\": 0.01620643213391304, \"139\": 0.05518437549471855, \"140\": 0.016182653605937958, \"141\": 0.030322687700390816, \"142\": 0.0020432870369404554, \"143\": 0.011299577541649342, \"144\": 0.0014408188872039318, \"145\": -0.03730511665344238, \"146\": 0.03454240411520004, \"147\": 0.04536592587828636, \"148\": 0.0020696506835520267, \"149\": 0.08689463883638382, \"150\": 0.008553690277040005, \"151\": -0.006930490490049124, \"152\": -0.004833791870623827, \"153\": 0.01741175167262554, \"154\": -0.005117167253047228, \"155\": 0.012209742330014706, \"156\": 0.02182362787425518, \"157\": 0.034979693591594696, \"158\": 0.06976019591093063, \"159\": 0.017718631774187088, \"160\": -0.0022820294834673405, \"161\": -0.016607418656349182, \"162\": 0.023216787725687027, \"163\": 0.013925181701779366, \"164\": 0.014392171986401081, \"165\": 0.026277828961610794, \"166\": 0.005821263417601585, \"167\": -0.01664724014699459, \"168\": 0.02281966432929039, \"169\": -0.02146661840379238, \"170\": -0.02591664157807827, \"171\": 0.008094048127532005, \"172\": -0.011681618168950081, \"173\": -0.0048637655563652515, \"174\": 0.05271533876657486, \"175\": -0.020145129412412643, \"176\": -0.014276405796408653, \"177\": 0.038084518164396286, \"178\": 0.005829766392707825, \"179\": 0.044568534940481186, \"180\": -0.02472642995417118, \"181\": -0.009982825256884098, \"182\": 0.013608432374894619, \"183\": 0.03770134225487709, \"184\": -0.02746468223631382, \"185\": -0.009962045587599277, \"186\": -0.02728172205388546, \"187\": 0.01734142005443573, \"188\": 0.027475686743855476, \"189\": -0.04201483353972435, \"190\": 0.022007163614034653, \"191\": 0.007380360271781683, \"192\": -0.013609200716018677, \"193\": -0.02641456387937069, \"194\": 0.03634161502122879, \"195\": 0.026075905188918114, \"196\": 0.0026123076677322388, \"197\": -0.04727514088153839, \"198\": 0.009225493296980858, \"199\": -0.01586243510246277, \"index\": 50, \"NATIONALITY\": \"Bangladesh\"}]}}, {\"mode\": \"vega-lite\"});\n",
              "</script>"
            ],
            "text/plain": [
              "alt.LayerChart(...)"
            ]
          },
          "metadata": {},
          "execution_count": 100
        }
      ]
    },
    {
      "cell_type": "markdown",
      "source": [
        "***Its clearly seen that Clusters of some nationalities are tighly packed (like Bangladesh), gives us confidence that our approach is working fine***"
      ],
      "metadata": {
        "id": "IQ-17RCkkNjc"
      }
    },
    {
      "cell_type": "markdown",
      "source": [
        "## Classification using ML"
      ],
      "metadata": {
        "id": "JyVpivstYSt_"
      }
    },
    {
      "cell_type": "code",
      "source": [
        "import numpy as np\n",
        "from ast import literal_eval\n",
        "\n",
        "from sklearn.ensemble import RandomForestClassifier\n",
        "from sklearn.model_selection import train_test_split,StratifiedKFold\n",
        "from sklearn.metrics import classification_report, accuracy_score,f1_score,log_loss"
      ],
      "metadata": {
        "id": "uklpR-cITMTG"
      },
      "execution_count": null,
      "outputs": []
    },
    {
      "cell_type": "markdown",
      "source": [
        "### Discard Nationalities with < 10 counts in DF"
      ],
      "metadata": {
        "id": "OZAQV5Dk0fzi"
      }
    },
    {
      "cell_type": "code",
      "source": [
        "low_counts_nationality = names_df.NATIONALITY.value_counts()<25\n",
        "low_counts_nationality = low_counts_nationality.reset_index()\n",
        "\n",
        "discarded_nationality = low_counts_nationality[low_counts_nationality['count']==True]['NATIONALITY']\n",
        "\n",
        "names_df = names_df[~names_df.NATIONALITY.isin(discarded_nationality)]"
      ],
      "metadata": {
        "id": "dmwLaMPuxnic"
      },
      "execution_count": null,
      "outputs": []
    },
    {
      "cell_type": "code",
      "source": [
        "assert names_embeddings[names_df.index.values].shape[0]==names_df.NATIONALITY.shape[0]"
      ],
      "metadata": {
        "id": "VQhhPxVk18hv"
      },
      "execution_count": null,
      "outputs": []
    },
    {
      "cell_type": "code",
      "source": [
        "# split data into train and test\n",
        "X_train, X_test, y_train, y_test = train_test_split(\n",
        "    names_embeddings[names_df.index.values], names_df.NATIONALITY, test_size=0.2, random_state=42,\n",
        ")"
      ],
      "metadata": {
        "id": "xufHalPMYaM_"
      },
      "execution_count": null,
      "outputs": []
    },
    {
      "cell_type": "code",
      "source": [
        "# train random forest classifier\n",
        "clf = RandomForestClassifier(n_estimators=100)\n",
        "clf.fit(X_train, y_train)\n",
        "preds = clf.predict(X_test)\n",
        "probas = clf.predict_proba(X_test)\n",
        "\n",
        "report = classification_report(y_test, preds)\n",
        "print(report)"
      ],
      "metadata": {
        "id": "9KfGSqH42MFi",
        "colab": {
          "base_uri": "https://localhost:8080/"
        },
        "outputId": "61d3d99f-b1b8-462c-aa40-f471eaaa614b"
      },
      "execution_count": null,
      "outputs": [
        {
          "output_type": "stream",
          "name": "stdout",
          "text": [
            "                         precision    recall  f1-score   support\n",
            "\n",
            "             Bangladesh       0.00      0.00      0.00        10\n",
            "               Cameroon       1.00      0.04      0.08        23\n",
            "                  Egypt       0.78      0.45      0.57        40\n",
            "                  Ghana       1.00      0.13      0.24        15\n",
            "                  India       0.68      0.88      0.77       321\n",
            "              Indonesia       1.00      0.05      0.10        19\n",
            "                 Jordan       0.00      0.00      0.00         9\n",
            "                Morocco       0.00      0.00      0.00         2\n",
            "                  Nepal       0.88      0.86      0.87       272\n",
            "                Nigeria       1.00      0.11      0.20         9\n",
            "                   Oman       0.00      0.00      0.00         6\n",
            "               Pakistan       0.77      0.90      0.83        99\n",
            "Palestinian Territories       1.00      0.15      0.27        13\n",
            "            Philippines       0.81      0.96      0.88       277\n",
            "                Somalia       1.00      0.12      0.22         8\n",
            "              Sri Lanka       0.67      0.04      0.08        48\n",
            "                  Sudan       0.33      0.06      0.11        32\n",
            "                 Uganda       0.91      0.73      0.81        73\n",
            "   United Arab Emirates       0.70      0.98      0.81       185\n",
            "         United Kingdom       0.00      0.00      0.00         4\n",
            "                  Yemen       0.00      0.00      0.00        16\n",
            "\n",
            "               accuracy                           0.77      1481\n",
            "              macro avg       0.60      0.31      0.33      1481\n",
            "           weighted avg       0.75      0.77      0.72      1481\n",
            "\n"
          ]
        },
        {
          "output_type": "stream",
          "name": "stderr",
          "text": [
            "/usr/local/lib/python3.10/dist-packages/sklearn/metrics/_classification.py:1344: UndefinedMetricWarning: Precision and F-score are ill-defined and being set to 0.0 in labels with no predicted samples. Use `zero_division` parameter to control this behavior.\n",
            "  _warn_prf(average, modifier, msg_start, len(result))\n",
            "/usr/local/lib/python3.10/dist-packages/sklearn/metrics/_classification.py:1344: UndefinedMetricWarning: Precision and F-score are ill-defined and being set to 0.0 in labels with no predicted samples. Use `zero_division` parameter to control this behavior.\n",
            "  _warn_prf(average, modifier, msg_start, len(result))\n",
            "/usr/local/lib/python3.10/dist-packages/sklearn/metrics/_classification.py:1344: UndefinedMetricWarning: Precision and F-score are ill-defined and being set to 0.0 in labels with no predicted samples. Use `zero_division` parameter to control this behavior.\n",
            "  _warn_prf(average, modifier, msg_start, len(result))\n"
          ]
        }
      ]
    },
    {
      "cell_type": "code",
      "source": [
        "import xgboost as xgb\n",
        "import sklearn as skl"
      ],
      "metadata": {
        "id": "B3X_dExltJc0"
      },
      "execution_count": null,
      "outputs": []
    },
    {
      "cell_type": "code",
      "source": [
        "y_encoder = skl.preprocessing.LabelEncoder()"
      ],
      "metadata": {
        "id": "kBhSHq2kuumB"
      },
      "execution_count": null,
      "outputs": []
    },
    {
      "cell_type": "code",
      "source": [
        "y_encoder_fit = y_encoder.fit(y_train)"
      ],
      "metadata": {
        "id": "YFFz2GZCvWaM"
      },
      "execution_count": null,
      "outputs": []
    },
    {
      "cell_type": "code",
      "source": [
        "y_train_enc = y_encoder_fit.transform(y_train)\n",
        "y_test_enc = y_encoder_fit.transform(y_test)"
      ],
      "metadata": {
        "id": "DKq03t2vva5B"
      },
      "execution_count": null,
      "outputs": []
    },
    {
      "cell_type": "code",
      "source": [
        "dtrain = xgb.DMatrix(X_train, label=y_train_enc)\n",
        "dtest = xgb.DMatrix(X_test, label=y_test_enc)"
      ],
      "metadata": {
        "id": "NHC5QM4hxtdm"
      },
      "execution_count": null,
      "outputs": []
    },
    {
      "cell_type": "code",
      "source": [
        "param = {'max_depth': 10, 'eta': 0.1, 'objective': 'binary:logistic','n_esimators':200,'subsample':0.8,\n",
        "         'colsample_bytree':0.8}\n",
        "param['nthread'] = 4\n",
        "param['eval_metric'] = ['logloss']\n",
        "\n",
        "evallist = [(dtrain, 'train'), (dtest, 'eval')]"
      ],
      "metadata": {
        "id": "f_YD9qFB228S"
      },
      "execution_count": null,
      "outputs": []
    },
    {
      "cell_type": "code",
      "source": [
        "def fit_and_score(estimator, X_train, X_test, y_train, y_test):\n",
        "    \"\"\"Fit the estimator on the train set and score it on both sets\"\"\"\n",
        "    estimator.fit(X_train, y_train, eval_set=[(X_test, y_test)])\n",
        "\n",
        "    train_score = estimator.score(X_train, y_train)\n",
        "    test_score = estimator.score(X_test, y_test)\n",
        "\n",
        "    return estimator, train_score, test_score\n",
        "\n",
        "\n",
        "cv = StratifiedKFold(n_splits=5, shuffle=True, random_state=94)\n",
        "\n",
        "clf = xgb.XGBClassifier(tree_method=\"hist\", early_stopping_rounds=3)\n",
        "\n",
        "resutls = {}\n",
        "\n",
        "est, train_score, test_score = fit_and_score(\n",
        "    clf, X_train, X_test, y_train_enc, y_test_enc)\n",
        "resutls[est] = (train_score, test_score)"
      ],
      "metadata": {
        "id": "aU7X8Ji_4w_s",
        "colab": {
          "base_uri": "https://localhost:8080/",
          "height": 418
        },
        "outputId": "cd9f3f31-4eb2-41bd-af48-6e18b559b592"
      },
      "execution_count": null,
      "outputs": [
        {
          "output_type": "stream",
          "name": "stdout",
          "text": [
            "[0]\tvalidation_0-mlogloss:1.83700\n",
            "[1]\tvalidation_0-mlogloss:1.64922\n",
            "[2]\tvalidation_0-mlogloss:1.51485\n",
            "[3]\tvalidation_0-mlogloss:1.40408\n"
          ]
        },
        {
          "output_type": "error",
          "ename": "KeyboardInterrupt",
          "evalue": "",
          "traceback": [
            "\u001b[0;31m---------------------------------------------------------------------------\u001b[0m",
            "\u001b[0;31mKeyboardInterrupt\u001b[0m                         Traceback (most recent call last)",
            "\u001b[0;32m<ipython-input-57-8093e1f24206>\u001b[0m in \u001b[0;36m<cell line: 17>\u001b[0;34m()\u001b[0m\n\u001b[1;32m     15\u001b[0m \u001b[0mresutls\u001b[0m \u001b[0;34m=\u001b[0m \u001b[0;34m{\u001b[0m\u001b[0;34m}\u001b[0m\u001b[0;34m\u001b[0m\u001b[0;34m\u001b[0m\u001b[0m\n\u001b[1;32m     16\u001b[0m \u001b[0;34m\u001b[0m\u001b[0m\n\u001b[0;32m---> 17\u001b[0;31m est, train_score, test_score = fit_and_score(\n\u001b[0m\u001b[1;32m     18\u001b[0m     clf, X_train, X_test, y_train_enc, y_test_enc)\n\u001b[1;32m     19\u001b[0m \u001b[0mresutls\u001b[0m\u001b[0;34m[\u001b[0m\u001b[0mest\u001b[0m\u001b[0;34m]\u001b[0m \u001b[0;34m=\u001b[0m \u001b[0;34m(\u001b[0m\u001b[0mtrain_score\u001b[0m\u001b[0;34m,\u001b[0m \u001b[0mtest_score\u001b[0m\u001b[0;34m)\u001b[0m\u001b[0;34m\u001b[0m\u001b[0;34m\u001b[0m\u001b[0m\n",
            "\u001b[0;32m<ipython-input-57-8093e1f24206>\u001b[0m in \u001b[0;36mfit_and_score\u001b[0;34m(estimator, X_train, X_test, y_train, y_test)\u001b[0m\n\u001b[1;32m      1\u001b[0m \u001b[0;32mdef\u001b[0m \u001b[0mfit_and_score\u001b[0m\u001b[0;34m(\u001b[0m\u001b[0mestimator\u001b[0m\u001b[0;34m,\u001b[0m \u001b[0mX_train\u001b[0m\u001b[0;34m,\u001b[0m \u001b[0mX_test\u001b[0m\u001b[0;34m,\u001b[0m \u001b[0my_train\u001b[0m\u001b[0;34m,\u001b[0m \u001b[0my_test\u001b[0m\u001b[0;34m)\u001b[0m\u001b[0;34m:\u001b[0m\u001b[0;34m\u001b[0m\u001b[0;34m\u001b[0m\u001b[0m\n\u001b[1;32m      2\u001b[0m     \u001b[0;34m\"\"\"Fit the estimator on the train set and score it on both sets\"\"\"\u001b[0m\u001b[0;34m\u001b[0m\u001b[0;34m\u001b[0m\u001b[0m\n\u001b[0;32m----> 3\u001b[0;31m     \u001b[0mestimator\u001b[0m\u001b[0;34m.\u001b[0m\u001b[0mfit\u001b[0m\u001b[0;34m(\u001b[0m\u001b[0mX_train\u001b[0m\u001b[0;34m,\u001b[0m \u001b[0my_train\u001b[0m\u001b[0;34m,\u001b[0m \u001b[0meval_set\u001b[0m\u001b[0;34m=\u001b[0m\u001b[0;34m[\u001b[0m\u001b[0;34m(\u001b[0m\u001b[0mX_test\u001b[0m\u001b[0;34m,\u001b[0m \u001b[0my_test\u001b[0m\u001b[0;34m)\u001b[0m\u001b[0;34m]\u001b[0m\u001b[0;34m)\u001b[0m\u001b[0;34m\u001b[0m\u001b[0;34m\u001b[0m\u001b[0m\n\u001b[0m\u001b[1;32m      4\u001b[0m \u001b[0;34m\u001b[0m\u001b[0m\n\u001b[1;32m      5\u001b[0m     \u001b[0mtrain_score\u001b[0m \u001b[0;34m=\u001b[0m \u001b[0mestimator\u001b[0m\u001b[0;34m.\u001b[0m\u001b[0mscore\u001b[0m\u001b[0;34m(\u001b[0m\u001b[0mX_train\u001b[0m\u001b[0;34m,\u001b[0m \u001b[0my_train\u001b[0m\u001b[0;34m)\u001b[0m\u001b[0;34m\u001b[0m\u001b[0;34m\u001b[0m\u001b[0m\n",
            "\u001b[0;32m/usr/local/lib/python3.10/dist-packages/xgboost/core.py\u001b[0m in \u001b[0;36minner_f\u001b[0;34m(*args, **kwargs)\u001b[0m\n\u001b[1;32m    728\u001b[0m             \u001b[0;32mfor\u001b[0m \u001b[0mk\u001b[0m\u001b[0;34m,\u001b[0m \u001b[0marg\u001b[0m \u001b[0;32min\u001b[0m \u001b[0mzip\u001b[0m\u001b[0;34m(\u001b[0m\u001b[0msig\u001b[0m\u001b[0;34m.\u001b[0m\u001b[0mparameters\u001b[0m\u001b[0;34m,\u001b[0m \u001b[0margs\u001b[0m\u001b[0;34m)\u001b[0m\u001b[0;34m:\u001b[0m\u001b[0;34m\u001b[0m\u001b[0;34m\u001b[0m\u001b[0m\n\u001b[1;32m    729\u001b[0m                 \u001b[0mkwargs\u001b[0m\u001b[0;34m[\u001b[0m\u001b[0mk\u001b[0m\u001b[0;34m]\u001b[0m \u001b[0;34m=\u001b[0m \u001b[0marg\u001b[0m\u001b[0;34m\u001b[0m\u001b[0;34m\u001b[0m\u001b[0m\n\u001b[0;32m--> 730\u001b[0;31m             \u001b[0;32mreturn\u001b[0m \u001b[0mfunc\u001b[0m\u001b[0;34m(\u001b[0m\u001b[0;34m**\u001b[0m\u001b[0mkwargs\u001b[0m\u001b[0;34m)\u001b[0m\u001b[0;34m\u001b[0m\u001b[0;34m\u001b[0m\u001b[0m\n\u001b[0m\u001b[1;32m    731\u001b[0m \u001b[0;34m\u001b[0m\u001b[0m\n\u001b[1;32m    732\u001b[0m         \u001b[0;32mreturn\u001b[0m \u001b[0minner_f\u001b[0m\u001b[0;34m\u001b[0m\u001b[0;34m\u001b[0m\u001b[0m\n",
            "\u001b[0;32m/usr/local/lib/python3.10/dist-packages/xgboost/sklearn.py\u001b[0m in \u001b[0;36mfit\u001b[0;34m(self, X, y, sample_weight, base_margin, eval_set, eval_metric, early_stopping_rounds, verbose, xgb_model, sample_weight_eval_set, base_margin_eval_set, feature_weights, callbacks)\u001b[0m\n\u001b[1;32m   1517\u001b[0m             )\n\u001b[1;32m   1518\u001b[0m \u001b[0;34m\u001b[0m\u001b[0m\n\u001b[0;32m-> 1519\u001b[0;31m             self._Booster = train(\n\u001b[0m\u001b[1;32m   1520\u001b[0m                 \u001b[0mparams\u001b[0m\u001b[0;34m,\u001b[0m\u001b[0;34m\u001b[0m\u001b[0;34m\u001b[0m\u001b[0m\n\u001b[1;32m   1521\u001b[0m                 \u001b[0mtrain_dmatrix\u001b[0m\u001b[0;34m,\u001b[0m\u001b[0;34m\u001b[0m\u001b[0;34m\u001b[0m\u001b[0m\n",
            "\u001b[0;32m/usr/local/lib/python3.10/dist-packages/xgboost/core.py\u001b[0m in \u001b[0;36minner_f\u001b[0;34m(*args, **kwargs)\u001b[0m\n\u001b[1;32m    728\u001b[0m             \u001b[0;32mfor\u001b[0m \u001b[0mk\u001b[0m\u001b[0;34m,\u001b[0m \u001b[0marg\u001b[0m \u001b[0;32min\u001b[0m \u001b[0mzip\u001b[0m\u001b[0;34m(\u001b[0m\u001b[0msig\u001b[0m\u001b[0;34m.\u001b[0m\u001b[0mparameters\u001b[0m\u001b[0;34m,\u001b[0m \u001b[0margs\u001b[0m\u001b[0;34m)\u001b[0m\u001b[0;34m:\u001b[0m\u001b[0;34m\u001b[0m\u001b[0;34m\u001b[0m\u001b[0m\n\u001b[1;32m    729\u001b[0m                 \u001b[0mkwargs\u001b[0m\u001b[0;34m[\u001b[0m\u001b[0mk\u001b[0m\u001b[0;34m]\u001b[0m \u001b[0;34m=\u001b[0m \u001b[0marg\u001b[0m\u001b[0;34m\u001b[0m\u001b[0;34m\u001b[0m\u001b[0m\n\u001b[0;32m--> 730\u001b[0;31m             \u001b[0;32mreturn\u001b[0m \u001b[0mfunc\u001b[0m\u001b[0;34m(\u001b[0m\u001b[0;34m**\u001b[0m\u001b[0mkwargs\u001b[0m\u001b[0;34m)\u001b[0m\u001b[0;34m\u001b[0m\u001b[0;34m\u001b[0m\u001b[0m\n\u001b[0m\u001b[1;32m    731\u001b[0m \u001b[0;34m\u001b[0m\u001b[0m\n\u001b[1;32m    732\u001b[0m         \u001b[0;32mreturn\u001b[0m \u001b[0minner_f\u001b[0m\u001b[0;34m\u001b[0m\u001b[0;34m\u001b[0m\u001b[0m\n",
            "\u001b[0;32m/usr/local/lib/python3.10/dist-packages/xgboost/training.py\u001b[0m in \u001b[0;36mtrain\u001b[0;34m(params, dtrain, num_boost_round, evals, obj, feval, maximize, early_stopping_rounds, evals_result, verbose_eval, xgb_model, callbacks, custom_metric)\u001b[0m\n\u001b[1;32m    179\u001b[0m         \u001b[0;32mif\u001b[0m \u001b[0mcb_container\u001b[0m\u001b[0;34m.\u001b[0m\u001b[0mbefore_iteration\u001b[0m\u001b[0;34m(\u001b[0m\u001b[0mbst\u001b[0m\u001b[0;34m,\u001b[0m \u001b[0mi\u001b[0m\u001b[0;34m,\u001b[0m \u001b[0mdtrain\u001b[0m\u001b[0;34m,\u001b[0m \u001b[0mevals\u001b[0m\u001b[0;34m)\u001b[0m\u001b[0;34m:\u001b[0m\u001b[0;34m\u001b[0m\u001b[0;34m\u001b[0m\u001b[0m\n\u001b[1;32m    180\u001b[0m             \u001b[0;32mbreak\u001b[0m\u001b[0;34m\u001b[0m\u001b[0;34m\u001b[0m\u001b[0m\n\u001b[0;32m--> 181\u001b[0;31m         \u001b[0mbst\u001b[0m\u001b[0;34m.\u001b[0m\u001b[0mupdate\u001b[0m\u001b[0;34m(\u001b[0m\u001b[0mdtrain\u001b[0m\u001b[0;34m,\u001b[0m \u001b[0mi\u001b[0m\u001b[0;34m,\u001b[0m \u001b[0mobj\u001b[0m\u001b[0;34m)\u001b[0m\u001b[0;34m\u001b[0m\u001b[0;34m\u001b[0m\u001b[0m\n\u001b[0m\u001b[1;32m    182\u001b[0m         \u001b[0;32mif\u001b[0m \u001b[0mcb_container\u001b[0m\u001b[0;34m.\u001b[0m\u001b[0mafter_iteration\u001b[0m\u001b[0;34m(\u001b[0m\u001b[0mbst\u001b[0m\u001b[0;34m,\u001b[0m \u001b[0mi\u001b[0m\u001b[0;34m,\u001b[0m \u001b[0mdtrain\u001b[0m\u001b[0;34m,\u001b[0m \u001b[0mevals\u001b[0m\u001b[0;34m)\u001b[0m\u001b[0;34m:\u001b[0m\u001b[0;34m\u001b[0m\u001b[0;34m\u001b[0m\u001b[0m\n\u001b[1;32m    183\u001b[0m             \u001b[0;32mbreak\u001b[0m\u001b[0;34m\u001b[0m\u001b[0;34m\u001b[0m\u001b[0m\n",
            "\u001b[0;32m/usr/local/lib/python3.10/dist-packages/xgboost/core.py\u001b[0m in \u001b[0;36mupdate\u001b[0;34m(self, dtrain, iteration, fobj)\u001b[0m\n\u001b[1;32m   2049\u001b[0m         \u001b[0;32mif\u001b[0m \u001b[0mfobj\u001b[0m \u001b[0;32mis\u001b[0m \u001b[0;32mNone\u001b[0m\u001b[0;34m:\u001b[0m\u001b[0;34m\u001b[0m\u001b[0;34m\u001b[0m\u001b[0m\n\u001b[1;32m   2050\u001b[0m             _check_call(\n\u001b[0;32m-> 2051\u001b[0;31m                 _LIB.XGBoosterUpdateOneIter(\n\u001b[0m\u001b[1;32m   2052\u001b[0m                     \u001b[0mself\u001b[0m\u001b[0;34m.\u001b[0m\u001b[0mhandle\u001b[0m\u001b[0;34m,\u001b[0m \u001b[0mctypes\u001b[0m\u001b[0;34m.\u001b[0m\u001b[0mc_int\u001b[0m\u001b[0;34m(\u001b[0m\u001b[0miteration\u001b[0m\u001b[0;34m)\u001b[0m\u001b[0;34m,\u001b[0m \u001b[0mdtrain\u001b[0m\u001b[0;34m.\u001b[0m\u001b[0mhandle\u001b[0m\u001b[0;34m\u001b[0m\u001b[0;34m\u001b[0m\u001b[0m\n\u001b[1;32m   2053\u001b[0m                 )\n",
            "\u001b[0;31mKeyboardInterrupt\u001b[0m: "
          ]
        }
      ]
    },
    {
      "cell_type": "code",
      "source": [
        "#dir(resutls)\n",
        "clf_best = list(resutls.keys())[0]"
      ],
      "metadata": {
        "id": "upjYIk9nND3M"
      },
      "execution_count": null,
      "outputs": []
    },
    {
      "cell_type": "code",
      "source": [
        "names_embeddings[10]"
      ],
      "metadata": {
        "colab": {
          "base_uri": "https://localhost:8080/"
        },
        "id": "zHyUMcEaQrif",
        "outputId": "47b22c9f-b8cd-4420-f2cc-bd9e1f5d00e8"
      },
      "execution_count": null,
      "outputs": [
        {
          "output_type": "execute_result",
          "data": {
            "text/plain": [
              "array([[-0.0249825 , -0.03775765,  0.04059657, ..., -0.01635928,\n",
              "         0.01132611, -0.00842805],\n",
              "       [-0.03618603, -0.03170691,  0.03755404, ..., -0.03325143,\n",
              "         0.0008419 ,  0.00792121],\n",
              "       [ 0.02795216, -0.07057862,  0.00478986, ..., -0.01663876,\n",
              "         0.0009948 , -0.04234244],\n",
              "       ...,\n",
              "       [ 0.03753811,  0.0223136 , -0.03688414, ..., -0.0206525 ,\n",
              "        -0.01326913, -0.02182966],\n",
              "       [ 0.00157429,  0.03399331,  0.00898452, ..., -0.01490537,\n",
              "         0.02762622, -0.02470909],\n",
              "       [ 0.04105586,  0.00284168, -0.06217104, ..., -0.00519397,\n",
              "        -0.01109918,  0.02159804]], dtype=float32)"
            ]
          },
          "metadata": {},
          "execution_count": 120
        }
      ]
    },
    {
      "cell_type": "code",
      "source": [
        "names_embeddings[10]"
      ],
      "metadata": {
        "colab": {
          "base_uri": "https://localhost:8080/"
        },
        "id": "WF0QqN8zQ5OM",
        "outputId": "4f13e61c-de46-4ebf-a800-c74d0f6d9f42"
      },
      "execution_count": null,
      "outputs": [
        {
          "output_type": "execute_result",
          "data": {
            "text/plain": [
              "array([ 0.020798  , -0.02188034, -0.01948221, ..., -0.03030565,\n",
              "       -0.02816219, -0.03597205], dtype=float32)"
            ]
          },
          "metadata": {},
          "execution_count": 122
        }
      ]
    },
    {
      "cell_type": "code",
      "source": [
        "len(X_train)"
      ],
      "metadata": {
        "colab": {
          "base_uri": "https://localhost:8080/"
        },
        "id": "LhliEKeARAyS",
        "outputId": "f313ecc9-d6f2-4dbf-de42-114cb631efec"
      },
      "execution_count": null,
      "outputs": [
        {
          "output_type": "execute_result",
          "data": {
            "text/plain": [
              "6034"
            ]
          },
          "metadata": {},
          "execution_count": 128
        }
      ]
    },
    {
      "cell_type": "code",
      "source": [
        "xgb.DMatrix(names_embeddings[10])"
      ],
      "metadata": {
        "colab": {
          "base_uri": "https://localhost:8080/",
          "height": 282
        },
        "id": "Zs0N_-EaRRVu",
        "outputId": "70d6205a-abd3-4420-8954-9e9611c25f58"
      },
      "execution_count": null,
      "outputs": [
        {
          "output_type": "error",
          "ename": "ValueError",
          "evalue": "Please reshape the input data into 2-dimensional matrix.",
          "traceback": [
            "\u001b[0;31m---------------------------------------------------------------------------\u001b[0m",
            "\u001b[0;31mValueError\u001b[0m                                Traceback (most recent call last)",
            "\u001b[0;32m<ipython-input-131-4348b8efaa0a>\u001b[0m in \u001b[0;36m<cell line: 1>\u001b[0;34m()\u001b[0m\n\u001b[0;32m----> 1\u001b[0;31m \u001b[0mxgb\u001b[0m\u001b[0;34m.\u001b[0m\u001b[0mDMatrix\u001b[0m\u001b[0;34m(\u001b[0m\u001b[0mnames_embeddings\u001b[0m\u001b[0;34m[\u001b[0m\u001b[0;36m10\u001b[0m\u001b[0;34m]\u001b[0m\u001b[0;34m)\u001b[0m\u001b[0;34m\u001b[0m\u001b[0;34m\u001b[0m\u001b[0m\n\u001b[0m",
            "\u001b[0;32m/usr/local/lib/python3.10/dist-packages/xgboost/core.py\u001b[0m in \u001b[0;36minner_f\u001b[0;34m(*args, **kwargs)\u001b[0m\n\u001b[1;32m    728\u001b[0m             \u001b[0;32mfor\u001b[0m \u001b[0mk\u001b[0m\u001b[0;34m,\u001b[0m \u001b[0marg\u001b[0m \u001b[0;32min\u001b[0m \u001b[0mzip\u001b[0m\u001b[0;34m(\u001b[0m\u001b[0msig\u001b[0m\u001b[0;34m.\u001b[0m\u001b[0mparameters\u001b[0m\u001b[0;34m,\u001b[0m \u001b[0margs\u001b[0m\u001b[0;34m)\u001b[0m\u001b[0;34m:\u001b[0m\u001b[0;34m\u001b[0m\u001b[0;34m\u001b[0m\u001b[0m\n\u001b[1;32m    729\u001b[0m                 \u001b[0mkwargs\u001b[0m\u001b[0;34m[\u001b[0m\u001b[0mk\u001b[0m\u001b[0;34m]\u001b[0m \u001b[0;34m=\u001b[0m \u001b[0marg\u001b[0m\u001b[0;34m\u001b[0m\u001b[0;34m\u001b[0m\u001b[0m\n\u001b[0;32m--> 730\u001b[0;31m             \u001b[0;32mreturn\u001b[0m \u001b[0mfunc\u001b[0m\u001b[0;34m(\u001b[0m\u001b[0;34m**\u001b[0m\u001b[0mkwargs\u001b[0m\u001b[0;34m)\u001b[0m\u001b[0;34m\u001b[0m\u001b[0;34m\u001b[0m\u001b[0m\n\u001b[0m\u001b[1;32m    731\u001b[0m \u001b[0;34m\u001b[0m\u001b[0m\n\u001b[1;32m    732\u001b[0m         \u001b[0;32mreturn\u001b[0m \u001b[0minner_f\u001b[0m\u001b[0;34m\u001b[0m\u001b[0;34m\u001b[0m\u001b[0m\n",
            "\u001b[0;32m/usr/local/lib/python3.10/dist-packages/xgboost/core.py\u001b[0m in \u001b[0;36m__init__\u001b[0;34m(self, data, label, weight, base_margin, missing, silent, feature_names, feature_types, nthread, group, qid, label_lower_bound, label_upper_bound, feature_weights, enable_categorical, data_split_mode)\u001b[0m\n\u001b[1;32m    855\u001b[0m             \u001b[0;32mreturn\u001b[0m\u001b[0;34m\u001b[0m\u001b[0;34m\u001b[0m\u001b[0m\n\u001b[1;32m    856\u001b[0m \u001b[0;34m\u001b[0m\u001b[0m\n\u001b[0;32m--> 857\u001b[0;31m         handle, feature_names, feature_types = dispatch_data_backend(\n\u001b[0m\u001b[1;32m    858\u001b[0m             \u001b[0mdata\u001b[0m\u001b[0;34m,\u001b[0m\u001b[0;34m\u001b[0m\u001b[0;34m\u001b[0m\u001b[0m\n\u001b[1;32m    859\u001b[0m             \u001b[0mmissing\u001b[0m\u001b[0;34m=\u001b[0m\u001b[0mself\u001b[0m\u001b[0;34m.\u001b[0m\u001b[0mmissing\u001b[0m\u001b[0;34m,\u001b[0m\u001b[0;34m\u001b[0m\u001b[0;34m\u001b[0m\u001b[0m\n",
            "\u001b[0;32m/usr/local/lib/python3.10/dist-packages/xgboost/data.py\u001b[0m in \u001b[0;36mdispatch_data_backend\u001b[0;34m(data, missing, threads, feature_names, feature_types, enable_categorical, data_split_mode)\u001b[0m\n\u001b[1;32m   1063\u001b[0m     \u001b[0;34m\"\"\"Dispatch data for DMatrix.\"\"\"\u001b[0m\u001b[0;34m\u001b[0m\u001b[0;34m\u001b[0m\u001b[0m\n\u001b[1;32m   1064\u001b[0m     \u001b[0;32mif\u001b[0m \u001b[0;32mnot\u001b[0m \u001b[0m_is_cudf_ser\u001b[0m\u001b[0;34m(\u001b[0m\u001b[0mdata\u001b[0m\u001b[0;34m)\u001b[0m \u001b[0;32mand\u001b[0m \u001b[0;32mnot\u001b[0m \u001b[0m_is_pandas_series\u001b[0m\u001b[0;34m(\u001b[0m\u001b[0mdata\u001b[0m\u001b[0;34m)\u001b[0m\u001b[0;34m:\u001b[0m\u001b[0;34m\u001b[0m\u001b[0;34m\u001b[0m\u001b[0m\n\u001b[0;32m-> 1065\u001b[0;31m         \u001b[0m_check_data_shape\u001b[0m\u001b[0;34m(\u001b[0m\u001b[0mdata\u001b[0m\u001b[0;34m)\u001b[0m\u001b[0;34m\u001b[0m\u001b[0;34m\u001b[0m\u001b[0m\n\u001b[0m\u001b[1;32m   1066\u001b[0m     \u001b[0;32mif\u001b[0m \u001b[0m_is_scipy_csr\u001b[0m\u001b[0;34m(\u001b[0m\u001b[0mdata\u001b[0m\u001b[0;34m)\u001b[0m\u001b[0;34m:\u001b[0m\u001b[0;34m\u001b[0m\u001b[0;34m\u001b[0m\u001b[0m\n\u001b[1;32m   1067\u001b[0m         \u001b[0;32mreturn\u001b[0m \u001b[0m_from_scipy_csr\u001b[0m\u001b[0;34m(\u001b[0m\u001b[0mdata\u001b[0m\u001b[0;34m,\u001b[0m \u001b[0mmissing\u001b[0m\u001b[0;34m,\u001b[0m \u001b[0mthreads\u001b[0m\u001b[0;34m,\u001b[0m \u001b[0mfeature_names\u001b[0m\u001b[0;34m,\u001b[0m \u001b[0mfeature_types\u001b[0m\u001b[0;34m)\u001b[0m\u001b[0;34m\u001b[0m\u001b[0;34m\u001b[0m\u001b[0m\n",
            "\u001b[0;32m/usr/local/lib/python3.10/dist-packages/xgboost/data.py\u001b[0m in \u001b[0;36m_check_data_shape\u001b[0;34m(data)\u001b[0m\n\u001b[1;32m     55\u001b[0m \u001b[0;32mdef\u001b[0m \u001b[0m_check_data_shape\u001b[0m\u001b[0;34m(\u001b[0m\u001b[0mdata\u001b[0m\u001b[0;34m:\u001b[0m \u001b[0mDataType\u001b[0m\u001b[0;34m)\u001b[0m \u001b[0;34m->\u001b[0m \u001b[0;32mNone\u001b[0m\u001b[0;34m:\u001b[0m\u001b[0;34m\u001b[0m\u001b[0;34m\u001b[0m\u001b[0m\n\u001b[1;32m     56\u001b[0m     \u001b[0;32mif\u001b[0m \u001b[0mhasattr\u001b[0m\u001b[0;34m(\u001b[0m\u001b[0mdata\u001b[0m\u001b[0;34m,\u001b[0m \u001b[0;34m\"shape\"\u001b[0m\u001b[0;34m)\u001b[0m \u001b[0;32mand\u001b[0m \u001b[0mlen\u001b[0m\u001b[0;34m(\u001b[0m\u001b[0mdata\u001b[0m\u001b[0;34m.\u001b[0m\u001b[0mshape\u001b[0m\u001b[0;34m)\u001b[0m \u001b[0;34m!=\u001b[0m \u001b[0;36m2\u001b[0m\u001b[0;34m:\u001b[0m\u001b[0;34m\u001b[0m\u001b[0;34m\u001b[0m\u001b[0m\n\u001b[0;32m---> 57\u001b[0;31m         \u001b[0;32mraise\u001b[0m \u001b[0mValueError\u001b[0m\u001b[0;34m(\u001b[0m\u001b[0;34m\"Please reshape the input data into 2-dimensional matrix.\"\u001b[0m\u001b[0;34m)\u001b[0m\u001b[0;34m\u001b[0m\u001b[0;34m\u001b[0m\u001b[0m\n\u001b[0m\u001b[1;32m     58\u001b[0m \u001b[0;34m\u001b[0m\u001b[0m\n\u001b[1;32m     59\u001b[0m \u001b[0;34m\u001b[0m\u001b[0m\n",
            "\u001b[0;31mValueError\u001b[0m: Please reshape the input data into 2-dimensional matrix."
          ]
        }
      ]
    },
    {
      "cell_type": "code",
      "source": [
        "clf_best.get_booster().predict(xgb.DMatrix(list(names_embeddings[0:2])))"
      ],
      "metadata": {
        "colab": {
          "base_uri": "https://localhost:8080/"
        },
        "id": "vhHBLUDCQIbS",
        "outputId": "3e6f225b-72e8-42ba-84db-33a69ae7c7bf"
      },
      "execution_count": null,
      "outputs": [
        {
          "output_type": "execute_result",
          "data": {
            "text/plain": [
              "array([[8.91833846e-03, 2.70708493e-04, 4.03127546e-04, 4.38657124e-04,\n",
              "        4.36085014e-04, 2.55565014e-04, 2.44747673e-04, 2.55343448e-02,\n",
              "        5.30204212e-04, 8.31597368e-04, 4.21771372e-04, 4.22953803e-04,\n",
              "        3.73437157e-04, 9.61869135e-02, 4.67211095e-04, 2.70691933e-04,\n",
              "        8.52172315e-01, 5.28449775e-04, 2.86826119e-03, 3.22421780e-04,\n",
              "        1.80411490e-03, 1.15033600e-03, 8.92753364e-04, 3.39434104e-04,\n",
              "        4.92312945e-04, 8.78985447e-04, 1.59176753e-03, 3.22895183e-04,\n",
              "        3.63700092e-04, 2.65849230e-04],\n",
              "       [1.11421756e-03, 5.86313472e-05, 1.28420492e-04, 5.73250654e-05,\n",
              "        5.94658413e-05, 6.16148245e-05, 9.24399574e-05, 1.00793887e-03,\n",
              "        1.73474924e-04, 6.76962154e-05, 5.36274420e-05, 9.15152632e-05,\n",
              "        5.01466566e-05, 7.13887438e-02, 6.24484674e-05, 1.33214882e-04,\n",
              "        9.21113789e-01, 9.59193349e-05, 1.23883452e-04, 9.46404180e-05,\n",
              "        8.50356737e-05, 1.02509640e-03, 2.17275461e-03, 1.23131278e-04,\n",
              "        7.04476552e-05, 1.17901705e-04, 7.77702007e-05, 6.35814213e-05,\n",
              "        9.29917078e-05, 1.42134435e-04]], dtype=float32)"
            ]
          },
          "metadata": {},
          "execution_count": 148
        }
      ]
    },
    {
      "cell_type": "code",
      "source": [
        "y_encoder_fit.transform(['Yemen'])"
      ],
      "metadata": {
        "colab": {
          "base_uri": "https://localhost:8080/"
        },
        "id": "S-R4Ys9ISUQ-",
        "outputId": "0f952c27-a0ae-4d7f-d143-70dd11917c01"
      },
      "execution_count": null,
      "outputs": [
        {
          "output_type": "execute_result",
          "data": {
            "text/plain": [
              "array([29])"
            ]
          },
          "metadata": {},
          "execution_count": 163
        }
      ]
    },
    {
      "cell_type": "code",
      "source": [
        "names_df.NATIONALITY[0:2]"
      ],
      "metadata": {
        "colab": {
          "base_uri": "https://localhost:8080/"
        },
        "id": "uoQhIx3KS4WL",
        "outputId": "b624287f-c56d-494b-919f-52992c2ad9d6"
      },
      "execution_count": null,
      "outputs": [
        {
          "output_type": "execute_result",
          "data": {
            "text/plain": [
              "22    Bangladesh\n",
              "23    Bangladesh\n",
              "Name: NATIONALITY, dtype: object"
            ]
          },
          "metadata": {},
          "execution_count": 164
        }
      ]
    },
    {
      "cell_type": "code",
      "source": [
        "len(clf_best.get_booster().predict(xgb.DMatrix(list(names_embeddings[0:2])))[0])"
      ],
      "metadata": {
        "colab": {
          "base_uri": "https://localhost:8080/"
        },
        "id": "6kXy1kcITYtH",
        "outputId": "d4a208cd-b3a4-4dd3-9e7c-511752c9fd72"
      },
      "execution_count": null,
      "outputs": [
        {
          "output_type": "execute_result",
          "data": {
            "text/plain": [
              "30"
            ]
          },
          "metadata": {},
          "execution_count": 166
        }
      ]
    },
    {
      "cell_type": "code",
      "source": [
        "from sklearn.model_selection import GridSearchCV\n",
        "import os as os\n",
        "from scipy.stats import randint as sp_randint\n",
        "from sklearn.model_selection import RandomizedSearchCV"
      ],
      "metadata": {
        "id": "Yh5JPIBIrhPD"
      },
      "execution_count": null,
      "outputs": []
    },
    {
      "cell_type": "code",
      "source": [
        "from scipy.stats.distributions import loguniform,randint"
      ],
      "metadata": {
        "id": "bCIeJGbqzAFu"
      },
      "execution_count": null,
      "outputs": []
    },
    {
      "cell_type": "code",
      "source": [
        "clf = xgb.XGBClassifier(tree_method=\"hist\",nthread=4,objective='binary:logistic',\n",
        "                        eval_metric='logloss')\n",
        "\n",
        "params = {'eta': loguniform(1e-2, 1),\n",
        "          'gamma': loguniform(1e-2, 1e+1),\n",
        "          'max_depth': randint(3, 15),  # integer valued parameter\n",
        "          'subsample' : loguniform(0.7, 0.9),\n",
        "          'colsample_bytree': loguniform(0.8, 1.0),\n",
        "          'lambda':loguniform(1e-2, 1e+1),\n",
        "          'alpha':loguniform(1e-2, 1e+1),\n",
        "          'booster': ['dart', 'gbtree'],  # categorical parameter\n",
        "          'n_estimators':range(100,500,100)\n",
        "          }\n",
        "\n",
        "n_iter_search = 1\n",
        "random_search = RandomizedSearchCV(clf, param_distributions=params,\n",
        "                                   n_iter=n_iter_search, cv=3,random_state=55,n_jobs=-1,verbose=5)"
      ],
      "metadata": {
        "id": "DWYVDVFys1FR"
      },
      "execution_count": null,
      "outputs": []
    },
    {
      "cell_type": "code",
      "source": [
        "params = {'max_depth': 10, 'eta': 0.1, 'objective': 'binary:logistic','n_esimators':200,'subsample':0.8,\n",
        "         'colsample_bytree':0.8}\n",
        "param['nthread'] = 4\n",
        "param['eval_metric'] = ['logloss']"
      ],
      "metadata": {
        "id": "rIqafpOAfWDK"
      },
      "execution_count": null,
      "outputs": []
    },
    {
      "cell_type": "code",
      "source": [
        "xgb_fit=random_search.fit(X_train,y_train_enc)"
      ],
      "metadata": {
        "colab": {
          "base_uri": "https://localhost:8080/",
          "height": 299
        },
        "id": "F8ZwX13o55AD",
        "outputId": "084902e2-f0e8-4db9-9df7-adf53a952938"
      },
      "execution_count": null,
      "outputs": [
        {
          "output_type": "stream",
          "name": "stdout",
          "text": [
            "Fitting 3 folds for each of 1 candidates, totalling 3 fits\n"
          ]
        },
        {
          "output_type": "error",
          "ename": "KeyboardInterrupt",
          "evalue": "",
          "traceback": [
            "\u001b[0;31m---------------------------------------------------------------------------\u001b[0m",
            "\u001b[0;31mKeyboardInterrupt\u001b[0m                         Traceback (most recent call last)",
            "\u001b[0;32m<ipython-input-63-18987bdf6122>\u001b[0m in \u001b[0;36m<cell line: 1>\u001b[0;34m()\u001b[0m\n\u001b[0;32m----> 1\u001b[0;31m \u001b[0mxgb_fit\u001b[0m\u001b[0;34m=\u001b[0m\u001b[0mrandom_search\u001b[0m\u001b[0;34m.\u001b[0m\u001b[0mfit\u001b[0m\u001b[0;34m(\u001b[0m\u001b[0mX_train\u001b[0m\u001b[0;34m,\u001b[0m\u001b[0my_train_enc\u001b[0m\u001b[0;34m)\u001b[0m\u001b[0;34m\u001b[0m\u001b[0;34m\u001b[0m\u001b[0m\n\u001b[0m",
            "\u001b[0;32m/usr/local/lib/python3.10/dist-packages/sklearn/model_selection/_search.py\u001b[0m in \u001b[0;36mfit\u001b[0;34m(self, X, y, groups, **fit_params)\u001b[0m\n\u001b[1;32m    872\u001b[0m                 \u001b[0;32mreturn\u001b[0m \u001b[0mresults\u001b[0m\u001b[0;34m\u001b[0m\u001b[0;34m\u001b[0m\u001b[0m\n\u001b[1;32m    873\u001b[0m \u001b[0;34m\u001b[0m\u001b[0m\n\u001b[0;32m--> 874\u001b[0;31m             \u001b[0mself\u001b[0m\u001b[0;34m.\u001b[0m\u001b[0m_run_search\u001b[0m\u001b[0;34m(\u001b[0m\u001b[0mevaluate_candidates\u001b[0m\u001b[0;34m)\u001b[0m\u001b[0;34m\u001b[0m\u001b[0;34m\u001b[0m\u001b[0m\n\u001b[0m\u001b[1;32m    875\u001b[0m \u001b[0;34m\u001b[0m\u001b[0m\n\u001b[1;32m    876\u001b[0m             \u001b[0;31m# multimetric is determined here because in the case of a callable\u001b[0m\u001b[0;34m\u001b[0m\u001b[0;34m\u001b[0m\u001b[0m\n",
            "\u001b[0;32m/usr/local/lib/python3.10/dist-packages/sklearn/model_selection/_search.py\u001b[0m in \u001b[0;36m_run_search\u001b[0;34m(self, evaluate_candidates)\u001b[0m\n\u001b[1;32m   1766\u001b[0m     \u001b[0;32mdef\u001b[0m \u001b[0m_run_search\u001b[0m\u001b[0;34m(\u001b[0m\u001b[0mself\u001b[0m\u001b[0;34m,\u001b[0m \u001b[0mevaluate_candidates\u001b[0m\u001b[0;34m)\u001b[0m\u001b[0;34m:\u001b[0m\u001b[0;34m\u001b[0m\u001b[0;34m\u001b[0m\u001b[0m\n\u001b[1;32m   1767\u001b[0m         \u001b[0;34m\"\"\"Search n_iter candidates from param_distributions\"\"\"\u001b[0m\u001b[0;34m\u001b[0m\u001b[0;34m\u001b[0m\u001b[0m\n\u001b[0;32m-> 1768\u001b[0;31m         evaluate_candidates(\n\u001b[0m\u001b[1;32m   1769\u001b[0m             ParameterSampler(\n\u001b[1;32m   1770\u001b[0m                 \u001b[0mself\u001b[0m\u001b[0;34m.\u001b[0m\u001b[0mparam_distributions\u001b[0m\u001b[0;34m,\u001b[0m \u001b[0mself\u001b[0m\u001b[0;34m.\u001b[0m\u001b[0mn_iter\u001b[0m\u001b[0;34m,\u001b[0m \u001b[0mrandom_state\u001b[0m\u001b[0;34m=\u001b[0m\u001b[0mself\u001b[0m\u001b[0;34m.\u001b[0m\u001b[0mrandom_state\u001b[0m\u001b[0;34m\u001b[0m\u001b[0;34m\u001b[0m\u001b[0m\n",
            "\u001b[0;32m/usr/local/lib/python3.10/dist-packages/sklearn/model_selection/_search.py\u001b[0m in \u001b[0;36mevaluate_candidates\u001b[0;34m(candidate_params, cv, more_results)\u001b[0m\n\u001b[1;32m    819\u001b[0m                     )\n\u001b[1;32m    820\u001b[0m \u001b[0;34m\u001b[0m\u001b[0m\n\u001b[0;32m--> 821\u001b[0;31m                 out = parallel(\n\u001b[0m\u001b[1;32m    822\u001b[0m                     delayed(_fit_and_score)(\n\u001b[1;32m    823\u001b[0m                         \u001b[0mclone\u001b[0m\u001b[0;34m(\u001b[0m\u001b[0mbase_estimator\u001b[0m\u001b[0;34m)\u001b[0m\u001b[0;34m,\u001b[0m\u001b[0;34m\u001b[0m\u001b[0;34m\u001b[0m\u001b[0m\n",
            "\u001b[0;32m/usr/local/lib/python3.10/dist-packages/sklearn/utils/parallel.py\u001b[0m in \u001b[0;36m__call__\u001b[0;34m(self, iterable)\u001b[0m\n\u001b[1;32m     61\u001b[0m             \u001b[0;32mfor\u001b[0m \u001b[0mdelayed_func\u001b[0m\u001b[0;34m,\u001b[0m \u001b[0margs\u001b[0m\u001b[0;34m,\u001b[0m \u001b[0mkwargs\u001b[0m \u001b[0;32min\u001b[0m \u001b[0miterable\u001b[0m\u001b[0;34m\u001b[0m\u001b[0;34m\u001b[0m\u001b[0m\n\u001b[1;32m     62\u001b[0m         )\n\u001b[0;32m---> 63\u001b[0;31m         \u001b[0;32mreturn\u001b[0m \u001b[0msuper\u001b[0m\u001b[0;34m(\u001b[0m\u001b[0;34m)\u001b[0m\u001b[0;34m.\u001b[0m\u001b[0m__call__\u001b[0m\u001b[0;34m(\u001b[0m\u001b[0miterable_with_config\u001b[0m\u001b[0;34m)\u001b[0m\u001b[0;34m\u001b[0m\u001b[0;34m\u001b[0m\u001b[0m\n\u001b[0m\u001b[1;32m     64\u001b[0m \u001b[0;34m\u001b[0m\u001b[0m\n\u001b[1;32m     65\u001b[0m \u001b[0;34m\u001b[0m\u001b[0m\n",
            "\u001b[0;32m/usr/local/lib/python3.10/dist-packages/joblib/parallel.py\u001b[0m in \u001b[0;36m__call__\u001b[0;34m(self, iterable)\u001b[0m\n\u001b[1;32m   2005\u001b[0m         \u001b[0mnext\u001b[0m\u001b[0;34m(\u001b[0m\u001b[0moutput\u001b[0m\u001b[0;34m)\u001b[0m\u001b[0;34m\u001b[0m\u001b[0;34m\u001b[0m\u001b[0m\n\u001b[1;32m   2006\u001b[0m \u001b[0;34m\u001b[0m\u001b[0m\n\u001b[0;32m-> 2007\u001b[0;31m         \u001b[0;32mreturn\u001b[0m \u001b[0moutput\u001b[0m \u001b[0;32mif\u001b[0m \u001b[0mself\u001b[0m\u001b[0;34m.\u001b[0m\u001b[0mreturn_generator\u001b[0m \u001b[0;32melse\u001b[0m \u001b[0mlist\u001b[0m\u001b[0;34m(\u001b[0m\u001b[0moutput\u001b[0m\u001b[0;34m)\u001b[0m\u001b[0;34m\u001b[0m\u001b[0;34m\u001b[0m\u001b[0m\n\u001b[0m\u001b[1;32m   2008\u001b[0m \u001b[0;34m\u001b[0m\u001b[0m\n\u001b[1;32m   2009\u001b[0m     \u001b[0;32mdef\u001b[0m \u001b[0m__repr__\u001b[0m\u001b[0;34m(\u001b[0m\u001b[0mself\u001b[0m\u001b[0;34m)\u001b[0m\u001b[0;34m:\u001b[0m\u001b[0;34m\u001b[0m\u001b[0;34m\u001b[0m\u001b[0m\n",
            "\u001b[0;32m/usr/local/lib/python3.10/dist-packages/joblib/parallel.py\u001b[0m in \u001b[0;36m_get_outputs\u001b[0;34m(self, iterator, pre_dispatch)\u001b[0m\n\u001b[1;32m   1648\u001b[0m \u001b[0;34m\u001b[0m\u001b[0m\n\u001b[1;32m   1649\u001b[0m             \u001b[0;32mwith\u001b[0m \u001b[0mself\u001b[0m\u001b[0;34m.\u001b[0m\u001b[0m_backend\u001b[0m\u001b[0;34m.\u001b[0m\u001b[0mretrieval_context\u001b[0m\u001b[0;34m(\u001b[0m\u001b[0;34m)\u001b[0m\u001b[0;34m:\u001b[0m\u001b[0;34m\u001b[0m\u001b[0;34m\u001b[0m\u001b[0m\n\u001b[0;32m-> 1650\u001b[0;31m                 \u001b[0;32myield\u001b[0m \u001b[0;32mfrom\u001b[0m \u001b[0mself\u001b[0m\u001b[0;34m.\u001b[0m\u001b[0m_retrieve\u001b[0m\u001b[0;34m(\u001b[0m\u001b[0;34m)\u001b[0m\u001b[0;34m\u001b[0m\u001b[0;34m\u001b[0m\u001b[0m\n\u001b[0m\u001b[1;32m   1651\u001b[0m \u001b[0;34m\u001b[0m\u001b[0m\n\u001b[1;32m   1652\u001b[0m         \u001b[0;32mexcept\u001b[0m \u001b[0mGeneratorExit\u001b[0m\u001b[0;34m:\u001b[0m\u001b[0;34m\u001b[0m\u001b[0;34m\u001b[0m\u001b[0m\n",
            "\u001b[0;32m/usr/local/lib/python3.10/dist-packages/joblib/parallel.py\u001b[0m in \u001b[0;36m_retrieve\u001b[0;34m(self)\u001b[0m\n\u001b[1;32m   1760\u001b[0m                 (self._jobs[0].get_status(\n\u001b[1;32m   1761\u001b[0m                     timeout=self.timeout) == TASK_PENDING)):\n\u001b[0;32m-> 1762\u001b[0;31m                 \u001b[0mtime\u001b[0m\u001b[0;34m.\u001b[0m\u001b[0msleep\u001b[0m\u001b[0;34m(\u001b[0m\u001b[0;36m0.01\u001b[0m\u001b[0;34m)\u001b[0m\u001b[0;34m\u001b[0m\u001b[0;34m\u001b[0m\u001b[0m\n\u001b[0m\u001b[1;32m   1763\u001b[0m                 \u001b[0;32mcontinue\u001b[0m\u001b[0;34m\u001b[0m\u001b[0;34m\u001b[0m\u001b[0m\n\u001b[1;32m   1764\u001b[0m \u001b[0;34m\u001b[0m\u001b[0m\n",
            "\u001b[0;31mKeyboardInterrupt\u001b[0m: "
          ]
        }
      ]
    },
    {
      "cell_type": "code",
      "source": [
        "xgb_fit"
      ],
      "metadata": {
        "colab": {
          "base_uri": "https://localhost:8080/",
          "height": 139
        },
        "id": "5WOdaiHBJSOD",
        "outputId": "f47baec3-0adc-408e-ad11-49b84ad6c52f"
      },
      "execution_count": null,
      "outputs": [
        {
          "output_type": "error",
          "ename": "NameError",
          "evalue": "name 'xgb_fit' is not defined",
          "traceback": [
            "\u001b[0;31m---------------------------------------------------------------------------\u001b[0m",
            "\u001b[0;31mNameError\u001b[0m                                 Traceback (most recent call last)",
            "\u001b[0;32m<ipython-input-59-e92ef320cdaf>\u001b[0m in \u001b[0;36m<cell line: 1>\u001b[0;34m()\u001b[0m\n\u001b[0;32m----> 1\u001b[0;31m \u001b[0mxgb_fit\u001b[0m\u001b[0;34m\u001b[0m\u001b[0;34m\u001b[0m\u001b[0m\n\u001b[0m",
            "\u001b[0;31mNameError\u001b[0m: name 'xgb_fit' is not defined"
          ]
        }
      ]
    },
    {
      "cell_type": "code",
      "source": [
        "?RandomizedSearchCV"
      ],
      "metadata": {
        "id": "sxJcrg3vyvvn"
      },
      "execution_count": null,
      "outputs": []
    },
    {
      "cell_type": "code",
      "source": [
        "pip install scikit-optimize"
      ],
      "metadata": {
        "id": "eBFHvVPc5pXg"
      },
      "execution_count": null,
      "outputs": []
    },
    {
      "cell_type": "code",
      "source": [
        "pip install bayesian-optimization"
      ],
      "metadata": {
        "id": "Ey_oSwJ5As-F"
      },
      "execution_count": null,
      "outputs": []
    },
    {
      "cell_type": "code",
      "source": [
        "from skopt import BayesSearchCV"
      ],
      "metadata": {
        "id": "loIJhmP3AmV5"
      },
      "execution_count": null,
      "outputs": []
    },
    {
      "cell_type": "code",
      "source": [
        "params = {'eta': (1e-2, 1, 'log-uniform'),\n",
        "          'gamma': (1e-2, 1e+1, 'log-uniform'),\n",
        "          'max_depth': (3, 15),  # integer valued parameter\n",
        "          'subsample' : (0.7, 0.9, 'uniform'),\n",
        "          'colsample_bytree': (0.8, 1.0, 'uniform'),\n",
        "          'lambda':(1e-2, 1e+1, 'log-uniform'),\n",
        "          'alpha':(1e-2, 1e+1, 'log-uniform'),\n",
        "          'booster': ['dart', 'gbtree']  # categorical parameter\n",
        "          }"
      ],
      "metadata": {
        "id": "HJtoWgU669HA"
      },
      "execution_count": null,
      "outputs": []
    },
    {
      "cell_type": "code",
      "source": [
        "clf = xgb.XGBClassifier(tree_method=\"hist\",nthread=4,objective='binary:logistic',\n",
        "                        eval_metric='logloss')\n",
        "\n",
        "opt = BayesSearchCV(\n",
        "    clf,\n",
        "    params,\n",
        "    n_iter=3,\n",
        "    cv=5\n",
        ")"
      ],
      "metadata": {
        "id": "rZ7A-5a27E0M"
      },
      "execution_count": null,
      "outputs": []
    },
    {
      "cell_type": "code",
      "source": [
        "import tqdm"
      ],
      "metadata": {
        "id": "bkNGQFe_QsJg"
      },
      "execution_count": null,
      "outputs": []
    },
    {
      "cell_type": "code",
      "source": [
        "xgb.set_config(verbosity=2)"
      ],
      "metadata": {
        "id": "SFx-rD3zRJRi"
      },
      "execution_count": null,
      "outputs": []
    },
    {
      "cell_type": "code",
      "source": [
        "#tqdm(opt.fit(X_train, y_train_enc,))\n",
        "# callback handler\n",
        "def on_step(optim_result):\n",
        "    score = opt.best_score_\n",
        "    print(\"best score: %s\" % score)"
      ],
      "metadata": {
        "id": "5tyMQe0A_LN_"
      },
      "execution_count": null,
      "outputs": []
    },
    {
      "cell_type": "code",
      "source": [
        "opt.fit(X_train, y_train_enc, callback=on_step)"
      ],
      "metadata": {
        "colab": {
          "base_uri": "https://localhost:8080/"
        },
        "id": "6dMVfZ7jSwOl",
        "outputId": "27402b10-9566-4bd2-f588-863119acb8e3"
      },
      "execution_count": null,
      "outputs": [
        {
          "output_type": "stream",
          "name": "stdout",
          "text": [
            "[08:20:54] INFO: /workspace/src/gbm/gbtree.cc:887: drop 0 trees, weight = 1\n",
            "[08:21:08] INFO: /workspace/src/gbm/gbtree.cc:887: drop 0 trees, weight = 1\n",
            "[08:21:26] INFO: /workspace/src/gbm/gbtree.cc:887: drop 0 trees, weight = 1\n",
            "[08:21:48] INFO: /workspace/src/gbm/gbtree.cc:887: drop 0 trees, weight = 1\n",
            "[08:22:13] INFO: /workspace/src/gbm/gbtree.cc:887: drop 0 trees, weight = 1\n",
            "[08:22:42] INFO: /workspace/src/gbm/gbtree.cc:887: drop 0 trees, weight = 1\n",
            "[08:23:15] INFO: /workspace/src/gbm/gbtree.cc:887: drop 0 trees, weight = 1\n",
            "[08:23:53] INFO: /workspace/src/gbm/gbtree.cc:887: drop 0 trees, weight = 1\n",
            "[08:24:38] INFO: /workspace/src/gbm/gbtree.cc:887: drop 0 trees, weight = 1\n",
            "[08:25:26] INFO: /workspace/src/gbm/gbtree.cc:887: drop 0 trees, weight = 1\n",
            "[08:26:16] INFO: /workspace/src/gbm/gbtree.cc:887: drop 0 trees, weight = 1\n",
            "[08:27:14] INFO: /workspace/src/gbm/gbtree.cc:887: drop 0 trees, weight = 1\n",
            "[08:28:13] INFO: /workspace/src/gbm/gbtree.cc:887: drop 0 trees, weight = 1\n",
            "[08:29:18] INFO: /workspace/src/gbm/gbtree.cc:887: drop 0 trees, weight = 1\n",
            "[08:30:28] INFO: /workspace/src/gbm/gbtree.cc:887: drop 0 trees, weight = 1\n",
            "[08:31:41] INFO: /workspace/src/gbm/gbtree.cc:887: drop 0 trees, weight = 1\n",
            "[08:33:01] INFO: /workspace/src/gbm/gbtree.cc:887: drop 0 trees, weight = 1\n",
            "[08:34:23] INFO: /workspace/src/gbm/gbtree.cc:887: drop 0 trees, weight = 1\n",
            "[08:35:53] INFO: /workspace/src/gbm/gbtree.cc:887: drop 0 trees, weight = 1\n",
            "[08:37:23] INFO: /workspace/src/gbm/gbtree.cc:887: drop 0 trees, weight = 1\n",
            "[08:39:03] INFO: /workspace/src/gbm/gbtree.cc:887: drop 0 trees, weight = 1\n",
            "[08:40:44] INFO: /workspace/src/gbm/gbtree.cc:887: drop 0 trees, weight = 1\n",
            "[08:42:38] INFO: /workspace/src/gbm/gbtree.cc:887: drop 0 trees, weight = 1\n",
            "[08:44:30] INFO: /workspace/src/gbm/gbtree.cc:887: drop 0 trees, weight = 1\n",
            "[08:46:26] INFO: /workspace/src/gbm/gbtree.cc:887: drop 0 trees, weight = 1\n",
            "[08:48:26] INFO: /workspace/src/gbm/gbtree.cc:887: drop 0 trees, weight = 1\n",
            "[08:50:29] INFO: /workspace/src/gbm/gbtree.cc:887: drop 0 trees, weight = 1\n",
            "[08:52:36] INFO: /workspace/src/gbm/gbtree.cc:887: drop 0 trees, weight = 1\n",
            "[08:54:48] INFO: /workspace/src/gbm/gbtree.cc:887: drop 0 trees, weight = 1\n",
            "[08:57:05] INFO: /workspace/src/gbm/gbtree.cc:887: drop 0 trees, weight = 1\n",
            "[08:59:34] INFO: /workspace/src/gbm/gbtree.cc:887: drop 0 trees, weight = 1\n",
            "[09:02:01] INFO: /workspace/src/gbm/gbtree.cc:887: drop 0 trees, weight = 1\n",
            "[09:04:35] INFO: /workspace/src/gbm/gbtree.cc:887: drop 0 trees, weight = 1\n",
            "[09:07:14] INFO: /workspace/src/gbm/gbtree.cc:887: drop 0 trees, weight = 1\n",
            "[09:09:59] INFO: /workspace/src/gbm/gbtree.cc:887: drop 0 trees, weight = 1\n",
            "[09:12:45] INFO: /workspace/src/gbm/gbtree.cc:887: drop 0 trees, weight = 1\n",
            "[09:15:35] INFO: /workspace/src/gbm/gbtree.cc:887: drop 0 trees, weight = 1\n",
            "[09:18:31] INFO: /workspace/src/gbm/gbtree.cc:887: drop 0 trees, weight = 1\n",
            "[09:21:32] INFO: /workspace/src/gbm/gbtree.cc:887: drop 0 trees, weight = 1\n",
            "[09:24:38] INFO: /workspace/src/gbm/gbtree.cc:887: drop 0 trees, weight = 1\n",
            "[09:27:48] INFO: /workspace/src/gbm/gbtree.cc:887: drop 0 trees, weight = 1\n",
            "[09:31:02] INFO: /workspace/src/gbm/gbtree.cc:887: drop 0 trees, weight = 1\n",
            "[09:34:24] INFO: /workspace/src/gbm/gbtree.cc:887: drop 0 trees, weight = 1\n",
            "[09:37:48] INFO: /workspace/src/gbm/gbtree.cc:887: drop 0 trees, weight = 1\n",
            "[09:41:21] INFO: /workspace/src/gbm/gbtree.cc:887: drop 0 trees, weight = 1\n",
            "[09:44:56] INFO: /workspace/src/gbm/gbtree.cc:887: drop 0 trees, weight = 1\n",
            "[09:48:36] INFO: /workspace/src/gbm/gbtree.cc:887: drop 0 trees, weight = 1\n"
          ]
        },
        {
          "output_type": "stream",
          "name": "stderr",
          "text": [
            "Exception ignored on calling ctypes callback function: <function _log_callback at 0x7dd6acf3d000>\n",
            "Traceback (most recent call last):\n",
            "  File \"/usr/local/lib/python3.10/dist-packages/xgboost/core.py\", line 156, in _log_callback\n",
            "    def _log_callback(msg: bytes) -> None:\n",
            "KeyboardInterrupt: \n"
          ]
        },
        {
          "output_type": "stream",
          "name": "stdout",
          "text": [
            "[09:56:05] INFO: /workspace/src/gbm/gbtree.cc:887: drop 0 trees, weight = 1\n"
          ]
        }
      ]
    },
    {
      "cell_type": "code",
      "source": [
        "BayesSearchCV()"
      ],
      "metadata": {
        "id": "SSMF8ZDnpV6L"
      },
      "execution_count": null,
      "outputs": []
    },
    {
      "cell_type": "code",
      "source": [
        "\n",
        "print(\"val. score: %s\" % opt.best_score_)\n",
        "print(\"test score: %s\" % opt.score(X_test, y_test))"
      ],
      "metadata": {
        "id": "V4MhUWG3_M6U"
      },
      "execution_count": null,
      "outputs": []
    },
    {
      "cell_type": "markdown",
      "source": [
        "Hyperopt"
      ],
      "metadata": {
        "id": "lKEzL0iVgv_g"
      }
    },
    {
      "cell_type": "code",
      "source": [
        "from hyperopt import STATUS_OK, Trials, fmin, hp, tpe\n",
        "import hyperopt"
      ],
      "metadata": {
        "id": "WZuTgdgEgw1a"
      },
      "execution_count": null,
      "outputs": []
    },
    {
      "cell_type": "code",
      "source": [
        "params = {'learning_rate': hp.loguniform(\"learning_rate\",1e-2, 1),\n",
        "          'gamma': hp.loguniform(\"gamma\",1e-2, 1e+1),\n",
        "          'max_depth': hp.randint(\"max_depth\", 3, 15),  # integer valued parameter\n",
        "          'subsample' : hp.uniform(\"subsample\",0.8, 0.9),\n",
        "          'colsample_bytree': hp.uniform(\"colsample_bytree\",0.8, 0.9),\n",
        "          'reg_lambda':hp.loguniform(\"reg_lambda\",1e-2, 1e+1),\n",
        "          'reg_alpha':hp.loguniform(\"reg_alpha\",1e-2, 1e+1),\n",
        "          'booster': hp.choice('booster',['dart', 'gbtree']),  # categorical parameter\n",
        "          'n_estimators':hp.randint(\"n_estimators\",100,300)\n",
        "          }"
      ],
      "metadata": {
        "id": "LPoRWo6Kg56c"
      },
      "execution_count": null,
      "outputs": []
    },
    {
      "cell_type": "code",
      "source": [],
      "metadata": {
        "id": "Gb43_fFpvPSA"
      },
      "execution_count": null,
      "outputs": []
    },
    {
      "cell_type": "code",
      "source": [
        "def objective(space):\n",
        "    clf=xgb.XGBClassifier(\n",
        "                    n_estimators =200, booster = params['booster'],\n",
        "                    reg_alpha = params['reg_alpha'],reg_lambda = params['reg_lambda'],\n",
        "                    colsample_bytree=params['colsample_bytree'],subsample=params['subsample'],\n",
        "                    max_depth=params['max_depth'], gamma=params['gamma'],\n",
        "                    learning_rate=params['learning_rate'], n_jobs=-1, eval_metric=\"mlogloss\",\n",
        "                    objective = 'multi:softmax', num_class = 21,tree_method=\"hist\",early_stopping_rounds=10\n",
        "                    )\n",
        "\n",
        "    evaluation = [( X_train, y_train_enc), ( X_test, y_test_enc)]\n",
        "\n",
        "    clf.fit(X_train, y_train_enc,\n",
        "            eval_set=evaluation,verbose=True)\n",
        "\n",
        "\n",
        "    pred = clf.predict(X_test)\n",
        "    f1 = f1_score(y_test_enc,pred,average='weighted')\n",
        "    pred_probs = clf.predict_proba(X_test)\n",
        "    neg_ll = log_loss(y_test_enc,pred_probs)\n",
        "    print (\"SCORE:\", f1)\n",
        "    return {'loss': -neg_ll, 'status': STATUS_OK }"
      ],
      "metadata": {
        "id": "7D02VvIPi8Ko"
      },
      "execution_count": null,
      "outputs": []
    },
    {
      "cell_type": "code",
      "source": [
        "trials = Trials()\n",
        "\n",
        "best_hyperparams = fmin(fn = objective,\n",
        "                        space = params,\n",
        "                        algo = tpe.suggest,\n",
        "                        max_evals = 5,\n",
        "                        trials = trials)"
      ],
      "metadata": {
        "colab": {
          "base_uri": "https://localhost:8080/"
        },
        "id": "EbfE97Z1lMne",
        "outputId": "6aa8eaba-94c8-481c-b0f3-a1ceea2f3f3a"
      },
      "execution_count": null,
      "outputs": [
        {
          "output_type": "stream",
          "name": "stdout",
          "text": [
            "[0]\tvalidation_0-mlogloss:1.43971\tvalidation_1-mlogloss:1.80420\n",
            "[1]\tvalidation_0-mlogloss:1.08388\tvalidation_1-mlogloss:1.57975\n",
            "[2]\tvalidation_0-mlogloss:0.83841\tvalidation_1-mlogloss:1.41803\n",
            "[3]\tvalidation_0-mlogloss:0.65965\tvalidation_1-mlogloss:1.29280\n",
            "[4]\tvalidation_0-mlogloss:0.52360\tvalidation_1-mlogloss:1.19426\n",
            "[5]\tvalidation_0-mlogloss:0.41806\tvalidation_1-mlogloss:1.11628\n",
            "[6]\tvalidation_0-mlogloss:0.33443\tvalidation_1-mlogloss:1.05159\n",
            "[7]\tvalidation_0-mlogloss:0.27059\tvalidation_1-mlogloss:0.99925\n",
            "[8]\tvalidation_0-mlogloss:0.21918\tvalidation_1-mlogloss:0.95236\n",
            "[9]\tvalidation_0-mlogloss:0.17894\tvalidation_1-mlogloss:0.91492\n",
            "[10]\tvalidation_0-mlogloss:0.14713\tvalidation_1-mlogloss:0.88157\n",
            "[11]\tvalidation_0-mlogloss:0.12164\tvalidation_1-mlogloss:0.85464\n",
            "[12]\tvalidation_0-mlogloss:0.10170\tvalidation_1-mlogloss:0.82986\n",
            "[13]\tvalidation_0-mlogloss:0.08515\tvalidation_1-mlogloss:0.81164\n",
            "[14]\tvalidation_0-mlogloss:0.07156\tvalidation_1-mlogloss:0.79401\n",
            "[15]\tvalidation_0-mlogloss:0.06113\tvalidation_1-mlogloss:0.77884\n",
            "[16]\tvalidation_0-mlogloss:0.05219\tvalidation_1-mlogloss:0.76391\n",
            "[17]\tvalidation_0-mlogloss:0.04513\tvalidation_1-mlogloss:0.75203\n",
            "[18]\tvalidation_0-mlogloss:0.03911\tvalidation_1-mlogloss:0.74215\n",
            "[19]\tvalidation_0-mlogloss:0.03427\tvalidation_1-mlogloss:0.73343\n",
            "[20]\tvalidation_0-mlogloss:0.03024\tvalidation_1-mlogloss:0.72496\n",
            "[21]\tvalidation_0-mlogloss:0.02684\tvalidation_1-mlogloss:0.72025\n",
            "[22]\tvalidation_0-mlogloss:0.02397\tvalidation_1-mlogloss:0.71309\n",
            "[23]\tvalidation_0-mlogloss:0.02154\tvalidation_1-mlogloss:0.70715\n",
            "[24]\tvalidation_0-mlogloss:0.01952\tvalidation_1-mlogloss:0.70341\n",
            "[25]\tvalidation_0-mlogloss:0.01775\tvalidation_1-mlogloss:0.69863\n",
            "[26]\tvalidation_0-mlogloss:0.01624\tvalidation_1-mlogloss:0.69483\n",
            "[27]\tvalidation_0-mlogloss:0.01493\tvalidation_1-mlogloss:0.69133\n",
            "[28]\tvalidation_0-mlogloss:0.01380\tvalidation_1-mlogloss:0.68810\n",
            "[29]\tvalidation_0-mlogloss:0.01282\tvalidation_1-mlogloss:0.68438\n",
            "[30]\tvalidation_0-mlogloss:0.01196\tvalidation_1-mlogloss:0.68303\n",
            "[31]\tvalidation_0-mlogloss:0.01120\tvalidation_1-mlogloss:0.68085\n",
            "[32]\tvalidation_0-mlogloss:0.01054\tvalidation_1-mlogloss:0.68043\n",
            "[33]\tvalidation_0-mlogloss:0.00994\tvalidation_1-mlogloss:0.67828\n",
            "[34]\tvalidation_0-mlogloss:0.00941\tvalidation_1-mlogloss:0.67730\n",
            "[35]\tvalidation_0-mlogloss:0.00893\tvalidation_1-mlogloss:0.67548\n",
            "[36]\tvalidation_0-mlogloss:0.00848\tvalidation_1-mlogloss:0.67478\n",
            "[37]\tvalidation_0-mlogloss:0.00809\tvalidation_1-mlogloss:0.67312\n",
            "[38]\tvalidation_0-mlogloss:0.00772\tvalidation_1-mlogloss:0.67222\n",
            "[39]\tvalidation_0-mlogloss:0.00741\tvalidation_1-mlogloss:0.67121\n",
            "[40]\tvalidation_0-mlogloss:0.00710\tvalidation_1-mlogloss:0.66905\n",
            "[41]\tvalidation_0-mlogloss:0.00683\tvalidation_1-mlogloss:0.66734\n",
            "[42]\tvalidation_0-mlogloss:0.00656\tvalidation_1-mlogloss:0.66681\n",
            "[43]\tvalidation_0-mlogloss:0.00633\tvalidation_1-mlogloss:0.66671\n",
            "[44]\tvalidation_0-mlogloss:0.00611\tvalidation_1-mlogloss:0.66517\n",
            "[45]\tvalidation_0-mlogloss:0.00592\tvalidation_1-mlogloss:0.66359\n",
            "[46]\tvalidation_0-mlogloss:0.00573\tvalidation_1-mlogloss:0.66239\n",
            "[47]\tvalidation_0-mlogloss:0.00555\tvalidation_1-mlogloss:0.66198\n",
            "[48]\tvalidation_0-mlogloss:0.00538\tvalidation_1-mlogloss:0.66050\n",
            "[49]\tvalidation_0-mlogloss:0.00523\tvalidation_1-mlogloss:0.66003\n",
            "[50]\tvalidation_0-mlogloss:0.00510\tvalidation_1-mlogloss:0.65846\n",
            "[51]\tvalidation_0-mlogloss:0.00497\tvalidation_1-mlogloss:0.65694\n",
            "[52]\tvalidation_0-mlogloss:0.00484\tvalidation_1-mlogloss:0.65580\n",
            "[53]\tvalidation_0-mlogloss:0.00473\tvalidation_1-mlogloss:0.65567\n",
            "[54]\tvalidation_0-mlogloss:0.00461\tvalidation_1-mlogloss:0.65527\n",
            "[55]\tvalidation_0-mlogloss:0.00450\tvalidation_1-mlogloss:0.65451\n",
            "[56]\tvalidation_0-mlogloss:0.00441\tvalidation_1-mlogloss:0.65305\n",
            "[57]\tvalidation_0-mlogloss:0.00432\tvalidation_1-mlogloss:0.65286\n",
            "[58]\tvalidation_0-mlogloss:0.00423\tvalidation_1-mlogloss:0.65202\n",
            "[59]\tvalidation_0-mlogloss:0.00416\tvalidation_1-mlogloss:0.65128\n",
            "[60]\tvalidation_0-mlogloss:0.00408\tvalidation_1-mlogloss:0.65123\n",
            "[61]\tvalidation_0-mlogloss:0.00400\tvalidation_1-mlogloss:0.65080\n",
            "[62]\tvalidation_0-mlogloss:0.00393\tvalidation_1-mlogloss:0.65016\n",
            "[63]\tvalidation_0-mlogloss:0.00387\tvalidation_1-mlogloss:0.65027\n",
            "[64]\tvalidation_0-mlogloss:0.00380\tvalidation_1-mlogloss:0.64940\n",
            "[65]\tvalidation_0-mlogloss:0.00374\tvalidation_1-mlogloss:0.64930\n",
            "[66]\tvalidation_0-mlogloss:0.00368\tvalidation_1-mlogloss:0.64897\n",
            "[67]\tvalidation_0-mlogloss:0.00363\tvalidation_1-mlogloss:0.64859\n",
            "[68]\tvalidation_0-mlogloss:0.00357\tvalidation_1-mlogloss:0.64844\n",
            "[69]\tvalidation_0-mlogloss:0.00352\tvalidation_1-mlogloss:0.64838\n",
            "[70]\tvalidation_0-mlogloss:0.00347\tvalidation_1-mlogloss:0.64838\n",
            "[71]\tvalidation_0-mlogloss:0.00342\tvalidation_1-mlogloss:0.64818\n",
            "[72]\tvalidation_0-mlogloss:0.00337\tvalidation_1-mlogloss:0.64839\n",
            "[73]\tvalidation_0-mlogloss:0.00333\tvalidation_1-mlogloss:0.64790\n",
            "[74]\tvalidation_0-mlogloss:0.00329\tvalidation_1-mlogloss:0.64763\n",
            "[75]\tvalidation_0-mlogloss:0.00325\tvalidation_1-mlogloss:0.64762\n",
            "[76]\tvalidation_0-mlogloss:0.00320\tvalidation_1-mlogloss:0.64672\n",
            "[77]\tvalidation_0-mlogloss:0.00316\tvalidation_1-mlogloss:0.64698\n",
            "[78]\tvalidation_0-mlogloss:0.00313\tvalidation_1-mlogloss:0.64721\n",
            "[79]\tvalidation_0-mlogloss:0.00309\tvalidation_1-mlogloss:0.64679\n",
            "[80]\tvalidation_0-mlogloss:0.00305\tvalidation_1-mlogloss:0.64668\n",
            "[81]\tvalidation_0-mlogloss:0.00302\tvalidation_1-mlogloss:0.64638\n",
            "[82]\tvalidation_0-mlogloss:0.00299\tvalidation_1-mlogloss:0.64610\n",
            "[83]\tvalidation_0-mlogloss:0.00296\tvalidation_1-mlogloss:0.64592\n",
            "[84]\tvalidation_0-mlogloss:0.00293\tvalidation_1-mlogloss:0.64533\n",
            "[85]\tvalidation_0-mlogloss:0.00290\tvalidation_1-mlogloss:0.64470\n",
            "[86]\tvalidation_0-mlogloss:0.00288\tvalidation_1-mlogloss:0.64508\n",
            "[87]\tvalidation_0-mlogloss:0.00286\tvalidation_1-mlogloss:0.64512\n",
            "[88]\tvalidation_0-mlogloss:0.00283\tvalidation_1-mlogloss:0.64512\n",
            "[89]\tvalidation_0-mlogloss:0.00281\tvalidation_1-mlogloss:0.64479\n",
            "[90]\tvalidation_0-mlogloss:0.00278\tvalidation_1-mlogloss:0.64451\n",
            "[91]\tvalidation_0-mlogloss:0.00276\tvalidation_1-mlogloss:0.64418\n",
            "[92]\tvalidation_0-mlogloss:0.00274\tvalidation_1-mlogloss:0.64350\n",
            "[93]\tvalidation_0-mlogloss:0.00272\tvalidation_1-mlogloss:0.64352\n",
            "[94]\tvalidation_0-mlogloss:0.00270\tvalidation_1-mlogloss:0.64371\n",
            "[95]\tvalidation_0-mlogloss:0.00268\tvalidation_1-mlogloss:0.64350\n",
            "[96]\tvalidation_0-mlogloss:0.00265\tvalidation_1-mlogloss:0.64316\n",
            "[97]\tvalidation_0-mlogloss:0.00264\tvalidation_1-mlogloss:0.64269\n",
            "[98]\tvalidation_0-mlogloss:0.00262\tvalidation_1-mlogloss:0.64306\n",
            "[99]\tvalidation_0-mlogloss:0.00260\tvalidation_1-mlogloss:0.64287\n",
            "[100]\tvalidation_0-mlogloss:0.00258\tvalidation_1-mlogloss:0.64293\n",
            "[101]\tvalidation_0-mlogloss:0.00256\tvalidation_1-mlogloss:0.64256\n",
            "[102]\tvalidation_0-mlogloss:0.00255\tvalidation_1-mlogloss:0.64228\n",
            "[103]\tvalidation_0-mlogloss:0.00253\tvalidation_1-mlogloss:0.64264\n",
            "[104]\tvalidation_0-mlogloss:0.00251\tvalidation_1-mlogloss:0.64269\n",
            "[105]\tvalidation_0-mlogloss:0.00250\tvalidation_1-mlogloss:0.64286\n",
            "[106]\tvalidation_0-mlogloss:0.00248\tvalidation_1-mlogloss:0.64268\n",
            "[107]\tvalidation_0-mlogloss:0.00246\tvalidation_1-mlogloss:0.64285\n",
            "[108]\tvalidation_0-mlogloss:0.00245\tvalidation_1-mlogloss:0.64272\n",
            "[109]\tvalidation_0-mlogloss:0.00243\tvalidation_1-mlogloss:0.64280\n",
            "[110]\tvalidation_0-mlogloss:0.00242\tvalidation_1-mlogloss:0.64292\n",
            "[111]\tvalidation_0-mlogloss:0.00240\tvalidation_1-mlogloss:0.64268\n",
            "[112]\tvalidation_0-mlogloss:0.00239\tvalidation_1-mlogloss:0.64271\n",
            "SCORE:\n",
            "0.8081717828377715\n",
            "[0]\tvalidation_0-mlogloss:1.43971\tvalidation_1-mlogloss:1.80420\n",
            "[1]\tvalidation_0-mlogloss:1.08388\tvalidation_1-mlogloss:1.57975\n",
            "[2]\tvalidation_0-mlogloss:0.83841\tvalidation_1-mlogloss:1.41803\n",
            "[3]\tvalidation_0-mlogloss:0.65965\tvalidation_1-mlogloss:1.29280\n",
            "[4]\tvalidation_0-mlogloss:0.52360\tvalidation_1-mlogloss:1.19426\n",
            "[5]\tvalidation_0-mlogloss:0.41806\tvalidation_1-mlogloss:1.11628\n",
            "[6]\tvalidation_0-mlogloss:0.33443\tvalidation_1-mlogloss:1.05159\n",
            "[7]\tvalidation_0-mlogloss:0.27059\tvalidation_1-mlogloss:0.99925\n",
            "[8]\tvalidation_0-mlogloss:0.21918\tvalidation_1-mlogloss:0.95236\n",
            "[9]\tvalidation_0-mlogloss:0.17894\tvalidation_1-mlogloss:0.91492\n",
            "[10]\tvalidation_0-mlogloss:0.14713\tvalidation_1-mlogloss:0.88157\n",
            "[11]\tvalidation_0-mlogloss:0.12164\tvalidation_1-mlogloss:0.85464\n",
            "[12]\tvalidation_0-mlogloss:0.10170\tvalidation_1-mlogloss:0.82986\n",
            "[13]\tvalidation_0-mlogloss:0.08515\tvalidation_1-mlogloss:0.81164\n",
            "[14]\tvalidation_0-mlogloss:0.07156\tvalidation_1-mlogloss:0.79401\n",
            "[15]\tvalidation_0-mlogloss:0.06113\tvalidation_1-mlogloss:0.77884\n",
            "[16]\tvalidation_0-mlogloss:0.05219\tvalidation_1-mlogloss:0.76391\n",
            "[17]\tvalidation_0-mlogloss:0.04513\tvalidation_1-mlogloss:0.75203\n",
            "[18]\tvalidation_0-mlogloss:0.03911\tvalidation_1-mlogloss:0.74215\n",
            "[19]\tvalidation_0-mlogloss:0.03427\tvalidation_1-mlogloss:0.73343\n",
            "[20]\tvalidation_0-mlogloss:0.03024\tvalidation_1-mlogloss:0.72496\n",
            "[21]\tvalidation_0-mlogloss:0.02684\tvalidation_1-mlogloss:0.72025\n",
            "[22]\tvalidation_0-mlogloss:0.02397\tvalidation_1-mlogloss:0.71309\n",
            "[23]\tvalidation_0-mlogloss:0.02154\tvalidation_1-mlogloss:0.70715\n",
            "[24]\tvalidation_0-mlogloss:0.01952\tvalidation_1-mlogloss:0.70341\n",
            "[25]\tvalidation_0-mlogloss:0.01775\tvalidation_1-mlogloss:0.69863\n",
            "[26]\tvalidation_0-mlogloss:0.01624\tvalidation_1-mlogloss:0.69483\n",
            "[27]\tvalidation_0-mlogloss:0.01493\tvalidation_1-mlogloss:0.69133\n",
            "[28]\tvalidation_0-mlogloss:0.01380\tvalidation_1-mlogloss:0.68810\n",
            "[29]\tvalidation_0-mlogloss:0.01282\tvalidation_1-mlogloss:0.68438\n",
            "[30]\tvalidation_0-mlogloss:0.01196\tvalidation_1-mlogloss:0.68303\n",
            "[31]\tvalidation_0-mlogloss:0.01120\tvalidation_1-mlogloss:0.68085\n",
            "[32]\tvalidation_0-mlogloss:0.01054\tvalidation_1-mlogloss:0.68043\n",
            "[33]\tvalidation_0-mlogloss:0.00994\tvalidation_1-mlogloss:0.67828\n",
            "[34]\tvalidation_0-mlogloss:0.00941\tvalidation_1-mlogloss:0.67730\n",
            "[35]\tvalidation_0-mlogloss:0.00893\tvalidation_1-mlogloss:0.67548\n",
            "[36]\tvalidation_0-mlogloss:0.00848\tvalidation_1-mlogloss:0.67478\n",
            "[37]\tvalidation_0-mlogloss:0.00809\tvalidation_1-mlogloss:0.67312\n",
            "[38]\tvalidation_0-mlogloss:0.00772\tvalidation_1-mlogloss:0.67222\n",
            "[39]\tvalidation_0-mlogloss:0.00741\tvalidation_1-mlogloss:0.67121\n",
            "[40]\tvalidation_0-mlogloss:0.00710\tvalidation_1-mlogloss:0.66905\n",
            "[41]\tvalidation_0-mlogloss:0.00683\tvalidation_1-mlogloss:0.66734\n",
            "[42]\tvalidation_0-mlogloss:0.00656\tvalidation_1-mlogloss:0.66681\n",
            "[43]\tvalidation_0-mlogloss:0.00633\tvalidation_1-mlogloss:0.66671\n",
            "[44]\tvalidation_0-mlogloss:0.00611\tvalidation_1-mlogloss:0.66517\n",
            "[45]\tvalidation_0-mlogloss:0.00592\tvalidation_1-mlogloss:0.66359\n",
            "[46]\tvalidation_0-mlogloss:0.00573\tvalidation_1-mlogloss:0.66239\n",
            "[47]\tvalidation_0-mlogloss:0.00555\tvalidation_1-mlogloss:0.66198\n",
            "[48]\tvalidation_0-mlogloss:0.00538\tvalidation_1-mlogloss:0.66050\n",
            "[49]\tvalidation_0-mlogloss:0.00523\tvalidation_1-mlogloss:0.66003\n",
            "[50]\tvalidation_0-mlogloss:0.00510\tvalidation_1-mlogloss:0.65846\n",
            "[51]\tvalidation_0-mlogloss:0.00497\tvalidation_1-mlogloss:0.65694\n",
            "[52]\tvalidation_0-mlogloss:0.00484\tvalidation_1-mlogloss:0.65580\n",
            "[53]\tvalidation_0-mlogloss:0.00473\tvalidation_1-mlogloss:0.65567\n",
            "[54]\tvalidation_0-mlogloss:0.00461\tvalidation_1-mlogloss:0.65527\n",
            "[55]\tvalidation_0-mlogloss:0.00450\tvalidation_1-mlogloss:0.65451\n",
            "[56]\tvalidation_0-mlogloss:0.00441\tvalidation_1-mlogloss:0.65305\n",
            "[57]\tvalidation_0-mlogloss:0.00432\tvalidation_1-mlogloss:0.65286\n",
            "[58]\tvalidation_0-mlogloss:0.00423\tvalidation_1-mlogloss:0.65202\n",
            "[59]\tvalidation_0-mlogloss:0.00416\tvalidation_1-mlogloss:0.65128\n",
            "[60]\tvalidation_0-mlogloss:0.00408\tvalidation_1-mlogloss:0.65123\n",
            "[61]\tvalidation_0-mlogloss:0.00400\tvalidation_1-mlogloss:0.65080\n",
            "[62]\tvalidation_0-mlogloss:0.00393\tvalidation_1-mlogloss:0.65016\n",
            "[63]\tvalidation_0-mlogloss:0.00387\tvalidation_1-mlogloss:0.65027\n",
            "[64]\tvalidation_0-mlogloss:0.00380\tvalidation_1-mlogloss:0.64940\n",
            "[65]\tvalidation_0-mlogloss:0.00374\tvalidation_1-mlogloss:0.64930\n",
            "[66]\tvalidation_0-mlogloss:0.00368\tvalidation_1-mlogloss:0.64897\n",
            "[67]\tvalidation_0-mlogloss:0.00363\tvalidation_1-mlogloss:0.64859\n",
            "[68]\tvalidation_0-mlogloss:0.00357\tvalidation_1-mlogloss:0.64844\n",
            "[69]\tvalidation_0-mlogloss:0.00352\tvalidation_1-mlogloss:0.64838\n",
            "[70]\tvalidation_0-mlogloss:0.00347\tvalidation_1-mlogloss:0.64838\n",
            "[71]\tvalidation_0-mlogloss:0.00342\tvalidation_1-mlogloss:0.64818\n",
            "[72]\tvalidation_0-mlogloss:0.00337\tvalidation_1-mlogloss:0.64839\n",
            "[73]\tvalidation_0-mlogloss:0.00333\tvalidation_1-mlogloss:0.64790\n",
            "[74]\tvalidation_0-mlogloss:0.00329\tvalidation_1-mlogloss:0.64763\n",
            "[75]\tvalidation_0-mlogloss:0.00325\tvalidation_1-mlogloss:0.64762\n",
            "[76]\tvalidation_0-mlogloss:0.00320\tvalidation_1-mlogloss:0.64672\n",
            "[77]\tvalidation_0-mlogloss:0.00316\tvalidation_1-mlogloss:0.64698\n",
            "[78]\tvalidation_0-mlogloss:0.00313\tvalidation_1-mlogloss:0.64721\n",
            "[79]\tvalidation_0-mlogloss:0.00309\tvalidation_1-mlogloss:0.64679\n",
            "[80]\tvalidation_0-mlogloss:0.00305\tvalidation_1-mlogloss:0.64668\n",
            "[81]\tvalidation_0-mlogloss:0.00302\tvalidation_1-mlogloss:0.64638\n",
            "[82]\tvalidation_0-mlogloss:0.00299\tvalidation_1-mlogloss:0.64610\n",
            "[83]\tvalidation_0-mlogloss:0.00296\tvalidation_1-mlogloss:0.64592\n",
            "[84]\tvalidation_0-mlogloss:0.00293\tvalidation_1-mlogloss:0.64533\n",
            "[85]\tvalidation_0-mlogloss:0.00290\tvalidation_1-mlogloss:0.64470\n",
            "[86]\tvalidation_0-mlogloss:0.00288\tvalidation_1-mlogloss:0.64508\n",
            "[87]\tvalidation_0-mlogloss:0.00286\tvalidation_1-mlogloss:0.64512\n",
            "[88]\tvalidation_0-mlogloss:0.00283\tvalidation_1-mlogloss:0.64512\n",
            "[89]\tvalidation_0-mlogloss:0.00281\tvalidation_1-mlogloss:0.64479\n",
            "[90]\tvalidation_0-mlogloss:0.00278\tvalidation_1-mlogloss:0.64451\n",
            "[91]\tvalidation_0-mlogloss:0.00276\tvalidation_1-mlogloss:0.64418\n",
            "[92]\tvalidation_0-mlogloss:0.00274\tvalidation_1-mlogloss:0.64350\n",
            "[93]\tvalidation_0-mlogloss:0.00272\tvalidation_1-mlogloss:0.64352\n",
            "[94]\tvalidation_0-mlogloss:0.00270\tvalidation_1-mlogloss:0.64371\n",
            "[95]\tvalidation_0-mlogloss:0.00268\tvalidation_1-mlogloss:0.64350\n",
            "[96]\tvalidation_0-mlogloss:0.00265\tvalidation_1-mlogloss:0.64316\n",
            "[97]\tvalidation_0-mlogloss:0.00264\tvalidation_1-mlogloss:0.64269\n",
            "[98]\tvalidation_0-mlogloss:0.00262\tvalidation_1-mlogloss:0.64306\n",
            "[99]\tvalidation_0-mlogloss:0.00260\tvalidation_1-mlogloss:0.64287\n",
            "[100]\tvalidation_0-mlogloss:0.00258\tvalidation_1-mlogloss:0.64293\n",
            "[101]\tvalidation_0-mlogloss:0.00256\tvalidation_1-mlogloss:0.64256\n",
            "[102]\tvalidation_0-mlogloss:0.00255\tvalidation_1-mlogloss:0.64228\n",
            "[103]\tvalidation_0-mlogloss:0.00253\tvalidation_1-mlogloss:0.64264\n",
            "[104]\tvalidation_0-mlogloss:0.00251\tvalidation_1-mlogloss:0.64269\n",
            "[105]\tvalidation_0-mlogloss:0.00250\tvalidation_1-mlogloss:0.64286\n",
            "[106]\tvalidation_0-mlogloss:0.00248\tvalidation_1-mlogloss:0.64268\n",
            "[107]\tvalidation_0-mlogloss:0.00246\tvalidation_1-mlogloss:0.64285\n",
            "[108]\tvalidation_0-mlogloss:0.00245\tvalidation_1-mlogloss:0.64272\n",
            "[109]\tvalidation_0-mlogloss:0.00243\tvalidation_1-mlogloss:0.64280\n",
            "[110]\tvalidation_0-mlogloss:0.00242\tvalidation_1-mlogloss:0.64292\n",
            "[111]\tvalidation_0-mlogloss:0.00240\tvalidation_1-mlogloss:0.64268\n",
            "SCORE:\n",
            "0.8081717828377715\n",
            "[0]\tvalidation_0-mlogloss:1.43971\tvalidation_1-mlogloss:1.80420\n",
            "[1]\tvalidation_0-mlogloss:1.08388\tvalidation_1-mlogloss:1.57975\n",
            "[2]\tvalidation_0-mlogloss:0.83841\tvalidation_1-mlogloss:1.41803\n",
            "[3]\tvalidation_0-mlogloss:0.65965\tvalidation_1-mlogloss:1.29280\n",
            "[4]\tvalidation_0-mlogloss:0.52360\tvalidation_1-mlogloss:1.19426\n",
            "[5]\tvalidation_0-mlogloss:0.41806\tvalidation_1-mlogloss:1.11628\n",
            "[6]\tvalidation_0-mlogloss:0.33443\tvalidation_1-mlogloss:1.05159\n",
            "[7]\tvalidation_0-mlogloss:0.27059\tvalidation_1-mlogloss:0.99925\n",
            "[8]\tvalidation_0-mlogloss:0.21918\tvalidation_1-mlogloss:0.95236\n",
            "[9]\tvalidation_0-mlogloss:0.17894\tvalidation_1-mlogloss:0.91492\n",
            "[10]\tvalidation_0-mlogloss:0.14713\tvalidation_1-mlogloss:0.88157\n",
            "[11]\tvalidation_0-mlogloss:0.12164\tvalidation_1-mlogloss:0.85464\n",
            "[12]\tvalidation_0-mlogloss:0.10170\tvalidation_1-mlogloss:0.82986\n",
            "[13]\tvalidation_0-mlogloss:0.08515\tvalidation_1-mlogloss:0.81164\n",
            "[14]\tvalidation_0-mlogloss:0.07156\tvalidation_1-mlogloss:0.79401\n",
            "[15]\tvalidation_0-mlogloss:0.06113\tvalidation_1-mlogloss:0.77884\n",
            "[16]\tvalidation_0-mlogloss:0.05219\tvalidation_1-mlogloss:0.76391\n",
            "[17]\tvalidation_0-mlogloss:0.04513\tvalidation_1-mlogloss:0.75203\n",
            "[18]\tvalidation_0-mlogloss:0.03911\tvalidation_1-mlogloss:0.74215\n",
            "[19]\tvalidation_0-mlogloss:0.03427\tvalidation_1-mlogloss:0.73343\n",
            "[20]\tvalidation_0-mlogloss:0.03024\tvalidation_1-mlogloss:0.72496\n",
            "[21]\tvalidation_0-mlogloss:0.02684\tvalidation_1-mlogloss:0.72025\n",
            "[22]\tvalidation_0-mlogloss:0.02397\tvalidation_1-mlogloss:0.71309\n",
            "[23]\tvalidation_0-mlogloss:0.02154\tvalidation_1-mlogloss:0.70715\n",
            "[24]\tvalidation_0-mlogloss:0.01952\tvalidation_1-mlogloss:0.70341\n",
            "[25]\tvalidation_0-mlogloss:0.01775\tvalidation_1-mlogloss:0.69863\n",
            "[26]\tvalidation_0-mlogloss:0.01624\tvalidation_1-mlogloss:0.69483\n",
            "[27]\tvalidation_0-mlogloss:0.01493\tvalidation_1-mlogloss:0.69133\n",
            "[28]\tvalidation_0-mlogloss:0.01380\tvalidation_1-mlogloss:0.68810\n",
            "[29]\tvalidation_0-mlogloss:0.01282\tvalidation_1-mlogloss:0.68438\n",
            "[30]\tvalidation_0-mlogloss:0.01196\tvalidation_1-mlogloss:0.68303\n",
            "[31]\tvalidation_0-mlogloss:0.01120\tvalidation_1-mlogloss:0.68085\n",
            "[32]\tvalidation_0-mlogloss:0.01054\tvalidation_1-mlogloss:0.68043\n",
            "[33]\tvalidation_0-mlogloss:0.00994\tvalidation_1-mlogloss:0.67828\n",
            "[34]\tvalidation_0-mlogloss:0.00941\tvalidation_1-mlogloss:0.67730\n",
            "[35]\tvalidation_0-mlogloss:0.00893\tvalidation_1-mlogloss:0.67548\n",
            "[36]\tvalidation_0-mlogloss:0.00848\tvalidation_1-mlogloss:0.67478\n",
            "[37]\tvalidation_0-mlogloss:0.00809\tvalidation_1-mlogloss:0.67312\n",
            "[38]\tvalidation_0-mlogloss:0.00772\tvalidation_1-mlogloss:0.67222\n",
            "[39]\tvalidation_0-mlogloss:0.00741\tvalidation_1-mlogloss:0.67121\n",
            "[40]\tvalidation_0-mlogloss:0.00710\tvalidation_1-mlogloss:0.66905\n",
            "[41]\tvalidation_0-mlogloss:0.00683\tvalidation_1-mlogloss:0.66734\n",
            "[42]\tvalidation_0-mlogloss:0.00656\tvalidation_1-mlogloss:0.66681\n",
            "[43]\tvalidation_0-mlogloss:0.00633\tvalidation_1-mlogloss:0.66671\n",
            "[44]\tvalidation_0-mlogloss:0.00611\tvalidation_1-mlogloss:0.66517\n",
            "[45]\tvalidation_0-mlogloss:0.00592\tvalidation_1-mlogloss:0.66359\n",
            "[46]\tvalidation_0-mlogloss:0.00573\tvalidation_1-mlogloss:0.66239\n",
            "[47]\tvalidation_0-mlogloss:0.00555\tvalidation_1-mlogloss:0.66198\n",
            "[48]\tvalidation_0-mlogloss:0.00538\tvalidation_1-mlogloss:0.66050\n",
            "[49]\tvalidation_0-mlogloss:0.00523\tvalidation_1-mlogloss:0.66003\n",
            "[50]\tvalidation_0-mlogloss:0.00510\tvalidation_1-mlogloss:0.65846\n",
            "[51]\tvalidation_0-mlogloss:0.00497\tvalidation_1-mlogloss:0.65694\n",
            "[52]\tvalidation_0-mlogloss:0.00484\tvalidation_1-mlogloss:0.65580\n",
            "[53]\tvalidation_0-mlogloss:0.00473\tvalidation_1-mlogloss:0.65567\n",
            "[54]\tvalidation_0-mlogloss:0.00461\tvalidation_1-mlogloss:0.65527\n",
            "[55]\tvalidation_0-mlogloss:0.00450\tvalidation_1-mlogloss:0.65451\n",
            "[56]\tvalidation_0-mlogloss:0.00441\tvalidation_1-mlogloss:0.65305\n",
            "[57]\tvalidation_0-mlogloss:0.00432\tvalidation_1-mlogloss:0.65286\n",
            "[58]\tvalidation_0-mlogloss:0.00423\tvalidation_1-mlogloss:0.65202\n",
            "[59]\tvalidation_0-mlogloss:0.00416\tvalidation_1-mlogloss:0.65128\n",
            "[60]\tvalidation_0-mlogloss:0.00408\tvalidation_1-mlogloss:0.65123\n",
            "[61]\tvalidation_0-mlogloss:0.00400\tvalidation_1-mlogloss:0.65080\n",
            "[62]\tvalidation_0-mlogloss:0.00393\tvalidation_1-mlogloss:0.65016\n",
            "[63]\tvalidation_0-mlogloss:0.00387\tvalidation_1-mlogloss:0.65027\n",
            "[64]\tvalidation_0-mlogloss:0.00380\tvalidation_1-mlogloss:0.64940\n",
            "[65]\tvalidation_0-mlogloss:0.00374\tvalidation_1-mlogloss:0.64930\n",
            "[66]\tvalidation_0-mlogloss:0.00368\tvalidation_1-mlogloss:0.64897\n",
            "[67]\tvalidation_0-mlogloss:0.00363\tvalidation_1-mlogloss:0.64859\n",
            "[68]\tvalidation_0-mlogloss:0.00357\tvalidation_1-mlogloss:0.64844\n",
            "[69]\tvalidation_0-mlogloss:0.00352\tvalidation_1-mlogloss:0.64838\n",
            "[70]\tvalidation_0-mlogloss:0.00347\tvalidation_1-mlogloss:0.64838\n",
            "[71]\tvalidation_0-mlogloss:0.00342\tvalidation_1-mlogloss:0.64818\n",
            "[72]\tvalidation_0-mlogloss:0.00337\tvalidation_1-mlogloss:0.64839\n",
            "[73]\tvalidation_0-mlogloss:0.00333\tvalidation_1-mlogloss:0.64790\n",
            "[74]\tvalidation_0-mlogloss:0.00329\tvalidation_1-mlogloss:0.64763\n",
            "[75]\tvalidation_0-mlogloss:0.00325\tvalidation_1-mlogloss:0.64762\n",
            "[76]\tvalidation_0-mlogloss:0.00320\tvalidation_1-mlogloss:0.64672\n",
            "[77]\tvalidation_0-mlogloss:0.00316\tvalidation_1-mlogloss:0.64698\n",
            "[78]\tvalidation_0-mlogloss:0.00313\tvalidation_1-mlogloss:0.64721\n",
            "[79]\tvalidation_0-mlogloss:0.00309\tvalidation_1-mlogloss:0.64679\n",
            "[80]\tvalidation_0-mlogloss:0.00305\tvalidation_1-mlogloss:0.64668\n",
            "[81]\tvalidation_0-mlogloss:0.00302\tvalidation_1-mlogloss:0.64638\n",
            "[82]\tvalidation_0-mlogloss:0.00299\tvalidation_1-mlogloss:0.64610\n",
            "[83]\tvalidation_0-mlogloss:0.00296\tvalidation_1-mlogloss:0.64592\n",
            "[84]\tvalidation_0-mlogloss:0.00293\tvalidation_1-mlogloss:0.64533\n",
            "[85]\tvalidation_0-mlogloss:0.00290\tvalidation_1-mlogloss:0.64470\n",
            "[86]\tvalidation_0-mlogloss:0.00288\tvalidation_1-mlogloss:0.64508\n",
            "[87]\tvalidation_0-mlogloss:0.00286\tvalidation_1-mlogloss:0.64512\n",
            "[88]\tvalidation_0-mlogloss:0.00283\tvalidation_1-mlogloss:0.64512\n",
            "[89]\tvalidation_0-mlogloss:0.00281\tvalidation_1-mlogloss:0.64479\n",
            "[90]\tvalidation_0-mlogloss:0.00278\tvalidation_1-mlogloss:0.64451\n",
            "[91]\tvalidation_0-mlogloss:0.00276\tvalidation_1-mlogloss:0.64418\n",
            "[92]\tvalidation_0-mlogloss:0.00274\tvalidation_1-mlogloss:0.64350\n",
            "[93]\tvalidation_0-mlogloss:0.00272\tvalidation_1-mlogloss:0.64352\n",
            "[94]\tvalidation_0-mlogloss:0.00270\tvalidation_1-mlogloss:0.64371\n",
            "[95]\tvalidation_0-mlogloss:0.00268\tvalidation_1-mlogloss:0.64350\n",
            "[96]\tvalidation_0-mlogloss:0.00265\tvalidation_1-mlogloss:0.64316\n",
            "[97]\tvalidation_0-mlogloss:0.00264\tvalidation_1-mlogloss:0.64269\n",
            "[98]\tvalidation_0-mlogloss:0.00262\tvalidation_1-mlogloss:0.64306\n",
            "[99]\tvalidation_0-mlogloss:0.00260\tvalidation_1-mlogloss:0.64287\n",
            "[100]\tvalidation_0-mlogloss:0.00258\tvalidation_1-mlogloss:0.64293\n",
            "[101]\tvalidation_0-mlogloss:0.00256\tvalidation_1-mlogloss:0.64256\n",
            "[102]\tvalidation_0-mlogloss:0.00255\tvalidation_1-mlogloss:0.64228\n",
            "[103]\tvalidation_0-mlogloss:0.00253\tvalidation_1-mlogloss:0.64264\n",
            "[104]\tvalidation_0-mlogloss:0.00251\tvalidation_1-mlogloss:0.64269\n",
            "[105]\tvalidation_0-mlogloss:0.00250\tvalidation_1-mlogloss:0.64286\n",
            "[106]\tvalidation_0-mlogloss:0.00248\tvalidation_1-mlogloss:0.64268\n",
            "[107]\tvalidation_0-mlogloss:0.00246\tvalidation_1-mlogloss:0.64285\n",
            "[108]\tvalidation_0-mlogloss:0.00245\tvalidation_1-mlogloss:0.64272\n",
            "[109]\tvalidation_0-mlogloss:0.00243\tvalidation_1-mlogloss:0.64280\n",
            "[110]\tvalidation_0-mlogloss:0.00242\tvalidation_1-mlogloss:0.64292\n",
            "[111]\tvalidation_0-mlogloss:0.00240\tvalidation_1-mlogloss:0.64268\n",
            "SCORE:\n",
            "0.8081717828377715\n",
            "[0]\tvalidation_0-mlogloss:1.43971\tvalidation_1-mlogloss:1.80420\n",
            "[1]\tvalidation_0-mlogloss:1.08388\tvalidation_1-mlogloss:1.57975\n",
            "[2]\tvalidation_0-mlogloss:0.83841\tvalidation_1-mlogloss:1.41803\n",
            "[3]\tvalidation_0-mlogloss:0.65965\tvalidation_1-mlogloss:1.29280\n",
            "[4]\tvalidation_0-mlogloss:0.52360\tvalidation_1-mlogloss:1.19426\n",
            "[5]\tvalidation_0-mlogloss:0.41806\tvalidation_1-mlogloss:1.11628\n",
            "[6]\tvalidation_0-mlogloss:0.33443\tvalidation_1-mlogloss:1.05159\n",
            "[7]\tvalidation_0-mlogloss:0.27059\tvalidation_1-mlogloss:0.99925\n",
            "[8]\tvalidation_0-mlogloss:0.21918\tvalidation_1-mlogloss:0.95236\n",
            "[9]\tvalidation_0-mlogloss:0.17894\tvalidation_1-mlogloss:0.91492\n",
            "[10]\tvalidation_0-mlogloss:0.14713\tvalidation_1-mlogloss:0.88157\n",
            "[11]\tvalidation_0-mlogloss:0.12164\tvalidation_1-mlogloss:0.85464\n",
            "[12]\tvalidation_0-mlogloss:0.10170\tvalidation_1-mlogloss:0.82986\n",
            "[13]\tvalidation_0-mlogloss:0.08515\tvalidation_1-mlogloss:0.81164\n",
            "[14]\tvalidation_0-mlogloss:0.07156\tvalidation_1-mlogloss:0.79401\n",
            "[15]\tvalidation_0-mlogloss:0.06113\tvalidation_1-mlogloss:0.77884\n",
            "[16]\tvalidation_0-mlogloss:0.05219\tvalidation_1-mlogloss:0.76391\n",
            "[17]\tvalidation_0-mlogloss:0.04513\tvalidation_1-mlogloss:0.75203\n",
            "[18]\tvalidation_0-mlogloss:0.03911\tvalidation_1-mlogloss:0.74215\n",
            "[19]\tvalidation_0-mlogloss:0.03427\tvalidation_1-mlogloss:0.73343\n",
            "[20]\tvalidation_0-mlogloss:0.03024\tvalidation_1-mlogloss:0.72496\n",
            "[21]\tvalidation_0-mlogloss:0.02684\tvalidation_1-mlogloss:0.72025\n",
            "[22]\tvalidation_0-mlogloss:0.02397\tvalidation_1-mlogloss:0.71309\n",
            "[23]\tvalidation_0-mlogloss:0.02154\tvalidation_1-mlogloss:0.70715\n",
            "[24]\tvalidation_0-mlogloss:0.01952\tvalidation_1-mlogloss:0.70341\n",
            "[25]\tvalidation_0-mlogloss:0.01775\tvalidation_1-mlogloss:0.69863\n",
            "[26]\tvalidation_0-mlogloss:0.01624\tvalidation_1-mlogloss:0.69483\n",
            "[27]\tvalidation_0-mlogloss:0.01493\tvalidation_1-mlogloss:0.69133\n",
            "[28]\tvalidation_0-mlogloss:0.01380\tvalidation_1-mlogloss:0.68810\n",
            "[29]\tvalidation_0-mlogloss:0.01282\tvalidation_1-mlogloss:0.68438\n",
            "[30]\tvalidation_0-mlogloss:0.01196\tvalidation_1-mlogloss:0.68303\n",
            "[31]\tvalidation_0-mlogloss:0.01120\tvalidation_1-mlogloss:0.68085\n",
            "[32]\tvalidation_0-mlogloss:0.01054\tvalidation_1-mlogloss:0.68043\n",
            "[33]\tvalidation_0-mlogloss:0.00994\tvalidation_1-mlogloss:0.67828\n",
            "[34]\tvalidation_0-mlogloss:0.00941\tvalidation_1-mlogloss:0.67730\n",
            "[35]\tvalidation_0-mlogloss:0.00893\tvalidation_1-mlogloss:0.67548\n",
            "[36]\tvalidation_0-mlogloss:0.00848\tvalidation_1-mlogloss:0.67478\n",
            "[37]\tvalidation_0-mlogloss:0.00809\tvalidation_1-mlogloss:0.67312\n",
            "[38]\tvalidation_0-mlogloss:0.00772\tvalidation_1-mlogloss:0.67222\n",
            "[39]\tvalidation_0-mlogloss:0.00741\tvalidation_1-mlogloss:0.67121\n",
            "[40]\tvalidation_0-mlogloss:0.00710\tvalidation_1-mlogloss:0.66905\n",
            "[41]\tvalidation_0-mlogloss:0.00683\tvalidation_1-mlogloss:0.66734\n",
            "[42]\tvalidation_0-mlogloss:0.00656\tvalidation_1-mlogloss:0.66681\n",
            "[43]\tvalidation_0-mlogloss:0.00633\tvalidation_1-mlogloss:0.66671\n",
            "[44]\tvalidation_0-mlogloss:0.00611\tvalidation_1-mlogloss:0.66517\n",
            "[45]\tvalidation_0-mlogloss:0.00592\tvalidation_1-mlogloss:0.66359\n",
            "[46]\tvalidation_0-mlogloss:0.00573\tvalidation_1-mlogloss:0.66239\n",
            "[47]\tvalidation_0-mlogloss:0.00555\tvalidation_1-mlogloss:0.66198\n",
            "[48]\tvalidation_0-mlogloss:0.00538\tvalidation_1-mlogloss:0.66050\n",
            "[49]\tvalidation_0-mlogloss:0.00523\tvalidation_1-mlogloss:0.66003\n",
            "[50]\tvalidation_0-mlogloss:0.00510\tvalidation_1-mlogloss:0.65846\n",
            "[51]\tvalidation_0-mlogloss:0.00497\tvalidation_1-mlogloss:0.65694\n",
            "[52]\tvalidation_0-mlogloss:0.00484\tvalidation_1-mlogloss:0.65580\n",
            "[53]\tvalidation_0-mlogloss:0.00473\tvalidation_1-mlogloss:0.65567\n",
            "[54]\tvalidation_0-mlogloss:0.00461\tvalidation_1-mlogloss:0.65527\n",
            "[55]\tvalidation_0-mlogloss:0.00450\tvalidation_1-mlogloss:0.65451\n",
            "[56]\tvalidation_0-mlogloss:0.00441\tvalidation_1-mlogloss:0.65305\n",
            "[57]\tvalidation_0-mlogloss:0.00432\tvalidation_1-mlogloss:0.65286\n",
            "[58]\tvalidation_0-mlogloss:0.00423\tvalidation_1-mlogloss:0.65202\n",
            "[59]\tvalidation_0-mlogloss:0.00416\tvalidation_1-mlogloss:0.65128\n",
            "[60]\tvalidation_0-mlogloss:0.00408\tvalidation_1-mlogloss:0.65123\n",
            "[61]\tvalidation_0-mlogloss:0.00400\tvalidation_1-mlogloss:0.65080\n",
            "[62]\tvalidation_0-mlogloss:0.00393\tvalidation_1-mlogloss:0.65016\n",
            "[63]\tvalidation_0-mlogloss:0.00387\tvalidation_1-mlogloss:0.65027\n",
            "[64]\tvalidation_0-mlogloss:0.00380\tvalidation_1-mlogloss:0.64940\n",
            "[65]\tvalidation_0-mlogloss:0.00374\tvalidation_1-mlogloss:0.64930\n",
            "[66]\tvalidation_0-mlogloss:0.00368\tvalidation_1-mlogloss:0.64897\n",
            "[67]\tvalidation_0-mlogloss:0.00363\tvalidation_1-mlogloss:0.64859\n",
            "[68]\tvalidation_0-mlogloss:0.00357\tvalidation_1-mlogloss:0.64844\n",
            "[69]\tvalidation_0-mlogloss:0.00352\tvalidation_1-mlogloss:0.64838\n",
            "[70]\tvalidation_0-mlogloss:0.00347\tvalidation_1-mlogloss:0.64838\n",
            "[71]\tvalidation_0-mlogloss:0.00342\tvalidation_1-mlogloss:0.64818\n",
            "[72]\tvalidation_0-mlogloss:0.00337\tvalidation_1-mlogloss:0.64839\n",
            "[73]\tvalidation_0-mlogloss:0.00333\tvalidation_1-mlogloss:0.64790\n",
            "[74]\tvalidation_0-mlogloss:0.00329\tvalidation_1-mlogloss:0.64763\n",
            "[75]\tvalidation_0-mlogloss:0.00325\tvalidation_1-mlogloss:0.64762\n",
            "[76]\tvalidation_0-mlogloss:0.00320\tvalidation_1-mlogloss:0.64672\n",
            "[77]\tvalidation_0-mlogloss:0.00316\tvalidation_1-mlogloss:0.64698\n",
            "[78]\tvalidation_0-mlogloss:0.00313\tvalidation_1-mlogloss:0.64721\n",
            "[79]\tvalidation_0-mlogloss:0.00309\tvalidation_1-mlogloss:0.64679\n",
            "[80]\tvalidation_0-mlogloss:0.00305\tvalidation_1-mlogloss:0.64668\n",
            "[81]\tvalidation_0-mlogloss:0.00302\tvalidation_1-mlogloss:0.64638\n",
            "[82]\tvalidation_0-mlogloss:0.00299\tvalidation_1-mlogloss:0.64610\n",
            "[83]\tvalidation_0-mlogloss:0.00296\tvalidation_1-mlogloss:0.64592\n",
            "[84]\tvalidation_0-mlogloss:0.00293\tvalidation_1-mlogloss:0.64533\n",
            "[85]\tvalidation_0-mlogloss:0.00290\tvalidation_1-mlogloss:0.64470\n",
            "[86]\tvalidation_0-mlogloss:0.00288\tvalidation_1-mlogloss:0.64508\n",
            "[87]\tvalidation_0-mlogloss:0.00286\tvalidation_1-mlogloss:0.64512\n",
            "[88]\tvalidation_0-mlogloss:0.00283\tvalidation_1-mlogloss:0.64512\n",
            "[89]\tvalidation_0-mlogloss:0.00281\tvalidation_1-mlogloss:0.64479\n",
            "[90]\tvalidation_0-mlogloss:0.00278\tvalidation_1-mlogloss:0.64451\n",
            "[91]\tvalidation_0-mlogloss:0.00276\tvalidation_1-mlogloss:0.64418\n",
            "[92]\tvalidation_0-mlogloss:0.00274\tvalidation_1-mlogloss:0.64350\n",
            "[93]\tvalidation_0-mlogloss:0.00272\tvalidation_1-mlogloss:0.64352\n",
            "[94]\tvalidation_0-mlogloss:0.00270\tvalidation_1-mlogloss:0.64371\n",
            "[95]\tvalidation_0-mlogloss:0.00268\tvalidation_1-mlogloss:0.64350\n",
            "[96]\tvalidation_0-mlogloss:0.00265\tvalidation_1-mlogloss:0.64316\n",
            "[97]\tvalidation_0-mlogloss:0.00264\tvalidation_1-mlogloss:0.64269\n",
            "[98]\tvalidation_0-mlogloss:0.00262\tvalidation_1-mlogloss:0.64306\n",
            "[99]\tvalidation_0-mlogloss:0.00260\tvalidation_1-mlogloss:0.64287\n",
            "[100]\tvalidation_0-mlogloss:0.00258\tvalidation_1-mlogloss:0.64293\n",
            "[101]\tvalidation_0-mlogloss:0.00256\tvalidation_1-mlogloss:0.64256\n",
            "[102]\tvalidation_0-mlogloss:0.00255\tvalidation_1-mlogloss:0.64228\n",
            "[103]\tvalidation_0-mlogloss:0.00253\tvalidation_1-mlogloss:0.64264\n",
            "[104]\tvalidation_0-mlogloss:0.00251\tvalidation_1-mlogloss:0.64269\n",
            "[105]\tvalidation_0-mlogloss:0.00250\tvalidation_1-mlogloss:0.64286\n",
            "[106]\tvalidation_0-mlogloss:0.00248\tvalidation_1-mlogloss:0.64268\n",
            "[107]\tvalidation_0-mlogloss:0.00246\tvalidation_1-mlogloss:0.64285\n",
            "[108]\tvalidation_0-mlogloss:0.00245\tvalidation_1-mlogloss:0.64272\n",
            "[109]\tvalidation_0-mlogloss:0.00243\tvalidation_1-mlogloss:0.64280\n",
            "[110]\tvalidation_0-mlogloss:0.00242\tvalidation_1-mlogloss:0.64292\n",
            "[111]\tvalidation_0-mlogloss:0.00240\tvalidation_1-mlogloss:0.64268\n",
            "[112]\tvalidation_0-mlogloss:0.00239\tvalidation_1-mlogloss:0.64271\n",
            "SCORE:\n",
            "0.8081717828377715\n",
            "[0]\tvalidation_0-mlogloss:1.43971\tvalidation_1-mlogloss:1.80420\n",
            "[1]\tvalidation_0-mlogloss:1.08388\tvalidation_1-mlogloss:1.57975\n",
            "[2]\tvalidation_0-mlogloss:0.83841\tvalidation_1-mlogloss:1.41803\n",
            "[3]\tvalidation_0-mlogloss:0.65965\tvalidation_1-mlogloss:1.29280\n",
            "[4]\tvalidation_0-mlogloss:0.52360\tvalidation_1-mlogloss:1.19426\n",
            "[5]\tvalidation_0-mlogloss:0.41806\tvalidation_1-mlogloss:1.11628\n",
            "[6]\tvalidation_0-mlogloss:0.33443\tvalidation_1-mlogloss:1.05159\n",
            "[7]\tvalidation_0-mlogloss:0.27059\tvalidation_1-mlogloss:0.99925\n",
            "[8]\tvalidation_0-mlogloss:0.21918\tvalidation_1-mlogloss:0.95236\n",
            "[9]\tvalidation_0-mlogloss:0.17894\tvalidation_1-mlogloss:0.91492\n",
            "[10]\tvalidation_0-mlogloss:0.14713\tvalidation_1-mlogloss:0.88157\n",
            "[11]\tvalidation_0-mlogloss:0.12164\tvalidation_1-mlogloss:0.85464\n",
            "[12]\tvalidation_0-mlogloss:0.10170\tvalidation_1-mlogloss:0.82986\n",
            "[13]\tvalidation_0-mlogloss:0.08515\tvalidation_1-mlogloss:0.81164\n",
            "[14]\tvalidation_0-mlogloss:0.07156\tvalidation_1-mlogloss:0.79401\n",
            "[15]\tvalidation_0-mlogloss:0.06113\tvalidation_1-mlogloss:0.77884\n",
            "[16]\tvalidation_0-mlogloss:0.05219\tvalidation_1-mlogloss:0.76391\n",
            "[17]\tvalidation_0-mlogloss:0.04513\tvalidation_1-mlogloss:0.75203\n",
            "[18]\tvalidation_0-mlogloss:0.03911\tvalidation_1-mlogloss:0.74215\n",
            "[19]\tvalidation_0-mlogloss:0.03427\tvalidation_1-mlogloss:0.73343\n",
            "[20]\tvalidation_0-mlogloss:0.03024\tvalidation_1-mlogloss:0.72496\n",
            "[21]\tvalidation_0-mlogloss:0.02684\tvalidation_1-mlogloss:0.72025\n",
            "[22]\tvalidation_0-mlogloss:0.02397\tvalidation_1-mlogloss:0.71309\n",
            "[23]\tvalidation_0-mlogloss:0.02154\tvalidation_1-mlogloss:0.70715\n",
            "[24]\tvalidation_0-mlogloss:0.01952\tvalidation_1-mlogloss:0.70341\n",
            "[25]\tvalidation_0-mlogloss:0.01775\tvalidation_1-mlogloss:0.69863\n",
            "[26]\tvalidation_0-mlogloss:0.01624\tvalidation_1-mlogloss:0.69483\n",
            "[27]\tvalidation_0-mlogloss:0.01493\tvalidation_1-mlogloss:0.69133\n",
            "[28]\tvalidation_0-mlogloss:0.01380\tvalidation_1-mlogloss:0.68810\n",
            "[29]\tvalidation_0-mlogloss:0.01282\tvalidation_1-mlogloss:0.68438\n",
            "[30]\tvalidation_0-mlogloss:0.01196\tvalidation_1-mlogloss:0.68303\n",
            "[31]\tvalidation_0-mlogloss:0.01120\tvalidation_1-mlogloss:0.68085\n",
            "[32]\tvalidation_0-mlogloss:0.01054\tvalidation_1-mlogloss:0.68043\n",
            "[33]\tvalidation_0-mlogloss:0.00994\tvalidation_1-mlogloss:0.67828\n",
            "[34]\tvalidation_0-mlogloss:0.00941\tvalidation_1-mlogloss:0.67730\n",
            "[35]\tvalidation_0-mlogloss:0.00893\tvalidation_1-mlogloss:0.67548\n",
            "[36]\tvalidation_0-mlogloss:0.00848\tvalidation_1-mlogloss:0.67478\n",
            "[37]\tvalidation_0-mlogloss:0.00809\tvalidation_1-mlogloss:0.67312\n",
            "[38]\tvalidation_0-mlogloss:0.00772\tvalidation_1-mlogloss:0.67222\n",
            "[39]\tvalidation_0-mlogloss:0.00741\tvalidation_1-mlogloss:0.67121\n",
            "[40]\tvalidation_0-mlogloss:0.00710\tvalidation_1-mlogloss:0.66905\n",
            "[41]\tvalidation_0-mlogloss:0.00683\tvalidation_1-mlogloss:0.66734\n",
            "[42]\tvalidation_0-mlogloss:0.00656\tvalidation_1-mlogloss:0.66681\n",
            "[43]\tvalidation_0-mlogloss:0.00633\tvalidation_1-mlogloss:0.66671\n",
            "[44]\tvalidation_0-mlogloss:0.00611\tvalidation_1-mlogloss:0.66517\n",
            "[45]\tvalidation_0-mlogloss:0.00592\tvalidation_1-mlogloss:0.66359\n",
            "[46]\tvalidation_0-mlogloss:0.00573\tvalidation_1-mlogloss:0.66239\n",
            "[47]\tvalidation_0-mlogloss:0.00555\tvalidation_1-mlogloss:0.66198\n",
            "[48]\tvalidation_0-mlogloss:0.00538\tvalidation_1-mlogloss:0.66050\n",
            "[49]\tvalidation_0-mlogloss:0.00523\tvalidation_1-mlogloss:0.66003\n",
            "[50]\tvalidation_0-mlogloss:0.00510\tvalidation_1-mlogloss:0.65846\n",
            "[51]\tvalidation_0-mlogloss:0.00497\tvalidation_1-mlogloss:0.65694\n",
            "[52]\tvalidation_0-mlogloss:0.00484\tvalidation_1-mlogloss:0.65580\n",
            "[53]\tvalidation_0-mlogloss:0.00473\tvalidation_1-mlogloss:0.65567\n",
            "[54]\tvalidation_0-mlogloss:0.00461\tvalidation_1-mlogloss:0.65527\n",
            "[55]\tvalidation_0-mlogloss:0.00450\tvalidation_1-mlogloss:0.65451\n",
            "[56]\tvalidation_0-mlogloss:0.00441\tvalidation_1-mlogloss:0.65305\n",
            "[57]\tvalidation_0-mlogloss:0.00432\tvalidation_1-mlogloss:0.65286\n",
            "[58]\tvalidation_0-mlogloss:0.00423\tvalidation_1-mlogloss:0.65202\n",
            "[59]\tvalidation_0-mlogloss:0.00416\tvalidation_1-mlogloss:0.65128\n",
            "[60]\tvalidation_0-mlogloss:0.00408\tvalidation_1-mlogloss:0.65123\n",
            "[61]\tvalidation_0-mlogloss:0.00400\tvalidation_1-mlogloss:0.65080\n",
            "[62]\tvalidation_0-mlogloss:0.00393\tvalidation_1-mlogloss:0.65016\n",
            "[63]\tvalidation_0-mlogloss:0.00387\tvalidation_1-mlogloss:0.65027\n",
            "[64]\tvalidation_0-mlogloss:0.00380\tvalidation_1-mlogloss:0.64940\n",
            "[65]\tvalidation_0-mlogloss:0.00374\tvalidation_1-mlogloss:0.64930\n",
            "[66]\tvalidation_0-mlogloss:0.00368\tvalidation_1-mlogloss:0.64897\n",
            "[67]\tvalidation_0-mlogloss:0.00363\tvalidation_1-mlogloss:0.64859\n",
            "[68]\tvalidation_0-mlogloss:0.00357\tvalidation_1-mlogloss:0.64844\n",
            "[69]\tvalidation_0-mlogloss:0.00352\tvalidation_1-mlogloss:0.64838\n",
            "[70]\tvalidation_0-mlogloss:0.00347\tvalidation_1-mlogloss:0.64838\n",
            "[71]\tvalidation_0-mlogloss:0.00342\tvalidation_1-mlogloss:0.64818\n",
            "[72]\tvalidation_0-mlogloss:0.00337\tvalidation_1-mlogloss:0.64839\n",
            "[73]\tvalidation_0-mlogloss:0.00333\tvalidation_1-mlogloss:0.64790\n",
            "[74]\tvalidation_0-mlogloss:0.00329\tvalidation_1-mlogloss:0.64763\n",
            "[75]\tvalidation_0-mlogloss:0.00325\tvalidation_1-mlogloss:0.64762\n",
            "[76]\tvalidation_0-mlogloss:0.00320\tvalidation_1-mlogloss:0.64672\n",
            "[77]\tvalidation_0-mlogloss:0.00316\tvalidation_1-mlogloss:0.64698\n",
            "[78]\tvalidation_0-mlogloss:0.00313\tvalidation_1-mlogloss:0.64721\n",
            "[79]\tvalidation_0-mlogloss:0.00309\tvalidation_1-mlogloss:0.64679\n",
            "[80]\tvalidation_0-mlogloss:0.00305\tvalidation_1-mlogloss:0.64668\n",
            "[81]\tvalidation_0-mlogloss:0.00302\tvalidation_1-mlogloss:0.64638\n",
            "[82]\tvalidation_0-mlogloss:0.00299\tvalidation_1-mlogloss:0.64610\n",
            "[83]\tvalidation_0-mlogloss:0.00296\tvalidation_1-mlogloss:0.64592\n",
            "[84]\tvalidation_0-mlogloss:0.00293\tvalidation_1-mlogloss:0.64533\n",
            "[85]\tvalidation_0-mlogloss:0.00290\tvalidation_1-mlogloss:0.64470\n",
            "[86]\tvalidation_0-mlogloss:0.00288\tvalidation_1-mlogloss:0.64508\n",
            "[87]\tvalidation_0-mlogloss:0.00286\tvalidation_1-mlogloss:0.64512\n",
            "[88]\tvalidation_0-mlogloss:0.00283\tvalidation_1-mlogloss:0.64512\n",
            "[89]\tvalidation_0-mlogloss:0.00281\tvalidation_1-mlogloss:0.64479\n",
            "[90]\tvalidation_0-mlogloss:0.00278\tvalidation_1-mlogloss:0.64451\n",
            "[91]\tvalidation_0-mlogloss:0.00276\tvalidation_1-mlogloss:0.64418\n",
            "[92]\tvalidation_0-mlogloss:0.00274\tvalidation_1-mlogloss:0.64350\n",
            "[93]\tvalidation_0-mlogloss:0.00272\tvalidation_1-mlogloss:0.64352\n",
            "[94]\tvalidation_0-mlogloss:0.00270\tvalidation_1-mlogloss:0.64371\n",
            "[95]\tvalidation_0-mlogloss:0.00268\tvalidation_1-mlogloss:0.64350\n",
            "[96]\tvalidation_0-mlogloss:0.00265\tvalidation_1-mlogloss:0.64316\n",
            "[97]\tvalidation_0-mlogloss:0.00264\tvalidation_1-mlogloss:0.64269\n",
            "[98]\tvalidation_0-mlogloss:0.00262\tvalidation_1-mlogloss:0.64306\n",
            "[99]\tvalidation_0-mlogloss:0.00260\tvalidation_1-mlogloss:0.64287\n",
            "[100]\tvalidation_0-mlogloss:0.00258\tvalidation_1-mlogloss:0.64293\n",
            "[101]\tvalidation_0-mlogloss:0.00256\tvalidation_1-mlogloss:0.64256\n",
            "[102]\tvalidation_0-mlogloss:0.00255\tvalidation_1-mlogloss:0.64228\n",
            "[103]\tvalidation_0-mlogloss:0.00253\tvalidation_1-mlogloss:0.64264\n",
            "[104]\tvalidation_0-mlogloss:0.00251\tvalidation_1-mlogloss:0.64269\n",
            "[105]\tvalidation_0-mlogloss:0.00250\tvalidation_1-mlogloss:0.64286\n",
            "[106]\tvalidation_0-mlogloss:0.00248\tvalidation_1-mlogloss:0.64268\n",
            "[107]\tvalidation_0-mlogloss:0.00246\tvalidation_1-mlogloss:0.64285\n",
            "[108]\tvalidation_0-mlogloss:0.00245\tvalidation_1-mlogloss:0.64272\n",
            "[109]\tvalidation_0-mlogloss:0.00243\tvalidation_1-mlogloss:0.64280\n",
            "[110]\tvalidation_0-mlogloss:0.00242\tvalidation_1-mlogloss:0.64292\n",
            "[111]\tvalidation_0-mlogloss:0.00240\tvalidation_1-mlogloss:0.64268\n",
            "[112]\tvalidation_0-mlogloss:0.00239\tvalidation_1-mlogloss:0.64271\n",
            "SCORE:\n",
            "0.8081717828377715\n",
            "100%|██████████| 5/5 [36:25<00:00, 437.14s/trial, best loss: -0.6422769832710727]\n"
          ]
        }
      ]
    },
    {
      "cell_type": "code",
      "source": [
        "best_hyperparams"
      ],
      "metadata": {
        "colab": {
          "base_uri": "https://localhost:8080/"
        },
        "id": "2U6UenJGIxrU",
        "outputId": "45d9b7e4-c033-4bde-f918-43214eef9ba0"
      },
      "execution_count": null,
      "outputs": [
        {
          "output_type": "execute_result",
          "data": {
            "text/plain": [
              "{'booster': 0,\n",
              " 'colsample_bytree': 0.8196159909581087,\n",
              " 'gamma': 98.62557506069103,\n",
              " 'learning_rate': 1.9845399604731617,\n",
              " 'max_depth': 4,\n",
              " 'n_estimators': 246,\n",
              " 'reg_alpha': 1.2690947454074963,\n",
              " 'reg_lambda': 2.171970655490492,\n",
              " 'subsample': 0.8701035434136244}"
            ]
          },
          "metadata": {},
          "execution_count": 178
        }
      ]
    },
    {
      "cell_type": "code",
      "source": [
        "best_hyperparams."
      ],
      "metadata": {
        "id": "MxGnuTJ9JJuQ"
      },
      "execution_count": null,
      "outputs": []
    },
    {
      "cell_type": "code",
      "source": [
        "clf=xgb.XGBClassifier(\n",
        "                n_estimators =5, booster = 'dart',\n",
        "                reg_alpha = 0.01,reg_lambda = 0.01,\n",
        "                colsample_bytree=0.8,subsample=1,\n",
        "                max_depth=10, gamma=0.01,\n",
        "                learning_rate=0.01, n_jobs=-1, eval_metric=\"mlogloss\",\n",
        "                objective = 'multi:softmax', num_class = 21,tree_method=\"hist\",\n",
        "                )\n",
        "\n",
        "evaluation = [( X_train, y_train_enc), ( X_test, y_test_enc)]\n",
        "\n",
        "xgb_model = clf.fit(X_train, y_train_enc,\n",
        "        eval_set=evaluation,\n",
        "        early_stopping_rounds=10,verbose=True)"
      ],
      "metadata": {
        "id": "mFpY1Gi0laWl",
        "colab": {
          "base_uri": "https://localhost:8080/"
        },
        "outputId": "c6f89325-765e-4777-ec72-5d28f0749a13"
      },
      "execution_count": null,
      "outputs": [
        {
          "output_type": "stream",
          "name": "stderr",
          "text": [
            "/usr/local/lib/python3.10/dist-packages/xgboost/sklearn.py:889: UserWarning: `early_stopping_rounds` in `fit` method is deprecated for better compatibility with scikit-learn, use `early_stopping_rounds` in constructor or`set_params` instead.\n",
            "  warnings.warn(\n"
          ]
        },
        {
          "output_type": "stream",
          "name": "stdout",
          "text": [
            "[0]\tvalidation_0-mlogloss:2.96839\tvalidation_1-mlogloss:2.98976\n",
            "[1]\tvalidation_0-mlogloss:2.89611\tvalidation_1-mlogloss:2.93830\n",
            "[2]\tvalidation_0-mlogloss:2.82935\tvalidation_1-mlogloss:2.88937\n",
            "[3]\tvalidation_0-mlogloss:2.76618\tvalidation_1-mlogloss:2.84444\n",
            "[4]\tvalidation_0-mlogloss:2.70618\tvalidation_1-mlogloss:2.80217\n"
          ]
        }
      ]
    },
    {
      "cell_type": "code",
      "source": [
        "pred = xgb_model.predict_proba(X_test)\n"
      ],
      "metadata": {
        "id": "g3xdZQYPMDpt"
      },
      "execution_count": null,
      "outputs": []
    },
    {
      "cell_type": "code",
      "source": [
        "pred"
      ],
      "metadata": {
        "colab": {
          "base_uri": "https://localhost:8080/"
        },
        "id": "qVFPx-9E-Ic2",
        "outputId": "4f2a3c70-45b0-41b1-edbb-4def6059c976"
      },
      "execution_count": null,
      "outputs": [
        {
          "output_type": "execute_result",
          "data": {
            "text/plain": [
              "array([[0.04666081, 0.04669402, 0.04669232, ..., 0.04711768, 0.04666207,\n",
              "        0.04666375],\n",
              "       [0.04597658, 0.04600931, 0.04600763, ..., 0.04646398, 0.04597653,\n",
              "        0.04597949],\n",
              "       [0.0464054 , 0.04643144, 0.04641813, ..., 0.04643611, 0.04640672,\n",
              "        0.0464077 ],\n",
              "       ...,\n",
              "       [0.04625878, 0.04629171, 0.04629001, ..., 0.04628939, 0.04625873,\n",
              "        0.0462617 ],\n",
              "       [0.04591474, 0.04592674, 0.04817817, ..., 0.04592693, 0.04591155,\n",
              "        0.04591449],\n",
              "       [0.04656292, 0.04631006, 0.04632604, ..., 0.04632542, 0.04629474,\n",
              "        0.04629771]], dtype=float32)"
            ]
          },
          "metadata": {},
          "execution_count": 165
        }
      ]
    },
    {
      "cell_type": "code",
      "source": [
        "f1 = f1_score(y_test_enc,pred,average='weighted')"
      ],
      "metadata": {
        "id": "0Ee9Lbl-NIeN",
        "colab": {
          "base_uri": "https://localhost:8080/",
          "height": 282
        },
        "outputId": "d609c76f-3f31-4a6b-b7cf-4a26a0a0d40a"
      },
      "execution_count": null,
      "outputs": [
        {
          "output_type": "error",
          "ename": "ValueError",
          "evalue": "Classification metrics can't handle a mix of multiclass and continuous-multioutput targets",
          "traceback": [
            "\u001b[0;31m---------------------------------------------------------------------------\u001b[0m",
            "\u001b[0;31mValueError\u001b[0m                                Traceback (most recent call last)",
            "\u001b[0;32m<ipython-input-166-0062232a8a4a>\u001b[0m in \u001b[0;36m<cell line: 1>\u001b[0;34m()\u001b[0m\n\u001b[0;32m----> 1\u001b[0;31m \u001b[0mf1\u001b[0m \u001b[0;34m=\u001b[0m \u001b[0mf1_score\u001b[0m\u001b[0;34m(\u001b[0m\u001b[0my_test_enc\u001b[0m\u001b[0;34m,\u001b[0m\u001b[0mpred\u001b[0m\u001b[0;34m,\u001b[0m\u001b[0maverage\u001b[0m\u001b[0;34m=\u001b[0m\u001b[0;34m'weighted'\u001b[0m\u001b[0;34m)\u001b[0m\u001b[0;34m\u001b[0m\u001b[0;34m\u001b[0m\u001b[0m\n\u001b[0m",
            "\u001b[0;32m/usr/local/lib/python3.10/dist-packages/sklearn/metrics/_classification.py\u001b[0m in \u001b[0;36mf1_score\u001b[0;34m(y_true, y_pred, labels, pos_label, average, sample_weight, zero_division)\u001b[0m\n\u001b[1;32m   1144\u001b[0m     \u001b[0marray\u001b[0m\u001b[0;34m(\u001b[0m\u001b[0;34m[\u001b[0m\u001b[0;36m0.66666667\u001b[0m\u001b[0;34m,\u001b[0m \u001b[0;36m1.\u001b[0m        \u001b[0;34m,\u001b[0m \u001b[0;36m0.66666667\u001b[0m\u001b[0;34m]\u001b[0m\u001b[0;34m)\u001b[0m\u001b[0;34m\u001b[0m\u001b[0;34m\u001b[0m\u001b[0m\n\u001b[1;32m   1145\u001b[0m     \"\"\"\n\u001b[0;32m-> 1146\u001b[0;31m     return fbeta_score(\n\u001b[0m\u001b[1;32m   1147\u001b[0m         \u001b[0my_true\u001b[0m\u001b[0;34m,\u001b[0m\u001b[0;34m\u001b[0m\u001b[0;34m\u001b[0m\u001b[0m\n\u001b[1;32m   1148\u001b[0m         \u001b[0my_pred\u001b[0m\u001b[0;34m,\u001b[0m\u001b[0;34m\u001b[0m\u001b[0;34m\u001b[0m\u001b[0m\n",
            "\u001b[0;32m/usr/local/lib/python3.10/dist-packages/sklearn/metrics/_classification.py\u001b[0m in \u001b[0;36mfbeta_score\u001b[0;34m(y_true, y_pred, beta, labels, pos_label, average, sample_weight, zero_division)\u001b[0m\n\u001b[1;32m   1285\u001b[0m     \"\"\"\n\u001b[1;32m   1286\u001b[0m \u001b[0;34m\u001b[0m\u001b[0m\n\u001b[0;32m-> 1287\u001b[0;31m     _, _, f, _ = precision_recall_fscore_support(\n\u001b[0m\u001b[1;32m   1288\u001b[0m         \u001b[0my_true\u001b[0m\u001b[0;34m,\u001b[0m\u001b[0;34m\u001b[0m\u001b[0;34m\u001b[0m\u001b[0m\n\u001b[1;32m   1289\u001b[0m         \u001b[0my_pred\u001b[0m\u001b[0;34m,\u001b[0m\u001b[0;34m\u001b[0m\u001b[0;34m\u001b[0m\u001b[0m\n",
            "\u001b[0;32m/usr/local/lib/python3.10/dist-packages/sklearn/metrics/_classification.py\u001b[0m in \u001b[0;36mprecision_recall_fscore_support\u001b[0;34m(y_true, y_pred, beta, labels, pos_label, average, warn_for, sample_weight, zero_division)\u001b[0m\n\u001b[1;32m   1571\u001b[0m     \u001b[0;32mif\u001b[0m \u001b[0mbeta\u001b[0m \u001b[0;34m<\u001b[0m \u001b[0;36m0\u001b[0m\u001b[0;34m:\u001b[0m\u001b[0;34m\u001b[0m\u001b[0;34m\u001b[0m\u001b[0m\n\u001b[1;32m   1572\u001b[0m         \u001b[0;32mraise\u001b[0m \u001b[0mValueError\u001b[0m\u001b[0;34m(\u001b[0m\u001b[0;34m\"beta should be >=0 in the F-beta score\"\u001b[0m\u001b[0;34m)\u001b[0m\u001b[0;34m\u001b[0m\u001b[0;34m\u001b[0m\u001b[0m\n\u001b[0;32m-> 1573\u001b[0;31m     \u001b[0mlabels\u001b[0m \u001b[0;34m=\u001b[0m \u001b[0m_check_set_wise_labels\u001b[0m\u001b[0;34m(\u001b[0m\u001b[0my_true\u001b[0m\u001b[0;34m,\u001b[0m \u001b[0my_pred\u001b[0m\u001b[0;34m,\u001b[0m \u001b[0maverage\u001b[0m\u001b[0;34m,\u001b[0m \u001b[0mlabels\u001b[0m\u001b[0;34m,\u001b[0m \u001b[0mpos_label\u001b[0m\u001b[0;34m)\u001b[0m\u001b[0;34m\u001b[0m\u001b[0;34m\u001b[0m\u001b[0m\n\u001b[0m\u001b[1;32m   1574\u001b[0m \u001b[0;34m\u001b[0m\u001b[0m\n\u001b[1;32m   1575\u001b[0m     \u001b[0;31m# Calculate tp_sum, pred_sum, true_sum ###\u001b[0m\u001b[0;34m\u001b[0m\u001b[0;34m\u001b[0m\u001b[0m\n",
            "\u001b[0;32m/usr/local/lib/python3.10/dist-packages/sklearn/metrics/_classification.py\u001b[0m in \u001b[0;36m_check_set_wise_labels\u001b[0;34m(y_true, y_pred, average, labels, pos_label)\u001b[0m\n\u001b[1;32m   1372\u001b[0m         \u001b[0;32mraise\u001b[0m \u001b[0mValueError\u001b[0m\u001b[0;34m(\u001b[0m\u001b[0;34m\"average has to be one of \"\u001b[0m \u001b[0;34m+\u001b[0m \u001b[0mstr\u001b[0m\u001b[0;34m(\u001b[0m\u001b[0maverage_options\u001b[0m\u001b[0;34m)\u001b[0m\u001b[0;34m)\u001b[0m\u001b[0;34m\u001b[0m\u001b[0;34m\u001b[0m\u001b[0m\n\u001b[1;32m   1373\u001b[0m \u001b[0;34m\u001b[0m\u001b[0m\n\u001b[0;32m-> 1374\u001b[0;31m     \u001b[0my_type\u001b[0m\u001b[0;34m,\u001b[0m \u001b[0my_true\u001b[0m\u001b[0;34m,\u001b[0m \u001b[0my_pred\u001b[0m \u001b[0;34m=\u001b[0m \u001b[0m_check_targets\u001b[0m\u001b[0;34m(\u001b[0m\u001b[0my_true\u001b[0m\u001b[0;34m,\u001b[0m \u001b[0my_pred\u001b[0m\u001b[0;34m)\u001b[0m\u001b[0;34m\u001b[0m\u001b[0;34m\u001b[0m\u001b[0m\n\u001b[0m\u001b[1;32m   1375\u001b[0m     \u001b[0;31m# Convert to Python primitive type to avoid NumPy type / Python str\u001b[0m\u001b[0;34m\u001b[0m\u001b[0;34m\u001b[0m\u001b[0m\n\u001b[1;32m   1376\u001b[0m     \u001b[0;31m# comparison. See https://github.com/numpy/numpy/issues/6784\u001b[0m\u001b[0;34m\u001b[0m\u001b[0;34m\u001b[0m\u001b[0m\n",
            "\u001b[0;32m/usr/local/lib/python3.10/dist-packages/sklearn/metrics/_classification.py\u001b[0m in \u001b[0;36m_check_targets\u001b[0;34m(y_true, y_pred)\u001b[0m\n\u001b[1;32m     93\u001b[0m \u001b[0;34m\u001b[0m\u001b[0m\n\u001b[1;32m     94\u001b[0m     \u001b[0;32mif\u001b[0m \u001b[0mlen\u001b[0m\u001b[0;34m(\u001b[0m\u001b[0my_type\u001b[0m\u001b[0;34m)\u001b[0m \u001b[0;34m>\u001b[0m \u001b[0;36m1\u001b[0m\u001b[0;34m:\u001b[0m\u001b[0;34m\u001b[0m\u001b[0;34m\u001b[0m\u001b[0m\n\u001b[0;32m---> 95\u001b[0;31m         raise ValueError(\n\u001b[0m\u001b[1;32m     96\u001b[0m             \"Classification metrics can't handle a mix of {0} and {1} targets\".format(\n\u001b[1;32m     97\u001b[0m                 \u001b[0mtype_true\u001b[0m\u001b[0;34m,\u001b[0m \u001b[0mtype_pred\u001b[0m\u001b[0;34m\u001b[0m\u001b[0;34m\u001b[0m\u001b[0m\n",
            "\u001b[0;31mValueError\u001b[0m: Classification metrics can't handle a mix of multiclass and continuous-multioutput targets"
          ]
        }
      ]
    },
    {
      "cell_type": "code",
      "source": [
        "?f1_score"
      ],
      "metadata": {
        "id": "Adxd9_WzNJZl"
      },
      "execution_count": null,
      "outputs": []
    },
    {
      "cell_type": "code",
      "source": [
        "log_loss(y_test_enc,pred)"
      ],
      "metadata": {
        "id": "nfXisS2BNUw0",
        "colab": {
          "base_uri": "https://localhost:8080/"
        },
        "outputId": "99a34c1f-0799-46c0-cf38-f04a650d3bcf"
      },
      "execution_count": null,
      "outputs": [
        {
          "output_type": "execute_result",
          "data": {
            "text/plain": [
              "2.802166805385273"
            ]
          },
          "metadata": {},
          "execution_count": 168
        }
      ]
    },
    {
      "cell_type": "code",
      "source": [
        "?log_loss"
      ],
      "metadata": {
        "id": "Eb4WDYgr8cbu"
      },
      "execution_count": null,
      "outputs": []
    },
    {
      "cell_type": "code",
      "source": [
        "len(y_test_enc)"
      ],
      "metadata": {
        "colab": {
          "base_uri": "https://localhost:8080/"
        },
        "id": "ZJZSbqou9GHn",
        "outputId": "1a73eb69-489a-4367-9d69-89145da52adb"
      },
      "execution_count": null,
      "outputs": [
        {
          "output_type": "execute_result",
          "data": {
            "text/plain": [
              "1481"
            ]
          },
          "metadata": {},
          "execution_count": 159
        }
      ]
    },
    {
      "cell_type": "code",
      "source": [
        "len(pd.Series(y_test_enc).unique())"
      ],
      "metadata": {
        "colab": {
          "base_uri": "https://localhost:8080/"
        },
        "id": "PZFLDBPLROx3",
        "outputId": "402b20e9-820b-4824-da13-1f5b0917c73b"
      },
      "execution_count": null,
      "outputs": [
        {
          "output_type": "execute_result",
          "data": {
            "text/plain": [
              "21"
            ]
          },
          "metadata": {},
          "execution_count": 131
        }
      ]
    },
    {
      "cell_type": "code",
      "source": [
        "len(pd.Series(pred).unique())"
      ],
      "metadata": {
        "colab": {
          "base_uri": "https://localhost:8080/"
        },
        "id": "4ss7g9SfRSJz",
        "outputId": "84289ac7-e7cf-416f-e5c2-191f8416694b"
      },
      "execution_count": null,
      "outputs": [
        {
          "output_type": "execute_result",
          "data": {
            "text/plain": [
              "21"
            ]
          },
          "metadata": {},
          "execution_count": 132
        }
      ]
    },
    {
      "cell_type": "code",
      "source": [
        "pd.Series(y_test_enc).sort_values().unique()"
      ],
      "metadata": {
        "colab": {
          "base_uri": "https://localhost:8080/"
        },
        "id": "dRs2fNIBRWOk",
        "outputId": "5911485c-db5f-4bf4-81aa-f75fc07dc1da"
      },
      "execution_count": null,
      "outputs": [
        {
          "output_type": "execute_result",
          "data": {
            "text/plain": [
              "array([ 0,  1,  2,  3,  4,  5,  6,  7,  8,  9, 10, 11, 12, 13, 14, 15, 16,\n",
              "       17, 18, 19, 20])"
            ]
          },
          "metadata": {},
          "execution_count": 133
        }
      ]
    },
    {
      "cell_type": "code",
      "source": [
        "pd.Series(pred).sort_values().unique()"
      ],
      "metadata": {
        "colab": {
          "base_uri": "https://localhost:8080/"
        },
        "id": "TZK6MPzpRaok",
        "outputId": "0c0a8317-0de8-4b2d-937b-c6bc430849ed"
      },
      "execution_count": null,
      "outputs": [
        {
          "output_type": "execute_result",
          "data": {
            "text/plain": [
              "array([ 0,  1,  2,  3,  4,  5,  6,  7,  8,  9, 10, 11, 12, 13, 14, 15, 16,\n",
              "       17, 18, 19, 20], dtype=int32)"
            ]
          },
          "metadata": {},
          "execution_count": 134
        }
      ]
    },
    {
      "cell_type": "code",
      "source": [
        "y_test_enc.astype('int32')"
      ],
      "metadata": {
        "colab": {
          "base_uri": "https://localhost:8080/"
        },
        "id": "u4t76drg7Vwr",
        "outputId": "775d9f25-223b-4f0e-8f2b-053daa21c1a6"
      },
      "execution_count": null,
      "outputs": [
        {
          "output_type": "execute_result",
          "data": {
            "text/plain": [
              "array([13,  8, 13, ...,  4, 11,  4], dtype=int32)"
            ]
          },
          "metadata": {},
          "execution_count": 141
        }
      ]
    },
    {
      "cell_type": "code",
      "source": [
        "y_orig = pd.Series(y_encoder_fit.inverse_transform(y_test_enc),name=\"y_test_orig\")"
      ],
      "metadata": {
        "id": "KBq0ZY7WRbjC"
      },
      "execution_count": null,
      "outputs": []
    },
    {
      "cell_type": "code",
      "source": [
        "test_encode = pd.Series(y_test_enc,name=\"test_encode\")"
      ],
      "metadata": {
        "id": "5lvFQv0U2hmZ"
      },
      "execution_count": null,
      "outputs": []
    },
    {
      "cell_type": "code",
      "source": [
        "f = pd.merge(y_orig,test_encode,left_index=True,right_index=True)"
      ],
      "metadata": {
        "id": "uhSNz5KY27Lq"
      },
      "execution_count": null,
      "outputs": []
    },
    {
      "cell_type": "code",
      "source": [
        "f[f['test_encode']==20]"
      ],
      "metadata": {
        "colab": {
          "base_uri": "https://localhost:8080/",
          "height": 235
        },
        "id": "sOPp_HxL2-gH",
        "outputId": "4cb640fe-6a64-4718-f435-07d91ed65629"
      },
      "execution_count": null,
      "outputs": [
        {
          "output_type": "execute_result",
          "data": {
            "text/plain": [
              "         y_test_orig  test_encode\n",
              "470   United Kingdom           20\n",
              "548   United Kingdom           20\n",
              "936   United Kingdom           20\n",
              "1005  United Kingdom           20\n",
              "1144  United Kingdom           20\n",
              "1154  United Kingdom           20"
            ],
            "text/html": [
              "\n",
              "  <div id=\"df-a0928fcf-8800-40f2-808f-af5026f0b49a\" class=\"colab-df-container\">\n",
              "    <div>\n",
              "<style scoped>\n",
              "    .dataframe tbody tr th:only-of-type {\n",
              "        vertical-align: middle;\n",
              "    }\n",
              "\n",
              "    .dataframe tbody tr th {\n",
              "        vertical-align: top;\n",
              "    }\n",
              "\n",
              "    .dataframe thead th {\n",
              "        text-align: right;\n",
              "    }\n",
              "</style>\n",
              "<table border=\"1\" class=\"dataframe\">\n",
              "  <thead>\n",
              "    <tr style=\"text-align: right;\">\n",
              "      <th></th>\n",
              "      <th>y_test_orig</th>\n",
              "      <th>test_encode</th>\n",
              "    </tr>\n",
              "  </thead>\n",
              "  <tbody>\n",
              "    <tr>\n",
              "      <th>470</th>\n",
              "      <td>United Kingdom</td>\n",
              "      <td>20</td>\n",
              "    </tr>\n",
              "    <tr>\n",
              "      <th>548</th>\n",
              "      <td>United Kingdom</td>\n",
              "      <td>20</td>\n",
              "    </tr>\n",
              "    <tr>\n",
              "      <th>936</th>\n",
              "      <td>United Kingdom</td>\n",
              "      <td>20</td>\n",
              "    </tr>\n",
              "    <tr>\n",
              "      <th>1005</th>\n",
              "      <td>United Kingdom</td>\n",
              "      <td>20</td>\n",
              "    </tr>\n",
              "    <tr>\n",
              "      <th>1144</th>\n",
              "      <td>United Kingdom</td>\n",
              "      <td>20</td>\n",
              "    </tr>\n",
              "    <tr>\n",
              "      <th>1154</th>\n",
              "      <td>United Kingdom</td>\n",
              "      <td>20</td>\n",
              "    </tr>\n",
              "  </tbody>\n",
              "</table>\n",
              "</div>\n",
              "    <div class=\"colab-df-buttons\">\n",
              "\n",
              "  <div class=\"colab-df-container\">\n",
              "    <button class=\"colab-df-convert\" onclick=\"convertToInteractive('df-a0928fcf-8800-40f2-808f-af5026f0b49a')\"\n",
              "            title=\"Convert this dataframe to an interactive table.\"\n",
              "            style=\"display:none;\">\n",
              "\n",
              "  <svg xmlns=\"http://www.w3.org/2000/svg\" height=\"24px\" viewBox=\"0 -960 960 960\">\n",
              "    <path d=\"M120-120v-720h720v720H120Zm60-500h600v-160H180v160Zm220 220h160v-160H400v160Zm0 220h160v-160H400v160ZM180-400h160v-160H180v160Zm440 0h160v-160H620v160ZM180-180h160v-160H180v160Zm440 0h160v-160H620v160Z\"/>\n",
              "  </svg>\n",
              "    </button>\n",
              "\n",
              "  <style>\n",
              "    .colab-df-container {\n",
              "      display:flex;\n",
              "      gap: 12px;\n",
              "    }\n",
              "\n",
              "    .colab-df-convert {\n",
              "      background-color: #E8F0FE;\n",
              "      border: none;\n",
              "      border-radius: 50%;\n",
              "      cursor: pointer;\n",
              "      display: none;\n",
              "      fill: #1967D2;\n",
              "      height: 32px;\n",
              "      padding: 0 0 0 0;\n",
              "      width: 32px;\n",
              "    }\n",
              "\n",
              "    .colab-df-convert:hover {\n",
              "      background-color: #E2EBFA;\n",
              "      box-shadow: 0px 1px 2px rgba(60, 64, 67, 0.3), 0px 1px 3px 1px rgba(60, 64, 67, 0.15);\n",
              "      fill: #174EA6;\n",
              "    }\n",
              "\n",
              "    .colab-df-buttons div {\n",
              "      margin-bottom: 4px;\n",
              "    }\n",
              "\n",
              "    [theme=dark] .colab-df-convert {\n",
              "      background-color: #3B4455;\n",
              "      fill: #D2E3FC;\n",
              "    }\n",
              "\n",
              "    [theme=dark] .colab-df-convert:hover {\n",
              "      background-color: #434B5C;\n",
              "      box-shadow: 0px 1px 3px 1px rgba(0, 0, 0, 0.15);\n",
              "      filter: drop-shadow(0px 1px 2px rgba(0, 0, 0, 0.3));\n",
              "      fill: #FFFFFF;\n",
              "    }\n",
              "  </style>\n",
              "\n",
              "    <script>\n",
              "      const buttonEl =\n",
              "        document.querySelector('#df-a0928fcf-8800-40f2-808f-af5026f0b49a button.colab-df-convert');\n",
              "      buttonEl.style.display =\n",
              "        google.colab.kernel.accessAllowed ? 'block' : 'none';\n",
              "\n",
              "      async function convertToInteractive(key) {\n",
              "        const element = document.querySelector('#df-a0928fcf-8800-40f2-808f-af5026f0b49a');\n",
              "        const dataTable =\n",
              "          await google.colab.kernel.invokeFunction('convertToInteractive',\n",
              "                                                    [key], {});\n",
              "        if (!dataTable) return;\n",
              "\n",
              "        const docLinkHtml = 'Like what you see? Visit the ' +\n",
              "          '<a target=\"_blank\" href=https://colab.research.google.com/notebooks/data_table.ipynb>data table notebook</a>'\n",
              "          + ' to learn more about interactive tables.';\n",
              "        element.innerHTML = '';\n",
              "        dataTable['output_type'] = 'display_data';\n",
              "        await google.colab.output.renderOutput(dataTable, element);\n",
              "        const docLink = document.createElement('div');\n",
              "        docLink.innerHTML = docLinkHtml;\n",
              "        element.appendChild(docLink);\n",
              "      }\n",
              "    </script>\n",
              "  </div>\n",
              "\n",
              "\n",
              "<div id=\"df-57b7a58d-e336-40c0-8ed6-601b4ed92cb2\">\n",
              "  <button class=\"colab-df-quickchart\" onclick=\"quickchart('df-57b7a58d-e336-40c0-8ed6-601b4ed92cb2')\"\n",
              "            title=\"Suggest charts\"\n",
              "            style=\"display:none;\">\n",
              "\n",
              "<svg xmlns=\"http://www.w3.org/2000/svg\" height=\"24px\"viewBox=\"0 0 24 24\"\n",
              "     width=\"24px\">\n",
              "    <g>\n",
              "        <path d=\"M19 3H5c-1.1 0-2 .9-2 2v14c0 1.1.9 2 2 2h14c1.1 0 2-.9 2-2V5c0-1.1-.9-2-2-2zM9 17H7v-7h2v7zm4 0h-2V7h2v10zm4 0h-2v-4h2v4z\"/>\n",
              "    </g>\n",
              "</svg>\n",
              "  </button>\n",
              "\n",
              "<style>\n",
              "  .colab-df-quickchart {\n",
              "      --bg-color: #E8F0FE;\n",
              "      --fill-color: #1967D2;\n",
              "      --hover-bg-color: #E2EBFA;\n",
              "      --hover-fill-color: #174EA6;\n",
              "      --disabled-fill-color: #AAA;\n",
              "      --disabled-bg-color: #DDD;\n",
              "  }\n",
              "\n",
              "  [theme=dark] .colab-df-quickchart {\n",
              "      --bg-color: #3B4455;\n",
              "      --fill-color: #D2E3FC;\n",
              "      --hover-bg-color: #434B5C;\n",
              "      --hover-fill-color: #FFFFFF;\n",
              "      --disabled-bg-color: #3B4455;\n",
              "      --disabled-fill-color: #666;\n",
              "  }\n",
              "\n",
              "  .colab-df-quickchart {\n",
              "    background-color: var(--bg-color);\n",
              "    border: none;\n",
              "    border-radius: 50%;\n",
              "    cursor: pointer;\n",
              "    display: none;\n",
              "    fill: var(--fill-color);\n",
              "    height: 32px;\n",
              "    padding: 0;\n",
              "    width: 32px;\n",
              "  }\n",
              "\n",
              "  .colab-df-quickchart:hover {\n",
              "    background-color: var(--hover-bg-color);\n",
              "    box-shadow: 0 1px 2px rgba(60, 64, 67, 0.3), 0 1px 3px 1px rgba(60, 64, 67, 0.15);\n",
              "    fill: var(--button-hover-fill-color);\n",
              "  }\n",
              "\n",
              "  .colab-df-quickchart-complete:disabled,\n",
              "  .colab-df-quickchart-complete:disabled:hover {\n",
              "    background-color: var(--disabled-bg-color);\n",
              "    fill: var(--disabled-fill-color);\n",
              "    box-shadow: none;\n",
              "  }\n",
              "\n",
              "  .colab-df-spinner {\n",
              "    border: 2px solid var(--fill-color);\n",
              "    border-color: transparent;\n",
              "    border-bottom-color: var(--fill-color);\n",
              "    animation:\n",
              "      spin 1s steps(1) infinite;\n",
              "  }\n",
              "\n",
              "  @keyframes spin {\n",
              "    0% {\n",
              "      border-color: transparent;\n",
              "      border-bottom-color: var(--fill-color);\n",
              "      border-left-color: var(--fill-color);\n",
              "    }\n",
              "    20% {\n",
              "      border-color: transparent;\n",
              "      border-left-color: var(--fill-color);\n",
              "      border-top-color: var(--fill-color);\n",
              "    }\n",
              "    30% {\n",
              "      border-color: transparent;\n",
              "      border-left-color: var(--fill-color);\n",
              "      border-top-color: var(--fill-color);\n",
              "      border-right-color: var(--fill-color);\n",
              "    }\n",
              "    40% {\n",
              "      border-color: transparent;\n",
              "      border-right-color: var(--fill-color);\n",
              "      border-top-color: var(--fill-color);\n",
              "    }\n",
              "    60% {\n",
              "      border-color: transparent;\n",
              "      border-right-color: var(--fill-color);\n",
              "    }\n",
              "    80% {\n",
              "      border-color: transparent;\n",
              "      border-right-color: var(--fill-color);\n",
              "      border-bottom-color: var(--fill-color);\n",
              "    }\n",
              "    90% {\n",
              "      border-color: transparent;\n",
              "      border-bottom-color: var(--fill-color);\n",
              "    }\n",
              "  }\n",
              "</style>\n",
              "\n",
              "  <script>\n",
              "    async function quickchart(key) {\n",
              "      const quickchartButtonEl =\n",
              "        document.querySelector('#' + key + ' button');\n",
              "      quickchartButtonEl.disabled = true;  // To prevent multiple clicks.\n",
              "      quickchartButtonEl.classList.add('colab-df-spinner');\n",
              "      try {\n",
              "        const charts = await google.colab.kernel.invokeFunction(\n",
              "            'suggestCharts', [key], {});\n",
              "      } catch (error) {\n",
              "        console.error('Error during call to suggestCharts:', error);\n",
              "      }\n",
              "      quickchartButtonEl.classList.remove('colab-df-spinner');\n",
              "      quickchartButtonEl.classList.add('colab-df-quickchart-complete');\n",
              "    }\n",
              "    (() => {\n",
              "      let quickchartButtonEl =\n",
              "        document.querySelector('#df-57b7a58d-e336-40c0-8ed6-601b4ed92cb2 button');\n",
              "      quickchartButtonEl.style.display =\n",
              "        google.colab.kernel.accessAllowed ? 'block' : 'none';\n",
              "    })();\n",
              "  </script>\n",
              "</div>\n",
              "\n",
              "    </div>\n",
              "  </div>\n"
            ],
            "application/vnd.google.colaboratory.intrinsic+json": {
              "type": "dataframe",
              "summary": "{\n  \"name\": \"f[f['test_encode']==20]\",\n  \"rows\": 6,\n  \"fields\": [\n    {\n      \"column\": \"y_test_orig\",\n      \"properties\": {\n        \"dtype\": \"category\",\n        \"num_unique_values\": 1,\n        \"samples\": [\n          \"United Kingdom\"\n        ],\n        \"semantic_type\": \"\",\n        \"description\": \"\"\n      }\n    },\n    {\n      \"column\": \"test_encode\",\n      \"properties\": {\n        \"dtype\": \"number\",\n        \"std\": 0,\n        \"min\": 20,\n        \"max\": 20,\n        \"num_unique_values\": 1,\n        \"samples\": [\n          20\n        ],\n        \"semantic_type\": \"\",\n        \"description\": \"\"\n      }\n    }\n  ]\n}"
            }
          },
          "metadata": {},
          "execution_count": 79
        }
      ]
    },
    {
      "cell_type": "code",
      "source": [
        "names_df.NATIONALITY.value_counts()"
      ],
      "metadata": {
        "colab": {
          "base_uri": "https://localhost:8080/"
        },
        "id": "HsZ1WQzU3Peg",
        "outputId": "1b4ac75f-b1a1-45b7-898c-42ce7bb3f239"
      },
      "execution_count": null,
      "outputs": [
        {
          "output_type": "execute_result",
          "data": {
            "text/plain": [
              "NATIONALITY\n",
              "India                      1469\n",
              "Philippines                1454\n",
              "Nepal                      1334\n",
              "United Arab Emirates        979\n",
              "Pakistan                    504\n",
              "Uganda                      340\n",
              "Sri Lanka                   250\n",
              "Egypt                       165\n",
              "Sudan                       163\n",
              "Cameroon                    115\n",
              "Indonesia                    89\n",
              "Ghana                        88\n",
              "Jordan                       68\n",
              "Nigeria                      65\n",
              "Yemen                        64\n",
              "Somalia                      59\n",
              "Palestinian Territories      55\n",
              "Bangladesh                   47\n",
              "Oman                         37\n",
              "United Kingdom               30\n",
              "Morocco                      29\n",
              "Ethiopia                     23\n",
              "United States                20\n",
              "Name: count, dtype: int64"
            ]
          },
          "metadata": {},
          "execution_count": 80
        }
      ]
    },
    {
      "cell_type": "code",
      "source": [
        "?hp.loguniform"
      ],
      "metadata": {
        "id": "03A_kJN64Hps"
      },
      "execution_count": null,
      "outputs": []
    },
    {
      "cell_type": "code",
      "source": [
        "np.exp(10)"
      ],
      "metadata": {
        "colab": {
          "base_uri": "https://localhost:8080/"
        },
        "id": "muPeuv__4AzK",
        "outputId": "18e5e8bf-3559-4cf7-cd36-206e6942992b"
      },
      "execution_count": null,
      "outputs": [
        {
          "output_type": "execute_result",
          "data": {
            "text/plain": [
              "22026.465794806718"
            ]
          },
          "metadata": {},
          "execution_count": 184
        }
      ]
    },
    {
      "cell_type": "code",
      "source": [
        "np.log(98)"
      ],
      "metadata": {
        "colab": {
          "base_uri": "https://localhost:8080/"
        },
        "id": "bp5JeRo8KFdZ",
        "outputId": "300b27b7-c252-4e61-ec8b-227116fe2b6f"
      },
      "execution_count": null,
      "outputs": [
        {
          "output_type": "execute_result",
          "data": {
            "text/plain": [
              "4.584967478670572"
            ]
          },
          "metadata": {},
          "execution_count": 186
        }
      ]
    },
    {
      "cell_type": "code",
      "source": [],
      "metadata": {
        "id": "irQMjP7RKpi9"
      },
      "execution_count": null,
      "outputs": []
    }
  ]
}